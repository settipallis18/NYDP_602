{
 "cells": [
  {
   "cell_type": "markdown",
   "id": "af59b940",
   "metadata": {},
   "source": [
    "## NYPD Complaint Data Historic\n",
    "\n",
    "### Below are all the variables in the dataset, followed by its description: \n",
    "CMPLNT_NUM =  Randomly generated persistent ID for each complaint\n",
    "\n",
    "CMPLNT_FR_DT = Exact date of occurrence for the reported event (or starting date of occurrence, if CMPLNT_TO_DT exists)\n",
    "\n",
    "CMPLNT_FR_TM  = Exact time of occurrence for the reported event (or starting time of occurrence, if CMPLNT_TO_TM exists)\n",
    "\n",
    "CMPLNT_TO_DT  = Ending date of occurrence for the reported event, if exact time of occurrence is unknown\n",
    "\n",
    "CMPLNT_TO_TM  = Ending time of occurrence for the reported event, if exact time of occurrence is unknown\n",
    "\n",
    "ADDR_PCT_CD  =  The precinct in which the incident occurred\n",
    "\n",
    "RPT_DT  =  Date event was reported to police\n",
    "\n",
    "KY_CD  =  Three digit offense classification code\n",
    "\n",
    "OFNS_DESC  =  Description of offense corresponding with key code\n",
    "\n",
    "PD_CD  =   Three digit internal classification code (more granular than Key Code)\n",
    "\n",
    "PD_DESC  =   Description of internal classification corresponding with PD code (more granular than Offense Description)\n",
    "\n",
    "CRM_ATPT_CPTD_CD  =  Indicator of whether crime was successfully completed or attempted, but failed or was interrupted prematurely \n",
    "\n",
    "LAW_CAT_CD  =  Level of offense: felony, misdemeanor, violation\n",
    "\n",
    "BORO_NM  =  The name of the borough in which the incident occurred\n",
    "\n",
    "LOC_OF_OCCUR_DESC  =   Specific location of occurrence in or around the premises; inside, opposite of, front of, rear of\n",
    "\n",
    "PREM_TYP_DESC  =  Specific description of premises; grocery store, residence, street, etc.\n",
    "\n",
    "JURIS_DESC =  Description of the jurisdiction code\n",
    "\n",
    "JURISDICTION_CODE =  Jurisdiction responsible for incident. Either internal, like Police(0), Transit(1), and Housing(2); or external(3), like Correction, Port Authority, etc.\n",
    "\n",
    "PARKS_NM  =  Name of NYC park, playground or greenspace of occurrence, if applicable (state parks are not included)\n",
    "\n",
    "HADEVELOPT =  Name of NYCHA housing development of occurrence, if applicable\n",
    "\n",
    "HOUSING_PSA = Development Level Code\n",
    "\n",
    "X_COORD_CD =  X-coordinate for New York State Plane Coordinate System, Long Island Zone, NAD 83, units feet (FIPS 3104)\n",
    "\n",
    "Y_COORD_CD  = Y-coordinate for New York State Plane Coordinate System, Long Island Zone, NAD 83, units feet (FIPS 3104)\n",
    "\n",
    "SUSP_AGE_GROUP =  Suspect’s Age Group\n",
    "\n",
    "SUSP_RACE =  Suspect’s Race Description\n",
    "\n",
    "SUSP_SEX  =  Suspect’s Sex Description\n",
    "\n",
    "TRANSIT_DISTRICT =  Transit district in which the offense occurred.\n",
    "\n",
    "Latitude =  Midblock Latitude coordinate for Global Coordinate System, WGS 1984, decimal degrees (EPSG 4326)\n",
    "\n",
    "Longitude  =  Midblock Longitude coordinate for Global Coordinate System, WGS 1984, decimal degrees (EPSG 4326)\n",
    "\n",
    "Lat_Lon =  \t Geospatial Location Point (latitude and Longitude combined)\n",
    "\n",
    "PATROL_BORO  =  The name of the patrol borough in which the incident occurred\n",
    "\n",
    "STATION_NAME = Transit station name\n",
    "\n",
    "VIC_AGE_GROUP = Victim’s Age Group\n",
    "\n",
    "VIC_RACE = Victim’s Race Description\n",
    "\n",
    "VIC_SEX = Victim’s Sex Description\n"
   ]
  },
  {
   "cell_type": "code",
   "execution_count": 31,
   "id": "9df305e7",
   "metadata": {},
   "outputs": [
    {
     "name": "stdout",
     "output_type": "stream",
     "text": [
      "Requirement already satisfied: squarify in /Users/settipallis154/opt/anaconda3/lib/python3.8/site-packages (0.4.3)\r\n"
     ]
    },
    {
     "name": "stderr",
     "output_type": "stream",
     "text": [
      "/Users/settipallis154/opt/anaconda3/lib/python3.8/site-packages/IPython/core/interactiveshell.py:3165: DtypeWarning: Columns (18,20) have mixed types.Specify dtype option on import or set low_memory=False.\n",
      "  has_raised = await self.run_ast_nodes(code_ast.body, cell_name,\n"
     ]
    }
   ],
   "source": [
    "import pandas as pd\n",
    "import numpy as np\n",
    "import matplotlib.pyplot as plt\n",
    "%matplotlib inline\n",
    "import warnings\n",
    "!pip install squarify\n",
    "import squarify\n",
    "import seaborn as sns\n",
    "df = pd.read_csv('NYPD_Complaint_Data_Historic.csv')"
   ]
  },
  {
   "cell_type": "code",
   "execution_count": 2,
   "id": "f9e2e8f4",
   "metadata": {},
   "outputs": [
    {
     "data": {
      "text/html": [
       "<div>\n",
       "<style scoped>\n",
       "    .dataframe tbody tr th:only-of-type {\n",
       "        vertical-align: middle;\n",
       "    }\n",
       "\n",
       "    .dataframe tbody tr th {\n",
       "        vertical-align: top;\n",
       "    }\n",
       "\n",
       "    .dataframe thead th {\n",
       "        text-align: right;\n",
       "    }\n",
       "</style>\n",
       "<table border=\"1\" class=\"dataframe\">\n",
       "  <thead>\n",
       "    <tr style=\"text-align: right;\">\n",
       "      <th></th>\n",
       "      <th>CMPLNT_NUM</th>\n",
       "      <th>CMPLNT_FR_DT</th>\n",
       "      <th>CMPLNT_FR_TM</th>\n",
       "      <th>CMPLNT_TO_DT</th>\n",
       "      <th>CMPLNT_TO_TM</th>\n",
       "      <th>ADDR_PCT_CD</th>\n",
       "      <th>RPT_DT</th>\n",
       "      <th>KY_CD</th>\n",
       "      <th>OFNS_DESC</th>\n",
       "      <th>PD_CD</th>\n",
       "      <th>...</th>\n",
       "      <th>SUSP_SEX</th>\n",
       "      <th>TRANSIT_DISTRICT</th>\n",
       "      <th>Latitude</th>\n",
       "      <th>Longitude</th>\n",
       "      <th>Lat_Lon</th>\n",
       "      <th>PATROL_BORO</th>\n",
       "      <th>STATION_NAME</th>\n",
       "      <th>VIC_AGE_GROUP</th>\n",
       "      <th>VIC_RACE</th>\n",
       "      <th>VIC_SEX</th>\n",
       "    </tr>\n",
       "  </thead>\n",
       "  <tbody>\n",
       "    <tr>\n",
       "      <th>0</th>\n",
       "      <td>394506329</td>\n",
       "      <td>12/31/2019</td>\n",
       "      <td>17:30:00</td>\n",
       "      <td>NaN</td>\n",
       "      <td>NaN</td>\n",
       "      <td>32.0</td>\n",
       "      <td>12/31/2019</td>\n",
       "      <td>118</td>\n",
       "      <td>DANGEROUS WEAPONS</td>\n",
       "      <td>793.0</td>\n",
       "      <td>...</td>\n",
       "      <td>NaN</td>\n",
       "      <td>NaN</td>\n",
       "      <td>40.820927</td>\n",
       "      <td>-73.943324</td>\n",
       "      <td>(40.82092679700002, -73.94332421899996)</td>\n",
       "      <td>PATROL BORO MAN NORTH</td>\n",
       "      <td>NaN</td>\n",
       "      <td>UNKNOWN</td>\n",
       "      <td>UNKNOWN</td>\n",
       "      <td>E</td>\n",
       "    </tr>\n",
       "    <tr>\n",
       "      <th>1</th>\n",
       "      <td>968873685</td>\n",
       "      <td>12/29/2019</td>\n",
       "      <td>16:31:00</td>\n",
       "      <td>12/29/2019</td>\n",
       "      <td>16:54:00</td>\n",
       "      <td>47.0</td>\n",
       "      <td>12/29/2019</td>\n",
       "      <td>113</td>\n",
       "      <td>FORGERY</td>\n",
       "      <td>729.0</td>\n",
       "      <td>...</td>\n",
       "      <td>NaN</td>\n",
       "      <td>NaN</td>\n",
       "      <td>40.885701</td>\n",
       "      <td>-73.861640</td>\n",
       "      <td>(40.885701406000074, -73.86164032499995)</td>\n",
       "      <td>PATROL BORO BRONX</td>\n",
       "      <td>NaN</td>\n",
       "      <td>UNKNOWN</td>\n",
       "      <td>UNKNOWN</td>\n",
       "      <td>E</td>\n",
       "    </tr>\n",
       "    <tr>\n",
       "      <th>2</th>\n",
       "      <td>509837549</td>\n",
       "      <td>12/15/2019</td>\n",
       "      <td>18:45:00</td>\n",
       "      <td>NaN</td>\n",
       "      <td>NaN</td>\n",
       "      <td>109.0</td>\n",
       "      <td>12/29/2019</td>\n",
       "      <td>578</td>\n",
       "      <td>HARRASSMENT 2</td>\n",
       "      <td>638.0</td>\n",
       "      <td>...</td>\n",
       "      <td>M</td>\n",
       "      <td>NaN</td>\n",
       "      <td>40.742281</td>\n",
       "      <td>-73.819824</td>\n",
       "      <td>(40.74228115600005, -73.81982408)</td>\n",
       "      <td>PATROL BORO QUEENS NORTH</td>\n",
       "      <td>NaN</td>\n",
       "      <td>25-44</td>\n",
       "      <td>WHITE HISPANIC</td>\n",
       "      <td>F</td>\n",
       "    </tr>\n",
       "    <tr>\n",
       "      <th>3</th>\n",
       "      <td>352454313</td>\n",
       "      <td>12/28/2019</td>\n",
       "      <td>01:00:00</td>\n",
       "      <td>NaN</td>\n",
       "      <td>NaN</td>\n",
       "      <td>47.0</td>\n",
       "      <td>12/28/2019</td>\n",
       "      <td>126</td>\n",
       "      <td>MISCELLANEOUS PENAL LAW</td>\n",
       "      <td>117.0</td>\n",
       "      <td>...</td>\n",
       "      <td>M</td>\n",
       "      <td>NaN</td>\n",
       "      <td>40.875311</td>\n",
       "      <td>-73.847545</td>\n",
       "      <td>(40.87531145100007, -73.84754521099995)</td>\n",
       "      <td>PATROL BORO BRONX</td>\n",
       "      <td>NaN</td>\n",
       "      <td>UNKNOWN</td>\n",
       "      <td>UNKNOWN</td>\n",
       "      <td>E</td>\n",
       "    </tr>\n",
       "    <tr>\n",
       "      <th>4</th>\n",
       "      <td>248803469</td>\n",
       "      <td>09/05/2008</td>\n",
       "      <td>21:41:00</td>\n",
       "      <td>NaN</td>\n",
       "      <td>NaN</td>\n",
       "      <td>NaN</td>\n",
       "      <td>09/05/2008</td>\n",
       "      <td>101</td>\n",
       "      <td>MURDER &amp; NON-NEGL. MANSLAUGHTER</td>\n",
       "      <td>NaN</td>\n",
       "      <td>...</td>\n",
       "      <td>NaN</td>\n",
       "      <td>NaN</td>\n",
       "      <td>40.698827</td>\n",
       "      <td>-73.938819</td>\n",
       "      <td>(40.698827283, -73.938819047)</td>\n",
       "      <td>NaN</td>\n",
       "      <td>NaN</td>\n",
       "      <td>25-44</td>\n",
       "      <td>BLACK</td>\n",
       "      <td>M</td>\n",
       "    </tr>\n",
       "    <tr>\n",
       "      <th>5</th>\n",
       "      <td>293718737</td>\n",
       "      <td>12/27/2019</td>\n",
       "      <td>22:00:00</td>\n",
       "      <td>NaN</td>\n",
       "      <td>NaN</td>\n",
       "      <td>9.0</td>\n",
       "      <td>12/27/2019</td>\n",
       "      <td>107</td>\n",
       "      <td>BURGLARY</td>\n",
       "      <td>223.0</td>\n",
       "      <td>...</td>\n",
       "      <td>NaN</td>\n",
       "      <td>NaN</td>\n",
       "      <td>40.720759</td>\n",
       "      <td>-73.980466</td>\n",
       "      <td>(40.72075882100006, -73.98046642299995)</td>\n",
       "      <td>PATROL BORO MAN SOUTH</td>\n",
       "      <td>NaN</td>\n",
       "      <td>UNKNOWN</td>\n",
       "      <td>UNKNOWN</td>\n",
       "      <td>M</td>\n",
       "    </tr>\n",
       "    <tr>\n",
       "      <th>6</th>\n",
       "      <td>552685226</td>\n",
       "      <td>12/27/2019</td>\n",
       "      <td>20:10:00</td>\n",
       "      <td>12/27/2019</td>\n",
       "      <td>20:15:00</td>\n",
       "      <td>79.0</td>\n",
       "      <td>12/27/2019</td>\n",
       "      <td>117</td>\n",
       "      <td>DANGEROUS DRUGS</td>\n",
       "      <td>521.0</td>\n",
       "      <td>...</td>\n",
       "      <td>NaN</td>\n",
       "      <td>NaN</td>\n",
       "      <td>40.695958</td>\n",
       "      <td>-73.937632</td>\n",
       "      <td>(40.695958362000056, -73.93763162199998)</td>\n",
       "      <td>PATROL BORO BKLYN NORTH</td>\n",
       "      <td>NaN</td>\n",
       "      <td>UNKNOWN</td>\n",
       "      <td>UNKNOWN</td>\n",
       "      <td>E</td>\n",
       "    </tr>\n",
       "    <tr>\n",
       "      <th>7</th>\n",
       "      <td>134037758</td>\n",
       "      <td>12/26/2019</td>\n",
       "      <td>20:00:00</td>\n",
       "      <td>12/27/2019</td>\n",
       "      <td>07:15:00</td>\n",
       "      <td>101.0</td>\n",
       "      <td>12/27/2019</td>\n",
       "      <td>341</td>\n",
       "      <td>PETIT LARCENY</td>\n",
       "      <td>321.0</td>\n",
       "      <td>...</td>\n",
       "      <td>NaN</td>\n",
       "      <td>NaN</td>\n",
       "      <td>40.611570</td>\n",
       "      <td>-73.747365</td>\n",
       "      <td>(40.61157006600007, -73.74736517199995)</td>\n",
       "      <td>PATROL BORO QUEENS SOUTH</td>\n",
       "      <td>NaN</td>\n",
       "      <td>25-44</td>\n",
       "      <td>WHITE HISPANIC</td>\n",
       "      <td>F</td>\n",
       "    </tr>\n",
       "    <tr>\n",
       "      <th>8</th>\n",
       "      <td>855385879</td>\n",
       "      <td>12/26/2019</td>\n",
       "      <td>19:57:00</td>\n",
       "      <td>NaN</td>\n",
       "      <td>NaN</td>\n",
       "      <td>44.0</td>\n",
       "      <td>12/26/2019</td>\n",
       "      <td>361</td>\n",
       "      <td>OFF. AGNST PUB ORD SENSBLTY &amp;</td>\n",
       "      <td>639.0</td>\n",
       "      <td>...</td>\n",
       "      <td>F</td>\n",
       "      <td>NaN</td>\n",
       "      <td>40.840234</td>\n",
       "      <td>-73.917684</td>\n",
       "      <td>(40.84023413800003, -73.91768411399994)</td>\n",
       "      <td>PATROL BORO BRONX</td>\n",
       "      <td>NaN</td>\n",
       "      <td>18-24</td>\n",
       "      <td>BLACK</td>\n",
       "      <td>F</td>\n",
       "    </tr>\n",
       "    <tr>\n",
       "      <th>9</th>\n",
       "      <td>241602326</td>\n",
       "      <td>12/25/2019</td>\n",
       "      <td>23:00:00</td>\n",
       "      <td>12/26/2019</td>\n",
       "      <td>14:25:00</td>\n",
       "      <td>20.0</td>\n",
       "      <td>12/26/2019</td>\n",
       "      <td>341</td>\n",
       "      <td>PETIT LARCENY</td>\n",
       "      <td>321.0</td>\n",
       "      <td>...</td>\n",
       "      <td>NaN</td>\n",
       "      <td>NaN</td>\n",
       "      <td>40.772875</td>\n",
       "      <td>-73.989542</td>\n",
       "      <td>(40.77287456000005, -73.98954212299998)</td>\n",
       "      <td>PATROL BORO MAN NORTH</td>\n",
       "      <td>NaN</td>\n",
       "      <td>45-64</td>\n",
       "      <td>BLACK</td>\n",
       "      <td>M</td>\n",
       "    </tr>\n",
       "  </tbody>\n",
       "</table>\n",
       "<p>10 rows × 35 columns</p>\n",
       "</div>"
      ],
      "text/plain": [
       "   CMPLNT_NUM CMPLNT_FR_DT CMPLNT_FR_TM CMPLNT_TO_DT CMPLNT_TO_TM  \\\n",
       "0   394506329   12/31/2019     17:30:00          NaN          NaN   \n",
       "1   968873685   12/29/2019     16:31:00   12/29/2019     16:54:00   \n",
       "2   509837549   12/15/2019     18:45:00          NaN          NaN   \n",
       "3   352454313   12/28/2019     01:00:00          NaN          NaN   \n",
       "4   248803469   09/05/2008     21:41:00          NaN          NaN   \n",
       "5   293718737   12/27/2019     22:00:00          NaN          NaN   \n",
       "6   552685226   12/27/2019     20:10:00   12/27/2019     20:15:00   \n",
       "7   134037758   12/26/2019     20:00:00   12/27/2019     07:15:00   \n",
       "8   855385879   12/26/2019     19:57:00          NaN          NaN   \n",
       "9   241602326   12/25/2019     23:00:00   12/26/2019     14:25:00   \n",
       "\n",
       "   ADDR_PCT_CD      RPT_DT  KY_CD                        OFNS_DESC  PD_CD  \\\n",
       "0         32.0  12/31/2019    118                DANGEROUS WEAPONS  793.0   \n",
       "1         47.0  12/29/2019    113                          FORGERY  729.0   \n",
       "2        109.0  12/29/2019    578                    HARRASSMENT 2  638.0   \n",
       "3         47.0  12/28/2019    126          MISCELLANEOUS PENAL LAW  117.0   \n",
       "4          NaN  09/05/2008    101  MURDER & NON-NEGL. MANSLAUGHTER    NaN   \n",
       "5          9.0  12/27/2019    107                         BURGLARY  223.0   \n",
       "6         79.0  12/27/2019    117                  DANGEROUS DRUGS  521.0   \n",
       "7        101.0  12/27/2019    341                    PETIT LARCENY  321.0   \n",
       "8         44.0  12/26/2019    361    OFF. AGNST PUB ORD SENSBLTY &  639.0   \n",
       "9         20.0  12/26/2019    341                    PETIT LARCENY  321.0   \n",
       "\n",
       "   ... SUSP_SEX TRANSIT_DISTRICT   Latitude  Longitude  \\\n",
       "0  ...      NaN              NaN  40.820927 -73.943324   \n",
       "1  ...      NaN              NaN  40.885701 -73.861640   \n",
       "2  ...        M              NaN  40.742281 -73.819824   \n",
       "3  ...        M              NaN  40.875311 -73.847545   \n",
       "4  ...      NaN              NaN  40.698827 -73.938819   \n",
       "5  ...      NaN              NaN  40.720759 -73.980466   \n",
       "6  ...      NaN              NaN  40.695958 -73.937632   \n",
       "7  ...      NaN              NaN  40.611570 -73.747365   \n",
       "8  ...        F              NaN  40.840234 -73.917684   \n",
       "9  ...      NaN              NaN  40.772875 -73.989542   \n",
       "\n",
       "                                    Lat_Lon               PATROL_BORO  \\\n",
       "0   (40.82092679700002, -73.94332421899996)     PATROL BORO MAN NORTH   \n",
       "1  (40.885701406000074, -73.86164032499995)         PATROL BORO BRONX   \n",
       "2         (40.74228115600005, -73.81982408)  PATROL BORO QUEENS NORTH   \n",
       "3   (40.87531145100007, -73.84754521099995)         PATROL BORO BRONX   \n",
       "4             (40.698827283, -73.938819047)                       NaN   \n",
       "5   (40.72075882100006, -73.98046642299995)     PATROL BORO MAN SOUTH   \n",
       "6  (40.695958362000056, -73.93763162199998)   PATROL BORO BKLYN NORTH   \n",
       "7   (40.61157006600007, -73.74736517199995)  PATROL BORO QUEENS SOUTH   \n",
       "8   (40.84023413800003, -73.91768411399994)         PATROL BORO BRONX   \n",
       "9   (40.77287456000005, -73.98954212299998)     PATROL BORO MAN NORTH   \n",
       "\n",
       "  STATION_NAME  VIC_AGE_GROUP        VIC_RACE VIC_SEX  \n",
       "0          NaN        UNKNOWN         UNKNOWN       E  \n",
       "1          NaN        UNKNOWN         UNKNOWN       E  \n",
       "2          NaN          25-44  WHITE HISPANIC       F  \n",
       "3          NaN        UNKNOWN         UNKNOWN       E  \n",
       "4          NaN          25-44           BLACK       M  \n",
       "5          NaN        UNKNOWN         UNKNOWN       M  \n",
       "6          NaN        UNKNOWN         UNKNOWN       E  \n",
       "7          NaN          25-44  WHITE HISPANIC       F  \n",
       "8          NaN          18-24           BLACK       F  \n",
       "9          NaN          45-64           BLACK       M  \n",
       "\n",
       "[10 rows x 35 columns]"
      ]
     },
     "execution_count": 2,
     "metadata": {},
     "output_type": "execute_result"
    }
   ],
   "source": [
    "df.head(10)"
   ]
  },
  {
   "cell_type": "code",
   "execution_count": 3,
   "id": "9fe0b65c",
   "metadata": {},
   "outputs": [
    {
     "data": {
      "text/plain": [
       "Index(['CMPLNT_NUM', 'CMPLNT_FR_DT', 'CMPLNT_FR_TM', 'CMPLNT_TO_DT',\n",
       "       'CMPLNT_TO_TM', 'ADDR_PCT_CD', 'RPT_DT', 'KY_CD', 'OFNS_DESC', 'PD_CD',\n",
       "       'PD_DESC', 'CRM_ATPT_CPTD_CD', 'LAW_CAT_CD', 'BORO_NM',\n",
       "       'LOC_OF_OCCUR_DESC', 'PREM_TYP_DESC', 'JURIS_DESC', 'JURISDICTION_CODE',\n",
       "       'PARKS_NM', 'HADEVELOPT', 'HOUSING_PSA', 'X_COORD_CD', 'Y_COORD_CD',\n",
       "       'SUSP_AGE_GROUP', 'SUSP_RACE', 'SUSP_SEX', 'TRANSIT_DISTRICT',\n",
       "       'Latitude', 'Longitude', 'Lat_Lon', 'PATROL_BORO', 'STATION_NAME',\n",
       "       'VIC_AGE_GROUP', 'VIC_RACE', 'VIC_SEX'],\n",
       "      dtype='object')"
      ]
     },
     "execution_count": 3,
     "metadata": {},
     "output_type": "execute_result"
    }
   ],
   "source": [
    "df.columns"
   ]
  },
  {
   "cell_type": "code",
   "execution_count": 4,
   "id": "9c3c7e74",
   "metadata": {},
   "outputs": [
    {
     "name": "stdout",
     "output_type": "stream",
     "text": [
      "<class 'pandas.core.frame.DataFrame'>\n",
      "RangeIndex: 7375993 entries, 0 to 7375992\n",
      "Data columns (total 35 columns):\n",
      " #   Column             Dtype  \n",
      "---  ------             -----  \n",
      " 0   CMPLNT_NUM         int64  \n",
      " 1   CMPLNT_FR_DT       object \n",
      " 2   CMPLNT_FR_TM       object \n",
      " 3   CMPLNT_TO_DT       object \n",
      " 4   CMPLNT_TO_TM       object \n",
      " 5   ADDR_PCT_CD        float64\n",
      " 6   RPT_DT             object \n",
      " 7   KY_CD              int64  \n",
      " 8   OFNS_DESC          object \n",
      " 9   PD_CD              float64\n",
      " 10  PD_DESC            object \n",
      " 11  CRM_ATPT_CPTD_CD   object \n",
      " 12  LAW_CAT_CD         object \n",
      " 13  BORO_NM            object \n",
      " 14  LOC_OF_OCCUR_DESC  object \n",
      " 15  PREM_TYP_DESC      object \n",
      " 16  JURIS_DESC         object \n",
      " 17  JURISDICTION_CODE  float64\n",
      " 18  PARKS_NM           object \n",
      " 19  HADEVELOPT         object \n",
      " 20  HOUSING_PSA        object \n",
      " 21  X_COORD_CD         float64\n",
      " 22  Y_COORD_CD         float64\n",
      " 23  SUSP_AGE_GROUP     object \n",
      " 24  SUSP_RACE          object \n",
      " 25  SUSP_SEX           object \n",
      " 26  TRANSIT_DISTRICT   float64\n",
      " 27  Latitude           float64\n",
      " 28  Longitude          float64\n",
      " 29  Lat_Lon            object \n",
      " 30  PATROL_BORO        object \n",
      " 31  STATION_NAME       object \n",
      " 32  VIC_AGE_GROUP      object \n",
      " 33  VIC_RACE           object \n",
      " 34  VIC_SEX            object \n",
      "dtypes: float64(8), int64(2), object(25)\n",
      "memory usage: 1.9+ GB\n"
     ]
    }
   ],
   "source": [
    "df.info()"
   ]
  },
  {
   "cell_type": "code",
   "execution_count": 5,
   "id": "81fe84d7",
   "metadata": {},
   "outputs": [
    {
     "data": {
      "text/plain": [
       "CMPLNT_NUM            0.000000\n",
       "CMPLNT_FR_DT          0.008880\n",
       "CMPLNT_FR_TM          0.000651\n",
       "CMPLNT_TO_DT         23.104740\n",
       "CMPLNT_TO_TM         23.041521\n",
       "ADDR_PCT_CD           0.029366\n",
       "RPT_DT                0.000000\n",
       "KY_CD                 0.000000\n",
       "OFNS_DESC             0.255193\n",
       "PD_CD                 0.085114\n",
       "PD_DESC               0.085114\n",
       "CRM_ATPT_CPTD_CD      0.000095\n",
       "LAW_CAT_CD            0.000000\n",
       "BORO_NM               0.153593\n",
       "LOC_OF_OCCUR_DESC    20.930063\n",
       "PREM_TYP_DESC         0.552400\n",
       "JURIS_DESC            0.000000\n",
       "JURISDICTION_CODE     0.085114\n",
       "PARKS_NM             99.624959\n",
       "HADEVELOPT           95.298097\n",
       "HOUSING_PSA          92.316831\n",
       "X_COORD_CD            0.235073\n",
       "Y_COORD_CD            0.235073\n",
       "SUSP_AGE_GROUP       65.011382\n",
       "SUSP_RACE            46.457392\n",
       "SUSP_SEX             48.264796\n",
       "TRANSIT_DISTRICT     97.783363\n",
       "Latitude              0.235073\n",
       "Longitude             0.235073\n",
       "Lat_Lon               0.235073\n",
       "PATROL_BORO           0.091310\n",
       "STATION_NAME         97.783363\n",
       "VIC_AGE_GROUP        22.213213\n",
       "VIC_RACE              0.004189\n",
       "VIC_SEX               0.004176\n",
       "dtype: float64"
      ]
     },
     "execution_count": 5,
     "metadata": {},
     "output_type": "execute_result"
    }
   ],
   "source": [
    "#(df.isnull().sum()).sort_values(ascending=False) / df.shape[0]\n",
    "df.isnull().sum()/(len(df))*100"
   ]
  },
  {
   "cell_type": "markdown",
   "id": "922797a6",
   "metadata": {},
   "source": [
    "#### Here we droping the Null values in columns of Lat, Long, BORO_NM."
   ]
  },
  {
   "cell_type": "code",
   "execution_count": 6,
   "id": "4a945b2b",
   "metadata": {},
   "outputs": [],
   "source": [
    "df['Latitude'].dropna(inplace=True)\n",
    "df['Longitude'].dropna(inplace=True)\n",
    "df['BORO_NM'].dropna(inplace=True)\n"
   ]
  },
  {
   "cell_type": "markdown",
   "id": "53d731cb",
   "metadata": {},
   "source": [
    "####  Created New data type to drop the null values"
   ]
  },
  {
   "cell_type": "code",
   "execution_count": 7,
   "id": "443f91ae",
   "metadata": {},
   "outputs": [],
   "source": [
    "df_new = df[df['BORO_NM'] != np.nan]\n",
    "df_new = df[df['Latitude'] != np.nan]\n",
    "df_new = df[df['Longitude'] != np.nan]"
   ]
  },
  {
   "cell_type": "code",
   "execution_count": 8,
   "id": "bc8d57db",
   "metadata": {},
   "outputs": [],
   "source": [
    "#df_new['BORO_NM'].value_counts(dropna = False)\n",
    "#df.drop(df[df['BORO_NM'] == np.nan].index, inplace = True)\n",
    "df_new = df.dropna(subset=['BORO_NM'])\n",
    "#print(df_new) "
   ]
  },
  {
   "cell_type": "markdown",
   "id": "2b511302",
   "metadata": {},
   "source": [
    "#### checking the is there any null values present or not"
   ]
  },
  {
   "cell_type": "code",
   "execution_count": 9,
   "id": "d3bbd0de",
   "metadata": {},
   "outputs": [
    {
     "data": {
      "text/plain": [
       "BROOKLYN         2186681\n",
       "MANHATTAN        1771637\n",
       "BRONX            1599801\n",
       "QUEENS           1463554\n",
       "STATEN ISLAND     342991\n",
       "Name: BORO_NM, dtype: int64"
      ]
     },
     "execution_count": 9,
     "metadata": {},
     "output_type": "execute_result"
    }
   ],
   "source": [
    "df_new['BORO_NM'].value_counts(dropna = False)\n"
   ]
  },
  {
   "cell_type": "markdown",
   "id": "a0b83af6",
   "metadata": {},
   "source": [
    "#### Here also drop and checking the null values count"
   ]
  },
  {
   "cell_type": "code",
   "execution_count": 10,
   "id": "a8cdaf18",
   "metadata": {},
   "outputs": [
    {
     "data": {
      "text/plain": [
       "-73.989282    19397\n",
       " NaN          16882\n",
       "-73.776047    15477\n",
       "-73.884372     9413\n",
       "-73.919831     6691\n",
       "              ...  \n",
       "-73.993789        1\n",
       "-73.798169        1\n",
       "-73.931251        1\n",
       "-73.812478        1\n",
       "-73.866346        1\n",
       "Name: Longitude, Length: 201253, dtype: int64"
      ]
     },
     "execution_count": 10,
     "metadata": {},
     "output_type": "execute_result"
    }
   ],
   "source": [
    "df_new['Latitude'].value_counts(dropna = False)\n",
    "df_new['Longitude'].value_counts(dropna = False)"
   ]
  },
  {
   "cell_type": "markdown",
   "id": "519e1096",
   "metadata": {},
   "source": [
    "#### Describing the data by finding the mean, min and count values"
   ]
  },
  {
   "cell_type": "code",
   "execution_count": 11,
   "id": "f4feead3",
   "metadata": {},
   "outputs": [
    {
     "data": {
      "text/html": [
       "<div>\n",
       "<style scoped>\n",
       "    .dataframe tbody tr th:only-of-type {\n",
       "        vertical-align: middle;\n",
       "    }\n",
       "\n",
       "    .dataframe tbody tr th {\n",
       "        vertical-align: top;\n",
       "    }\n",
       "\n",
       "    .dataframe thead th {\n",
       "        text-align: right;\n",
       "    }\n",
       "</style>\n",
       "<table border=\"1\" class=\"dataframe\">\n",
       "  <thead>\n",
       "    <tr style=\"text-align: right;\">\n",
       "      <th></th>\n",
       "      <th>CMPLNT_NUM</th>\n",
       "      <th>ADDR_PCT_CD</th>\n",
       "      <th>KY_CD</th>\n",
       "      <th>PD_CD</th>\n",
       "      <th>JURISDICTION_CODE</th>\n",
       "      <th>X_COORD_CD</th>\n",
       "      <th>Y_COORD_CD</th>\n",
       "      <th>TRANSIT_DISTRICT</th>\n",
       "      <th>Latitude</th>\n",
       "      <th>Longitude</th>\n",
       "    </tr>\n",
       "  </thead>\n",
       "  <tbody>\n",
       "    <tr>\n",
       "      <th>count</th>\n",
       "      <td>7.364664e+06</td>\n",
       "      <td>7.364280e+06</td>\n",
       "      <td>7.364664e+06</td>\n",
       "      <td>7.364664e+06</td>\n",
       "      <td>7.364664e+06</td>\n",
       "      <td>7.347782e+06</td>\n",
       "      <td>7.347782e+06</td>\n",
       "      <td>163303.000000</td>\n",
       "      <td>7.347782e+06</td>\n",
       "      <td>7.347782e+06</td>\n",
       "    </tr>\n",
       "    <tr>\n",
       "      <th>mean</th>\n",
       "      <td>5.500326e+08</td>\n",
       "      <td>6.332109e+01</td>\n",
       "      <td>2.965796e+02</td>\n",
       "      <td>4.134552e+02</td>\n",
       "      <td>7.241146e-01</td>\n",
       "      <td>1.004848e+06</td>\n",
       "      <td>2.070930e+05</td>\n",
       "      <td>13.618997</td>\n",
       "      <td>4.073506e+01</td>\n",
       "      <td>-7.392565e+01</td>\n",
       "    </tr>\n",
       "    <tr>\n",
       "      <th>std</th>\n",
       "      <td>2.597786e+08</td>\n",
       "      <td>3.447955e+01</td>\n",
       "      <td>1.504353e+02</td>\n",
       "      <td>2.177440e+02</td>\n",
       "      <td>6.733211e+00</td>\n",
       "      <td>2.172080e+04</td>\n",
       "      <td>3.123188e+04</td>\n",
       "      <td>12.488235</td>\n",
       "      <td>8.565032e-02</td>\n",
       "      <td>7.833297e-02</td>\n",
       "    </tr>\n",
       "    <tr>\n",
       "      <th>min</th>\n",
       "      <td>1.000001e+08</td>\n",
       "      <td>1.000000e+00</td>\n",
       "      <td>1.020000e+02</td>\n",
       "      <td>1.000000e+02</td>\n",
       "      <td>0.000000e+00</td>\n",
       "      <td>1.110000e+02</td>\n",
       "      <td>1.110000e+02</td>\n",
       "      <td>1.000000</td>\n",
       "      <td>4.011271e+01</td>\n",
       "      <td>-7.751921e+01</td>\n",
       "    </tr>\n",
       "    <tr>\n",
       "      <th>25%</th>\n",
       "      <td>3.251179e+08</td>\n",
       "      <td>4.000000e+01</td>\n",
       "      <td>1.170000e+02</td>\n",
       "      <td>2.540000e+02</td>\n",
       "      <td>0.000000e+00</td>\n",
       "      <td>9.917440e+05</td>\n",
       "      <td>1.843840e+05</td>\n",
       "      <td>3.000000</td>\n",
       "      <td>4.067272e+01</td>\n",
       "      <td>-7.397297e+01</td>\n",
       "    </tr>\n",
       "    <tr>\n",
       "      <th>50%</th>\n",
       "      <td>5.500285e+08</td>\n",
       "      <td>6.300000e+01</td>\n",
       "      <td>3.410000e+02</td>\n",
       "      <td>3.840000e+02</td>\n",
       "      <td>0.000000e+00</td>\n",
       "      <td>1.004405e+06</td>\n",
       "      <td>2.060410e+05</td>\n",
       "      <td>11.000000</td>\n",
       "      <td>4.073214e+01</td>\n",
       "      <td>-7.392726e+01</td>\n",
       "    </tr>\n",
       "    <tr>\n",
       "      <th>75%</th>\n",
       "      <td>7.750016e+08</td>\n",
       "      <td>9.400000e+01</td>\n",
       "      <td>3.510000e+02</td>\n",
       "      <td>6.370000e+02</td>\n",
       "      <td>0.000000e+00</td>\n",
       "      <td>1.016626e+06</td>\n",
       "      <td>2.351790e+05</td>\n",
       "      <td>30.000000</td>\n",
       "      <td>4.081217e+01</td>\n",
       "      <td>-7.388308e+01</td>\n",
       "    </tr>\n",
       "    <tr>\n",
       "      <th>max</th>\n",
       "      <td>9.999999e+08</td>\n",
       "      <td>1.230000e+02</td>\n",
       "      <td>8.810000e+02</td>\n",
       "      <td>9.750000e+02</td>\n",
       "      <td>9.700000e+01</td>\n",
       "      <td>1.067298e+06</td>\n",
       "      <td>7.250292e+06</td>\n",
       "      <td>34.000000</td>\n",
       "      <td>5.965727e+01</td>\n",
       "      <td>-7.368479e+01</td>\n",
       "    </tr>\n",
       "  </tbody>\n",
       "</table>\n",
       "</div>"
      ],
      "text/plain": [
       "         CMPLNT_NUM   ADDR_PCT_CD         KY_CD         PD_CD  \\\n",
       "count  7.364664e+06  7.364280e+06  7.364664e+06  7.364664e+06   \n",
       "mean   5.500326e+08  6.332109e+01  2.965796e+02  4.134552e+02   \n",
       "std    2.597786e+08  3.447955e+01  1.504353e+02  2.177440e+02   \n",
       "min    1.000001e+08  1.000000e+00  1.020000e+02  1.000000e+02   \n",
       "25%    3.251179e+08  4.000000e+01  1.170000e+02  2.540000e+02   \n",
       "50%    5.500285e+08  6.300000e+01  3.410000e+02  3.840000e+02   \n",
       "75%    7.750016e+08  9.400000e+01  3.510000e+02  6.370000e+02   \n",
       "max    9.999999e+08  1.230000e+02  8.810000e+02  9.750000e+02   \n",
       "\n",
       "       JURISDICTION_CODE    X_COORD_CD    Y_COORD_CD  TRANSIT_DISTRICT  \\\n",
       "count       7.364664e+06  7.347782e+06  7.347782e+06     163303.000000   \n",
       "mean        7.241146e-01  1.004848e+06  2.070930e+05         13.618997   \n",
       "std         6.733211e+00  2.172080e+04  3.123188e+04         12.488235   \n",
       "min         0.000000e+00  1.110000e+02  1.110000e+02          1.000000   \n",
       "25%         0.000000e+00  9.917440e+05  1.843840e+05          3.000000   \n",
       "50%         0.000000e+00  1.004405e+06  2.060410e+05         11.000000   \n",
       "75%         0.000000e+00  1.016626e+06  2.351790e+05         30.000000   \n",
       "max         9.700000e+01  1.067298e+06  7.250292e+06         34.000000   \n",
       "\n",
       "           Latitude     Longitude  \n",
       "count  7.347782e+06  7.347782e+06  \n",
       "mean   4.073506e+01 -7.392565e+01  \n",
       "std    8.565032e-02  7.833297e-02  \n",
       "min    4.011271e+01 -7.751921e+01  \n",
       "25%    4.067272e+01 -7.397297e+01  \n",
       "50%    4.073214e+01 -7.392726e+01  \n",
       "75%    4.081217e+01 -7.388308e+01  \n",
       "max    5.965727e+01 -7.368479e+01  "
      ]
     },
     "execution_count": 11,
     "metadata": {},
     "output_type": "execute_result"
    }
   ],
   "source": [
    "df_new.describe()"
   ]
  },
  {
   "cell_type": "markdown",
   "id": "540ff81e",
   "metadata": {},
   "source": [
    "#### used to find the pairwise correlation of all columns in the dataframe"
   ]
  },
  {
   "cell_type": "code",
   "execution_count": 39,
   "id": "dc774aae",
   "metadata": {},
   "outputs": [
    {
     "data": {
      "text/html": [
       "<div>\n",
       "<style scoped>\n",
       "    .dataframe tbody tr th:only-of-type {\n",
       "        vertical-align: middle;\n",
       "    }\n",
       "\n",
       "    .dataframe tbody tr th {\n",
       "        vertical-align: top;\n",
       "    }\n",
       "\n",
       "    .dataframe thead th {\n",
       "        text-align: right;\n",
       "    }\n",
       "</style>\n",
       "<table border=\"1\" class=\"dataframe\">\n",
       "  <thead>\n",
       "    <tr style=\"text-align: right;\">\n",
       "      <th></th>\n",
       "      <th>CMPLNT_NUM</th>\n",
       "      <th>JURISDICTION_CODE</th>\n",
       "      <th>X_COORD_CD</th>\n",
       "      <th>Y_COORD_CD</th>\n",
       "      <th>Latitude</th>\n",
       "      <th>Longitude</th>\n",
       "      <th>Start year</th>\n",
       "    </tr>\n",
       "  </thead>\n",
       "  <tbody>\n",
       "    <tr>\n",
       "      <th>CMPLNT_NUM</th>\n",
       "      <td>1.000000</td>\n",
       "      <td>-0.000075</td>\n",
       "      <td>-0.000453</td>\n",
       "      <td>0.000028</td>\n",
       "      <td>0.000028</td>\n",
       "      <td>-0.000453</td>\n",
       "      <td>-0.000090</td>\n",
       "    </tr>\n",
       "    <tr>\n",
       "      <th>JURISDICTION_CODE</th>\n",
       "      <td>-0.000075</td>\n",
       "      <td>1.000000</td>\n",
       "      <td>0.003720</td>\n",
       "      <td>0.013500</td>\n",
       "      <td>0.013518</td>\n",
       "      <td>0.003743</td>\n",
       "      <td>0.010895</td>\n",
       "    </tr>\n",
       "    <tr>\n",
       "      <th>X_COORD_CD</th>\n",
       "      <td>-0.000453</td>\n",
       "      <td>0.003720</td>\n",
       "      <td>1.000000</td>\n",
       "      <td>0.305621</td>\n",
       "      <td>0.305623</td>\n",
       "      <td>0.999998</td>\n",
       "      <td>0.012541</td>\n",
       "    </tr>\n",
       "    <tr>\n",
       "      <th>Y_COORD_CD</th>\n",
       "      <td>0.000028</td>\n",
       "      <td>0.013500</td>\n",
       "      <td>0.305621</td>\n",
       "      <td>1.000000</td>\n",
       "      <td>0.999990</td>\n",
       "      <td>0.306833</td>\n",
       "      <td>0.009889</td>\n",
       "    </tr>\n",
       "    <tr>\n",
       "      <th>Latitude</th>\n",
       "      <td>0.000028</td>\n",
       "      <td>0.013518</td>\n",
       "      <td>0.305623</td>\n",
       "      <td>0.999990</td>\n",
       "      <td>1.000000</td>\n",
       "      <td>0.306834</td>\n",
       "      <td>0.009906</td>\n",
       "    </tr>\n",
       "    <tr>\n",
       "      <th>Longitude</th>\n",
       "      <td>-0.000453</td>\n",
       "      <td>0.003743</td>\n",
       "      <td>0.999998</td>\n",
       "      <td>0.306833</td>\n",
       "      <td>0.306834</td>\n",
       "      <td>1.000000</td>\n",
       "      <td>0.012533</td>\n",
       "    </tr>\n",
       "    <tr>\n",
       "      <th>Start year</th>\n",
       "      <td>-0.000090</td>\n",
       "      <td>0.010895</td>\n",
       "      <td>0.012541</td>\n",
       "      <td>0.009889</td>\n",
       "      <td>0.009906</td>\n",
       "      <td>0.012533</td>\n",
       "      <td>1.000000</td>\n",
       "    </tr>\n",
       "  </tbody>\n",
       "</table>\n",
       "</div>"
      ],
      "text/plain": [
       "                   CMPLNT_NUM  JURISDICTION_CODE  X_COORD_CD  Y_COORD_CD  \\\n",
       "CMPLNT_NUM           1.000000          -0.000075   -0.000453    0.000028   \n",
       "JURISDICTION_CODE   -0.000075           1.000000    0.003720    0.013500   \n",
       "X_COORD_CD          -0.000453           0.003720    1.000000    0.305621   \n",
       "Y_COORD_CD           0.000028           0.013500    0.305621    1.000000   \n",
       "Latitude             0.000028           0.013518    0.305623    0.999990   \n",
       "Longitude           -0.000453           0.003743    0.999998    0.306833   \n",
       "Start year          -0.000090           0.010895    0.012541    0.009889   \n",
       "\n",
       "                   Latitude  Longitude  Start year  \n",
       "CMPLNT_NUM         0.000028  -0.000453   -0.000090  \n",
       "JURISDICTION_CODE  0.013518   0.003743    0.010895  \n",
       "X_COORD_CD         0.305623   0.999998    0.012541  \n",
       "Y_COORD_CD         0.999990   0.306833    0.009889  \n",
       "Latitude           1.000000   0.306834    0.009906  \n",
       "Longitude          0.306834   1.000000    0.012533  \n",
       "Start year         0.009906   0.012533    1.000000  "
      ]
     },
     "execution_count": 39,
     "metadata": {},
     "output_type": "execute_result"
    }
   ],
   "source": [
    "df_new.corr()"
   ]
  },
  {
   "cell_type": "markdown",
   "id": "5307e697",
   "metadata": {},
   "source": [
    "#### Here finding the  types of crimes with total values"
   ]
  },
  {
   "cell_type": "code",
   "execution_count": 12,
   "id": "21014ed4",
   "metadata": {},
   "outputs": [
    {
     "data": {
      "text/plain": [
       "PETIT LARCENY                     1243378\n",
       "HARRASSMENT 2                      944813\n",
       "ASSAULT 3 & RELATED OFFENSES       773658\n",
       "CRIMINAL MISCHIEF & RELATED OF     744484\n",
       "GRAND LARCENY                      638572\n",
       "DANGEROUS DRUGS                    426699\n",
       "OFF. AGNST PUB ORD SENSBLTY &      383063\n",
       "FELONY ASSAULT                     285880\n",
       "ROBBERY                            266268\n",
       "BURGLARY                           254106\n",
       "MISCELLANEOUS PENAL LAW            185656\n",
       "DANGEROUS WEAPONS                  161301\n",
       "OFFENSES AGAINST PUBLIC ADMINI     137386\n",
       "GRAND LARCENY OF MOTOR VEHICLE     133720\n",
       "INTOXICATED & IMPAIRED DRIVING      96304\n",
       "VEHICLE AND TRAFFIC LAWS            91734\n",
       "SEX CRIMES                          87977\n",
       "CRIMINAL TRESPASS                   82059\n",
       "THEFT-FRAUD                         76591\n",
       "FORGERY                             72662\n",
       "FRAUDS                              44455\n",
       "POSSESSION OF STOLEN PROPERTY       37280\n",
       "OFFENSES INVOLVING FRAUD            23063\n",
       "UNAUTHORIZED USE OF A VEHICLE       22005\n",
       "RAPE                                21638\n",
       "Name: OFNS_DESC, dtype: int64"
      ]
     },
     "execution_count": 12,
     "metadata": {},
     "output_type": "execute_result"
    }
   ],
   "source": [
    "df_new['OFNS_DESC'].value_counts().head(25)"
   ]
  },
  {
   "cell_type": "markdown",
   "id": "522c573e",
   "metadata": {},
   "source": [
    "#### Here we the name of the borough in which the incident occurred"
   ]
  },
  {
   "cell_type": "code",
   "execution_count": 13,
   "id": "80337130",
   "metadata": {},
   "outputs": [
    {
     "data": {
      "text/plain": [
       "BROOKLYN         2186681\n",
       "MANHATTAN        1771637\n",
       "BRONX            1599801\n",
       "QUEENS           1463554\n",
       "STATEN ISLAND     342991\n",
       "Name: BORO_NM, dtype: int64"
      ]
     },
     "execution_count": 13,
     "metadata": {},
     "output_type": "execute_result"
    }
   ],
   "source": [
    "df_new['BORO_NM'].value_counts()"
   ]
  },
  {
   "cell_type": "markdown",
   "id": "a8c437ef",
   "metadata": {},
   "source": [
    "#### Here Droping the unwanted columns"
   ]
  },
  {
   "cell_type": "code",
   "execution_count": 16,
   "id": "2a9a107e",
   "metadata": {},
   "outputs": [
    {
     "name": "stderr",
     "output_type": "stream",
     "text": [
      "/Users/settipallis154/opt/anaconda3/lib/python3.8/site-packages/pandas/core/frame.py:4308: SettingWithCopyWarning: \n",
      "A value is trying to be set on a copy of a slice from a DataFrame\n",
      "\n",
      "See the caveats in the documentation: https://pandas.pydata.org/pandas-docs/stable/user_guide/indexing.html#returning-a-view-versus-a-copy\n",
      "  return super().drop(\n"
     ]
    }
   ],
   "source": [
    "df_new.drop(['PARKS_NM', 'HADEVELOPT', 'HOUSING_PSA', 'TRANSIT_DISTRICT', 'STATION_NAME','PATROL_BORO', 'KY_CD', 'PD_CD', 'ADDR_PCT_CD', 'CRM_ATPT_CPTD_CD'],axis = 1,inplace=True)"
   ]
  },
  {
   "cell_type": "markdown",
   "id": "e4b65e79",
   "metadata": {},
   "source": [
    "#### After drop of unwanted columns the rest of the columns were shown here "
   ]
  },
  {
   "cell_type": "code",
   "execution_count": 17,
   "id": "e6fc8cbb",
   "metadata": {},
   "outputs": [
    {
     "data": {
      "text/plain": [
       "Index(['CMPLNT_NUM', 'CMPLNT_FR_DT', 'CMPLNT_FR_TM', 'CMPLNT_TO_DT',\n",
       "       'CMPLNT_TO_TM', 'RPT_DT', 'OFNS_DESC', 'PD_DESC', 'LAW_CAT_CD',\n",
       "       'BORO_NM', 'LOC_OF_OCCUR_DESC', 'PREM_TYP_DESC', 'JURIS_DESC',\n",
       "       'JURISDICTION_CODE', 'X_COORD_CD', 'Y_COORD_CD', 'SUSP_AGE_GROUP',\n",
       "       'SUSP_RACE', 'SUSP_SEX', 'Latitude', 'Longitude', 'Lat_Lon',\n",
       "       'VIC_AGE_GROUP', 'VIC_RACE', 'VIC_SEX'],\n",
       "      dtype='object')"
      ]
     },
     "execution_count": 17,
     "metadata": {},
     "output_type": "execute_result"
    }
   ],
   "source": [
    "df_new.columns"
   ]
  },
  {
   "cell_type": "markdown",
   "id": "c1f0b31d",
   "metadata": {},
   "source": [
    "#### Here we plotting the top crimes in the NYDP Complaint data historic"
   ]
  },
  {
   "cell_type": "code",
   "execution_count": 18,
   "id": "6d0177eb",
   "metadata": {},
   "outputs": [
    {
     "data": {
      "image/png": "[encoded data removed]",
      "text/plain": [
       "<Figure size 1080x720 with 1 Axes>"
      ]
     },
     "metadata": {
      "needs_background": "light"
     },
     "output_type": "display_data"
    }
   ],
   "source": [
    "plt.rcParams['figure.figsize'] = (20, 9)\n",
    "\n",
    "df_new['OFNS_DESC'].value_counts().head(20).plot.bar( figsize = (15, 10))\n",
    "plt.title('NYPD Complaint Data Historic', fontweight = 30, fontsize = 20)\n",
    "plt.xticks(rotation = 90)\n",
    "plt.show()"
   ]
  },
  {
   "cell_type": "code",
   "execution_count": 52,
   "id": "cb6d4c4e",
   "metadata": {},
   "outputs": [
    {
     "data": {
      "text/html": [
       "<div>\n",
       "<style scoped>\n",
       "    .dataframe tbody tr th:only-of-type {\n",
       "        vertical-align: middle;\n",
       "    }\n",
       "\n",
       "    .dataframe tbody tr th {\n",
       "        vertical-align: top;\n",
       "    }\n",
       "\n",
       "    .dataframe thead th {\n",
       "        text-align: right;\n",
       "    }\n",
       "</style>\n",
       "<table border=\"1\" class=\"dataframe\">\n",
       "  <thead>\n",
       "    <tr style=\"text-align: right;\">\n",
       "      <th></th>\n",
       "      <th>CMPLNT_NUM</th>\n",
       "      <th>CMPLNT_FR_DT</th>\n",
       "      <th>CMPLNT_FR_TM</th>\n",
       "      <th>CMPLNT_TO_DT</th>\n",
       "      <th>CMPLNT_TO_TM</th>\n",
       "      <th>RPT_DT</th>\n",
       "      <th>OFNS_DESC</th>\n",
       "      <th>PD_DESC</th>\n",
       "      <th>LAW_CAT_CD</th>\n",
       "      <th>BORO_NM</th>\n",
       "      <th>...</th>\n",
       "      <th>SUSP_RACE</th>\n",
       "      <th>SUSP_SEX</th>\n",
       "      <th>Latitude</th>\n",
       "      <th>Longitude</th>\n",
       "      <th>Lat_Lon</th>\n",
       "      <th>VIC_AGE_GROUP</th>\n",
       "      <th>VIC_RACE</th>\n",
       "      <th>VIC_SEX</th>\n",
       "      <th>Complaint_date</th>\n",
       "      <th>Start year</th>\n",
       "    </tr>\n",
       "  </thead>\n",
       "  <tbody>\n",
       "    <tr>\n",
       "      <th>0</th>\n",
       "      <td>394506329</td>\n",
       "      <td>12/31/2019</td>\n",
       "      <td>17:30:00</td>\n",
       "      <td>NaN</td>\n",
       "      <td>NaN</td>\n",
       "      <td>12/31/2019</td>\n",
       "      <td>DANGEROUS WEAPONS</td>\n",
       "      <td>WEAPONS POSSESSION 3</td>\n",
       "      <td>FELONY</td>\n",
       "      <td>MANHATTAN</td>\n",
       "      <td>...</td>\n",
       "      <td>NaN</td>\n",
       "      <td>NaN</td>\n",
       "      <td>40.820927</td>\n",
       "      <td>-73.943324</td>\n",
       "      <td>(40.82092679700002, -73.94332421899996)</td>\n",
       "      <td>UNKNOWN</td>\n",
       "      <td>UNKNOWN</td>\n",
       "      <td>E</td>\n",
       "      <td>2019-12-31</td>\n",
       "      <td>2019.0</td>\n",
       "    </tr>\n",
       "    <tr>\n",
       "      <th>1</th>\n",
       "      <td>968873685</td>\n",
       "      <td>12/29/2019</td>\n",
       "      <td>16:31:00</td>\n",
       "      <td>12/29/2019</td>\n",
       "      <td>16:54:00</td>\n",
       "      <td>12/29/2019</td>\n",
       "      <td>FORGERY</td>\n",
       "      <td>FORGERY,ETC.,UNCLASSIFIED-FELO</td>\n",
       "      <td>FELONY</td>\n",
       "      <td>BRONX</td>\n",
       "      <td>...</td>\n",
       "      <td>NaN</td>\n",
       "      <td>NaN</td>\n",
       "      <td>40.885701</td>\n",
       "      <td>-73.861640</td>\n",
       "      <td>(40.885701406000074, -73.86164032499995)</td>\n",
       "      <td>UNKNOWN</td>\n",
       "      <td>UNKNOWN</td>\n",
       "      <td>E</td>\n",
       "      <td>2019-12-29</td>\n",
       "      <td>2019.0</td>\n",
       "    </tr>\n",
       "    <tr>\n",
       "      <th>2</th>\n",
       "      <td>509837549</td>\n",
       "      <td>12/15/2019</td>\n",
       "      <td>18:45:00</td>\n",
       "      <td>NaN</td>\n",
       "      <td>NaN</td>\n",
       "      <td>12/29/2019</td>\n",
       "      <td>HARRASSMENT 2</td>\n",
       "      <td>HARASSMENT,SUBD 3,4,5</td>\n",
       "      <td>VIOLATION</td>\n",
       "      <td>QUEENS</td>\n",
       "      <td>...</td>\n",
       "      <td>UNKNOWN</td>\n",
       "      <td>M</td>\n",
       "      <td>40.742281</td>\n",
       "      <td>-73.819824</td>\n",
       "      <td>(40.74228115600005, -73.81982408)</td>\n",
       "      <td>25-44</td>\n",
       "      <td>WHITE HISPANIC</td>\n",
       "      <td>F</td>\n",
       "      <td>2019-12-15</td>\n",
       "      <td>2019.0</td>\n",
       "    </tr>\n",
       "    <tr>\n",
       "      <th>3</th>\n",
       "      <td>352454313</td>\n",
       "      <td>12/28/2019</td>\n",
       "      <td>01:00:00</td>\n",
       "      <td>NaN</td>\n",
       "      <td>NaN</td>\n",
       "      <td>12/28/2019</td>\n",
       "      <td>MISCELLANEOUS PENAL LAW</td>\n",
       "      <td>RECKLESS ENDANGERMENT 1</td>\n",
       "      <td>FELONY</td>\n",
       "      <td>BRONX</td>\n",
       "      <td>...</td>\n",
       "      <td>BLACK</td>\n",
       "      <td>M</td>\n",
       "      <td>40.875311</td>\n",
       "      <td>-73.847545</td>\n",
       "      <td>(40.87531145100007, -73.84754521099995)</td>\n",
       "      <td>UNKNOWN</td>\n",
       "      <td>UNKNOWN</td>\n",
       "      <td>E</td>\n",
       "      <td>2019-12-28</td>\n",
       "      <td>2019.0</td>\n",
       "    </tr>\n",
       "    <tr>\n",
       "      <th>5</th>\n",
       "      <td>293718737</td>\n",
       "      <td>12/27/2019</td>\n",
       "      <td>22:00:00</td>\n",
       "      <td>NaN</td>\n",
       "      <td>NaN</td>\n",
       "      <td>12/27/2019</td>\n",
       "      <td>BURGLARY</td>\n",
       "      <td>BURGLARY,RESIDENCE,NIGHT</td>\n",
       "      <td>FELONY</td>\n",
       "      <td>MANHATTAN</td>\n",
       "      <td>...</td>\n",
       "      <td>NaN</td>\n",
       "      <td>NaN</td>\n",
       "      <td>40.720759</td>\n",
       "      <td>-73.980466</td>\n",
       "      <td>(40.72075882100006, -73.98046642299995)</td>\n",
       "      <td>UNKNOWN</td>\n",
       "      <td>UNKNOWN</td>\n",
       "      <td>M</td>\n",
       "      <td>2019-12-27</td>\n",
       "      <td>2019.0</td>\n",
       "    </tr>\n",
       "  </tbody>\n",
       "</table>\n",
       "<p>5 rows × 27 columns</p>\n",
       "</div>"
      ],
      "text/plain": [
       "   CMPLNT_NUM CMPLNT_FR_DT CMPLNT_FR_TM CMPLNT_TO_DT CMPLNT_TO_TM      RPT_DT  \\\n",
       "0   394506329   12/31/2019     17:30:00          NaN          NaN  12/31/2019   \n",
       "1   968873685   12/29/2019     16:31:00   12/29/2019     16:54:00  12/29/2019   \n",
       "2   509837549   12/15/2019     18:45:00          NaN          NaN  12/29/2019   \n",
       "3   352454313   12/28/2019     01:00:00          NaN          NaN  12/28/2019   \n",
       "5   293718737   12/27/2019     22:00:00          NaN          NaN  12/27/2019   \n",
       "\n",
       "                 OFNS_DESC                         PD_DESC LAW_CAT_CD  \\\n",
       "0        DANGEROUS WEAPONS            WEAPONS POSSESSION 3     FELONY   \n",
       "1                  FORGERY  FORGERY,ETC.,UNCLASSIFIED-FELO     FELONY   \n",
       "2            HARRASSMENT 2           HARASSMENT,SUBD 3,4,5  VIOLATION   \n",
       "3  MISCELLANEOUS PENAL LAW         RECKLESS ENDANGERMENT 1     FELONY   \n",
       "5                 BURGLARY        BURGLARY,RESIDENCE,NIGHT     FELONY   \n",
       "\n",
       "     BORO_NM  ... SUSP_RACE SUSP_SEX   Latitude  Longitude  \\\n",
       "0  MANHATTAN  ...       NaN      NaN  40.820927 -73.943324   \n",
       "1      BRONX  ...       NaN      NaN  40.885701 -73.861640   \n",
       "2     QUEENS  ...   UNKNOWN        M  40.742281 -73.819824   \n",
       "3      BRONX  ...     BLACK        M  40.875311 -73.847545   \n",
       "5  MANHATTAN  ...       NaN      NaN  40.720759 -73.980466   \n",
       "\n",
       "                                    Lat_Lon  VIC_AGE_GROUP        VIC_RACE  \\\n",
       "0   (40.82092679700002, -73.94332421899996)        UNKNOWN         UNKNOWN   \n",
       "1  (40.885701406000074, -73.86164032499995)        UNKNOWN         UNKNOWN   \n",
       "2         (40.74228115600005, -73.81982408)          25-44  WHITE HISPANIC   \n",
       "3   (40.87531145100007, -73.84754521099995)        UNKNOWN         UNKNOWN   \n",
       "5   (40.72075882100006, -73.98046642299995)        UNKNOWN         UNKNOWN   \n",
       "\n",
       "  VIC_SEX Complaint_date  Start year  \n",
       "0       E     2019-12-31      2019.0  \n",
       "1       E     2019-12-29      2019.0  \n",
       "2       F     2019-12-15      2019.0  \n",
       "3       E     2019-12-28      2019.0  \n",
       "5       M     2019-12-27      2019.0  \n",
       "\n",
       "[5 rows x 27 columns]"
      ]
     },
     "execution_count": 52,
     "metadata": {},
     "output_type": "execute_result"
    }
   ],
   "source": [
    "df_new.head()"
   ]
  },
  {
   "cell_type": "markdown",
   "id": "53bbf0ea",
   "metadata": {},
   "source": [
    "#### The age group of suspects will be plotted here "
   ]
  },
  {
   "cell_type": "code",
   "execution_count": 19,
   "id": "ff9703cd",
   "metadata": {},
   "outputs": [
    {
     "data": {
      "text/plain": [
       "<AxesSubplot:ylabel='SUSP_AGE_GROUP'>"
      ]
     },
     "execution_count": 19,
     "metadata": {},
     "output_type": "execute_result"
    },
    {
     "data": {
      "image/png": "[encoded data removed]",
      "text/plain": [
       "<Figure size 1080x1080 with 1 Axes>"
      ]
     },
     "metadata": {},
     "output_type": "display_data"
    }
   ],
   "source": [
    "# df = df.groupby('SUSP_AGE_GROUP')['SUSP_AGE_GROUP'].sum()\n",
    "#df = df.div(df.sum().astype(float)).round(2)*100\n",
    " #df\n",
    "df_new['SUSP_AGE_GROUP'].value_counts().head(30).plot(kind = 'pie',autopct='%.2f',figsize=(15,15))"
   ]
  },
  {
   "cell_type": "markdown",
   "id": "22109199",
   "metadata": {},
   "source": [
    "#### The suspect gender categori defined here "
   ]
  },
  {
   "cell_type": "code",
   "execution_count": 20,
   "id": "d04aa51f",
   "metadata": {},
   "outputs": [
    {
     "data": {
      "image/png": "[encoded data removed]",
      "text/plain": [
       "<Figure size 1440x648 with 1 Axes>"
      ]
     },
     "metadata": {
      "needs_background": "light"
     },
     "output_type": "display_data"
    }
   ],
   "source": [
    "df_new['SUSP_SEX'].value_counts().plot.bar()\n",
    "plt.title('Suspect Gender Category')\n",
    "plt.ylabel(' ')\n",
    "plt.show()"
   ]
  },
  {
   "cell_type": "markdown",
   "id": "7e9a4b0d",
   "metadata": {},
   "source": [
    "#### converting into the date time format "
   ]
  },
  {
   "cell_type": "code",
   "execution_count": 42,
   "id": "2bb5ff89",
   "metadata": {},
   "outputs": [],
   "source": [
    "df_new['Complaint_date']=pd.to_datetime(df_new['CMPLNT_FR_DT'],errors='coerce')\n"
   ]
  },
  {
   "cell_type": "code",
   "execution_count": 43,
   "id": "5c146855",
   "metadata": {},
   "outputs": [],
   "source": [
    "df_new['Start year']=df_new['Complaint_date'].dt.year"
   ]
  },
  {
   "cell_type": "markdown",
   "id": "eabb8aaa",
   "metadata": {},
   "source": [
    "#### Checking the total count of years which are presented "
   ]
  },
  {
   "cell_type": "code",
   "execution_count": 23,
   "id": "7d74acc1",
   "metadata": {},
   "outputs": [
    {
     "data": {
      "text/plain": [
       "2007.0    534043\n",
       "2006.0    528507\n",
       "2008.0    526871\n",
       "2009.0    510178\n",
       "2010.0    507682\n",
       "           ...  \n",
       "1929.0         1\n",
       "1947.0         1\n",
       "1956.0         1\n",
       "1906.0         1\n",
       "1951.0         1\n",
       "Name: Start year, Length: 96, dtype: int64"
      ]
     },
     "execution_count": 23,
     "metadata": {},
     "output_type": "execute_result"
    }
   ],
   "source": [
    "df_new['Start year'].value_counts()"
   ]
  },
  {
   "cell_type": "markdown",
   "id": "e8f8d0ca",
   "metadata": {},
   "source": [
    "####  Showing the start year "
   ]
  },
  {
   "cell_type": "code",
   "execution_count": 45,
   "id": "4f620a6e",
   "metadata": {},
   "outputs": [
    {
     "data": {
      "text/plain": [
       "0     2019.0\n",
       "1     2019.0\n",
       "2     2019.0\n",
       "3     2019.0\n",
       "5     2019.0\n",
       "6     2019.0\n",
       "7     2019.0\n",
       "8     2019.0\n",
       "9     2019.0\n",
       "10    2019.0\n",
       "11    2019.0\n",
       "12    2019.0\n",
       "14    2019.0\n",
       "15    2019.0\n",
       "16    2019.0\n",
       "17    2019.0\n",
       "18    2019.0\n",
       "19    2019.0\n",
       "20    2019.0\n",
       "21    2019.0\n",
       "Name: Start year, dtype: float64"
      ]
     },
     "execution_count": 45,
     "metadata": {},
     "output_type": "execute_result"
    }
   ],
   "source": [
    "df_new['Start year'].head(20)"
   ]
  },
  {
   "cell_type": "markdown",
   "id": "6ac2c88d",
   "metadata": {},
   "source": [
    "#### Plotting the years range "
   ]
  },
  {
   "cell_type": "code",
   "execution_count": 25,
   "id": "a24a1e77",
   "metadata": {
    "scrolled": true
   },
   "outputs": [
    {
     "data": {
      "text/plain": [
       "<AxesSubplot:>"
      ]
     },
     "execution_count": 25,
     "metadata": {},
     "output_type": "execute_result"
    },
    {
     "data": {
      "image/png": "[encoded data removed]",
      "text/plain": [
       "<Figure size 1440x648 with 1 Axes>"
      ]
     },
     "metadata": {
      "needs_background": "light"
     },
     "output_type": "display_data"
    }
   ],
   "source": [
    "df_new['Start year'].value_counts().head(10).plot(kind='bar')"
   ]
  },
  {
   "cell_type": "markdown",
   "id": "37887fa4",
   "metadata": {},
   "source": [
    "#### Here showing the Suspect race "
   ]
  },
  {
   "cell_type": "code",
   "execution_count": 46,
   "id": "abce5480",
   "metadata": {
    "scrolled": true
   },
   "outputs": [
    {
     "data": {
      "image/png": "[encoded data removed]",
      "text/plain": [
       "<Figure size 432x288 with 1 Axes>"
      ]
     },
     "metadata": {},
     "output_type": "display_data"
    }
   ],
   "source": [
    "df_new['SUSP_RACE'].value_counts().plot.bar()\n",
    "plt.title('Suspect Race Category')\n",
    "plt.ylabel(' ')\n",
    "plt.show()"
   ]
  },
  {
   "cell_type": "markdown",
   "id": "0ae972a6",
   "metadata": {},
   "source": [
    "### Note: Some columns of the data will need to be clean before modelling"
   ]
  },
  {
   "cell_type": "code",
   "execution_count": null,
   "id": "825db4f9",
   "metadata": {},
   "outputs": [],
   "source": []
  }
 ],
 "metadata": {
  "kernelspec": {
   "display_name": "Python 3",
   "language": "python",
   "name": "python3"
  },
  "language_info": {
   "codemirror_mode": {
    "name": "ipython",
    "version": 3
   },
   "file_extension": ".py",
   "mimetype": "text/x-python",
   "name": "python",
   "nbconvert_exporter": "python",
   "pygments_lexer": "ipython3",
   "version": "3.8.8"
  }
 },
 "nbformat": 4,
 "nbformat_minor": 5
}
