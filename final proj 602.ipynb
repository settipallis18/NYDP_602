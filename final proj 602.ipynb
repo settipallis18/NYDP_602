{
 "cells": [
  {
   "cell_type": "markdown",
   "id": "7e21b11e",
   "metadata": {},
   "source": [
    "## NYPD(New York Police Department) Complaint Data Historic\n",
    "\n",
    "### Below are all the variables in the dataset, followed by its description: \n",
    "CMPLNT_NUM =  Randomly generated persistent ID for each complaint\n",
    "\n",
    "CMPLNT_FR_DT = Exact date of occurrence for the reported event (or starting date of occurrence, if CMPLNT_TO_DT exists)\n",
    "\n",
    "CMPLNT_FR_TM  = Exact time of occurrence for the reported event (or starting time of occurrence, if CMPLNT_TO_TM exists)\n",
    "\n",
    "CMPLNT_TO_DT  = Ending date of occurrence for the reported event, if exact time of occurrence is unknown\n",
    "\n",
    "CMPLNT_TO_TM  = Ending time of occurrence for the reported event, if exact time of occurrence is unknown\n",
    "\n",
    "ADDR_PCT_CD  =  The precinct in which the incident occurred\n",
    "\n",
    "RPT_DT  =  Date event was reported to police\n",
    "\n",
    "KY_CD  =  Three digit offense classification code\n",
    "\n",
    "OFNS_DESC  =  Description of offense corresponding with key code\n",
    "\n",
    "PD_CD  =   Three digit internal classification code (more granular than Key Code)\n",
    "\n",
    "PD_DESC  =   Description of internal classification corresponding with PD code (more granular than Offense Description)\n",
    "\n",
    "CRM_ATPT_CPTD_CD  =  Indicator of whether crime was successfully completed or attempted, but failed or was interrupted prematurely \n",
    "\n",
    "LAW_CAT_CD  =  Level of offense: felony, misdemeanor, violation\n",
    "\n",
    "BORO_NM  =  The name of the borough in which the incident occurred\n",
    "\n",
    "LOC_OF_OCCUR_DESC  =   Specific location of occurrence in or around the premises; inside, opposite of, front of, rear of\n",
    "\n",
    "PREM_TYP_DESC  =  Specific description of premises; grocery store, residence, street, etc.\n",
    "\n",
    "JURIS_DESC =  Description of the jurisdiction code\n",
    "\n",
    "JURISDICTION_CODE =  Jurisdiction responsible for incident. Either internal, like Police(0), Transit(1), and Housing(2); or external(3), like Correction, Port Authority, etc.\n",
    "\n",
    "PARKS_NM  =  Name of NYC park, playground or greenspace of occurrence, if applicable (state parks are not included)\n",
    "\n",
    "HADEVELOPT =  Name of NYCHA housing development of occurrence, if applicable\n",
    "\n",
    "HOUSING_PSA = Development Level Code\n",
    "\n",
    "X_COORD_CD =  X-coordinate for New York State Plane Coordinate System, Long Island Zone, NAD 83, units feet (FIPS 3104)\n",
    "\n",
    "Y_COORD_CD  = Y-coordinate for New York State Plane Coordinate System, Long Island Zone, NAD 83, units feet (FIPS 3104)\n",
    "\n",
    "SUSP_AGE_GROUP =  Suspect’s Age Group\n",
    "\n",
    "SUSP_RACE =  Suspect’s Race Description\n",
    "\n",
    "SUSP_SEX  =  Suspect’s Sex Description\n",
    "\n",
    "TRANSIT_DISTRICT =  Transit district in which the offense occurred.\n",
    "\n",
    "Latitude =  Midblock Latitude coordinate for Global Coordinate System, WGS 1984, decimal degrees (EPSG 4326)\n",
    "\n",
    "Longitude  =  Midblock Longitude coordinate for Global Coordinate System, WGS 1984, decimal degrees (EPSG 4326)\n",
    "\n",
    "Lat_Lon =  \t Geospatial Location Point (latitude and Longitude combined)\n",
    "\n",
    "PATROL_BORO  =  The name of the patrol borough in which the incident occurred\n",
    "\n",
    "STATION_NAME = Transit station name\n",
    "\n",
    "VIC_AGE_GROUP = Victim’s Age Group\n",
    "\n",
    "VIC_RACE = Victim’s Race Description\n",
    "\n",
    "VIC_SEX = Victim’s Sex Description\n",
    "\n",
    "\n",
    "### Dataset Source Link: https://data.cityofnewyork.us/Public-Safety/NYPD-Complaint-Data-Historic/qgea-i56i"
   ]
  },
  {
   "cell_type": "code",
   "execution_count": 1,
   "id": "b23ca4cd",
   "metadata": {},
   "outputs": [
    {
     "name": "stdout",
     "output_type": "stream",
     "text": [
      "Requirement already satisfied: squarify in /Users/settipallis154/opt/anaconda3/lib/python3.8/site-packages (0.4.3)\r\n"
     ]
    }
   ],
   "source": [
    "#importing the libraries\n",
    "import pandas as pd\n",
    "import numpy as np\n",
    "import matplotlib.pyplot as plt\n",
    "%matplotlib inline\n",
    "import warnings\n",
    "warnings.filterwarnings('ignore')\n",
    "import seaborn as sns\n",
    "!pip install squarify\n",
    "import squarify\n",
    "#importing the dataset\n",
    "df = pd.read_csv('NYPD_Complaint_Data_Historic.csv')"
   ]
  },
  {
   "cell_type": "markdown",
   "id": "d3e22243",
   "metadata": {},
   "source": [
    "### In the below Dtypes we can observe the Date and Time are in Object type"
   ]
  },
  {
   "cell_type": "code",
   "execution_count": 4,
   "id": "3fd974aa",
   "metadata": {},
   "outputs": [
    {
     "name": "stdout",
     "output_type": "stream",
     "text": [
      "<class 'pandas.core.frame.DataFrame'>\n",
      "RangeIndex: 7375993 entries, 0 to 7375992\n",
      "Data columns (total 35 columns):\n",
      " #   Column             Dtype  \n",
      "---  ------             -----  \n",
      " 0   CMPLNT_NUM         int64  \n",
      " 1   CMPLNT_FR_DT       object \n",
      " 2   CMPLNT_FR_TM       object \n",
      " 3   CMPLNT_TO_DT       object \n",
      " 4   CMPLNT_TO_TM       object \n",
      " 5   ADDR_PCT_CD        float64\n",
      " 6   RPT_DT             object \n",
      " 7   KY_CD              int64  \n",
      " 8   OFNS_DESC          object \n",
      " 9   PD_CD              float64\n",
      " 10  PD_DESC            object \n",
      " 11  CRM_ATPT_CPTD_CD   object \n",
      " 12  LAW_CAT_CD         object \n",
      " 13  BORO_NM            object \n",
      " 14  LOC_OF_OCCUR_DESC  object \n",
      " 15  PREM_TYP_DESC      object \n",
      " 16  JURIS_DESC         object \n",
      " 17  JURISDICTION_CODE  float64\n",
      " 18  PARKS_NM           object \n",
      " 19  HADEVELOPT         object \n",
      " 20  HOUSING_PSA        object \n",
      " 21  X_COORD_CD         float64\n",
      " 22  Y_COORD_CD         float64\n",
      " 23  SUSP_AGE_GROUP     object \n",
      " 24  SUSP_RACE          object \n",
      " 25  SUSP_SEX           object \n",
      " 26  TRANSIT_DISTRICT   float64\n",
      " 27  Latitude           float64\n",
      " 28  Longitude          float64\n",
      " 29  Lat_Lon            object \n",
      " 30  PATROL_BORO        object \n",
      " 31  STATION_NAME       object \n",
      " 32  VIC_AGE_GROUP      object \n",
      " 33  VIC_RACE           object \n",
      " 34  VIC_SEX            object \n",
      "dtypes: float64(8), int64(2), object(25)\n",
      "memory usage: 1.9+ GB\n"
     ]
    }
   ],
   "source": [
    "#Data Frame Volume and Data Types\n",
    "df.info()"
   ]
  },
  {
   "cell_type": "code",
   "execution_count": 5,
   "id": "dbeb7418",
   "metadata": {},
   "outputs": [
    {
     "data": {
      "text/html": [
       "<div>\n",
       "<style scoped>\n",
       "    .dataframe tbody tr th:only-of-type {\n",
       "        vertical-align: middle;\n",
       "    }\n",
       "\n",
       "    .dataframe tbody tr th {\n",
       "        vertical-align: top;\n",
       "    }\n",
       "\n",
       "    .dataframe thead th {\n",
       "        text-align: right;\n",
       "    }\n",
       "</style>\n",
       "<table border=\"1\" class=\"dataframe\">\n",
       "  <thead>\n",
       "    <tr style=\"text-align: right;\">\n",
       "      <th></th>\n",
       "      <th>CMPLNT_NUM</th>\n",
       "      <th>CMPLNT_FR_DT</th>\n",
       "      <th>CMPLNT_FR_TM</th>\n",
       "      <th>CMPLNT_TO_DT</th>\n",
       "      <th>CMPLNT_TO_TM</th>\n",
       "      <th>ADDR_PCT_CD</th>\n",
       "      <th>RPT_DT</th>\n",
       "      <th>KY_CD</th>\n",
       "      <th>OFNS_DESC</th>\n",
       "      <th>PD_CD</th>\n",
       "      <th>...</th>\n",
       "      <th>SUSP_SEX</th>\n",
       "      <th>TRANSIT_DISTRICT</th>\n",
       "      <th>Latitude</th>\n",
       "      <th>Longitude</th>\n",
       "      <th>Lat_Lon</th>\n",
       "      <th>PATROL_BORO</th>\n",
       "      <th>STATION_NAME</th>\n",
       "      <th>VIC_AGE_GROUP</th>\n",
       "      <th>VIC_RACE</th>\n",
       "      <th>VIC_SEX</th>\n",
       "    </tr>\n",
       "  </thead>\n",
       "  <tbody>\n",
       "    <tr>\n",
       "      <th>0</th>\n",
       "      <td>394506329</td>\n",
       "      <td>12/31/2019</td>\n",
       "      <td>17:30:00</td>\n",
       "      <td>NaN</td>\n",
       "      <td>NaN</td>\n",
       "      <td>32.0</td>\n",
       "      <td>12/31/2019</td>\n",
       "      <td>118</td>\n",
       "      <td>DANGEROUS WEAPONS</td>\n",
       "      <td>793.0</td>\n",
       "      <td>...</td>\n",
       "      <td>NaN</td>\n",
       "      <td>NaN</td>\n",
       "      <td>40.820927</td>\n",
       "      <td>-73.943324</td>\n",
       "      <td>(40.82092679700002, -73.94332421899996)</td>\n",
       "      <td>PATROL BORO MAN NORTH</td>\n",
       "      <td>NaN</td>\n",
       "      <td>UNKNOWN</td>\n",
       "      <td>UNKNOWN</td>\n",
       "      <td>E</td>\n",
       "    </tr>\n",
       "    <tr>\n",
       "      <th>1</th>\n",
       "      <td>968873685</td>\n",
       "      <td>12/29/2019</td>\n",
       "      <td>16:31:00</td>\n",
       "      <td>12/29/2019</td>\n",
       "      <td>16:54:00</td>\n",
       "      <td>47.0</td>\n",
       "      <td>12/29/2019</td>\n",
       "      <td>113</td>\n",
       "      <td>FORGERY</td>\n",
       "      <td>729.0</td>\n",
       "      <td>...</td>\n",
       "      <td>NaN</td>\n",
       "      <td>NaN</td>\n",
       "      <td>40.885701</td>\n",
       "      <td>-73.861640</td>\n",
       "      <td>(40.885701406000074, -73.86164032499995)</td>\n",
       "      <td>PATROL BORO BRONX</td>\n",
       "      <td>NaN</td>\n",
       "      <td>UNKNOWN</td>\n",
       "      <td>UNKNOWN</td>\n",
       "      <td>E</td>\n",
       "    </tr>\n",
       "    <tr>\n",
       "      <th>2</th>\n",
       "      <td>509837549</td>\n",
       "      <td>12/15/2019</td>\n",
       "      <td>18:45:00</td>\n",
       "      <td>NaN</td>\n",
       "      <td>NaN</td>\n",
       "      <td>109.0</td>\n",
       "      <td>12/29/2019</td>\n",
       "      <td>578</td>\n",
       "      <td>HARRASSMENT 2</td>\n",
       "      <td>638.0</td>\n",
       "      <td>...</td>\n",
       "      <td>M</td>\n",
       "      <td>NaN</td>\n",
       "      <td>40.742281</td>\n",
       "      <td>-73.819824</td>\n",
       "      <td>(40.74228115600005, -73.81982408)</td>\n",
       "      <td>PATROL BORO QUEENS NORTH</td>\n",
       "      <td>NaN</td>\n",
       "      <td>25-44</td>\n",
       "      <td>WHITE HISPANIC</td>\n",
       "      <td>F</td>\n",
       "    </tr>\n",
       "    <tr>\n",
       "      <th>3</th>\n",
       "      <td>352454313</td>\n",
       "      <td>12/28/2019</td>\n",
       "      <td>01:00:00</td>\n",
       "      <td>NaN</td>\n",
       "      <td>NaN</td>\n",
       "      <td>47.0</td>\n",
       "      <td>12/28/2019</td>\n",
       "      <td>126</td>\n",
       "      <td>MISCELLANEOUS PENAL LAW</td>\n",
       "      <td>117.0</td>\n",
       "      <td>...</td>\n",
       "      <td>M</td>\n",
       "      <td>NaN</td>\n",
       "      <td>40.875311</td>\n",
       "      <td>-73.847545</td>\n",
       "      <td>(40.87531145100007, -73.84754521099995)</td>\n",
       "      <td>PATROL BORO BRONX</td>\n",
       "      <td>NaN</td>\n",
       "      <td>UNKNOWN</td>\n",
       "      <td>UNKNOWN</td>\n",
       "      <td>E</td>\n",
       "    </tr>\n",
       "    <tr>\n",
       "      <th>4</th>\n",
       "      <td>248803469</td>\n",
       "      <td>09/05/2008</td>\n",
       "      <td>21:41:00</td>\n",
       "      <td>NaN</td>\n",
       "      <td>NaN</td>\n",
       "      <td>NaN</td>\n",
       "      <td>09/05/2008</td>\n",
       "      <td>101</td>\n",
       "      <td>MURDER &amp; NON-NEGL. MANSLAUGHTER</td>\n",
       "      <td>NaN</td>\n",
       "      <td>...</td>\n",
       "      <td>NaN</td>\n",
       "      <td>NaN</td>\n",
       "      <td>40.698827</td>\n",
       "      <td>-73.938819</td>\n",
       "      <td>(40.698827283, -73.938819047)</td>\n",
       "      <td>NaN</td>\n",
       "      <td>NaN</td>\n",
       "      <td>25-44</td>\n",
       "      <td>BLACK</td>\n",
       "      <td>M</td>\n",
       "    </tr>\n",
       "    <tr>\n",
       "      <th>5</th>\n",
       "      <td>293718737</td>\n",
       "      <td>12/27/2019</td>\n",
       "      <td>22:00:00</td>\n",
       "      <td>NaN</td>\n",
       "      <td>NaN</td>\n",
       "      <td>9.0</td>\n",
       "      <td>12/27/2019</td>\n",
       "      <td>107</td>\n",
       "      <td>BURGLARY</td>\n",
       "      <td>223.0</td>\n",
       "      <td>...</td>\n",
       "      <td>NaN</td>\n",
       "      <td>NaN</td>\n",
       "      <td>40.720759</td>\n",
       "      <td>-73.980466</td>\n",
       "      <td>(40.72075882100006, -73.98046642299995)</td>\n",
       "      <td>PATROL BORO MAN SOUTH</td>\n",
       "      <td>NaN</td>\n",
       "      <td>UNKNOWN</td>\n",
       "      <td>UNKNOWN</td>\n",
       "      <td>M</td>\n",
       "    </tr>\n",
       "    <tr>\n",
       "      <th>6</th>\n",
       "      <td>552685226</td>\n",
       "      <td>12/27/2019</td>\n",
       "      <td>20:10:00</td>\n",
       "      <td>12/27/2019</td>\n",
       "      <td>20:15:00</td>\n",
       "      <td>79.0</td>\n",
       "      <td>12/27/2019</td>\n",
       "      <td>117</td>\n",
       "      <td>DANGEROUS DRUGS</td>\n",
       "      <td>521.0</td>\n",
       "      <td>...</td>\n",
       "      <td>NaN</td>\n",
       "      <td>NaN</td>\n",
       "      <td>40.695958</td>\n",
       "      <td>-73.937632</td>\n",
       "      <td>(40.695958362000056, -73.93763162199998)</td>\n",
       "      <td>PATROL BORO BKLYN NORTH</td>\n",
       "      <td>NaN</td>\n",
       "      <td>UNKNOWN</td>\n",
       "      <td>UNKNOWN</td>\n",
       "      <td>E</td>\n",
       "    </tr>\n",
       "    <tr>\n",
       "      <th>7</th>\n",
       "      <td>134037758</td>\n",
       "      <td>12/26/2019</td>\n",
       "      <td>20:00:00</td>\n",
       "      <td>12/27/2019</td>\n",
       "      <td>07:15:00</td>\n",
       "      <td>101.0</td>\n",
       "      <td>12/27/2019</td>\n",
       "      <td>341</td>\n",
       "      <td>PETIT LARCENY</td>\n",
       "      <td>321.0</td>\n",
       "      <td>...</td>\n",
       "      <td>NaN</td>\n",
       "      <td>NaN</td>\n",
       "      <td>40.611570</td>\n",
       "      <td>-73.747365</td>\n",
       "      <td>(40.61157006600007, -73.74736517199995)</td>\n",
       "      <td>PATROL BORO QUEENS SOUTH</td>\n",
       "      <td>NaN</td>\n",
       "      <td>25-44</td>\n",
       "      <td>WHITE HISPANIC</td>\n",
       "      <td>F</td>\n",
       "    </tr>\n",
       "    <tr>\n",
       "      <th>8</th>\n",
       "      <td>855385879</td>\n",
       "      <td>12/26/2019</td>\n",
       "      <td>19:57:00</td>\n",
       "      <td>NaN</td>\n",
       "      <td>NaN</td>\n",
       "      <td>44.0</td>\n",
       "      <td>12/26/2019</td>\n",
       "      <td>361</td>\n",
       "      <td>OFF. AGNST PUB ORD SENSBLTY &amp;</td>\n",
       "      <td>639.0</td>\n",
       "      <td>...</td>\n",
       "      <td>F</td>\n",
       "      <td>NaN</td>\n",
       "      <td>40.840234</td>\n",
       "      <td>-73.917684</td>\n",
       "      <td>(40.84023413800003, -73.91768411399994)</td>\n",
       "      <td>PATROL BORO BRONX</td>\n",
       "      <td>NaN</td>\n",
       "      <td>18-24</td>\n",
       "      <td>BLACK</td>\n",
       "      <td>F</td>\n",
       "    </tr>\n",
       "    <tr>\n",
       "      <th>9</th>\n",
       "      <td>241602326</td>\n",
       "      <td>12/25/2019</td>\n",
       "      <td>23:00:00</td>\n",
       "      <td>12/26/2019</td>\n",
       "      <td>14:25:00</td>\n",
       "      <td>20.0</td>\n",
       "      <td>12/26/2019</td>\n",
       "      <td>341</td>\n",
       "      <td>PETIT LARCENY</td>\n",
       "      <td>321.0</td>\n",
       "      <td>...</td>\n",
       "      <td>NaN</td>\n",
       "      <td>NaN</td>\n",
       "      <td>40.772875</td>\n",
       "      <td>-73.989542</td>\n",
       "      <td>(40.77287456000005, -73.98954212299998)</td>\n",
       "      <td>PATROL BORO MAN NORTH</td>\n",
       "      <td>NaN</td>\n",
       "      <td>45-64</td>\n",
       "      <td>BLACK</td>\n",
       "      <td>M</td>\n",
       "    </tr>\n",
       "  </tbody>\n",
       "</table>\n",
       "<p>10 rows × 35 columns</p>\n",
       "</div>"
      ],
      "text/plain": [
       "   CMPLNT_NUM CMPLNT_FR_DT CMPLNT_FR_TM CMPLNT_TO_DT CMPLNT_TO_TM  \\\n",
       "0   394506329   12/31/2019     17:30:00          NaN          NaN   \n",
       "1   968873685   12/29/2019     16:31:00   12/29/2019     16:54:00   \n",
       "2   509837549   12/15/2019     18:45:00          NaN          NaN   \n",
       "3   352454313   12/28/2019     01:00:00          NaN          NaN   \n",
       "4   248803469   09/05/2008     21:41:00          NaN          NaN   \n",
       "5   293718737   12/27/2019     22:00:00          NaN          NaN   \n",
       "6   552685226   12/27/2019     20:10:00   12/27/2019     20:15:00   \n",
       "7   134037758   12/26/2019     20:00:00   12/27/2019     07:15:00   \n",
       "8   855385879   12/26/2019     19:57:00          NaN          NaN   \n",
       "9   241602326   12/25/2019     23:00:00   12/26/2019     14:25:00   \n",
       "\n",
       "   ADDR_PCT_CD      RPT_DT  KY_CD                        OFNS_DESC  PD_CD  \\\n",
       "0         32.0  12/31/2019    118                DANGEROUS WEAPONS  793.0   \n",
       "1         47.0  12/29/2019    113                          FORGERY  729.0   \n",
       "2        109.0  12/29/2019    578                    HARRASSMENT 2  638.0   \n",
       "3         47.0  12/28/2019    126          MISCELLANEOUS PENAL LAW  117.0   \n",
       "4          NaN  09/05/2008    101  MURDER & NON-NEGL. MANSLAUGHTER    NaN   \n",
       "5          9.0  12/27/2019    107                         BURGLARY  223.0   \n",
       "6         79.0  12/27/2019    117                  DANGEROUS DRUGS  521.0   \n",
       "7        101.0  12/27/2019    341                    PETIT LARCENY  321.0   \n",
       "8         44.0  12/26/2019    361    OFF. AGNST PUB ORD SENSBLTY &  639.0   \n",
       "9         20.0  12/26/2019    341                    PETIT LARCENY  321.0   \n",
       "\n",
       "   ... SUSP_SEX TRANSIT_DISTRICT   Latitude  Longitude  \\\n",
       "0  ...      NaN              NaN  40.820927 -73.943324   \n",
       "1  ...      NaN              NaN  40.885701 -73.861640   \n",
       "2  ...        M              NaN  40.742281 -73.819824   \n",
       "3  ...        M              NaN  40.875311 -73.847545   \n",
       "4  ...      NaN              NaN  40.698827 -73.938819   \n",
       "5  ...      NaN              NaN  40.720759 -73.980466   \n",
       "6  ...      NaN              NaN  40.695958 -73.937632   \n",
       "7  ...      NaN              NaN  40.611570 -73.747365   \n",
       "8  ...        F              NaN  40.840234 -73.917684   \n",
       "9  ...      NaN              NaN  40.772875 -73.989542   \n",
       "\n",
       "                                    Lat_Lon               PATROL_BORO  \\\n",
       "0   (40.82092679700002, -73.94332421899996)     PATROL BORO MAN NORTH   \n",
       "1  (40.885701406000074, -73.86164032499995)         PATROL BORO BRONX   \n",
       "2         (40.74228115600005, -73.81982408)  PATROL BORO QUEENS NORTH   \n",
       "3   (40.87531145100007, -73.84754521099995)         PATROL BORO BRONX   \n",
       "4             (40.698827283, -73.938819047)                       NaN   \n",
       "5   (40.72075882100006, -73.98046642299995)     PATROL BORO MAN SOUTH   \n",
       "6  (40.695958362000056, -73.93763162199998)   PATROL BORO BKLYN NORTH   \n",
       "7   (40.61157006600007, -73.74736517199995)  PATROL BORO QUEENS SOUTH   \n",
       "8   (40.84023413800003, -73.91768411399994)         PATROL BORO BRONX   \n",
       "9   (40.77287456000005, -73.98954212299998)     PATROL BORO MAN NORTH   \n",
       "\n",
       "  STATION_NAME  VIC_AGE_GROUP        VIC_RACE VIC_SEX  \n",
       "0          NaN        UNKNOWN         UNKNOWN       E  \n",
       "1          NaN        UNKNOWN         UNKNOWN       E  \n",
       "2          NaN          25-44  WHITE HISPANIC       F  \n",
       "3          NaN        UNKNOWN         UNKNOWN       E  \n",
       "4          NaN          25-44           BLACK       M  \n",
       "5          NaN        UNKNOWN         UNKNOWN       M  \n",
       "6          NaN        UNKNOWN         UNKNOWN       E  \n",
       "7          NaN          25-44  WHITE HISPANIC       F  \n",
       "8          NaN          18-24           BLACK       F  \n",
       "9          NaN          45-64           BLACK       M  \n",
       "\n",
       "[10 rows x 35 columns]"
      ]
     },
     "execution_count": 5,
     "metadata": {},
     "output_type": "execute_result"
    }
   ],
   "source": [
    "#showing the columns of the dataset\n",
    "df.head(10)"
   ]
  },
  {
   "cell_type": "markdown",
   "id": "6674fb70",
   "metadata": {},
   "source": [
    "### Here we display the number of columns "
   ]
  },
  {
   "cell_type": "code",
   "execution_count": 6,
   "id": "5f779618",
   "metadata": {},
   "outputs": [
    {
     "data": {
      "text/plain": [
       "Index(['CMPLNT_NUM', 'CMPLNT_FR_DT', 'CMPLNT_FR_TM', 'CMPLNT_TO_DT',\n",
       "       'CMPLNT_TO_TM', 'ADDR_PCT_CD', 'RPT_DT', 'KY_CD', 'OFNS_DESC', 'PD_CD',\n",
       "       'PD_DESC', 'CRM_ATPT_CPTD_CD', 'LAW_CAT_CD', 'BORO_NM',\n",
       "       'LOC_OF_OCCUR_DESC', 'PREM_TYP_DESC', 'JURIS_DESC', 'JURISDICTION_CODE',\n",
       "       'PARKS_NM', 'HADEVELOPT', 'HOUSING_PSA', 'X_COORD_CD', 'Y_COORD_CD',\n",
       "       'SUSP_AGE_GROUP', 'SUSP_RACE', 'SUSP_SEX', 'TRANSIT_DISTRICT',\n",
       "       'Latitude', 'Longitude', 'Lat_Lon', 'PATROL_BORO', 'STATION_NAME',\n",
       "       'VIC_AGE_GROUP', 'VIC_RACE', 'VIC_SEX'],\n",
       "      dtype='object')"
      ]
     },
     "execution_count": 6,
     "metadata": {},
     "output_type": "execute_result"
    }
   ],
   "source": [
    "df.columns"
   ]
  },
  {
   "cell_type": "markdown",
   "id": "fafb7599",
   "metadata": {},
   "source": [
    "###  Missing Values Percentage"
   ]
  },
  {
   "cell_type": "code",
   "execution_count": 7,
   "id": "bc84a47c",
   "metadata": {},
   "outputs": [
    {
     "data": {
      "text/plain": [
       "CMPLNT_NUM            0.000000\n",
       "CMPLNT_FR_DT          0.008880\n",
       "CMPLNT_FR_TM          0.000651\n",
       "CMPLNT_TO_DT         23.104740\n",
       "CMPLNT_TO_TM         23.041521\n",
       "ADDR_PCT_CD           0.029366\n",
       "RPT_DT                0.000000\n",
       "KY_CD                 0.000000\n",
       "OFNS_DESC             0.255193\n",
       "PD_CD                 0.085114\n",
       "PD_DESC               0.085114\n",
       "CRM_ATPT_CPTD_CD      0.000095\n",
       "LAW_CAT_CD            0.000000\n",
       "BORO_NM               0.153593\n",
       "LOC_OF_OCCUR_DESC    20.930063\n",
       "PREM_TYP_DESC         0.552400\n",
       "JURIS_DESC            0.000000\n",
       "JURISDICTION_CODE     0.085114\n",
       "PARKS_NM             99.624959\n",
       "HADEVELOPT           95.298097\n",
       "HOUSING_PSA          92.316831\n",
       "X_COORD_CD            0.235073\n",
       "Y_COORD_CD            0.235073\n",
       "SUSP_AGE_GROUP       65.011382\n",
       "SUSP_RACE            46.457392\n",
       "SUSP_SEX             48.264796\n",
       "TRANSIT_DISTRICT     97.783363\n",
       "Latitude              0.235073\n",
       "Longitude             0.235073\n",
       "Lat_Lon               0.235073\n",
       "PATROL_BORO           0.091310\n",
       "STATION_NAME         97.783363\n",
       "VIC_AGE_GROUP        22.213213\n",
       "VIC_RACE              0.004189\n",
       "VIC_SEX               0.004176\n",
       "dtype: float64"
      ]
     },
     "execution_count": 7,
     "metadata": {},
     "output_type": "execute_result"
    }
   ],
   "source": [
    "df.isnull().sum()/(len(df))*100"
   ]
  },
  {
   "cell_type": "markdown",
   "id": "afffd8cb",
   "metadata": {},
   "source": [
    "### The dataset containg the 7.3 million rows, it's taking a huge time to process, so instead of loading the complete data, here i took the chunk of 10 thousand."
   ]
  },
  {
   "cell_type": "code",
   "execution_count": 8,
   "id": "e0807a59",
   "metadata": {},
   "outputs": [],
   "source": [
    "#size of the chunk data 10 thousand\n",
    "raw_data = pd.read_csv(\"NYPD_Complaint_Data_Historic.csv\",low_memory=False,chunksize=10000)\n",
    "\n",
    "\n",
    "dfList = []\n",
    "for i in raw_data:\n",
    "    dfList.append(i)\n",
    "    break\n",
    "    \n",
    "df1 = pd.concat(dfList,sort=False)"
   ]
  },
  {
   "cell_type": "code",
   "execution_count": 9,
   "id": "c4ae6336",
   "metadata": {},
   "outputs": [],
   "source": [
    "#Creating a chunk file\n",
    "df1.to_csv(\"new_chunk.csv\")"
   ]
  },
  {
   "cell_type": "code",
   "execution_count": 10,
   "id": "3c291f78",
   "metadata": {},
   "outputs": [],
   "source": [
    "#Reading the chunk data into new dataframe \n",
    "df1_chunk = pd.read_csv('new_chunk.csv')"
   ]
  },
  {
   "cell_type": "markdown",
   "id": "4935a5aa",
   "metadata": {},
   "source": [
    "### In the dataset the Date(CMPLNT_FR_DT) and Time(CMPLNT_FR_TM) are in the form of object, so here we are converting into the DateTime format."
   ]
  },
  {
   "cell_type": "code",
   "execution_count": 11,
   "id": "c3e9ba3c",
   "metadata": {},
   "outputs": [],
   "source": [
    "#Converting into the DateTime format\n",
    "df1_chunk['Date']=pd.to_datetime(df1_chunk['CMPLNT_FR_DT'], errors = 'coerce')\n",
    "df1_chunk['Complaint_Date']=pd.to_datetime(df1_chunk['CMPLNT_TO_DT'], errors = 'coerce')\n",
    "df1_chunk['Report_Date']=pd.to_datetime(df1_chunk['RPT_DT'], errors = 'coerce')\n"
   ]
  },
  {
   "cell_type": "code",
   "execution_count": 12,
   "id": "957d5565",
   "metadata": {},
   "outputs": [],
   "source": [
    "#Here also convert some date, time columns into the datatime format.\n",
    "df1_chunk['Time'] = pd.to_datetime(df1_chunk['CMPLNT_FR_TM'], format='%H:%M', errors = 'coerce').dt.time\n",
    "df1_chunk['Complaint_Time'] = pd.to_datetime(df1_chunk['CMPLNT_TO_TM'], format='%H:%M', errors = 'coerce').dt.time\n"
   ]
  },
  {
   "cell_type": "code",
   "execution_count": 13,
   "id": "34f67785",
   "metadata": {},
   "outputs": [
    {
     "data": {
      "text/html": [
       "<div>\n",
       "<style scoped>\n",
       "    .dataframe tbody tr th:only-of-type {\n",
       "        vertical-align: middle;\n",
       "    }\n",
       "\n",
       "    .dataframe tbody tr th {\n",
       "        vertical-align: top;\n",
       "    }\n",
       "\n",
       "    .dataframe thead th {\n",
       "        text-align: right;\n",
       "    }\n",
       "</style>\n",
       "<table border=\"1\" class=\"dataframe\">\n",
       "  <thead>\n",
       "    <tr style=\"text-align: right;\">\n",
       "      <th></th>\n",
       "      <th>Unnamed: 0</th>\n",
       "      <th>CMPLNT_NUM</th>\n",
       "      <th>CMPLNT_FR_DT</th>\n",
       "      <th>CMPLNT_FR_TM</th>\n",
       "      <th>CMPLNT_TO_DT</th>\n",
       "      <th>CMPLNT_TO_TM</th>\n",
       "      <th>ADDR_PCT_CD</th>\n",
       "      <th>RPT_DT</th>\n",
       "      <th>KY_CD</th>\n",
       "      <th>OFNS_DESC</th>\n",
       "      <th>...</th>\n",
       "      <th>PATROL_BORO</th>\n",
       "      <th>STATION_NAME</th>\n",
       "      <th>VIC_AGE_GROUP</th>\n",
       "      <th>VIC_RACE</th>\n",
       "      <th>VIC_SEX</th>\n",
       "      <th>Date</th>\n",
       "      <th>Complaint_Date</th>\n",
       "      <th>Report_Date</th>\n",
       "      <th>Time</th>\n",
       "      <th>Complaint_Time</th>\n",
       "    </tr>\n",
       "  </thead>\n",
       "  <tbody>\n",
       "    <tr>\n",
       "      <th>0</th>\n",
       "      <td>0</td>\n",
       "      <td>394506329</td>\n",
       "      <td>12/31/2019</td>\n",
       "      <td>17:30:00</td>\n",
       "      <td>NaN</td>\n",
       "      <td>NaN</td>\n",
       "      <td>32.0</td>\n",
       "      <td>12/31/2019</td>\n",
       "      <td>118</td>\n",
       "      <td>DANGEROUS WEAPONS</td>\n",
       "      <td>...</td>\n",
       "      <td>PATROL BORO MAN NORTH</td>\n",
       "      <td>NaN</td>\n",
       "      <td>UNKNOWN</td>\n",
       "      <td>UNKNOWN</td>\n",
       "      <td>E</td>\n",
       "      <td>2019-12-31</td>\n",
       "      <td>NaT</td>\n",
       "      <td>2019-12-31</td>\n",
       "      <td>NaT</td>\n",
       "      <td>NaT</td>\n",
       "    </tr>\n",
       "    <tr>\n",
       "      <th>1</th>\n",
       "      <td>1</td>\n",
       "      <td>968873685</td>\n",
       "      <td>12/29/2019</td>\n",
       "      <td>16:31:00</td>\n",
       "      <td>12/29/2019</td>\n",
       "      <td>16:54:00</td>\n",
       "      <td>47.0</td>\n",
       "      <td>12/29/2019</td>\n",
       "      <td>113</td>\n",
       "      <td>FORGERY</td>\n",
       "      <td>...</td>\n",
       "      <td>PATROL BORO BRONX</td>\n",
       "      <td>NaN</td>\n",
       "      <td>UNKNOWN</td>\n",
       "      <td>UNKNOWN</td>\n",
       "      <td>E</td>\n",
       "      <td>2019-12-29</td>\n",
       "      <td>2019-12-29</td>\n",
       "      <td>2019-12-29</td>\n",
       "      <td>NaT</td>\n",
       "      <td>NaT</td>\n",
       "    </tr>\n",
       "    <tr>\n",
       "      <th>2</th>\n",
       "      <td>2</td>\n",
       "      <td>509837549</td>\n",
       "      <td>12/15/2019</td>\n",
       "      <td>18:45:00</td>\n",
       "      <td>NaN</td>\n",
       "      <td>NaN</td>\n",
       "      <td>109.0</td>\n",
       "      <td>12/29/2019</td>\n",
       "      <td>578</td>\n",
       "      <td>HARRASSMENT 2</td>\n",
       "      <td>...</td>\n",
       "      <td>PATROL BORO QUEENS NORTH</td>\n",
       "      <td>NaN</td>\n",
       "      <td>25-44</td>\n",
       "      <td>WHITE HISPANIC</td>\n",
       "      <td>F</td>\n",
       "      <td>2019-12-15</td>\n",
       "      <td>NaT</td>\n",
       "      <td>2019-12-29</td>\n",
       "      <td>NaT</td>\n",
       "      <td>NaT</td>\n",
       "    </tr>\n",
       "    <tr>\n",
       "      <th>3</th>\n",
       "      <td>3</td>\n",
       "      <td>352454313</td>\n",
       "      <td>12/28/2019</td>\n",
       "      <td>01:00:00</td>\n",
       "      <td>NaN</td>\n",
       "      <td>NaN</td>\n",
       "      <td>47.0</td>\n",
       "      <td>12/28/2019</td>\n",
       "      <td>126</td>\n",
       "      <td>MISCELLANEOUS PENAL LAW</td>\n",
       "      <td>...</td>\n",
       "      <td>PATROL BORO BRONX</td>\n",
       "      <td>NaN</td>\n",
       "      <td>UNKNOWN</td>\n",
       "      <td>UNKNOWN</td>\n",
       "      <td>E</td>\n",
       "      <td>2019-12-28</td>\n",
       "      <td>NaT</td>\n",
       "      <td>2019-12-28</td>\n",
       "      <td>NaT</td>\n",
       "      <td>NaT</td>\n",
       "    </tr>\n",
       "    <tr>\n",
       "      <th>4</th>\n",
       "      <td>4</td>\n",
       "      <td>248803469</td>\n",
       "      <td>09/05/2008</td>\n",
       "      <td>21:41:00</td>\n",
       "      <td>NaN</td>\n",
       "      <td>NaN</td>\n",
       "      <td>NaN</td>\n",
       "      <td>09/05/2008</td>\n",
       "      <td>101</td>\n",
       "      <td>MURDER &amp; NON-NEGL. MANSLAUGHTER</td>\n",
       "      <td>...</td>\n",
       "      <td>NaN</td>\n",
       "      <td>NaN</td>\n",
       "      <td>25-44</td>\n",
       "      <td>BLACK</td>\n",
       "      <td>M</td>\n",
       "      <td>2008-09-05</td>\n",
       "      <td>NaT</td>\n",
       "      <td>2008-09-05</td>\n",
       "      <td>NaT</td>\n",
       "      <td>NaT</td>\n",
       "    </tr>\n",
       "    <tr>\n",
       "      <th>...</th>\n",
       "      <td>...</td>\n",
       "      <td>...</td>\n",
       "      <td>...</td>\n",
       "      <td>...</td>\n",
       "      <td>...</td>\n",
       "      <td>...</td>\n",
       "      <td>...</td>\n",
       "      <td>...</td>\n",
       "      <td>...</td>\n",
       "      <td>...</td>\n",
       "      <td>...</td>\n",
       "      <td>...</td>\n",
       "      <td>...</td>\n",
       "      <td>...</td>\n",
       "      <td>...</td>\n",
       "      <td>...</td>\n",
       "      <td>...</td>\n",
       "      <td>...</td>\n",
       "      <td>...</td>\n",
       "      <td>...</td>\n",
       "      <td>...</td>\n",
       "    </tr>\n",
       "    <tr>\n",
       "      <th>9995</th>\n",
       "      <td>9995</td>\n",
       "      <td>425278337</td>\n",
       "      <td>12/30/2019</td>\n",
       "      <td>20:23:00</td>\n",
       "      <td>12/30/2019</td>\n",
       "      <td>20:32:00</td>\n",
       "      <td>113.0</td>\n",
       "      <td>12/30/2019</td>\n",
       "      <td>344</td>\n",
       "      <td>ASSAULT 3 &amp; RELATED OFFENSES</td>\n",
       "      <td>...</td>\n",
       "      <td>PATROL BORO QUEENS SOUTH</td>\n",
       "      <td>NaN</td>\n",
       "      <td>18-24</td>\n",
       "      <td>BLACK</td>\n",
       "      <td>F</td>\n",
       "      <td>2019-12-30</td>\n",
       "      <td>2019-12-30</td>\n",
       "      <td>2019-12-30</td>\n",
       "      <td>NaT</td>\n",
       "      <td>NaT</td>\n",
       "    </tr>\n",
       "    <tr>\n",
       "      <th>9996</th>\n",
       "      <td>9996</td>\n",
       "      <td>769195679</td>\n",
       "      <td>12/26/2019</td>\n",
       "      <td>20:25:00</td>\n",
       "      <td>12/26/2019</td>\n",
       "      <td>20:25:00</td>\n",
       "      <td>73.0</td>\n",
       "      <td>12/26/2019</td>\n",
       "      <td>359</td>\n",
       "      <td>OFFENSES AGAINST PUBLIC ADMINI</td>\n",
       "      <td>...</td>\n",
       "      <td>PATROL BORO BKLYN NORTH</td>\n",
       "      <td>NaN</td>\n",
       "      <td>UNKNOWN</td>\n",
       "      <td>UNKNOWN</td>\n",
       "      <td>E</td>\n",
       "      <td>2019-12-26</td>\n",
       "      <td>2019-12-26</td>\n",
       "      <td>2019-12-26</td>\n",
       "      <td>NaT</td>\n",
       "      <td>NaT</td>\n",
       "    </tr>\n",
       "    <tr>\n",
       "      <th>9997</th>\n",
       "      <td>9997</td>\n",
       "      <td>318041448</td>\n",
       "      <td>12/22/2019</td>\n",
       "      <td>18:08:00</td>\n",
       "      <td>NaN</td>\n",
       "      <td>NaN</td>\n",
       "      <td>107.0</td>\n",
       "      <td>12/22/2019</td>\n",
       "      <td>341</td>\n",
       "      <td>PETIT LARCENY</td>\n",
       "      <td>...</td>\n",
       "      <td>PATROL BORO QUEENS SOUTH</td>\n",
       "      <td>NaN</td>\n",
       "      <td>18-24</td>\n",
       "      <td>WHITE HISPANIC</td>\n",
       "      <td>F</td>\n",
       "      <td>2019-12-22</td>\n",
       "      <td>NaT</td>\n",
       "      <td>2019-12-22</td>\n",
       "      <td>NaT</td>\n",
       "      <td>NaT</td>\n",
       "    </tr>\n",
       "    <tr>\n",
       "      <th>9998</th>\n",
       "      <td>9998</td>\n",
       "      <td>491232735</td>\n",
       "      <td>12/25/2019</td>\n",
       "      <td>20:00:00</td>\n",
       "      <td>12/25/2019</td>\n",
       "      <td>20:30:00</td>\n",
       "      <td>94.0</td>\n",
       "      <td>12/26/2019</td>\n",
       "      <td>105</td>\n",
       "      <td>ROBBERY</td>\n",
       "      <td>...</td>\n",
       "      <td>PATROL BORO BKLYN NORTH</td>\n",
       "      <td>NaN</td>\n",
       "      <td>25-44</td>\n",
       "      <td>WHITE HISPANIC</td>\n",
       "      <td>F</td>\n",
       "      <td>2019-12-25</td>\n",
       "      <td>2019-12-25</td>\n",
       "      <td>2019-12-26</td>\n",
       "      <td>NaT</td>\n",
       "      <td>NaT</td>\n",
       "    </tr>\n",
       "    <tr>\n",
       "      <th>9999</th>\n",
       "      <td>9999</td>\n",
       "      <td>869897657</td>\n",
       "      <td>12/27/2019</td>\n",
       "      <td>16:20:00</td>\n",
       "      <td>12/27/2019</td>\n",
       "      <td>16:30:00</td>\n",
       "      <td>114.0</td>\n",
       "      <td>12/28/2019</td>\n",
       "      <td>361</td>\n",
       "      <td>OFF. AGNST PUB ORD SENSBLTY &amp;</td>\n",
       "      <td>...</td>\n",
       "      <td>PATROL BORO QUEENS NORTH</td>\n",
       "      <td>NaN</td>\n",
       "      <td>25-44</td>\n",
       "      <td>WHITE</td>\n",
       "      <td>M</td>\n",
       "      <td>2019-12-27</td>\n",
       "      <td>2019-12-27</td>\n",
       "      <td>2019-12-28</td>\n",
       "      <td>NaT</td>\n",
       "      <td>NaT</td>\n",
       "    </tr>\n",
       "  </tbody>\n",
       "</table>\n",
       "<p>10000 rows × 41 columns</p>\n",
       "</div>"
      ],
      "text/plain": [
       "      Unnamed: 0  CMPLNT_NUM CMPLNT_FR_DT CMPLNT_FR_TM CMPLNT_TO_DT  \\\n",
       "0              0   394506329   12/31/2019     17:30:00          NaN   \n",
       "1              1   968873685   12/29/2019     16:31:00   12/29/2019   \n",
       "2              2   509837549   12/15/2019     18:45:00          NaN   \n",
       "3              3   352454313   12/28/2019     01:00:00          NaN   \n",
       "4              4   248803469   09/05/2008     21:41:00          NaN   \n",
       "...          ...         ...          ...          ...          ...   \n",
       "9995        9995   425278337   12/30/2019     20:23:00   12/30/2019   \n",
       "9996        9996   769195679   12/26/2019     20:25:00   12/26/2019   \n",
       "9997        9997   318041448   12/22/2019     18:08:00          NaN   \n",
       "9998        9998   491232735   12/25/2019     20:00:00   12/25/2019   \n",
       "9999        9999   869897657   12/27/2019     16:20:00   12/27/2019   \n",
       "\n",
       "     CMPLNT_TO_TM  ADDR_PCT_CD      RPT_DT  KY_CD  \\\n",
       "0             NaN         32.0  12/31/2019    118   \n",
       "1        16:54:00         47.0  12/29/2019    113   \n",
       "2             NaN        109.0  12/29/2019    578   \n",
       "3             NaN         47.0  12/28/2019    126   \n",
       "4             NaN          NaN  09/05/2008    101   \n",
       "...           ...          ...         ...    ...   \n",
       "9995     20:32:00        113.0  12/30/2019    344   \n",
       "9996     20:25:00         73.0  12/26/2019    359   \n",
       "9997          NaN        107.0  12/22/2019    341   \n",
       "9998     20:30:00         94.0  12/26/2019    105   \n",
       "9999     16:30:00        114.0  12/28/2019    361   \n",
       "\n",
       "                            OFNS_DESC  ...               PATROL_BORO  \\\n",
       "0                   DANGEROUS WEAPONS  ...     PATROL BORO MAN NORTH   \n",
       "1                             FORGERY  ...         PATROL BORO BRONX   \n",
       "2                       HARRASSMENT 2  ...  PATROL BORO QUEENS NORTH   \n",
       "3             MISCELLANEOUS PENAL LAW  ...         PATROL BORO BRONX   \n",
       "4     MURDER & NON-NEGL. MANSLAUGHTER  ...                       NaN   \n",
       "...                               ...  ...                       ...   \n",
       "9995     ASSAULT 3 & RELATED OFFENSES  ...  PATROL BORO QUEENS SOUTH   \n",
       "9996   OFFENSES AGAINST PUBLIC ADMINI  ...   PATROL BORO BKLYN NORTH   \n",
       "9997                    PETIT LARCENY  ...  PATROL BORO QUEENS SOUTH   \n",
       "9998                          ROBBERY  ...   PATROL BORO BKLYN NORTH   \n",
       "9999    OFF. AGNST PUB ORD SENSBLTY &  ...  PATROL BORO QUEENS NORTH   \n",
       "\n",
       "     STATION_NAME VIC_AGE_GROUP        VIC_RACE VIC_SEX       Date  \\\n",
       "0             NaN       UNKNOWN         UNKNOWN       E 2019-12-31   \n",
       "1             NaN       UNKNOWN         UNKNOWN       E 2019-12-29   \n",
       "2             NaN         25-44  WHITE HISPANIC       F 2019-12-15   \n",
       "3             NaN       UNKNOWN         UNKNOWN       E 2019-12-28   \n",
       "4             NaN         25-44           BLACK       M 2008-09-05   \n",
       "...           ...           ...             ...     ...        ...   \n",
       "9995          NaN         18-24           BLACK       F 2019-12-30   \n",
       "9996          NaN       UNKNOWN         UNKNOWN       E 2019-12-26   \n",
       "9997          NaN         18-24  WHITE HISPANIC       F 2019-12-22   \n",
       "9998          NaN         25-44  WHITE HISPANIC       F 2019-12-25   \n",
       "9999          NaN         25-44           WHITE       M 2019-12-27   \n",
       "\n",
       "     Complaint_Date Report_Date  Time Complaint_Time  \n",
       "0               NaT  2019-12-31   NaT            NaT  \n",
       "1        2019-12-29  2019-12-29   NaT            NaT  \n",
       "2               NaT  2019-12-29   NaT            NaT  \n",
       "3               NaT  2019-12-28   NaT            NaT  \n",
       "4               NaT  2008-09-05   NaT            NaT  \n",
       "...             ...         ...   ...            ...  \n",
       "9995     2019-12-30  2019-12-30   NaT            NaT  \n",
       "9996     2019-12-26  2019-12-26   NaT            NaT  \n",
       "9997            NaT  2019-12-22   NaT            NaT  \n",
       "9998     2019-12-25  2019-12-26   NaT            NaT  \n",
       "9999     2019-12-27  2019-12-28   NaT            NaT  \n",
       "\n",
       "[10000 rows x 41 columns]"
      ]
     },
     "execution_count": 13,
     "metadata": {},
     "output_type": "execute_result"
    }
   ],
   "source": [
    "#after converting of Datetime format, we can see the New Columns in dataset\n",
    "df1_chunk"
   ]
  },
  {
   "cell_type": "code",
   "execution_count": 14,
   "id": "8029c391",
   "metadata": {},
   "outputs": [],
   "source": [
    "#df1_chunk['CMPLNT_TO_DT'] = pd.to_datetime(df1_chunk['CMPLNT_TO_DT'], format='%m%d%Y')\n"
   ]
  },
  {
   "cell_type": "markdown",
   "id": "d3ef0230",
   "metadata": {},
   "source": [
    "### In the models the datetime format is unsupportable,  neither 'int' or 'float' it accepting at the time pipeline fitting, so here the datetime typr columns are converting into the 'float' type."
   ]
  },
  {
   "cell_type": "code",
   "execution_count": 15,
   "id": "220a7a69",
   "metadata": {},
   "outputs": [],
   "source": [
    "#spliting the 'Date' column as day, month, and year into seperate columns.\n",
    "df1_chunk['Day'] = df1_chunk['Date'].dt.weekday\n",
    "df1_chunk['Month'] = df1_chunk['Date'].dt.month\n",
    "df1_chunk['Year'] = df1_chunk['Date'].dt.year"
   ]
  },
  {
   "cell_type": "code",
   "execution_count": 16,
   "id": "d935a1f6",
   "metadata": {},
   "outputs": [],
   "source": [
    "#spliting the 'Complaint_Date' column as Complaint_Day, Complaint_month, and Complaint_year into seperate columns.\n",
    "df1_chunk['Complaint_Day'] = df1_chunk['Complaint_Date'].dt.weekday\n",
    "df1_chunk['Complaint_Month'] = df1_chunk['Complaint_Date'].dt.month\n",
    "df1_chunk['Complaint_Year'] = df1_chunk['Complaint_Date'].dt.year"
   ]
  },
  {
   "cell_type": "code",
   "execution_count": 17,
   "id": "f7d9e14b",
   "metadata": {},
   "outputs": [],
   "source": [
    "#spliting the 'Report_Date' column as Report_day, Report_month, and Report_year into seperate columns.\n",
    "df1_chunk['Report_Day'] = df1_chunk['Report_Date'].dt.weekday\n",
    "df1_chunk['Report_Month'] = df1_chunk['Report_Date'].dt.month\n",
    "df1_chunk['Report_Year'] = df1_chunk['Report_Date'].dt.year"
   ]
  },
  {
   "cell_type": "markdown",
   "id": "a79ebd3b",
   "metadata": {},
   "source": [
    "### After the conversion of dtype into multiple float type, we can notice the seperate columns in the dataset "
   ]
  },
  {
   "cell_type": "code",
   "execution_count": 18,
   "id": "070f0d20",
   "metadata": {},
   "outputs": [
    {
     "data": {
      "text/html": [
       "<div>\n",
       "<style scoped>\n",
       "    .dataframe tbody tr th:only-of-type {\n",
       "        vertical-align: middle;\n",
       "    }\n",
       "\n",
       "    .dataframe tbody tr th {\n",
       "        vertical-align: top;\n",
       "    }\n",
       "\n",
       "    .dataframe thead th {\n",
       "        text-align: right;\n",
       "    }\n",
       "</style>\n",
       "<table border=\"1\" class=\"dataframe\">\n",
       "  <thead>\n",
       "    <tr style=\"text-align: right;\">\n",
       "      <th></th>\n",
       "      <th>Unnamed: 0</th>\n",
       "      <th>CMPLNT_NUM</th>\n",
       "      <th>CMPLNT_FR_DT</th>\n",
       "      <th>CMPLNT_FR_TM</th>\n",
       "      <th>CMPLNT_TO_DT</th>\n",
       "      <th>CMPLNT_TO_TM</th>\n",
       "      <th>ADDR_PCT_CD</th>\n",
       "      <th>RPT_DT</th>\n",
       "      <th>KY_CD</th>\n",
       "      <th>OFNS_DESC</th>\n",
       "      <th>...</th>\n",
       "      <th>Complaint_Time</th>\n",
       "      <th>Day</th>\n",
       "      <th>Month</th>\n",
       "      <th>Year</th>\n",
       "      <th>Complaint_Day</th>\n",
       "      <th>Complaint_Month</th>\n",
       "      <th>Complaint_Year</th>\n",
       "      <th>Report_Day</th>\n",
       "      <th>Report_Month</th>\n",
       "      <th>Report_Year</th>\n",
       "    </tr>\n",
       "  </thead>\n",
       "  <tbody>\n",
       "    <tr>\n",
       "      <th>0</th>\n",
       "      <td>0</td>\n",
       "      <td>394506329</td>\n",
       "      <td>12/31/2019</td>\n",
       "      <td>17:30:00</td>\n",
       "      <td>NaN</td>\n",
       "      <td>NaN</td>\n",
       "      <td>32.0</td>\n",
       "      <td>12/31/2019</td>\n",
       "      <td>118</td>\n",
       "      <td>DANGEROUS WEAPONS</td>\n",
       "      <td>...</td>\n",
       "      <td>NaT</td>\n",
       "      <td>1</td>\n",
       "      <td>12</td>\n",
       "      <td>2019</td>\n",
       "      <td>NaN</td>\n",
       "      <td>NaN</td>\n",
       "      <td>NaN</td>\n",
       "      <td>1</td>\n",
       "      <td>12</td>\n",
       "      <td>2019</td>\n",
       "    </tr>\n",
       "    <tr>\n",
       "      <th>1</th>\n",
       "      <td>1</td>\n",
       "      <td>968873685</td>\n",
       "      <td>12/29/2019</td>\n",
       "      <td>16:31:00</td>\n",
       "      <td>12/29/2019</td>\n",
       "      <td>16:54:00</td>\n",
       "      <td>47.0</td>\n",
       "      <td>12/29/2019</td>\n",
       "      <td>113</td>\n",
       "      <td>FORGERY</td>\n",
       "      <td>...</td>\n",
       "      <td>NaT</td>\n",
       "      <td>6</td>\n",
       "      <td>12</td>\n",
       "      <td>2019</td>\n",
       "      <td>6.0</td>\n",
       "      <td>12.0</td>\n",
       "      <td>2019.0</td>\n",
       "      <td>6</td>\n",
       "      <td>12</td>\n",
       "      <td>2019</td>\n",
       "    </tr>\n",
       "    <tr>\n",
       "      <th>2</th>\n",
       "      <td>2</td>\n",
       "      <td>509837549</td>\n",
       "      <td>12/15/2019</td>\n",
       "      <td>18:45:00</td>\n",
       "      <td>NaN</td>\n",
       "      <td>NaN</td>\n",
       "      <td>109.0</td>\n",
       "      <td>12/29/2019</td>\n",
       "      <td>578</td>\n",
       "      <td>HARRASSMENT 2</td>\n",
       "      <td>...</td>\n",
       "      <td>NaT</td>\n",
       "      <td>6</td>\n",
       "      <td>12</td>\n",
       "      <td>2019</td>\n",
       "      <td>NaN</td>\n",
       "      <td>NaN</td>\n",
       "      <td>NaN</td>\n",
       "      <td>6</td>\n",
       "      <td>12</td>\n",
       "      <td>2019</td>\n",
       "    </tr>\n",
       "    <tr>\n",
       "      <th>3</th>\n",
       "      <td>3</td>\n",
       "      <td>352454313</td>\n",
       "      <td>12/28/2019</td>\n",
       "      <td>01:00:00</td>\n",
       "      <td>NaN</td>\n",
       "      <td>NaN</td>\n",
       "      <td>47.0</td>\n",
       "      <td>12/28/2019</td>\n",
       "      <td>126</td>\n",
       "      <td>MISCELLANEOUS PENAL LAW</td>\n",
       "      <td>...</td>\n",
       "      <td>NaT</td>\n",
       "      <td>5</td>\n",
       "      <td>12</td>\n",
       "      <td>2019</td>\n",
       "      <td>NaN</td>\n",
       "      <td>NaN</td>\n",
       "      <td>NaN</td>\n",
       "      <td>5</td>\n",
       "      <td>12</td>\n",
       "      <td>2019</td>\n",
       "    </tr>\n",
       "    <tr>\n",
       "      <th>4</th>\n",
       "      <td>4</td>\n",
       "      <td>248803469</td>\n",
       "      <td>09/05/2008</td>\n",
       "      <td>21:41:00</td>\n",
       "      <td>NaN</td>\n",
       "      <td>NaN</td>\n",
       "      <td>NaN</td>\n",
       "      <td>09/05/2008</td>\n",
       "      <td>101</td>\n",
       "      <td>MURDER &amp; NON-NEGL. MANSLAUGHTER</td>\n",
       "      <td>...</td>\n",
       "      <td>NaT</td>\n",
       "      <td>4</td>\n",
       "      <td>9</td>\n",
       "      <td>2008</td>\n",
       "      <td>NaN</td>\n",
       "      <td>NaN</td>\n",
       "      <td>NaN</td>\n",
       "      <td>4</td>\n",
       "      <td>9</td>\n",
       "      <td>2008</td>\n",
       "    </tr>\n",
       "    <tr>\n",
       "      <th>...</th>\n",
       "      <td>...</td>\n",
       "      <td>...</td>\n",
       "      <td>...</td>\n",
       "      <td>...</td>\n",
       "      <td>...</td>\n",
       "      <td>...</td>\n",
       "      <td>...</td>\n",
       "      <td>...</td>\n",
       "      <td>...</td>\n",
       "      <td>...</td>\n",
       "      <td>...</td>\n",
       "      <td>...</td>\n",
       "      <td>...</td>\n",
       "      <td>...</td>\n",
       "      <td>...</td>\n",
       "      <td>...</td>\n",
       "      <td>...</td>\n",
       "      <td>...</td>\n",
       "      <td>...</td>\n",
       "      <td>...</td>\n",
       "      <td>...</td>\n",
       "    </tr>\n",
       "    <tr>\n",
       "      <th>9995</th>\n",
       "      <td>9995</td>\n",
       "      <td>425278337</td>\n",
       "      <td>12/30/2019</td>\n",
       "      <td>20:23:00</td>\n",
       "      <td>12/30/2019</td>\n",
       "      <td>20:32:00</td>\n",
       "      <td>113.0</td>\n",
       "      <td>12/30/2019</td>\n",
       "      <td>344</td>\n",
       "      <td>ASSAULT 3 &amp; RELATED OFFENSES</td>\n",
       "      <td>...</td>\n",
       "      <td>NaT</td>\n",
       "      <td>0</td>\n",
       "      <td>12</td>\n",
       "      <td>2019</td>\n",
       "      <td>0.0</td>\n",
       "      <td>12.0</td>\n",
       "      <td>2019.0</td>\n",
       "      <td>0</td>\n",
       "      <td>12</td>\n",
       "      <td>2019</td>\n",
       "    </tr>\n",
       "    <tr>\n",
       "      <th>9996</th>\n",
       "      <td>9996</td>\n",
       "      <td>769195679</td>\n",
       "      <td>12/26/2019</td>\n",
       "      <td>20:25:00</td>\n",
       "      <td>12/26/2019</td>\n",
       "      <td>20:25:00</td>\n",
       "      <td>73.0</td>\n",
       "      <td>12/26/2019</td>\n",
       "      <td>359</td>\n",
       "      <td>OFFENSES AGAINST PUBLIC ADMINI</td>\n",
       "      <td>...</td>\n",
       "      <td>NaT</td>\n",
       "      <td>3</td>\n",
       "      <td>12</td>\n",
       "      <td>2019</td>\n",
       "      <td>3.0</td>\n",
       "      <td>12.0</td>\n",
       "      <td>2019.0</td>\n",
       "      <td>3</td>\n",
       "      <td>12</td>\n",
       "      <td>2019</td>\n",
       "    </tr>\n",
       "    <tr>\n",
       "      <th>9997</th>\n",
       "      <td>9997</td>\n",
       "      <td>318041448</td>\n",
       "      <td>12/22/2019</td>\n",
       "      <td>18:08:00</td>\n",
       "      <td>NaN</td>\n",
       "      <td>NaN</td>\n",
       "      <td>107.0</td>\n",
       "      <td>12/22/2019</td>\n",
       "      <td>341</td>\n",
       "      <td>PETIT LARCENY</td>\n",
       "      <td>...</td>\n",
       "      <td>NaT</td>\n",
       "      <td>6</td>\n",
       "      <td>12</td>\n",
       "      <td>2019</td>\n",
       "      <td>NaN</td>\n",
       "      <td>NaN</td>\n",
       "      <td>NaN</td>\n",
       "      <td>6</td>\n",
       "      <td>12</td>\n",
       "      <td>2019</td>\n",
       "    </tr>\n",
       "    <tr>\n",
       "      <th>9998</th>\n",
       "      <td>9998</td>\n",
       "      <td>491232735</td>\n",
       "      <td>12/25/2019</td>\n",
       "      <td>20:00:00</td>\n",
       "      <td>12/25/2019</td>\n",
       "      <td>20:30:00</td>\n",
       "      <td>94.0</td>\n",
       "      <td>12/26/2019</td>\n",
       "      <td>105</td>\n",
       "      <td>ROBBERY</td>\n",
       "      <td>...</td>\n",
       "      <td>NaT</td>\n",
       "      <td>2</td>\n",
       "      <td>12</td>\n",
       "      <td>2019</td>\n",
       "      <td>2.0</td>\n",
       "      <td>12.0</td>\n",
       "      <td>2019.0</td>\n",
       "      <td>3</td>\n",
       "      <td>12</td>\n",
       "      <td>2019</td>\n",
       "    </tr>\n",
       "    <tr>\n",
       "      <th>9999</th>\n",
       "      <td>9999</td>\n",
       "      <td>869897657</td>\n",
       "      <td>12/27/2019</td>\n",
       "      <td>16:20:00</td>\n",
       "      <td>12/27/2019</td>\n",
       "      <td>16:30:00</td>\n",
       "      <td>114.0</td>\n",
       "      <td>12/28/2019</td>\n",
       "      <td>361</td>\n",
       "      <td>OFF. AGNST PUB ORD SENSBLTY &amp;</td>\n",
       "      <td>...</td>\n",
       "      <td>NaT</td>\n",
       "      <td>4</td>\n",
       "      <td>12</td>\n",
       "      <td>2019</td>\n",
       "      <td>4.0</td>\n",
       "      <td>12.0</td>\n",
       "      <td>2019.0</td>\n",
       "      <td>5</td>\n",
       "      <td>12</td>\n",
       "      <td>2019</td>\n",
       "    </tr>\n",
       "  </tbody>\n",
       "</table>\n",
       "<p>10000 rows × 50 columns</p>\n",
       "</div>"
      ],
      "text/plain": [
       "      Unnamed: 0  CMPLNT_NUM CMPLNT_FR_DT CMPLNT_FR_TM CMPLNT_TO_DT  \\\n",
       "0              0   394506329   12/31/2019     17:30:00          NaN   \n",
       "1              1   968873685   12/29/2019     16:31:00   12/29/2019   \n",
       "2              2   509837549   12/15/2019     18:45:00          NaN   \n",
       "3              3   352454313   12/28/2019     01:00:00          NaN   \n",
       "4              4   248803469   09/05/2008     21:41:00          NaN   \n",
       "...          ...         ...          ...          ...          ...   \n",
       "9995        9995   425278337   12/30/2019     20:23:00   12/30/2019   \n",
       "9996        9996   769195679   12/26/2019     20:25:00   12/26/2019   \n",
       "9997        9997   318041448   12/22/2019     18:08:00          NaN   \n",
       "9998        9998   491232735   12/25/2019     20:00:00   12/25/2019   \n",
       "9999        9999   869897657   12/27/2019     16:20:00   12/27/2019   \n",
       "\n",
       "     CMPLNT_TO_TM  ADDR_PCT_CD      RPT_DT  KY_CD  \\\n",
       "0             NaN         32.0  12/31/2019    118   \n",
       "1        16:54:00         47.0  12/29/2019    113   \n",
       "2             NaN        109.0  12/29/2019    578   \n",
       "3             NaN         47.0  12/28/2019    126   \n",
       "4             NaN          NaN  09/05/2008    101   \n",
       "...           ...          ...         ...    ...   \n",
       "9995     20:32:00        113.0  12/30/2019    344   \n",
       "9996     20:25:00         73.0  12/26/2019    359   \n",
       "9997          NaN        107.0  12/22/2019    341   \n",
       "9998     20:30:00         94.0  12/26/2019    105   \n",
       "9999     16:30:00        114.0  12/28/2019    361   \n",
       "\n",
       "                            OFNS_DESC  ...  Complaint_Time Day Month  Year  \\\n",
       "0                   DANGEROUS WEAPONS  ...             NaT   1    12  2019   \n",
       "1                             FORGERY  ...             NaT   6    12  2019   \n",
       "2                       HARRASSMENT 2  ...             NaT   6    12  2019   \n",
       "3             MISCELLANEOUS PENAL LAW  ...             NaT   5    12  2019   \n",
       "4     MURDER & NON-NEGL. MANSLAUGHTER  ...             NaT   4     9  2008   \n",
       "...                               ...  ...             ...  ..   ...   ...   \n",
       "9995     ASSAULT 3 & RELATED OFFENSES  ...             NaT   0    12  2019   \n",
       "9996   OFFENSES AGAINST PUBLIC ADMINI  ...             NaT   3    12  2019   \n",
       "9997                    PETIT LARCENY  ...             NaT   6    12  2019   \n",
       "9998                          ROBBERY  ...             NaT   2    12  2019   \n",
       "9999    OFF. AGNST PUB ORD SENSBLTY &  ...             NaT   4    12  2019   \n",
       "\n",
       "     Complaint_Day Complaint_Month Complaint_Year Report_Day  Report_Month  \\\n",
       "0              NaN             NaN            NaN          1            12   \n",
       "1              6.0            12.0         2019.0          6            12   \n",
       "2              NaN             NaN            NaN          6            12   \n",
       "3              NaN             NaN            NaN          5            12   \n",
       "4              NaN             NaN            NaN          4             9   \n",
       "...            ...             ...            ...        ...           ...   \n",
       "9995           0.0            12.0         2019.0          0            12   \n",
       "9996           3.0            12.0         2019.0          3            12   \n",
       "9997           NaN             NaN            NaN          6            12   \n",
       "9998           2.0            12.0         2019.0          3            12   \n",
       "9999           4.0            12.0         2019.0          5            12   \n",
       "\n",
       "     Report_Year  \n",
       "0           2019  \n",
       "1           2019  \n",
       "2           2019  \n",
       "3           2019  \n",
       "4           2008  \n",
       "...          ...  \n",
       "9995        2019  \n",
       "9996        2019  \n",
       "9997        2019  \n",
       "9998        2019  \n",
       "9999        2019  \n",
       "\n",
       "[10000 rows x 50 columns]"
      ]
     },
     "execution_count": 18,
     "metadata": {},
     "output_type": "execute_result"
    }
   ],
   "source": [
    "df1_chunk"
   ]
  },
  {
   "cell_type": "markdown",
   "id": "527a8adb",
   "metadata": {},
   "source": [
    "### Showing the unique values of the column. 7 indicates seven days in a week"
   ]
  },
  {
   "cell_type": "code",
   "execution_count": 19,
   "id": "694ca1fe",
   "metadata": {},
   "outputs": [
    {
     "data": {
      "text/plain": [
       "7"
      ]
     },
     "execution_count": 19,
     "metadata": {},
     "output_type": "execute_result"
    }
   ],
   "source": [
    "#unique days in a week\n",
    "df1_chunk['Report_Day'].nunique()"
   ]
  },
  {
   "cell_type": "code",
   "execution_count": 20,
   "id": "d38e2843",
   "metadata": {},
   "outputs": [
    {
     "data": {
      "text/plain": [
       "7"
      ]
     },
     "execution_count": 20,
     "metadata": {},
     "output_type": "execute_result"
    }
   ],
   "source": [
    "#unique days in a week, total 7 days\n",
    "df1_chunk['Complaint_Day'].nunique()"
   ]
  },
  {
   "cell_type": "markdown",
   "id": "10127e92",
   "metadata": {},
   "source": [
    "### Here we are showing the unique values of the column. It has multiple years in a dataset, the total unique yeras are 11."
   ]
  },
  {
   "cell_type": "code",
   "execution_count": 21,
   "id": "08a36799",
   "metadata": {},
   "outputs": [
    {
     "data": {
      "text/plain": [
       "11"
      ]
     },
     "execution_count": 21,
     "metadata": {},
     "output_type": "execute_result"
    }
   ],
   "source": [
    "#Unique yeras in a dataset\n",
    "df1_chunk['Report_Year'].nunique()"
   ]
  },
  {
   "cell_type": "markdown",
   "id": "1929ab97",
   "metadata": {},
   "source": [
    "### Once again we are checking the Datatypes, finally the datetime type are converted into the float type.\n"
   ]
  },
  {
   "cell_type": "code",
   "execution_count": 22,
   "id": "2df206de",
   "metadata": {},
   "outputs": [
    {
     "name": "stdout",
     "output_type": "stream",
     "text": [
      "<class 'pandas.core.frame.DataFrame'>\n",
      "RangeIndex: 10000 entries, 0 to 9999\n",
      "Data columns (total 50 columns):\n",
      " #   Column             Non-Null Count  Dtype         \n",
      "---  ------             --------------  -----         \n",
      " 0   Unnamed: 0         10000 non-null  int64         \n",
      " 1   CMPLNT_NUM         10000 non-null  int64         \n",
      " 2   CMPLNT_FR_DT       10000 non-null  object        \n",
      " 3   CMPLNT_FR_TM       10000 non-null  object        \n",
      " 4   CMPLNT_TO_DT       8389 non-null   object        \n",
      " 5   CMPLNT_TO_TM       8397 non-null   object        \n",
      " 6   ADDR_PCT_CD        9992 non-null   float64       \n",
      " 7   RPT_DT             10000 non-null  object        \n",
      " 8   KY_CD              10000 non-null  int64         \n",
      " 9   OFNS_DESC          10000 non-null  object        \n",
      " 10  PD_CD              9913 non-null   float64       \n",
      " 11  PD_DESC            9913 non-null   object        \n",
      " 12  CRM_ATPT_CPTD_CD   10000 non-null  object        \n",
      " 13  LAW_CAT_CD         10000 non-null  object        \n",
      " 14  BORO_NM            9912 non-null   object        \n",
      " 15  LOC_OF_OCCUR_DESC  8276 non-null   object        \n",
      " 16  PREM_TYP_DESC      9889 non-null   object        \n",
      " 17  JURIS_DESC         10000 non-null  object        \n",
      " 18  JURISDICTION_CODE  9913 non-null   float64       \n",
      " 19  PARKS_NM           34 non-null     object        \n",
      " 20  HADEVELOPT         475 non-null    object        \n",
      " 21  HOUSING_PSA        706 non-null    float64       \n",
      " 22  X_COORD_CD         9982 non-null   float64       \n",
      " 23  Y_COORD_CD         9982 non-null   float64       \n",
      " 24  SUSP_AGE_GROUP     7263 non-null   object        \n",
      " 25  SUSP_RACE          7267 non-null   object        \n",
      " 26  SUSP_SEX           7266 non-null   object        \n",
      " 27  TRANSIT_DISTRICT   218 non-null    float64       \n",
      " 28  Latitude           9982 non-null   float64       \n",
      " 29  Longitude          9982 non-null   float64       \n",
      " 30  Lat_Lon            9982 non-null   object        \n",
      " 31  PATROL_BORO        9913 non-null   object        \n",
      " 32  STATION_NAME       218 non-null    object        \n",
      " 33  VIC_AGE_GROUP      9992 non-null   object        \n",
      " 34  VIC_RACE           10000 non-null  object        \n",
      " 35  VIC_SEX            10000 non-null  object        \n",
      " 36  Date               10000 non-null  datetime64[ns]\n",
      " 37  Complaint_Date     8389 non-null   datetime64[ns]\n",
      " 38  Report_Date        10000 non-null  datetime64[ns]\n",
      " 39  Time               0 non-null      datetime64[ns]\n",
      " 40  Complaint_Time     0 non-null      datetime64[ns]\n",
      " 41  Day                10000 non-null  int64         \n",
      " 42  Month              10000 non-null  int64         \n",
      " 43  Year               10000 non-null  int64         \n",
      " 44  Complaint_Day      8389 non-null   float64       \n",
      " 45  Complaint_Month    8389 non-null   float64       \n",
      " 46  Complaint_Year     8389 non-null   float64       \n",
      " 47  Report_Day         10000 non-null  int64         \n",
      " 48  Report_Month       10000 non-null  int64         \n",
      " 49  Report_Year        10000 non-null  int64         \n",
      "dtypes: datetime64[ns](5), float64(12), int64(9), object(24)\n",
      "memory usage: 3.8+ MB\n"
     ]
    }
   ],
   "source": [
    "df1_chunk.info()"
   ]
  },
  {
   "cell_type": "markdown",
   "id": "ad75b560",
   "metadata": {},
   "source": [
    "### The data frame is loading into multipel df's to perform the EDA, So it won't distrub the main data."
   ]
  },
  {
   "cell_type": "code",
   "execution_count": 23,
   "id": "cdd731b6",
   "metadata": {},
   "outputs": [],
   "source": [
    "chunk1 = df1_chunk"
   ]
  },
  {
   "cell_type": "markdown",
   "id": "dbd3f88c",
   "metadata": {},
   "source": [
    "### Here we created a new Dataframe named as draw."
   ]
  },
  {
   "cell_type": "code",
   "execution_count": 24,
   "id": "b4d331b7",
   "metadata": {},
   "outputs": [],
   "source": [
    "#loading the df1_chunk data into new df as draw.\n",
    "draw = df1_chunk"
   ]
  },
  {
   "cell_type": "code",
   "execution_count": 25,
   "id": "d26ffcf7",
   "metadata": {},
   "outputs": [
    {
     "data": {
      "text/html": [
       "<div>\n",
       "<style scoped>\n",
       "    .dataframe tbody tr th:only-of-type {\n",
       "        vertical-align: middle;\n",
       "    }\n",
       "\n",
       "    .dataframe tbody tr th {\n",
       "        vertical-align: top;\n",
       "    }\n",
       "\n",
       "    .dataframe thead th {\n",
       "        text-align: right;\n",
       "    }\n",
       "</style>\n",
       "<table border=\"1\" class=\"dataframe\">\n",
       "  <thead>\n",
       "    <tr style=\"text-align: right;\">\n",
       "      <th></th>\n",
       "      <th>Unnamed: 0</th>\n",
       "      <th>CMPLNT_NUM</th>\n",
       "      <th>CMPLNT_FR_DT</th>\n",
       "      <th>CMPLNT_FR_TM</th>\n",
       "      <th>CMPLNT_TO_DT</th>\n",
       "      <th>CMPLNT_TO_TM</th>\n",
       "      <th>ADDR_PCT_CD</th>\n",
       "      <th>RPT_DT</th>\n",
       "      <th>KY_CD</th>\n",
       "      <th>OFNS_DESC</th>\n",
       "      <th>...</th>\n",
       "      <th>Complaint_Time</th>\n",
       "      <th>Day</th>\n",
       "      <th>Month</th>\n",
       "      <th>Year</th>\n",
       "      <th>Complaint_Day</th>\n",
       "      <th>Complaint_Month</th>\n",
       "      <th>Complaint_Year</th>\n",
       "      <th>Report_Day</th>\n",
       "      <th>Report_Month</th>\n",
       "      <th>Report_Year</th>\n",
       "    </tr>\n",
       "  </thead>\n",
       "  <tbody>\n",
       "    <tr>\n",
       "      <th>0</th>\n",
       "      <td>0</td>\n",
       "      <td>394506329</td>\n",
       "      <td>12/31/2019</td>\n",
       "      <td>17:30:00</td>\n",
       "      <td>NaN</td>\n",
       "      <td>NaN</td>\n",
       "      <td>32.0</td>\n",
       "      <td>12/31/2019</td>\n",
       "      <td>118</td>\n",
       "      <td>DANGEROUS WEAPONS</td>\n",
       "      <td>...</td>\n",
       "      <td>NaT</td>\n",
       "      <td>1</td>\n",
       "      <td>12</td>\n",
       "      <td>2019</td>\n",
       "      <td>NaN</td>\n",
       "      <td>NaN</td>\n",
       "      <td>NaN</td>\n",
       "      <td>1</td>\n",
       "      <td>12</td>\n",
       "      <td>2019</td>\n",
       "    </tr>\n",
       "    <tr>\n",
       "      <th>1</th>\n",
       "      <td>1</td>\n",
       "      <td>968873685</td>\n",
       "      <td>12/29/2019</td>\n",
       "      <td>16:31:00</td>\n",
       "      <td>12/29/2019</td>\n",
       "      <td>16:54:00</td>\n",
       "      <td>47.0</td>\n",
       "      <td>12/29/2019</td>\n",
       "      <td>113</td>\n",
       "      <td>FORGERY</td>\n",
       "      <td>...</td>\n",
       "      <td>NaT</td>\n",
       "      <td>6</td>\n",
       "      <td>12</td>\n",
       "      <td>2019</td>\n",
       "      <td>6.0</td>\n",
       "      <td>12.0</td>\n",
       "      <td>2019.0</td>\n",
       "      <td>6</td>\n",
       "      <td>12</td>\n",
       "      <td>2019</td>\n",
       "    </tr>\n",
       "    <tr>\n",
       "      <th>2</th>\n",
       "      <td>2</td>\n",
       "      <td>509837549</td>\n",
       "      <td>12/15/2019</td>\n",
       "      <td>18:45:00</td>\n",
       "      <td>NaN</td>\n",
       "      <td>NaN</td>\n",
       "      <td>109.0</td>\n",
       "      <td>12/29/2019</td>\n",
       "      <td>578</td>\n",
       "      <td>HARRASSMENT 2</td>\n",
       "      <td>...</td>\n",
       "      <td>NaT</td>\n",
       "      <td>6</td>\n",
       "      <td>12</td>\n",
       "      <td>2019</td>\n",
       "      <td>NaN</td>\n",
       "      <td>NaN</td>\n",
       "      <td>NaN</td>\n",
       "      <td>6</td>\n",
       "      <td>12</td>\n",
       "      <td>2019</td>\n",
       "    </tr>\n",
       "    <tr>\n",
       "      <th>3</th>\n",
       "      <td>3</td>\n",
       "      <td>352454313</td>\n",
       "      <td>12/28/2019</td>\n",
       "      <td>01:00:00</td>\n",
       "      <td>NaN</td>\n",
       "      <td>NaN</td>\n",
       "      <td>47.0</td>\n",
       "      <td>12/28/2019</td>\n",
       "      <td>126</td>\n",
       "      <td>MISCELLANEOUS PENAL LAW</td>\n",
       "      <td>...</td>\n",
       "      <td>NaT</td>\n",
       "      <td>5</td>\n",
       "      <td>12</td>\n",
       "      <td>2019</td>\n",
       "      <td>NaN</td>\n",
       "      <td>NaN</td>\n",
       "      <td>NaN</td>\n",
       "      <td>5</td>\n",
       "      <td>12</td>\n",
       "      <td>2019</td>\n",
       "    </tr>\n",
       "    <tr>\n",
       "      <th>4</th>\n",
       "      <td>4</td>\n",
       "      <td>248803469</td>\n",
       "      <td>09/05/2008</td>\n",
       "      <td>21:41:00</td>\n",
       "      <td>NaN</td>\n",
       "      <td>NaN</td>\n",
       "      <td>NaN</td>\n",
       "      <td>09/05/2008</td>\n",
       "      <td>101</td>\n",
       "      <td>MURDER &amp; NON-NEGL. MANSLAUGHTER</td>\n",
       "      <td>...</td>\n",
       "      <td>NaT</td>\n",
       "      <td>4</td>\n",
       "      <td>9</td>\n",
       "      <td>2008</td>\n",
       "      <td>NaN</td>\n",
       "      <td>NaN</td>\n",
       "      <td>NaN</td>\n",
       "      <td>4</td>\n",
       "      <td>9</td>\n",
       "      <td>2008</td>\n",
       "    </tr>\n",
       "    <tr>\n",
       "      <th>...</th>\n",
       "      <td>...</td>\n",
       "      <td>...</td>\n",
       "      <td>...</td>\n",
       "      <td>...</td>\n",
       "      <td>...</td>\n",
       "      <td>...</td>\n",
       "      <td>...</td>\n",
       "      <td>...</td>\n",
       "      <td>...</td>\n",
       "      <td>...</td>\n",
       "      <td>...</td>\n",
       "      <td>...</td>\n",
       "      <td>...</td>\n",
       "      <td>...</td>\n",
       "      <td>...</td>\n",
       "      <td>...</td>\n",
       "      <td>...</td>\n",
       "      <td>...</td>\n",
       "      <td>...</td>\n",
       "      <td>...</td>\n",
       "      <td>...</td>\n",
       "    </tr>\n",
       "    <tr>\n",
       "      <th>9995</th>\n",
       "      <td>9995</td>\n",
       "      <td>425278337</td>\n",
       "      <td>12/30/2019</td>\n",
       "      <td>20:23:00</td>\n",
       "      <td>12/30/2019</td>\n",
       "      <td>20:32:00</td>\n",
       "      <td>113.0</td>\n",
       "      <td>12/30/2019</td>\n",
       "      <td>344</td>\n",
       "      <td>ASSAULT 3 &amp; RELATED OFFENSES</td>\n",
       "      <td>...</td>\n",
       "      <td>NaT</td>\n",
       "      <td>0</td>\n",
       "      <td>12</td>\n",
       "      <td>2019</td>\n",
       "      <td>0.0</td>\n",
       "      <td>12.0</td>\n",
       "      <td>2019.0</td>\n",
       "      <td>0</td>\n",
       "      <td>12</td>\n",
       "      <td>2019</td>\n",
       "    </tr>\n",
       "    <tr>\n",
       "      <th>9996</th>\n",
       "      <td>9996</td>\n",
       "      <td>769195679</td>\n",
       "      <td>12/26/2019</td>\n",
       "      <td>20:25:00</td>\n",
       "      <td>12/26/2019</td>\n",
       "      <td>20:25:00</td>\n",
       "      <td>73.0</td>\n",
       "      <td>12/26/2019</td>\n",
       "      <td>359</td>\n",
       "      <td>OFFENSES AGAINST PUBLIC ADMINI</td>\n",
       "      <td>...</td>\n",
       "      <td>NaT</td>\n",
       "      <td>3</td>\n",
       "      <td>12</td>\n",
       "      <td>2019</td>\n",
       "      <td>3.0</td>\n",
       "      <td>12.0</td>\n",
       "      <td>2019.0</td>\n",
       "      <td>3</td>\n",
       "      <td>12</td>\n",
       "      <td>2019</td>\n",
       "    </tr>\n",
       "    <tr>\n",
       "      <th>9997</th>\n",
       "      <td>9997</td>\n",
       "      <td>318041448</td>\n",
       "      <td>12/22/2019</td>\n",
       "      <td>18:08:00</td>\n",
       "      <td>NaN</td>\n",
       "      <td>NaN</td>\n",
       "      <td>107.0</td>\n",
       "      <td>12/22/2019</td>\n",
       "      <td>341</td>\n",
       "      <td>PETIT LARCENY</td>\n",
       "      <td>...</td>\n",
       "      <td>NaT</td>\n",
       "      <td>6</td>\n",
       "      <td>12</td>\n",
       "      <td>2019</td>\n",
       "      <td>NaN</td>\n",
       "      <td>NaN</td>\n",
       "      <td>NaN</td>\n",
       "      <td>6</td>\n",
       "      <td>12</td>\n",
       "      <td>2019</td>\n",
       "    </tr>\n",
       "    <tr>\n",
       "      <th>9998</th>\n",
       "      <td>9998</td>\n",
       "      <td>491232735</td>\n",
       "      <td>12/25/2019</td>\n",
       "      <td>20:00:00</td>\n",
       "      <td>12/25/2019</td>\n",
       "      <td>20:30:00</td>\n",
       "      <td>94.0</td>\n",
       "      <td>12/26/2019</td>\n",
       "      <td>105</td>\n",
       "      <td>ROBBERY</td>\n",
       "      <td>...</td>\n",
       "      <td>NaT</td>\n",
       "      <td>2</td>\n",
       "      <td>12</td>\n",
       "      <td>2019</td>\n",
       "      <td>2.0</td>\n",
       "      <td>12.0</td>\n",
       "      <td>2019.0</td>\n",
       "      <td>3</td>\n",
       "      <td>12</td>\n",
       "      <td>2019</td>\n",
       "    </tr>\n",
       "    <tr>\n",
       "      <th>9999</th>\n",
       "      <td>9999</td>\n",
       "      <td>869897657</td>\n",
       "      <td>12/27/2019</td>\n",
       "      <td>16:20:00</td>\n",
       "      <td>12/27/2019</td>\n",
       "      <td>16:30:00</td>\n",
       "      <td>114.0</td>\n",
       "      <td>12/28/2019</td>\n",
       "      <td>361</td>\n",
       "      <td>OFF. AGNST PUB ORD SENSBLTY &amp;</td>\n",
       "      <td>...</td>\n",
       "      <td>NaT</td>\n",
       "      <td>4</td>\n",
       "      <td>12</td>\n",
       "      <td>2019</td>\n",
       "      <td>4.0</td>\n",
       "      <td>12.0</td>\n",
       "      <td>2019.0</td>\n",
       "      <td>5</td>\n",
       "      <td>12</td>\n",
       "      <td>2019</td>\n",
       "    </tr>\n",
       "  </tbody>\n",
       "</table>\n",
       "<p>10000 rows × 50 columns</p>\n",
       "</div>"
      ],
      "text/plain": [
       "      Unnamed: 0  CMPLNT_NUM CMPLNT_FR_DT CMPLNT_FR_TM CMPLNT_TO_DT  \\\n",
       "0              0   394506329   12/31/2019     17:30:00          NaN   \n",
       "1              1   968873685   12/29/2019     16:31:00   12/29/2019   \n",
       "2              2   509837549   12/15/2019     18:45:00          NaN   \n",
       "3              3   352454313   12/28/2019     01:00:00          NaN   \n",
       "4              4   248803469   09/05/2008     21:41:00          NaN   \n",
       "...          ...         ...          ...          ...          ...   \n",
       "9995        9995   425278337   12/30/2019     20:23:00   12/30/2019   \n",
       "9996        9996   769195679   12/26/2019     20:25:00   12/26/2019   \n",
       "9997        9997   318041448   12/22/2019     18:08:00          NaN   \n",
       "9998        9998   491232735   12/25/2019     20:00:00   12/25/2019   \n",
       "9999        9999   869897657   12/27/2019     16:20:00   12/27/2019   \n",
       "\n",
       "     CMPLNT_TO_TM  ADDR_PCT_CD      RPT_DT  KY_CD  \\\n",
       "0             NaN         32.0  12/31/2019    118   \n",
       "1        16:54:00         47.0  12/29/2019    113   \n",
       "2             NaN        109.0  12/29/2019    578   \n",
       "3             NaN         47.0  12/28/2019    126   \n",
       "4             NaN          NaN  09/05/2008    101   \n",
       "...           ...          ...         ...    ...   \n",
       "9995     20:32:00        113.0  12/30/2019    344   \n",
       "9996     20:25:00         73.0  12/26/2019    359   \n",
       "9997          NaN        107.0  12/22/2019    341   \n",
       "9998     20:30:00         94.0  12/26/2019    105   \n",
       "9999     16:30:00        114.0  12/28/2019    361   \n",
       "\n",
       "                            OFNS_DESC  ...  Complaint_Time Day Month  Year  \\\n",
       "0                   DANGEROUS WEAPONS  ...             NaT   1    12  2019   \n",
       "1                             FORGERY  ...             NaT   6    12  2019   \n",
       "2                       HARRASSMENT 2  ...             NaT   6    12  2019   \n",
       "3             MISCELLANEOUS PENAL LAW  ...             NaT   5    12  2019   \n",
       "4     MURDER & NON-NEGL. MANSLAUGHTER  ...             NaT   4     9  2008   \n",
       "...                               ...  ...             ...  ..   ...   ...   \n",
       "9995     ASSAULT 3 & RELATED OFFENSES  ...             NaT   0    12  2019   \n",
       "9996   OFFENSES AGAINST PUBLIC ADMINI  ...             NaT   3    12  2019   \n",
       "9997                    PETIT LARCENY  ...             NaT   6    12  2019   \n",
       "9998                          ROBBERY  ...             NaT   2    12  2019   \n",
       "9999    OFF. AGNST PUB ORD SENSBLTY &  ...             NaT   4    12  2019   \n",
       "\n",
       "     Complaint_Day Complaint_Month Complaint_Year Report_Day  Report_Month  \\\n",
       "0              NaN             NaN            NaN          1            12   \n",
       "1              6.0            12.0         2019.0          6            12   \n",
       "2              NaN             NaN            NaN          6            12   \n",
       "3              NaN             NaN            NaN          5            12   \n",
       "4              NaN             NaN            NaN          4             9   \n",
       "...            ...             ...            ...        ...           ...   \n",
       "9995           0.0            12.0         2019.0          0            12   \n",
       "9996           3.0            12.0         2019.0          3            12   \n",
       "9997           NaN             NaN            NaN          6            12   \n",
       "9998           2.0            12.0         2019.0          3            12   \n",
       "9999           4.0            12.0         2019.0          5            12   \n",
       "\n",
       "     Report_Year  \n",
       "0           2019  \n",
       "1           2019  \n",
       "2           2019  \n",
       "3           2019  \n",
       "4           2008  \n",
       "...          ...  \n",
       "9995        2019  \n",
       "9996        2019  \n",
       "9997        2019  \n",
       "9998        2019  \n",
       "9999        2019  \n",
       "\n",
       "[10000 rows x 50 columns]"
      ]
     },
     "execution_count": 25,
     "metadata": {},
     "output_type": "execute_result"
    }
   ],
   "source": [
    "#columns of the new dataframe \n",
    "draw"
   ]
  },
  {
   "cell_type": "markdown",
   "id": "bb9420fe",
   "metadata": {},
   "source": [
    "### Creating a plot for PATROL_BORO. Based on the graph we can observe which area has high rate of crime in the NY City"
   ]
  },
  {
   "cell_type": "code",
   "execution_count": 26,
   "id": "c1dd4a19",
   "metadata": {},
   "outputs": [
    {
     "data": {
      "image/png": "[encoded data removed]",
      "text/plain": [
       "<Figure size 432x288 with 1 Axes>"
      ]
     },
     "metadata": {
      "needs_background": "light"
     },
     "output_type": "display_data"
    }
   ],
   "source": [
    "draw.PATROL_BORO.value_counts(15).plot.bar()\n",
    "plt.title('Distribution of Target', loc='left')\n",
    "plt.show()"
   ]
  },
  {
   "cell_type": "markdown",
   "id": "bb4cc713",
   "metadata": {},
   "source": [
    "### Here we are plotting the Top crimes in the NYDP Complaint data historic\n"
   ]
  },
  {
   "cell_type": "code",
   "execution_count": 27,
   "id": "a138fda0",
   "metadata": {},
   "outputs": [
    {
     "data": {
      "image/png": "[encoded data removed]",
      "text/plain": [
       "<Figure size 1080x720 with 1 Axes>"
      ]
     },
     "metadata": {
      "needs_background": "light"
     },
     "output_type": "display_data"
    }
   ],
   "source": [
    "plt.rcParams['figure.figsize'] = (20, 9)\n",
    "\n",
    "draw['OFNS_DESC'].value_counts().head(20).plot.bar( figsize = (15, 10))\n",
    "plt.title('NYPD Complaint Data Historic', fontweight = 30, fontsize = 20)\n",
    "plt.xticks(rotation = 90)\n",
    "plt.show()"
   ]
  },
  {
   "cell_type": "markdown",
   "id": "d9373512",
   "metadata": {},
   "source": [
    "### Plotting the Heatmap "
   ]
  },
  {
   "cell_type": "code",
   "execution_count": 28,
   "id": "50113db7",
   "metadata": {},
   "outputs": [
    {
     "data": {
      "text/plain": [
       "<AxesSubplot:>"
      ]
     },
     "execution_count": 28,
     "metadata": {},
     "output_type": "execute_result"
    },
    {
     "data": {
      "image/png": "[encoded data removed]",
      "text/plain": [
       "<Figure size 1440x648 with 2 Axes>"
      ]
     },
     "metadata": {
      "needs_background": "light"
     },
     "output_type": "display_data"
    }
   ],
   "source": [
    "sns.heatmap(draw.isna())"
   ]
  },
  {
   "cell_type": "markdown",
   "id": "ba5c2f3e",
   "metadata": {},
   "source": [
    "### Here we are finding the Correlation between the 'TRANSIT_DISTRICT' and 'CMPLNT_NUM'"
   ]
  },
  {
   "cell_type": "code",
   "execution_count": 29,
   "id": "75225e2f",
   "metadata": {},
   "outputs": [
    {
     "data": {
      "text/plain": [
       "0.04311190942158562"
      ]
     },
     "execution_count": 29,
     "metadata": {},
     "output_type": "execute_result"
    }
   ],
   "source": [
    "draw['TRANSIT_DISTRICT'].corr(draw['CMPLNT_NUM'])"
   ]
  },
  {
   "cell_type": "markdown",
   "id": "cd770a10",
   "metadata": {},
   "source": [
    "### Defining the relationship between the wholeprice 'TRANSIT_DISTRICT' and the 'CMPLNT_NUM'. The raising of the complaint based on the transist district, correlation remains constant."
   ]
  },
  {
   "cell_type": "code",
   "execution_count": 30,
   "id": "de024c19",
   "metadata": {},
   "outputs": [
    {
     "data": {
      "text/plain": [
       "Text(0, 0.5, ' TRANSIT_DISTRICT')"
      ]
     },
     "execution_count": 30,
     "metadata": {},
     "output_type": "execute_result"
    },
    {
     "data": {
      "image/png": "[encoded data removed]",
      "text/plain": [
       "<Figure size 1440x576 with 1 Axes>"
      ]
     },
     "metadata": {
      "needs_background": "light"
     },
     "output_type": "display_data"
    }
   ],
   "source": [
    "plt.figure(figsize=(20,8))\n",
    "g=sns.scatterplot(x='TRANSIT_DISTRICT',y='CMPLNT_NUM',data=draw)\n",
    "g.set_title('CMPLNT_NUM Vs TRANSIT_DISTRICT',fontsize=20)\n",
    "g.set_xlabel('CMPLNT_NUM',fontsize=10)\n",
    "g.set_ylabel(' TRANSIT_DISTRICT',fontsize=10)"
   ]
  },
  {
   "cell_type": "markdown",
   "id": "05007f2f",
   "metadata": {},
   "source": [
    "### Droping the NA values "
   ]
  },
  {
   "cell_type": "code",
   "execution_count": 31,
   "id": "80fd30aa",
   "metadata": {},
   "outputs": [],
   "source": [
    "#Replacing the NA values\n",
    "draw['Latitude'].dropna(inplace=True)\n",
    "draw['Longitude'].dropna(inplace=True)\n",
    "draw['BORO_NM'].dropna(inplace=True)\n"
   ]
  },
  {
   "cell_type": "code",
   "execution_count": 32,
   "id": "be8dcd11",
   "metadata": {},
   "outputs": [
    {
     "data": {
      "text/plain": [
       "40.750431    35\n",
       "NaN          18\n",
       "40.795582    17\n",
       "40.651701    15\n",
       "40.733927    14\n",
       "             ..\n",
       "40.707039     1\n",
       "40.709724     1\n",
       "40.769652     1\n",
       "40.848899     1\n",
       "40.733996     1\n",
       "Name: Latitude, Length: 7439, dtype: int64"
      ]
     },
     "execution_count": 32,
     "metadata": {},
     "output_type": "execute_result"
    }
   ],
   "source": [
    "#checking the NA values in the Latitude\n",
    "draw['Latitude'].value_counts(dropna = False)\n"
   ]
  },
  {
   "cell_type": "code",
   "execution_count": 33,
   "id": "abeacaf8",
   "metadata": {},
   "outputs": [
    {
     "data": {
      "text/plain": [
       "-73.989282    35\n",
       " NaN          18\n",
       "-73.932298    17\n",
       "-73.868447    15\n",
       "-73.871582    14\n",
       "              ..\n",
       "-73.951979     1\n",
       "-73.844022     1\n",
       "-73.822135     1\n",
       "-73.947687     1\n",
       "-73.865463     1\n",
       "Name: Longitude, Length: 7438, dtype: int64"
      ]
     },
     "execution_count": 33,
     "metadata": {},
     "output_type": "execute_result"
    }
   ],
   "source": [
    "#checking the NA values in the Longitude\n",
    "draw['Longitude'].value_counts(dropna = False)"
   ]
  },
  {
   "cell_type": "markdown",
   "id": "0e2ad0d2",
   "metadata": {},
   "source": [
    "### The Lat, Long and location has 'nan' values, so here dropping the nan's."
   ]
  },
  {
   "cell_type": "code",
   "execution_count": 34,
   "id": "efc4a1eb",
   "metadata": {},
   "outputs": [],
   "source": [
    "draw1 = draw[draw['BORO_NM'] != np.nan]\n",
    "draw1 = draw[draw['Latitude'] != np.nan]\n",
    "draw1 = draw[draw['Longitude'] != np.nan]\n",
    "draw1 = draw[draw['PATROL_BORO'] != np.nan]"
   ]
  },
  {
   "cell_type": "code",
   "execution_count": 35,
   "id": "a881d8e6",
   "metadata": {},
   "outputs": [
    {
     "data": {
      "text/plain": [
       "BROOKLYN         2702\n",
       "BRONX            2449\n",
       "MANHATTAN        2353\n",
       "QUEENS           2025\n",
       "STATEN ISLAND     383\n",
       "NaN                88\n",
       "Name: BORO_NM, dtype: int64"
      ]
     },
     "execution_count": 35,
     "metadata": {},
     "output_type": "execute_result"
    }
   ],
   "source": [
    "draw1['BORO_NM'].value_counts(dropna = False)\n"
   ]
  },
  {
   "cell_type": "markdown",
   "id": "7e9db107",
   "metadata": {},
   "source": [
    "## Here we are showing the highest crime area's in the New York City in a Map.\n",
    "### https://stackoverflow.com/questions/58162200/pre-determine-optimal-level-of-zoom-in-folium"
   ]
  },
  {
   "cell_type": "code",
   "execution_count": 36,
   "id": "b01ca375",
   "metadata": {},
   "outputs": [],
   "source": [
    "#imported folium library for map\n",
    "import folium"
   ]
  },
  {
   "cell_type": "code",
   "execution_count": 37,
   "id": "41510f3c",
   "metadata": {},
   "outputs": [],
   "source": [
    "#grouping all the values \n",
    "graphs =draw1.groupby(['OFNS_DESC']).first()"
   ]
  },
  {
   "cell_type": "code",
   "execution_count": 38,
   "id": "0fba235a",
   "metadata": {},
   "outputs": [],
   "source": [
    "locations = folium.Map(location1=[graphs.Latitude.mean(), graphs.Longitude.mean()], zoom_start=26, control_scale=True)"
   ]
  },
  {
   "cell_type": "code",
   "execution_count": 39,
   "id": "1c85ab73",
   "metadata": {},
   "outputs": [],
   "source": [
    "for index, location_info in graphs.iterrows():\n",
    "    folium.Marker([location_info[\"Latitude\"], location_info[\"Longitude\"]], popup=location_info[\"PATROL_BORO\"]).add_to(locations)"
   ]
  },
  {
   "cell_type": "code",
   "execution_count": 40,
   "id": "92ba4d1f",
   "metadata": {},
   "outputs": [
    {
     "data": {
      "text/html": [
       "<div style=\"width:100%;\"><div style=\"position:relative;width:100%;height:0;padding-bottom:60%;\"><span style=\"color:#565656\">Make this Notebook Trusted to load map: File -> Trust Notebook</span><iframe src=\"about:blank\" style=\"position:absolute;width:100%;height:100%;left:0;top:0;border:none !important;\" data-html=%3C%21DOCTYPE%20html%3E%0A%3Chead%3E%20%20%20%20%0A%20%20%20%20%3Cmeta%20http-equiv%3D%22content-type%22%20content%3D%22text/html%3B%20charset%3DUTF-8%22%20/%3E%0A%20%20%20%20%0A%20%20%20%20%20%20%20%20%3Cscript%3E%0A%20%20%20%20%20%20%20%20%20%20%20%20L_NO_TOUCH%20%3D%20false%3B%0A%20%20%20%20%20%20%20%20%20%20%20%20L_DISABLE_3D%20%3D%20false%3B%0A%20%20%20%20%20%20%20%20%3C/script%3E%0A%20%20%20%20%0A%20%20%20%20%3Cstyle%3Ehtml%2C%20body%20%7Bwidth%3A%20100%25%3Bheight%3A%20100%25%3Bmargin%3A%200%3Bpadding%3A%200%3B%7D%3C/style%3E%0A%20%20%20%20%3Cstyle%3E%23map%20%7Bposition%3Aabsolute%3Btop%3A0%3Bbottom%3A0%3Bright%3A0%3Bleft%3A0%3B%7D%3C/style%3E%0A%20%20%20%20%3Cscript%20src%3D%22https%3A//cdn.jsdelivr.net/npm/leaflet%401.6.0/dist/leaflet.js%22%3E%3C/script%3E%0A%20%20%20%20%3Cscript%20src%3D%22https%3A//code.jquery.com/jquery-1.12.4.min.js%22%3E%3C/script%3E%0A%20%20%20%20%3Cscript%20src%3D%22https%3A//maxcdn.bootstrapcdn.com/bootstrap/3.2.0/js/bootstrap.min.js%22%3E%3C/script%3E%0A%20%20%20%20%3Cscript%20src%3D%22https%3A//cdnjs.cloudflare.com/ajax/libs/Leaflet.awesome-markers/2.0.2/leaflet.awesome-markers.js%22%3E%3C/script%3E%0A%20%20%20%20%3Clink%20rel%3D%22stylesheet%22%20href%3D%22https%3A//cdn.jsdelivr.net/npm/leaflet%401.6.0/dist/leaflet.css%22/%3E%0A%20%20%20%20%3Clink%20rel%3D%22stylesheet%22%20href%3D%22https%3A//maxcdn.bootstrapcdn.com/bootstrap/3.2.0/css/bootstrap.min.css%22/%3E%0A%20%20%20%20%3Clink%20rel%3D%22stylesheet%22%20href%3D%22https%3A//maxcdn.bootstrapcdn.com/bootstrap/3.2.0/css/bootstrap-theme.min.css%22/%3E%0A%20%20%20%20%3Clink%20rel%3D%22stylesheet%22%20href%3D%22https%3A//maxcdn.bootstrapcdn.com/font-awesome/4.6.3/css/font-awesome.min.css%22/%3E%0A%20%20%20%20%3Clink%20rel%3D%22stylesheet%22%20href%3D%22https%3A//cdnjs.cloudflare.com/ajax/libs/Leaflet.awesome-markers/2.0.2/leaflet.awesome-markers.css%22/%3E%0A%20%20%20%20%3Clink%20rel%3D%22stylesheet%22%20href%3D%22https%3A//cdn.jsdelivr.net/gh/python-visualization/folium/folium/templates/leaflet.awesome.rotate.min.css%22/%3E%0A%20%20%20%20%0A%20%20%20%20%20%20%20%20%20%20%20%20%3Cmeta%20name%3D%22viewport%22%20content%3D%22width%3Ddevice-width%2C%0A%20%20%20%20%20%20%20%20%20%20%20%20%20%20%20%20initial-scale%3D1.0%2C%20maximum-scale%3D1.0%2C%20user-scalable%3Dno%22%20/%3E%0A%20%20%20%20%20%20%20%20%20%20%20%20%3Cstyle%3E%0A%20%20%20%20%20%20%20%20%20%20%20%20%20%20%20%20%23map_c1ea5e6eff4e497aac2296227df9ba5b%20%7B%0A%20%20%20%20%20%20%20%20%20%20%20%20%20%20%20%20%20%20%20%20position%3A%20relative%3B%0A%20%20%20%20%20%20%20%20%20%20%20%20%20%20%20%20%20%20%20%20width%3A%20100.0%25%3B%0A%20%20%20%20%20%20%20%20%20%20%20%20%20%20%20%20%20%20%20%20height%3A%20100.0%25%3B%0A%20%20%20%20%20%20%20%20%20%20%20%20%20%20%20%20%20%20%20%20left%3A%200.0%25%3B%0A%20%20%20%20%20%20%20%20%20%20%20%20%20%20%20%20%20%20%20%20top%3A%200.0%25%3B%0A%20%20%20%20%20%20%20%20%20%20%20%20%20%20%20%20%7D%0A%20%20%20%20%20%20%20%20%20%20%20%20%3C/style%3E%0A%20%20%20%20%20%20%20%20%0A%3C/head%3E%0A%3Cbody%3E%20%20%20%20%0A%20%20%20%20%0A%20%20%20%20%20%20%20%20%20%20%20%20%3Cdiv%20class%3D%22folium-map%22%20id%3D%22map_c1ea5e6eff4e497aac2296227df9ba5b%22%20%3E%3C/div%3E%0A%20%20%20%20%20%20%20%20%0A%3C/body%3E%0A%3Cscript%3E%20%20%20%20%0A%20%20%20%20%0A%20%20%20%20%20%20%20%20%20%20%20%20var%20map_c1ea5e6eff4e497aac2296227df9ba5b%20%3D%20L.map%28%0A%20%20%20%20%20%20%20%20%20%20%20%20%20%20%20%20%22map_c1ea5e6eff4e497aac2296227df9ba5b%22%2C%0A%20%20%20%20%20%20%20%20%20%20%20%20%20%20%20%20%7B%0A%20%20%20%20%20%20%20%20%20%20%20%20%20%20%20%20%20%20%20%20center%3A%20%5B0%2C%200%5D%2C%0A%20%20%20%20%20%20%20%20%20%20%20%20%20%20%20%20%20%20%20%20crs%3A%20L.CRS.EPSG3857%2C%0A%20%20%20%20%20%20%20%20%20%20%20%20%20%20%20%20%20%20%20%20zoom%3A%201%2C%0A%20%20%20%20%20%20%20%20%20%20%20%20%20%20%20%20%20%20%20%20zoomControl%3A%20true%2C%0A%20%20%20%20%20%20%20%20%20%20%20%20%20%20%20%20%20%20%20%20preferCanvas%3A%20false%2C%0A%20%20%20%20%20%20%20%20%20%20%20%20%20%20%20%20%20%20%20%20location1%3A%20%5B40.7673682009025%2C%20-73.91445902441458%5D%2C%0A%20%20%20%20%20%20%20%20%20%20%20%20%20%20%20%20%7D%0A%20%20%20%20%20%20%20%20%20%20%20%20%29%3B%0A%20%20%20%20%20%20%20%20%20%20%20%20L.control.scale%28%29.addTo%28map_c1ea5e6eff4e497aac2296227df9ba5b%29%3B%0A%0A%20%20%20%20%20%20%20%20%20%20%20%20%0A%0A%20%20%20%20%20%20%20%20%0A%20%20%20%20%0A%20%20%20%20%20%20%20%20%20%20%20%20var%20tile_layer_f71adb6848de439b9947901f740ab740%20%3D%20L.tileLayer%28%0A%20%20%20%20%20%20%20%20%20%20%20%20%20%20%20%20%22https%3A//%7Bs%7D.tile.openstreetmap.org/%7Bz%7D/%7Bx%7D/%7By%7D.png%22%2C%0A%20%20%20%20%20%20%20%20%20%20%20%20%20%20%20%20%7B%22attribution%22%3A%20%22Data%20by%20%5Cu0026copy%3B%20%5Cu003ca%20href%3D%5C%22http%3A//openstreetmap.org%5C%22%5Cu003eOpenStreetMap%5Cu003c/a%5Cu003e%2C%20under%20%5Cu003ca%20href%3D%5C%22http%3A//www.openstreetmap.org/copyright%5C%22%5Cu003eODbL%5Cu003c/a%5Cu003e.%22%2C%20%22detectRetina%22%3A%20false%2C%20%22maxNativeZoom%22%3A%2018%2C%20%22maxZoom%22%3A%2018%2C%20%22minZoom%22%3A%200%2C%20%22noWrap%22%3A%20false%2C%20%22opacity%22%3A%201%2C%20%22subdomains%22%3A%20%22abc%22%2C%20%22tms%22%3A%20false%7D%0A%20%20%20%20%20%20%20%20%20%20%20%20%29.addTo%28map_c1ea5e6eff4e497aac2296227df9ba5b%29%3B%0A%20%20%20%20%20%20%20%20%0A%20%20%20%20%0A%20%20%20%20%20%20%20%20%20%20%20%20var%20marker_1022c452d91242c3ae134ad815c6583d%20%3D%20L.marker%28%0A%20%20%20%20%20%20%20%20%20%20%20%20%20%20%20%20%5B40.87218267800005%2C%20-73.85846124199998%5D%2C%0A%20%20%20%20%20%20%20%20%20%20%20%20%20%20%20%20%7B%7D%0A%20%20%20%20%20%20%20%20%20%20%20%20%29.addTo%28map_c1ea5e6eff4e497aac2296227df9ba5b%29%3B%0A%20%20%20%20%20%20%20%20%0A%20%20%20%20%0A%20%20%20%20%20%20%20%20var%20popup_907ebab77c3548dea67d27a41f3335f4%20%3D%20L.popup%28%7B%22maxWidth%22%3A%20%22100%25%22%7D%29%3B%0A%0A%20%20%20%20%20%20%20%20%0A%20%20%20%20%20%20%20%20%20%20%20%20var%20html_0e51b4926a124c4eb7d165cbdd783aa6%20%3D%20%24%28%60%3Cdiv%20id%3D%22html_0e51b4926a124c4eb7d165cbdd783aa6%22%20style%3D%22width%3A%20100.0%25%3B%20height%3A%20100.0%25%3B%22%3EPATROL%20BORO%20BRONX%3C/div%3E%60%29%5B0%5D%3B%0A%20%20%20%20%20%20%20%20%20%20%20%20popup_907ebab77c3548dea67d27a41f3335f4.setContent%28html_0e51b4926a124c4eb7d165cbdd783aa6%29%3B%0A%20%20%20%20%20%20%20%20%0A%0A%20%20%20%20%20%20%20%20marker_1022c452d91242c3ae134ad815c6583d.bindPopup%28popup_907ebab77c3548dea67d27a41f3335f4%29%0A%20%20%20%20%20%20%20%20%3B%0A%0A%20%20%20%20%20%20%20%20%0A%20%20%20%20%0A%20%20%20%20%0A%20%20%20%20%20%20%20%20%20%20%20%20var%20marker_a26c751911c043168a9fb1476952f19b%20%3D%20L.marker%28%0A%20%20%20%20%20%20%20%20%20%20%20%20%20%20%20%20%5B40.66191338500005%2C%20-73.88022019899995%5D%2C%0A%20%20%20%20%20%20%20%20%20%20%20%20%20%20%20%20%7B%7D%0A%20%20%20%20%20%20%20%20%20%20%20%20%29.addTo%28map_c1ea5e6eff4e497aac2296227df9ba5b%29%3B%0A%20%20%20%20%20%20%20%20%0A%20%20%20%20%0A%20%20%20%20%20%20%20%20var%20popup_b8cd6a11be554f0a97f433797bf0f866%20%3D%20L.popup%28%7B%22maxWidth%22%3A%20%22100%25%22%7D%29%3B%0A%0A%20%20%20%20%20%20%20%20%0A%20%20%20%20%20%20%20%20%20%20%20%20var%20html_99e4f33edca149ca85e3abd4ba9d8361%20%3D%20%24%28%60%3Cdiv%20id%3D%22html_99e4f33edca149ca85e3abd4ba9d8361%22%20style%3D%22width%3A%20100.0%25%3B%20height%3A%20100.0%25%3B%22%3EPATROL%20BORO%20BKLYN%20NORTH%3C/div%3E%60%29%5B0%5D%3B%0A%20%20%20%20%20%20%20%20%20%20%20%20popup_b8cd6a11be554f0a97f433797bf0f866.setContent%28html_99e4f33edca149ca85e3abd4ba9d8361%29%3B%0A%20%20%20%20%20%20%20%20%0A%0A%20%20%20%20%20%20%20%20marker_a26c751911c043168a9fb1476952f19b.bindPopup%28popup_b8cd6a11be554f0a97f433797bf0f866%29%0A%20%20%20%20%20%20%20%20%3B%0A%0A%20%20%20%20%20%20%20%20%0A%20%20%20%20%0A%20%20%20%20%0A%20%20%20%20%20%20%20%20%20%20%20%20var%20marker_39e3bcb351ba40da863c21128a8b6478%20%3D%20L.marker%28%0A%20%20%20%20%20%20%20%20%20%20%20%20%20%20%20%20%5B40.71195209300004%2C%20-73.98985467599994%5D%2C%0A%20%20%20%20%20%20%20%20%20%20%20%20%20%20%20%20%7B%7D%0A%20%20%20%20%20%20%20%20%20%20%20%20%29.addTo%28map_c1ea5e6eff4e497aac2296227df9ba5b%29%3B%0A%20%20%20%20%20%20%20%20%0A%20%20%20%20%0A%20%20%20%20%20%20%20%20var%20popup_0c8ce18ae8bf422a8ccdc3e2b20818d7%20%3D%20L.popup%28%7B%22maxWidth%22%3A%20%22100%25%22%7D%29%3B%0A%0A%20%20%20%20%20%20%20%20%0A%20%20%20%20%20%20%20%20%20%20%20%20var%20html_0b1b49fca427474299893838a81b81d0%20%3D%20%24%28%60%3Cdiv%20id%3D%22html_0b1b49fca427474299893838a81b81d0%22%20style%3D%22width%3A%20100.0%25%3B%20height%3A%20100.0%25%3B%22%3EPATROL%20BORO%20MAN%20SOUTH%3C/div%3E%60%29%5B0%5D%3B%0A%20%20%20%20%20%20%20%20%20%20%20%20popup_0c8ce18ae8bf422a8ccdc3e2b20818d7.setContent%28html_0b1b49fca427474299893838a81b81d0%29%3B%0A%20%20%20%20%20%20%20%20%0A%0A%20%20%20%20%20%20%20%20marker_39e3bcb351ba40da863c21128a8b6478.bindPopup%28popup_0c8ce18ae8bf422a8ccdc3e2b20818d7%29%0A%20%20%20%20%20%20%20%20%3B%0A%0A%20%20%20%20%20%20%20%20%0A%20%20%20%20%0A%20%20%20%20%0A%20%20%20%20%20%20%20%20%20%20%20%20var%20marker_680d5dd881854ffa8a4dec5193c7e061%20%3D%20L.marker%28%0A%20%20%20%20%20%20%20%20%20%20%20%20%20%20%20%20%5B40.86322306500005%2C%20-73.89041071099996%5D%2C%0A%20%20%20%20%20%20%20%20%20%20%20%20%20%20%20%20%7B%7D%0A%20%20%20%20%20%20%20%20%20%20%20%20%29.addTo%28map_c1ea5e6eff4e497aac2296227df9ba5b%29%3B%0A%20%20%20%20%20%20%20%20%0A%20%20%20%20%0A%20%20%20%20%20%20%20%20var%20popup_ecb994fe98434e6eb163509a67594675%20%3D%20L.popup%28%7B%22maxWidth%22%3A%20%22100%25%22%7D%29%3B%0A%0A%20%20%20%20%20%20%20%20%0A%20%20%20%20%20%20%20%20%20%20%20%20var%20html_3bc3c74bf037482fbdb9146dacd1e5d2%20%3D%20%24%28%60%3Cdiv%20id%3D%22html_3bc3c74bf037482fbdb9146dacd1e5d2%22%20style%3D%22width%3A%20100.0%25%3B%20height%3A%20100.0%25%3B%22%3EPATROL%20BORO%20BRONX%3C/div%3E%60%29%5B0%5D%3B%0A%20%20%20%20%20%20%20%20%20%20%20%20popup_ecb994fe98434e6eb163509a67594675.setContent%28html_3bc3c74bf037482fbdb9146dacd1e5d2%29%3B%0A%20%20%20%20%20%20%20%20%0A%0A%20%20%20%20%20%20%20%20marker_680d5dd881854ffa8a4dec5193c7e061.bindPopup%28popup_ecb994fe98434e6eb163509a67594675%29%0A%20%20%20%20%20%20%20%20%3B%0A%0A%20%20%20%20%20%20%20%20%0A%20%20%20%20%0A%20%20%20%20%0A%20%20%20%20%20%20%20%20%20%20%20%20var%20marker_21b74fb0d7e24d03bafd381e79f33af7%20%3D%20L.marker%28%0A%20%20%20%20%20%20%20%20%20%20%20%20%20%20%20%20%5B40.60578583700004%2C%20-73.96932862799997%5D%2C%0A%20%20%20%20%20%20%20%20%20%20%20%20%20%20%20%20%7B%7D%0A%20%20%20%20%20%20%20%20%20%20%20%20%29.addTo%28map_c1ea5e6eff4e497aac2296227df9ba5b%29%3B%0A%20%20%20%20%20%20%20%20%0A%20%20%20%20%0A%20%20%20%20%20%20%20%20var%20popup_7ade31eec3ea4a579c511fdd5890ae34%20%3D%20L.popup%28%7B%22maxWidth%22%3A%20%22100%25%22%7D%29%3B%0A%0A%20%20%20%20%20%20%20%20%0A%20%20%20%20%20%20%20%20%20%20%20%20var%20html_8d1367aa53484698b9ee5f02744af26c%20%3D%20%24%28%60%3Cdiv%20id%3D%22html_8d1367aa53484698b9ee5f02744af26c%22%20style%3D%22width%3A%20100.0%25%3B%20height%3A%20100.0%25%3B%22%3EPATROL%20BORO%20BKLYN%20SOUTH%3C/div%3E%60%29%5B0%5D%3B%0A%20%20%20%20%20%20%20%20%20%20%20%20popup_7ade31eec3ea4a579c511fdd5890ae34.setContent%28html_8d1367aa53484698b9ee5f02744af26c%29%3B%0A%20%20%20%20%20%20%20%20%0A%0A%20%20%20%20%20%20%20%20marker_21b74fb0d7e24d03bafd381e79f33af7.bindPopup%28popup_7ade31eec3ea4a579c511fdd5890ae34%29%0A%20%20%20%20%20%20%20%20%3B%0A%0A%20%20%20%20%20%20%20%20%0A%20%20%20%20%0A%20%20%20%20%0A%20%20%20%20%20%20%20%20%20%20%20%20var%20marker_99728c190d1c4f76a07b7230d8fbc5f8%20%3D%20L.marker%28%0A%20%20%20%20%20%20%20%20%20%20%20%20%20%20%20%20%5B40.72075882100006%2C%20-73.98046642299995%5D%2C%0A%20%20%20%20%20%20%20%20%20%20%20%20%20%20%20%20%7B%7D%0A%20%20%20%20%20%20%20%20%20%20%20%20%29.addTo%28map_c1ea5e6eff4e497aac2296227df9ba5b%29%3B%0A%20%20%20%20%20%20%20%20%0A%20%20%20%20%0A%20%20%20%20%20%20%20%20var%20popup_72f2df7d3e574f84b3372b79c0695aa4%20%3D%20L.popup%28%7B%22maxWidth%22%3A%20%22100%25%22%7D%29%3B%0A%0A%20%20%20%20%20%20%20%20%0A%20%20%20%20%20%20%20%20%20%20%20%20var%20html_0d417eaed1be42e3b39c17992282ee96%20%3D%20%24%28%60%3Cdiv%20id%3D%22html_0d417eaed1be42e3b39c17992282ee96%22%20style%3D%22width%3A%20100.0%25%3B%20height%3A%20100.0%25%3B%22%3EPATROL%20BORO%20MAN%20SOUTH%3C/div%3E%60%29%5B0%5D%3B%0A%20%20%20%20%20%20%20%20%20%20%20%20popup_72f2df7d3e574f84b3372b79c0695aa4.setContent%28html_0d417eaed1be42e3b39c17992282ee96%29%3B%0A%20%20%20%20%20%20%20%20%0A%0A%20%20%20%20%20%20%20%20marker_99728c190d1c4f76a07b7230d8fbc5f8.bindPopup%28popup_72f2df7d3e574f84b3372b79c0695aa4%29%0A%20%20%20%20%20%20%20%20%3B%0A%0A%20%20%20%20%20%20%20%20%0A%20%20%20%20%0A%20%20%20%20%0A%20%20%20%20%20%20%20%20%20%20%20%20var%20marker_a7ce0ce892334fe29a2477c15f56a285%20%3D%20L.marker%28%0A%20%20%20%20%20%20%20%20%20%20%20%20%20%20%20%20%5B40.87218288300004%2C%20-73.86318347099996%5D%2C%0A%20%20%20%20%20%20%20%20%20%20%20%20%20%20%20%20%7B%7D%0A%20%20%20%20%20%20%20%20%20%20%20%20%29.addTo%28map_c1ea5e6eff4e497aac2296227df9ba5b%29%3B%0A%20%20%20%20%20%20%20%20%0A%20%20%20%20%0A%20%20%20%20%20%20%20%20var%20popup_c3164924ffd94e25b106f02e223d5932%20%3D%20L.popup%28%7B%22maxWidth%22%3A%20%22100%25%22%7D%29%3B%0A%0A%20%20%20%20%20%20%20%20%0A%20%20%20%20%20%20%20%20%20%20%20%20var%20html_1130ddeef6384accb42ec13200e1dff0%20%3D%20%24%28%60%3Cdiv%20id%3D%22html_1130ddeef6384accb42ec13200e1dff0%22%20style%3D%22width%3A%20100.0%25%3B%20height%3A%20100.0%25%3B%22%3EPATROL%20BORO%20BRONX%3C/div%3E%60%29%5B0%5D%3B%0A%20%20%20%20%20%20%20%20%20%20%20%20popup_c3164924ffd94e25b106f02e223d5932.setContent%28html_1130ddeef6384accb42ec13200e1dff0%29%3B%0A%20%20%20%20%20%20%20%20%0A%0A%20%20%20%20%20%20%20%20marker_a7ce0ce892334fe29a2477c15f56a285.bindPopup%28popup_c3164924ffd94e25b106f02e223d5932%29%0A%20%20%20%20%20%20%20%20%3B%0A%0A%20%20%20%20%20%20%20%20%0A%20%20%20%20%0A%20%20%20%20%0A%20%20%20%20%20%20%20%20%20%20%20%20var%20marker_966d8b9ef6694c1898ba54cb9134e67f%20%3D%20L.marker%28%0A%20%20%20%20%20%20%20%20%20%20%20%20%20%20%20%20%5B40.82338729100008%2C%20-73.87017045%5D%2C%0A%20%20%20%20%20%20%20%20%20%20%20%20%20%20%20%20%7B%7D%0A%20%20%20%20%20%20%20%20%20%20%20%20%29.addTo%28map_c1ea5e6eff4e497aac2296227df9ba5b%29%3B%0A%20%20%20%20%20%20%20%20%0A%20%20%20%20%0A%20%20%20%20%20%20%20%20var%20popup_b22c39080e67416e8c9911e22aa71fd4%20%3D%20L.popup%28%7B%22maxWidth%22%3A%20%22100%25%22%7D%29%3B%0A%0A%20%20%20%20%20%20%20%20%0A%20%20%20%20%20%20%20%20%20%20%20%20var%20html_9712c20c2492471a83905f396cf3b76b%20%3D%20%24%28%60%3Cdiv%20id%3D%22html_9712c20c2492471a83905f396cf3b76b%22%20style%3D%22width%3A%20100.0%25%3B%20height%3A%20100.0%25%3B%22%3EPATROL%20BORO%20BRONX%3C/div%3E%60%29%5B0%5D%3B%0A%20%20%20%20%20%20%20%20%20%20%20%20popup_b22c39080e67416e8c9911e22aa71fd4.setContent%28html_9712c20c2492471a83905f396cf3b76b%29%3B%0A%20%20%20%20%20%20%20%20%0A%0A%20%20%20%20%20%20%20%20marker_966d8b9ef6694c1898ba54cb9134e67f.bindPopup%28popup_b22c39080e67416e8c9911e22aa71fd4%29%0A%20%20%20%20%20%20%20%20%3B%0A%0A%20%20%20%20%20%20%20%20%0A%20%20%20%20%0A%20%20%20%20%0A%20%20%20%20%20%20%20%20%20%20%20%20var%20marker_e83b31972ae94bac8c3a25a2de1d9b2b%20%3D%20L.marker%28%0A%20%20%20%20%20%20%20%20%20%20%20%20%20%20%20%20%5B40.695958362000056%2C%20-73.93763162199998%5D%2C%0A%20%20%20%20%20%20%20%20%20%20%20%20%20%20%20%20%7B%7D%0A%20%20%20%20%20%20%20%20%20%20%20%20%29.addTo%28map_c1ea5e6eff4e497aac2296227df9ba5b%29%3B%0A%20%20%20%20%20%20%20%20%0A%20%20%20%20%0A%20%20%20%20%20%20%20%20var%20popup_fb1165652de549d8b8d3a2fb514c5328%20%3D%20L.popup%28%7B%22maxWidth%22%3A%20%22100%25%22%7D%29%3B%0A%0A%20%20%20%20%20%20%20%20%0A%20%20%20%20%20%20%20%20%20%20%20%20var%20html_c51b8ff190a8461db6574bb9bd33f3db%20%3D%20%24%28%60%3Cdiv%20id%3D%22html_c51b8ff190a8461db6574bb9bd33f3db%22%20style%3D%22width%3A%20100.0%25%3B%20height%3A%20100.0%25%3B%22%3EPATROL%20BORO%20BKLYN%20NORTH%3C/div%3E%60%29%5B0%5D%3B%0A%20%20%20%20%20%20%20%20%20%20%20%20popup_fb1165652de549d8b8d3a2fb514c5328.setContent%28html_c51b8ff190a8461db6574bb9bd33f3db%29%3B%0A%20%20%20%20%20%20%20%20%0A%0A%20%20%20%20%20%20%20%20marker_e83b31972ae94bac8c3a25a2de1d9b2b.bindPopup%28popup_fb1165652de549d8b8d3a2fb514c5328%29%0A%20%20%20%20%20%20%20%20%3B%0A%0A%20%20%20%20%20%20%20%20%0A%20%20%20%20%0A%20%20%20%20%0A%20%20%20%20%20%20%20%20%20%20%20%20var%20marker_ea2c5ae6e8cf4f5d814491bf12779b01%20%3D%20L.marker%28%0A%20%20%20%20%20%20%20%20%20%20%20%20%20%20%20%20%5B40.82092679700002%2C%20-73.94332421899996%5D%2C%0A%20%20%20%20%20%20%20%20%20%20%20%20%20%20%20%20%7B%7D%0A%20%20%20%20%20%20%20%20%20%20%20%20%29.addTo%28map_c1ea5e6eff4e497aac2296227df9ba5b%29%3B%0A%20%20%20%20%20%20%20%20%0A%20%20%20%20%0A%20%20%20%20%20%20%20%20var%20popup_2ae1b0bfc5ac48b181557f194e1bffd7%20%3D%20L.popup%28%7B%22maxWidth%22%3A%20%22100%25%22%7D%29%3B%0A%0A%20%20%20%20%20%20%20%20%0A%20%20%20%20%20%20%20%20%20%20%20%20var%20html_1c5c448c71a045d4be0875a733fe0015%20%3D%20%24%28%60%3Cdiv%20id%3D%22html_1c5c448c71a045d4be0875a733fe0015%22%20style%3D%22width%3A%20100.0%25%3B%20height%3A%20100.0%25%3B%22%3EPATROL%20BORO%20MAN%20NORTH%3C/div%3E%60%29%5B0%5D%3B%0A%20%20%20%20%20%20%20%20%20%20%20%20popup_2ae1b0bfc5ac48b181557f194e1bffd7.setContent%28html_1c5c448c71a045d4be0875a733fe0015%29%3B%0A%20%20%20%20%20%20%20%20%0A%0A%20%20%20%20%20%20%20%20marker_ea2c5ae6e8cf4f5d814491bf12779b01.bindPopup%28popup_2ae1b0bfc5ac48b181557f194e1bffd7%29%0A%20%20%20%20%20%20%20%20%3B%0A%0A%20%20%20%20%20%20%20%20%0A%20%20%20%20%0A%20%20%20%20%0A%20%20%20%20%20%20%20%20%20%20%20%20var%20marker_3a4fa3b279ae4308b9637ac1240ed63f%20%3D%20L.marker%28%0A%20%20%20%20%20%20%20%20%20%20%20%20%20%20%20%20%5B40.83377064200005%2C%20-73.86312152599999%5D%2C%0A%20%20%20%20%20%20%20%20%20%20%20%20%20%20%20%20%7B%7D%0A%20%20%20%20%20%20%20%20%20%20%20%20%29.addTo%28map_c1ea5e6eff4e497aac2296227df9ba5b%29%3B%0A%20%20%20%20%20%20%20%20%0A%20%20%20%20%0A%20%20%20%20%20%20%20%20var%20popup_08cf4de3b03f4d41b3f250ce55bff06b%20%3D%20L.popup%28%7B%22maxWidth%22%3A%20%22100%25%22%7D%29%3B%0A%0A%20%20%20%20%20%20%20%20%0A%20%20%20%20%20%20%20%20%20%20%20%20var%20html_4b02196762f64d628f8b6be9f904aea7%20%3D%20%24%28%60%3Cdiv%20id%3D%22html_4b02196762f64d628f8b6be9f904aea7%22%20style%3D%22width%3A%20100.0%25%3B%20height%3A%20100.0%25%3B%22%3EPATROL%20BORO%20BRONX%3C/div%3E%60%29%5B0%5D%3B%0A%20%20%20%20%20%20%20%20%20%20%20%20popup_08cf4de3b03f4d41b3f250ce55bff06b.setContent%28html_4b02196762f64d628f8b6be9f904aea7%29%3B%0A%20%20%20%20%20%20%20%20%0A%0A%20%20%20%20%20%20%20%20marker_3a4fa3b279ae4308b9637ac1240ed63f.bindPopup%28popup_08cf4de3b03f4d41b3f250ce55bff06b%29%0A%20%20%20%20%20%20%20%20%3B%0A%0A%20%20%20%20%20%20%20%20%0A%20%20%20%20%0A%20%20%20%20%0A%20%20%20%20%20%20%20%20%20%20%20%20var%20marker_8011856d0f564cf4a44abc0bf0df4203%20%3D%20L.marker%28%0A%20%20%20%20%20%20%20%20%20%20%20%20%20%20%20%20%5B40.85345024200007%2C%20-73.89153654899997%5D%2C%0A%20%20%20%20%20%20%20%20%20%20%20%20%20%20%20%20%7B%7D%0A%20%20%20%20%20%20%20%20%20%20%20%20%29.addTo%28map_c1ea5e6eff4e497aac2296227df9ba5b%29%3B%0A%20%20%20%20%20%20%20%20%0A%20%20%20%20%0A%20%20%20%20%20%20%20%20var%20popup_147c86cedf9d4b7d8703cb5442bb3d18%20%3D%20L.popup%28%7B%22maxWidth%22%3A%20%22100%25%22%7D%29%3B%0A%0A%20%20%20%20%20%20%20%20%0A%20%20%20%20%20%20%20%20%20%20%20%20var%20html_e20ad513146d425cbefd914a46920c9e%20%3D%20%24%28%60%3Cdiv%20id%3D%22html_e20ad513146d425cbefd914a46920c9e%22%20style%3D%22width%3A%20100.0%25%3B%20height%3A%20100.0%25%3B%22%3EPATROL%20BORO%20BRONX%3C/div%3E%60%29%5B0%5D%3B%0A%20%20%20%20%20%20%20%20%20%20%20%20popup_147c86cedf9d4b7d8703cb5442bb3d18.setContent%28html_e20ad513146d425cbefd914a46920c9e%29%3B%0A%20%20%20%20%20%20%20%20%0A%0A%20%20%20%20%20%20%20%20marker_8011856d0f564cf4a44abc0bf0df4203.bindPopup%28popup_147c86cedf9d4b7d8703cb5442bb3d18%29%0A%20%20%20%20%20%20%20%20%3B%0A%0A%20%20%20%20%20%20%20%20%0A%20%20%20%20%0A%20%20%20%20%0A%20%20%20%20%20%20%20%20%20%20%20%20var%20marker_b2e3720c867e49c2b3f7f230bef11af5%20%3D%20L.marker%28%0A%20%20%20%20%20%20%20%20%20%20%20%20%20%20%20%20%5B40.82227104100008%2C%20-73.91169777999993%5D%2C%0A%20%20%20%20%20%20%20%20%20%20%20%20%20%20%20%20%7B%7D%0A%20%20%20%20%20%20%20%20%20%20%20%20%29.addTo%28map_c1ea5e6eff4e497aac2296227df9ba5b%29%3B%0A%20%20%20%20%20%20%20%20%0A%20%20%20%20%0A%20%20%20%20%20%20%20%20var%20popup_83be7f26f19c44a9926ff8b67ac60fa9%20%3D%20L.popup%28%7B%22maxWidth%22%3A%20%22100%25%22%7D%29%3B%0A%0A%20%20%20%20%20%20%20%20%0A%20%20%20%20%20%20%20%20%20%20%20%20var%20html_78533756c6e846159de7fff8a075dc7a%20%3D%20%24%28%60%3Cdiv%20id%3D%22html_78533756c6e846159de7fff8a075dc7a%22%20style%3D%22width%3A%20100.0%25%3B%20height%3A%20100.0%25%3B%22%3EPATROL%20BORO%20BRONX%3C/div%3E%60%29%5B0%5D%3B%0A%20%20%20%20%20%20%20%20%20%20%20%20popup_83be7f26f19c44a9926ff8b67ac60fa9.setContent%28html_78533756c6e846159de7fff8a075dc7a%29%3B%0A%20%20%20%20%20%20%20%20%0A%0A%20%20%20%20%20%20%20%20marker_b2e3720c867e49c2b3f7f230bef11af5.bindPopup%28popup_83be7f26f19c44a9926ff8b67ac60fa9%29%0A%20%20%20%20%20%20%20%20%3B%0A%0A%20%20%20%20%20%20%20%20%0A%20%20%20%20%0A%20%20%20%20%0A%20%20%20%20%20%20%20%20%20%20%20%20var%20marker_f783e5ee8ac443bb8df39ebd29e9d2fb%20%3D%20L.marker%28%0A%20%20%20%20%20%20%20%20%20%20%20%20%20%20%20%20%5B40.88570140600008%2C%20-73.86164032499995%5D%2C%0A%20%20%20%20%20%20%20%20%20%20%20%20%20%20%20%20%7B%7D%0A%20%20%20%20%20%20%20%20%20%20%20%20%29.addTo%28map_c1ea5e6eff4e497aac2296227df9ba5b%29%3B%0A%20%20%20%20%20%20%20%20%0A%20%20%20%20%0A%20%20%20%20%20%20%20%20var%20popup_9ca0454629854d04a11171cac0e7bc72%20%3D%20L.popup%28%7B%22maxWidth%22%3A%20%22100%25%22%7D%29%3B%0A%0A%20%20%20%20%20%20%20%20%0A%20%20%20%20%20%20%20%20%20%20%20%20var%20html_7fb1028bfd614bd3991286eaa5e74ce7%20%3D%20%24%28%60%3Cdiv%20id%3D%22html_7fb1028bfd614bd3991286eaa5e74ce7%22%20style%3D%22width%3A%20100.0%25%3B%20height%3A%20100.0%25%3B%22%3EPATROL%20BORO%20BRONX%3C/div%3E%60%29%5B0%5D%3B%0A%20%20%20%20%20%20%20%20%20%20%20%20popup_9ca0454629854d04a11171cac0e7bc72.setContent%28html_7fb1028bfd614bd3991286eaa5e74ce7%29%3B%0A%20%20%20%20%20%20%20%20%0A%0A%20%20%20%20%20%20%20%20marker_f783e5ee8ac443bb8df39ebd29e9d2fb.bindPopup%28popup_9ca0454629854d04a11171cac0e7bc72%29%0A%20%20%20%20%20%20%20%20%3B%0A%0A%20%20%20%20%20%20%20%20%0A%20%20%20%20%0A%20%20%20%20%0A%20%20%20%20%20%20%20%20%20%20%20%20var%20marker_5966ca2f999e47f298fc39ffad5e9773%20%3D%20L.marker%28%0A%20%20%20%20%20%20%20%20%20%20%20%20%20%20%20%20%5B40.76600243000007%2C%20-73.82231581199994%5D%2C%0A%20%20%20%20%20%20%20%20%20%20%20%20%20%20%20%20%7B%7D%0A%20%20%20%20%20%20%20%20%20%20%20%20%29.addTo%28map_c1ea5e6eff4e497aac2296227df9ba5b%29%3B%0A%20%20%20%20%20%20%20%20%0A%20%20%20%20%0A%20%20%20%20%20%20%20%20var%20popup_6ec38f5488b54fafb17529366532fb44%20%3D%20L.popup%28%7B%22maxWidth%22%3A%20%22100%25%22%7D%29%3B%0A%0A%20%20%20%20%20%20%20%20%0A%20%20%20%20%20%20%20%20%20%20%20%20var%20html_52e458d91b724f98871f2fba7affdc2b%20%3D%20%24%28%60%3Cdiv%20id%3D%22html_52e458d91b724f98871f2fba7affdc2b%22%20style%3D%22width%3A%20100.0%25%3B%20height%3A%20100.0%25%3B%22%3EPATROL%20BORO%20QUEENS%20NORTH%3C/div%3E%60%29%5B0%5D%3B%0A%20%20%20%20%20%20%20%20%20%20%20%20popup_6ec38f5488b54fafb17529366532fb44.setContent%28html_52e458d91b724f98871f2fba7affdc2b%29%3B%0A%20%20%20%20%20%20%20%20%0A%0A%20%20%20%20%20%20%20%20marker_5966ca2f999e47f298fc39ffad5e9773.bindPopup%28popup_6ec38f5488b54fafb17529366532fb44%29%0A%20%20%20%20%20%20%20%20%3B%0A%0A%20%20%20%20%20%20%20%20%0A%20%20%20%20%0A%20%20%20%20%0A%20%20%20%20%20%20%20%20%20%20%20%20var%20marker_241486aa79744ee38d1475d7d2c21dd2%20%3D%20L.marker%28%0A%20%20%20%20%20%20%20%20%20%20%20%20%20%20%20%20%5B40.70515635000004%2C%20-73.79569433899997%5D%2C%0A%20%20%20%20%20%20%20%20%20%20%20%20%20%20%20%20%7B%7D%0A%20%20%20%20%20%20%20%20%20%20%20%20%29.addTo%28map_c1ea5e6eff4e497aac2296227df9ba5b%29%3B%0A%20%20%20%20%20%20%20%20%0A%20%20%20%20%0A%20%20%20%20%20%20%20%20var%20popup_be77517490064359a43d68c43b8c96ae%20%3D%20L.popup%28%7B%22maxWidth%22%3A%20%22100%25%22%7D%29%3B%0A%0A%20%20%20%20%20%20%20%20%0A%20%20%20%20%20%20%20%20%20%20%20%20var%20html_f2fc9e125fb24d1f850e6c568ef9ad89%20%3D%20%24%28%60%3Cdiv%20id%3D%22html_f2fc9e125fb24d1f850e6c568ef9ad89%22%20style%3D%22width%3A%20100.0%25%3B%20height%3A%20100.0%25%3B%22%3EPATROL%20BORO%20QUEENS%20SOUTH%3C/div%3E%60%29%5B0%5D%3B%0A%20%20%20%20%20%20%20%20%20%20%20%20popup_be77517490064359a43d68c43b8c96ae.setContent%28html_f2fc9e125fb24d1f850e6c568ef9ad89%29%3B%0A%20%20%20%20%20%20%20%20%0A%0A%20%20%20%20%20%20%20%20marker_241486aa79744ee38d1475d7d2c21dd2.bindPopup%28popup_be77517490064359a43d68c43b8c96ae%29%0A%20%20%20%20%20%20%20%20%3B%0A%0A%20%20%20%20%20%20%20%20%0A%20%20%20%20%0A%20%20%20%20%0A%20%20%20%20%20%20%20%20%20%20%20%20var%20marker_6e84a8fc8e474eb887c08d12ddc34e34%20%3D%20L.marker%28%0A%20%20%20%20%20%20%20%20%20%20%20%20%20%20%20%20%5B40.64066783800007%2C%20-74.00597922699995%5D%2C%0A%20%20%20%20%20%20%20%20%20%20%20%20%20%20%20%20%7B%7D%0A%20%20%20%20%20%20%20%20%20%20%20%20%29.addTo%28map_c1ea5e6eff4e497aac2296227df9ba5b%29%3B%0A%20%20%20%20%20%20%20%20%0A%20%20%20%20%0A%20%20%20%20%20%20%20%20var%20popup_62f3bdad1c364d7c9932bbbe410bfaeb%20%3D%20L.popup%28%7B%22maxWidth%22%3A%20%22100%25%22%7D%29%3B%0A%0A%20%20%20%20%20%20%20%20%0A%20%20%20%20%20%20%20%20%20%20%20%20var%20html_8c7e06ef93cc464ca049e7391188d8fc%20%3D%20%24%28%60%3Cdiv%20id%3D%22html_8c7e06ef93cc464ca049e7391188d8fc%22%20style%3D%22width%3A%20100.0%25%3B%20height%3A%20100.0%25%3B%22%3EPATROL%20BORO%20BKLYN%20SOUTH%3C/div%3E%60%29%5B0%5D%3B%0A%20%20%20%20%20%20%20%20%20%20%20%20popup_62f3bdad1c364d7c9932bbbe410bfaeb.setContent%28html_8c7e06ef93cc464ca049e7391188d8fc%29%3B%0A%20%20%20%20%20%20%20%20%0A%0A%20%20%20%20%20%20%20%20marker_6e84a8fc8e474eb887c08d12ddc34e34.bindPopup%28popup_62f3bdad1c364d7c9932bbbe410bfaeb%29%0A%20%20%20%20%20%20%20%20%3B%0A%0A%20%20%20%20%20%20%20%20%0A%20%20%20%20%0A%20%20%20%20%0A%20%20%20%20%20%20%20%20%20%20%20%20var%20marker_e714ccb58a9e48c48670d06612ee8ca5%20%3D%20L.marker%28%0A%20%20%20%20%20%20%20%20%20%20%20%20%20%20%20%20%5B40.75043076800005%2C%20-73.98928217599996%5D%2C%0A%20%20%20%20%20%20%20%20%20%20%20%20%20%20%20%20%7B%7D%0A%20%20%20%20%20%20%20%20%20%20%20%20%29.addTo%28map_c1ea5e6eff4e497aac2296227df9ba5b%29%3B%0A%20%20%20%20%20%20%20%20%0A%20%20%20%20%0A%20%20%20%20%20%20%20%20var%20popup_0383b808e40b401a987d4108693ba732%20%3D%20L.popup%28%7B%22maxWidth%22%3A%20%22100%25%22%7D%29%3B%0A%0A%20%20%20%20%20%20%20%20%0A%20%20%20%20%20%20%20%20%20%20%20%20var%20html_95f72d4cf52a48edb90692d5009459d4%20%3D%20%24%28%60%3Cdiv%20id%3D%22html_95f72d4cf52a48edb90692d5009459d4%22%20style%3D%22width%3A%20100.0%25%3B%20height%3A%20100.0%25%3B%22%3EPATROL%20BORO%20MAN%20SOUTH%3C/div%3E%60%29%5B0%5D%3B%0A%20%20%20%20%20%20%20%20%20%20%20%20popup_0383b808e40b401a987d4108693ba732.setContent%28html_95f72d4cf52a48edb90692d5009459d4%29%3B%0A%20%20%20%20%20%20%20%20%0A%0A%20%20%20%20%20%20%20%20marker_e714ccb58a9e48c48670d06612ee8ca5.bindPopup%28popup_0383b808e40b401a987d4108693ba732%29%0A%20%20%20%20%20%20%20%20%3B%0A%0A%20%20%20%20%20%20%20%20%0A%20%20%20%20%0A%20%20%20%20%0A%20%20%20%20%20%20%20%20%20%20%20%20var%20marker_9ac4e8492a7347b09da08a47c7112d32%20%3D%20L.marker%28%0A%20%20%20%20%20%20%20%20%20%20%20%20%20%20%20%20%5B40.85191707200005%2C%20-73.83465822199997%5D%2C%0A%20%20%20%20%20%20%20%20%20%20%20%20%20%20%20%20%7B%7D%0A%20%20%20%20%20%20%20%20%20%20%20%20%29.addTo%28map_c1ea5e6eff4e497aac2296227df9ba5b%29%3B%0A%20%20%20%20%20%20%20%20%0A%20%20%20%20%0A%20%20%20%20%20%20%20%20var%20popup_f3bdc9176e29402a9cf2186d63e20149%20%3D%20L.popup%28%7B%22maxWidth%22%3A%20%22100%25%22%7D%29%3B%0A%0A%20%20%20%20%20%20%20%20%0A%20%20%20%20%20%20%20%20%20%20%20%20var%20html_e29b5ff37d0a4df7ba70828447e3f4eb%20%3D%20%24%28%60%3Cdiv%20id%3D%22html_e29b5ff37d0a4df7ba70828447e3f4eb%22%20style%3D%22width%3A%20100.0%25%3B%20height%3A%20100.0%25%3B%22%3EPATROL%20BORO%20BRONX%3C/div%3E%60%29%5B0%5D%3B%0A%20%20%20%20%20%20%20%20%20%20%20%20popup_f3bdc9176e29402a9cf2186d63e20149.setContent%28html_e29b5ff37d0a4df7ba70828447e3f4eb%29%3B%0A%20%20%20%20%20%20%20%20%0A%0A%20%20%20%20%20%20%20%20marker_9ac4e8492a7347b09da08a47c7112d32.bindPopup%28popup_f3bdc9176e29402a9cf2186d63e20149%29%0A%20%20%20%20%20%20%20%20%3B%0A%0A%20%20%20%20%20%20%20%20%0A%20%20%20%20%0A%20%20%20%20%0A%20%20%20%20%20%20%20%20%20%20%20%20var%20marker_e9f7a874d4214e8bb85a4d85674d2c9d%20%3D%20L.marker%28%0A%20%20%20%20%20%20%20%20%20%20%20%20%20%20%20%20%5B40.74228115600005%2C%20-73.81982408%5D%2C%0A%20%20%20%20%20%20%20%20%20%20%20%20%20%20%20%20%7B%7D%0A%20%20%20%20%20%20%20%20%20%20%20%20%29.addTo%28map_c1ea5e6eff4e497aac2296227df9ba5b%29%3B%0A%20%20%20%20%20%20%20%20%0A%20%20%20%20%0A%20%20%20%20%20%20%20%20var%20popup_96223250b7b24b488445941dc9687c9d%20%3D%20L.popup%28%7B%22maxWidth%22%3A%20%22100%25%22%7D%29%3B%0A%0A%20%20%20%20%20%20%20%20%0A%20%20%20%20%20%20%20%20%20%20%20%20var%20html_31afce4b94ee4eb2a9de26e56b09f755%20%3D%20%24%28%60%3Cdiv%20id%3D%22html_31afce4b94ee4eb2a9de26e56b09f755%22%20style%3D%22width%3A%20100.0%25%3B%20height%3A%20100.0%25%3B%22%3EPATROL%20BORO%20QUEENS%20NORTH%3C/div%3E%60%29%5B0%5D%3B%0A%20%20%20%20%20%20%20%20%20%20%20%20popup_96223250b7b24b488445941dc9687c9d.setContent%28html_31afce4b94ee4eb2a9de26e56b09f755%29%3B%0A%20%20%20%20%20%20%20%20%0A%0A%20%20%20%20%20%20%20%20marker_e9f7a874d4214e8bb85a4d85674d2c9d.bindPopup%28popup_96223250b7b24b488445941dc9687c9d%29%0A%20%20%20%20%20%20%20%20%3B%0A%0A%20%20%20%20%20%20%20%20%0A%20%20%20%20%0A%20%20%20%20%0A%20%20%20%20%20%20%20%20%20%20%20%20var%20marker_240fe1c1005b499bb014d3b043e84df9%20%3D%20L.marker%28%0A%20%20%20%20%20%20%20%20%20%20%20%20%20%20%20%20%5B40.891346191000025%2C%20-73.85851809399996%5D%2C%0A%20%20%20%20%20%20%20%20%20%20%20%20%20%20%20%20%7B%7D%0A%20%20%20%20%20%20%20%20%20%20%20%20%29.addTo%28map_c1ea5e6eff4e497aac2296227df9ba5b%29%3B%0A%20%20%20%20%20%20%20%20%0A%20%20%20%20%0A%20%20%20%20%20%20%20%20var%20popup_b8b3b4329eb941488c0a8b3b8cd5ea8d%20%3D%20L.popup%28%7B%22maxWidth%22%3A%20%22100%25%22%7D%29%3B%0A%0A%20%20%20%20%20%20%20%20%0A%20%20%20%20%20%20%20%20%20%20%20%20var%20html_940e411cb4f54b6b8aeb72281a43a5d4%20%3D%20%24%28%60%3Cdiv%20id%3D%22html_940e411cb4f54b6b8aeb72281a43a5d4%22%20style%3D%22width%3A%20100.0%25%3B%20height%3A%20100.0%25%3B%22%3EPATROL%20BORO%20BRONX%3C/div%3E%60%29%5B0%5D%3B%0A%20%20%20%20%20%20%20%20%20%20%20%20popup_b8b3b4329eb941488c0a8b3b8cd5ea8d.setContent%28html_940e411cb4f54b6b8aeb72281a43a5d4%29%3B%0A%20%20%20%20%20%20%20%20%0A%0A%20%20%20%20%20%20%20%20marker_240fe1c1005b499bb014d3b043e84df9.bindPopup%28popup_b8b3b4329eb941488c0a8b3b8cd5ea8d%29%0A%20%20%20%20%20%20%20%20%3B%0A%0A%20%20%20%20%20%20%20%20%0A%20%20%20%20%0A%20%20%20%20%0A%20%20%20%20%20%20%20%20%20%20%20%20var%20marker_e8808c5a2c9249b6b727eaf47010d2ef%20%3D%20L.marker%28%0A%20%20%20%20%20%20%20%20%20%20%20%20%20%20%20%20%5B40.69536744700008%2C%20-73.98324342499996%5D%2C%0A%20%20%20%20%20%20%20%20%20%20%20%20%20%20%20%20%7B%7D%0A%20%20%20%20%20%20%20%20%20%20%20%20%29.addTo%28map_c1ea5e6eff4e497aac2296227df9ba5b%29%3B%0A%20%20%20%20%20%20%20%20%0A%20%20%20%20%0A%20%20%20%20%20%20%20%20var%20popup_0d9ca0d94e814c34a283fed79cbd8020%20%3D%20L.popup%28%7B%22maxWidth%22%3A%20%22100%25%22%7D%29%3B%0A%0A%20%20%20%20%20%20%20%20%0A%20%20%20%20%20%20%20%20%20%20%20%20var%20html_426d9b36654b47c4a225b25eec79defb%20%3D%20%24%28%60%3Cdiv%20id%3D%22html_426d9b36654b47c4a225b25eec79defb%22%20style%3D%22width%3A%20100.0%25%3B%20height%3A%20100.0%25%3B%22%3EPATROL%20BORO%20BKLYN%20NORTH%3C/div%3E%60%29%5B0%5D%3B%0A%20%20%20%20%20%20%20%20%20%20%20%20popup_0d9ca0d94e814c34a283fed79cbd8020.setContent%28html_426d9b36654b47c4a225b25eec79defb%29%3B%0A%20%20%20%20%20%20%20%20%0A%0A%20%20%20%20%20%20%20%20marker_e8808c5a2c9249b6b727eaf47010d2ef.bindPopup%28popup_0d9ca0d94e814c34a283fed79cbd8020%29%0A%20%20%20%20%20%20%20%20%3B%0A%0A%20%20%20%20%20%20%20%20%0A%20%20%20%20%0A%20%20%20%20%0A%20%20%20%20%20%20%20%20%20%20%20%20var%20marker_7579616a94f048caaacc01f654175c53%20%3D%20L.marker%28%0A%20%20%20%20%20%20%20%20%20%20%20%20%20%20%20%20%5B40.87531145100007%2C%20-73.84754521099995%5D%2C%0A%20%20%20%20%20%20%20%20%20%20%20%20%20%20%20%20%7B%7D%0A%20%20%20%20%20%20%20%20%20%20%20%20%29.addTo%28map_c1ea5e6eff4e497aac2296227df9ba5b%29%3B%0A%20%20%20%20%20%20%20%20%0A%20%20%20%20%0A%20%20%20%20%20%20%20%20var%20popup_7bacdf7fd2284f14a9130dade4986a0f%20%3D%20L.popup%28%7B%22maxWidth%22%3A%20%22100%25%22%7D%29%3B%0A%0A%20%20%20%20%20%20%20%20%0A%20%20%20%20%20%20%20%20%20%20%20%20var%20html_880abeca95534f2888691f2ae1bf439d%20%3D%20%24%28%60%3Cdiv%20id%3D%22html_880abeca95534f2888691f2ae1bf439d%22%20style%3D%22width%3A%20100.0%25%3B%20height%3A%20100.0%25%3B%22%3EPATROL%20BORO%20BRONX%3C/div%3E%60%29%5B0%5D%3B%0A%20%20%20%20%20%20%20%20%20%20%20%20popup_7bacdf7fd2284f14a9130dade4986a0f.setContent%28html_880abeca95534f2888691f2ae1bf439d%29%3B%0A%20%20%20%20%20%20%20%20%0A%0A%20%20%20%20%20%20%20%20marker_7579616a94f048caaacc01f654175c53.bindPopup%28popup_7bacdf7fd2284f14a9130dade4986a0f%29%0A%20%20%20%20%20%20%20%20%3B%0A%0A%20%20%20%20%20%20%20%20%0A%20%20%20%20%0A%20%20%20%20%0A%20%20%20%20%20%20%20%20%20%20%20%20var%20marker_b61502e159d94e6da7d7dd7f9be7b0d9%20%3D%20L.marker%28%0A%20%20%20%20%20%20%20%20%20%20%20%20%20%20%20%20%5B40.698827283%2C%20-73.938819047%5D%2C%0A%20%20%20%20%20%20%20%20%20%20%20%20%20%20%20%20%7B%7D%0A%20%20%20%20%20%20%20%20%20%20%20%20%29.addTo%28map_c1ea5e6eff4e497aac2296227df9ba5b%29%3B%0A%20%20%20%20%20%20%20%20%0A%20%20%20%20%0A%20%20%20%20%20%20%20%20%20%20%20%20var%20marker_6ab42f5869cf4f1080e91c53c5f14be0%20%3D%20L.marker%28%0A%20%20%20%20%20%20%20%20%20%20%20%20%20%20%20%20%5B40.89481948400004%2C%20-73.86182751599993%5D%2C%0A%20%20%20%20%20%20%20%20%20%20%20%20%20%20%20%20%7B%7D%0A%20%20%20%20%20%20%20%20%20%20%20%20%29.addTo%28map_c1ea5e6eff4e497aac2296227df9ba5b%29%3B%0A%20%20%20%20%20%20%20%20%0A%20%20%20%20%0A%20%20%20%20%20%20%20%20var%20popup_22e9ce48776d4276a9c0d146243f3c0e%20%3D%20L.popup%28%7B%22maxWidth%22%3A%20%22100%25%22%7D%29%3B%0A%0A%20%20%20%20%20%20%20%20%0A%20%20%20%20%20%20%20%20%20%20%20%20var%20html_78761491f6bf44debfa366f2a6175faf%20%3D%20%24%28%60%3Cdiv%20id%3D%22html_78761491f6bf44debfa366f2a6175faf%22%20style%3D%22width%3A%20100.0%25%3B%20height%3A%20100.0%25%3B%22%3EPATROL%20BORO%20BRONX%3C/div%3E%60%29%5B0%5D%3B%0A%20%20%20%20%20%20%20%20%20%20%20%20popup_22e9ce48776d4276a9c0d146243f3c0e.setContent%28html_78761491f6bf44debfa366f2a6175faf%29%3B%0A%20%20%20%20%20%20%20%20%0A%0A%20%20%20%20%20%20%20%20marker_6ab42f5869cf4f1080e91c53c5f14be0.bindPopup%28popup_22e9ce48776d4276a9c0d146243f3c0e%29%0A%20%20%20%20%20%20%20%20%3B%0A%0A%20%20%20%20%20%20%20%20%0A%20%20%20%20%0A%20%20%20%20%0A%20%20%20%20%20%20%20%20%20%20%20%20var%20marker_c0622d4772f7486794be93b8a81a27b2%20%3D%20L.marker%28%0A%20%20%20%20%20%20%20%20%20%20%20%20%20%20%20%20%5B40.84023413800003%2C%20-73.91768411399994%5D%2C%0A%20%20%20%20%20%20%20%20%20%20%20%20%20%20%20%20%7B%7D%0A%20%20%20%20%20%20%20%20%20%20%20%20%29.addTo%28map_c1ea5e6eff4e497aac2296227df9ba5b%29%3B%0A%20%20%20%20%20%20%20%20%0A%20%20%20%20%0A%20%20%20%20%20%20%20%20var%20popup_1a95c6721ee347a7979b6b626aa82157%20%3D%20L.popup%28%7B%22maxWidth%22%3A%20%22100%25%22%7D%29%3B%0A%0A%20%20%20%20%20%20%20%20%0A%20%20%20%20%20%20%20%20%20%20%20%20var%20html_dfeec1275c7f4f10bb9f565ee4d93de1%20%3D%20%24%28%60%3Cdiv%20id%3D%22html_dfeec1275c7f4f10bb9f565ee4d93de1%22%20style%3D%22width%3A%20100.0%25%3B%20height%3A%20100.0%25%3B%22%3EPATROL%20BORO%20BRONX%3C/div%3E%60%29%5B0%5D%3B%0A%20%20%20%20%20%20%20%20%20%20%20%20popup_1a95c6721ee347a7979b6b626aa82157.setContent%28html_dfeec1275c7f4f10bb9f565ee4d93de1%29%3B%0A%20%20%20%20%20%20%20%20%0A%0A%20%20%20%20%20%20%20%20marker_c0622d4772f7486794be93b8a81a27b2.bindPopup%28popup_1a95c6721ee347a7979b6b626aa82157%29%0A%20%20%20%20%20%20%20%20%3B%0A%0A%20%20%20%20%20%20%20%20%0A%20%20%20%20%0A%20%20%20%20%0A%20%20%20%20%20%20%20%20%20%20%20%20var%20marker_b9caf5b67f424a86b051e50a739258d9%20%3D%20L.marker%28%0A%20%20%20%20%20%20%20%20%20%20%20%20%20%20%20%20%5B40.876969159000055%2C%20-73.86511183%5D%2C%0A%20%20%20%20%20%20%20%20%20%20%20%20%20%20%20%20%7B%7D%0A%20%20%20%20%20%20%20%20%20%20%20%20%29.addTo%28map_c1ea5e6eff4e497aac2296227df9ba5b%29%3B%0A%20%20%20%20%20%20%20%20%0A%20%20%20%20%0A%20%20%20%20%20%20%20%20var%20popup_082a48171d834d479bb8a24e72422540%20%3D%20L.popup%28%7B%22maxWidth%22%3A%20%22100%25%22%7D%29%3B%0A%0A%20%20%20%20%20%20%20%20%0A%20%20%20%20%20%20%20%20%20%20%20%20var%20html_799d7486ce1e42f4a3e642525569879b%20%3D%20%24%28%60%3Cdiv%20id%3D%22html_799d7486ce1e42f4a3e642525569879b%22%20style%3D%22width%3A%20100.0%25%3B%20height%3A%20100.0%25%3B%22%3EPATROL%20BORO%20BRONX%3C/div%3E%60%29%5B0%5D%3B%0A%20%20%20%20%20%20%20%20%20%20%20%20popup_082a48171d834d479bb8a24e72422540.setContent%28html_799d7486ce1e42f4a3e642525569879b%29%3B%0A%20%20%20%20%20%20%20%20%0A%0A%20%20%20%20%20%20%20%20marker_b9caf5b67f424a86b051e50a739258d9.bindPopup%28popup_082a48171d834d479bb8a24e72422540%29%0A%20%20%20%20%20%20%20%20%3B%0A%0A%20%20%20%20%20%20%20%20%0A%20%20%20%20%0A%20%20%20%20%0A%20%20%20%20%20%20%20%20%20%20%20%20var%20marker_57124279507f4833aeee983bdb4c322a%20%3D%20L.marker%28%0A%20%20%20%20%20%20%20%20%20%20%20%20%20%20%20%20%5B40.69959099800008%2C%20-73.95177985899994%5D%2C%0A%20%20%20%20%20%20%20%20%20%20%20%20%20%20%20%20%7B%7D%0A%20%20%20%20%20%20%20%20%20%20%20%20%29.addTo%28map_c1ea5e6eff4e497aac2296227df9ba5b%29%3B%0A%20%20%20%20%20%20%20%20%0A%20%20%20%20%0A%20%20%20%20%20%20%20%20var%20popup_00aed16779fd460b8808ddd30b430417%20%3D%20L.popup%28%7B%22maxWidth%22%3A%20%22100%25%22%7D%29%3B%0A%0A%20%20%20%20%20%20%20%20%0A%20%20%20%20%20%20%20%20%20%20%20%20var%20html_67ab7098b3e94f609c40e44f6d275bca%20%3D%20%24%28%60%3Cdiv%20id%3D%22html_67ab7098b3e94f609c40e44f6d275bca%22%20style%3D%22width%3A%20100.0%25%3B%20height%3A%20100.0%25%3B%22%3EPATROL%20BORO%20BKLYN%20NORTH%3C/div%3E%60%29%5B0%5D%3B%0A%20%20%20%20%20%20%20%20%20%20%20%20popup_00aed16779fd460b8808ddd30b430417.setContent%28html_67ab7098b3e94f609c40e44f6d275bca%29%3B%0A%20%20%20%20%20%20%20%20%0A%0A%20%20%20%20%20%20%20%20marker_57124279507f4833aeee983bdb4c322a.bindPopup%28popup_00aed16779fd460b8808ddd30b430417%29%0A%20%20%20%20%20%20%20%20%3B%0A%0A%20%20%20%20%20%20%20%20%0A%20%20%20%20%0A%20%20%20%20%0A%20%20%20%20%20%20%20%20%20%20%20%20var%20marker_28ce261ac2314f4ea482a639a323d763%20%3D%20L.marker%28%0A%20%20%20%20%20%20%20%20%20%20%20%20%20%20%20%20%5B40.756744052000045%2C%20-73.99450053399994%5D%2C%0A%20%20%20%20%20%20%20%20%20%20%20%20%20%20%20%20%7B%7D%0A%20%20%20%20%20%20%20%20%20%20%20%20%29.addTo%28map_c1ea5e6eff4e497aac2296227df9ba5b%29%3B%0A%20%20%20%20%20%20%20%20%0A%20%20%20%20%0A%20%20%20%20%20%20%20%20var%20popup_b4bc0866608a4a228fbc7c9ac6a5115a%20%3D%20L.popup%28%7B%22maxWidth%22%3A%20%22100%25%22%7D%29%3B%0A%0A%20%20%20%20%20%20%20%20%0A%20%20%20%20%20%20%20%20%20%20%20%20var%20html_b0021845aac54638943f81bb34a70fe8%20%3D%20%24%28%60%3Cdiv%20id%3D%22html_b0021845aac54638943f81bb34a70fe8%22%20style%3D%22width%3A%20100.0%25%3B%20height%3A%20100.0%25%3B%22%3EPATROL%20BORO%20MAN%20SOUTH%3C/div%3E%60%29%5B0%5D%3B%0A%20%20%20%20%20%20%20%20%20%20%20%20popup_b4bc0866608a4a228fbc7c9ac6a5115a.setContent%28html_b0021845aac54638943f81bb34a70fe8%29%3B%0A%20%20%20%20%20%20%20%20%0A%0A%20%20%20%20%20%20%20%20marker_28ce261ac2314f4ea482a639a323d763.bindPopup%28popup_b4bc0866608a4a228fbc7c9ac6a5115a%29%0A%20%20%20%20%20%20%20%20%3B%0A%0A%20%20%20%20%20%20%20%20%0A%20%20%20%20%0A%20%20%20%20%0A%20%20%20%20%20%20%20%20%20%20%20%20var%20marker_53c79b16b0c74f119cd47c12b3fbe4d7%20%3D%20L.marker%28%0A%20%20%20%20%20%20%20%20%20%20%20%20%20%20%20%20%5B40.719404551000025%2C%20-74.00188456299998%5D%2C%0A%20%20%20%20%20%20%20%20%20%20%20%20%20%20%20%20%7B%7D%0A%20%20%20%20%20%20%20%20%20%20%20%20%29.addTo%28map_c1ea5e6eff4e497aac2296227df9ba5b%29%3B%0A%20%20%20%20%20%20%20%20%0A%20%20%20%20%0A%20%20%20%20%20%20%20%20var%20popup_b820b75a3f604bd38e3f6b77c7e594e5%20%3D%20L.popup%28%7B%22maxWidth%22%3A%20%22100%25%22%7D%29%3B%0A%0A%20%20%20%20%20%20%20%20%0A%20%20%20%20%20%20%20%20%20%20%20%20var%20html_251a55cb0a834b0b828d257bd673e5a6%20%3D%20%24%28%60%3Cdiv%20id%3D%22html_251a55cb0a834b0b828d257bd673e5a6%22%20style%3D%22width%3A%20100.0%25%3B%20height%3A%20100.0%25%3B%22%3EPATROL%20BORO%20MAN%20SOUTH%3C/div%3E%60%29%5B0%5D%3B%0A%20%20%20%20%20%20%20%20%20%20%20%20popup_b820b75a3f604bd38e3f6b77c7e594e5.setContent%28html_251a55cb0a834b0b828d257bd673e5a6%29%3B%0A%20%20%20%20%20%20%20%20%0A%0A%20%20%20%20%20%20%20%20marker_53c79b16b0c74f119cd47c12b3fbe4d7.bindPopup%28popup_b820b75a3f604bd38e3f6b77c7e594e5%29%0A%20%20%20%20%20%20%20%20%3B%0A%0A%20%20%20%20%20%20%20%20%0A%20%20%20%20%0A%20%20%20%20%0A%20%20%20%20%20%20%20%20%20%20%20%20var%20marker_e3ae2e6cc50646ad83ca371e41cee254%20%3D%20L.marker%28%0A%20%20%20%20%20%20%20%20%20%20%20%20%20%20%20%20%5B40.67149641000003%2C%20-73.94756439899999%5D%2C%0A%20%20%20%20%20%20%20%20%20%20%20%20%20%20%20%20%7B%7D%0A%20%20%20%20%20%20%20%20%20%20%20%20%29.addTo%28map_c1ea5e6eff4e497aac2296227df9ba5b%29%3B%0A%20%20%20%20%20%20%20%20%0A%20%20%20%20%0A%20%20%20%20%20%20%20%20var%20popup_9466dd05d4c9488aa68252ad8e4b21fc%20%3D%20L.popup%28%7B%22maxWidth%22%3A%20%22100%25%22%7D%29%3B%0A%0A%20%20%20%20%20%20%20%20%0A%20%20%20%20%20%20%20%20%20%20%20%20var%20html_df239638d8524ff99f6cd537f4997021%20%3D%20%24%28%60%3Cdiv%20id%3D%22html_df239638d8524ff99f6cd537f4997021%22%20style%3D%22width%3A%20100.0%25%3B%20height%3A%20100.0%25%3B%22%3EPATROL%20BORO%20BKLYN%20NORTH%3C/div%3E%60%29%5B0%5D%3B%0A%20%20%20%20%20%20%20%20%20%20%20%20popup_9466dd05d4c9488aa68252ad8e4b21fc.setContent%28html_df239638d8524ff99f6cd537f4997021%29%3B%0A%20%20%20%20%20%20%20%20%0A%0A%20%20%20%20%20%20%20%20marker_e3ae2e6cc50646ad83ca371e41cee254.bindPopup%28popup_9466dd05d4c9488aa68252ad8e4b21fc%29%0A%20%20%20%20%20%20%20%20%3B%0A%0A%20%20%20%20%20%20%20%20%0A%20%20%20%20%0A%20%20%20%20%0A%20%20%20%20%20%20%20%20%20%20%20%20var%20marker_b72e54064b134ab4ab46d78752cec356%20%3D%20L.marker%28%0A%20%20%20%20%20%20%20%20%20%20%20%20%20%20%20%20%5B40.63453856700004%2C%20-74.02652970599996%5D%2C%0A%20%20%20%20%20%20%20%20%20%20%20%20%20%20%20%20%7B%7D%0A%20%20%20%20%20%20%20%20%20%20%20%20%29.addTo%28map_c1ea5e6eff4e497aac2296227df9ba5b%29%3B%0A%20%20%20%20%20%20%20%20%0A%20%20%20%20%0A%20%20%20%20%20%20%20%20var%20popup_12ca0612f6294ba8929b55eaf6bd0f33%20%3D%20L.popup%28%7B%22maxWidth%22%3A%20%22100%25%22%7D%29%3B%0A%0A%20%20%20%20%20%20%20%20%0A%20%20%20%20%20%20%20%20%20%20%20%20var%20html_6c18209341f84ffeaf17d9625f123ce6%20%3D%20%24%28%60%3Cdiv%20id%3D%22html_6c18209341f84ffeaf17d9625f123ce6%22%20style%3D%22width%3A%20100.0%25%3B%20height%3A%20100.0%25%3B%22%3EPATROL%20BORO%20BKLYN%20SOUTH%3C/div%3E%60%29%5B0%5D%3B%0A%20%20%20%20%20%20%20%20%20%20%20%20popup_12ca0612f6294ba8929b55eaf6bd0f33.setContent%28html_6c18209341f84ffeaf17d9625f123ce6%29%3B%0A%20%20%20%20%20%20%20%20%0A%0A%20%20%20%20%20%20%20%20marker_b72e54064b134ab4ab46d78752cec356.bindPopup%28popup_12ca0612f6294ba8929b55eaf6bd0f33%29%0A%20%20%20%20%20%20%20%20%3B%0A%0A%20%20%20%20%20%20%20%20%0A%20%20%20%20%0A%20%20%20%20%0A%20%20%20%20%20%20%20%20%20%20%20%20var%20marker_e4cc5b2915b842d7b320bee9e9507508%20%3D%20L.marker%28%0A%20%20%20%20%20%20%20%20%20%20%20%20%20%20%20%20%5B40.61157006600007%2C%20-73.74736517199995%5D%2C%0A%20%20%20%20%20%20%20%20%20%20%20%20%20%20%20%20%7B%7D%0A%20%20%20%20%20%20%20%20%20%20%20%20%29.addTo%28map_c1ea5e6eff4e497aac2296227df9ba5b%29%3B%0A%20%20%20%20%20%20%20%20%0A%20%20%20%20%0A%20%20%20%20%20%20%20%20var%20popup_fecc7c33a1744dd79da2efda064250b5%20%3D%20L.popup%28%7B%22maxWidth%22%3A%20%22100%25%22%7D%29%3B%0A%0A%20%20%20%20%20%20%20%20%0A%20%20%20%20%20%20%20%20%20%20%20%20var%20html_2bf8fed3adeb4db8b476857dbde4a6b2%20%3D%20%24%28%60%3Cdiv%20id%3D%22html_2bf8fed3adeb4db8b476857dbde4a6b2%22%20style%3D%22width%3A%20100.0%25%3B%20height%3A%20100.0%25%3B%22%3EPATROL%20BORO%20QUEENS%20SOUTH%3C/div%3E%60%29%5B0%5D%3B%0A%20%20%20%20%20%20%20%20%20%20%20%20popup_fecc7c33a1744dd79da2efda064250b5.setContent%28html_2bf8fed3adeb4db8b476857dbde4a6b2%29%3B%0A%20%20%20%20%20%20%20%20%0A%0A%20%20%20%20%20%20%20%20marker_e4cc5b2915b842d7b320bee9e9507508.bindPopup%28popup_fecc7c33a1744dd79da2efda064250b5%29%0A%20%20%20%20%20%20%20%20%3B%0A%0A%20%20%20%20%20%20%20%20%0A%20%20%20%20%0A%20%20%20%20%0A%20%20%20%20%20%20%20%20%20%20%20%20var%20marker_0baf8919aae0492bb683e3d3917e4d17%20%3D%20L.marker%28%0A%20%20%20%20%20%20%20%20%20%20%20%20%20%20%20%20%5B40.68702117200007%2C%20-73.77486172499994%5D%2C%0A%20%20%20%20%20%20%20%20%20%20%20%20%20%20%20%20%7B%7D%0A%20%20%20%20%20%20%20%20%20%20%20%20%29.addTo%28map_c1ea5e6eff4e497aac2296227df9ba5b%29%3B%0A%20%20%20%20%20%20%20%20%0A%20%20%20%20%0A%20%20%20%20%20%20%20%20var%20popup_16da25fb2ad84cb98761418c8434b873%20%3D%20L.popup%28%7B%22maxWidth%22%3A%20%22100%25%22%7D%29%3B%0A%0A%20%20%20%20%20%20%20%20%0A%20%20%20%20%20%20%20%20%20%20%20%20var%20html_78783a63a89b49419289899c04457cd3%20%3D%20%24%28%60%3Cdiv%20id%3D%22html_78783a63a89b49419289899c04457cd3%22%20style%3D%22width%3A%20100.0%25%3B%20height%3A%20100.0%25%3B%22%3EPATROL%20BORO%20QUEENS%20SOUTH%3C/div%3E%60%29%5B0%5D%3B%0A%20%20%20%20%20%20%20%20%20%20%20%20popup_16da25fb2ad84cb98761418c8434b873.setContent%28html_78783a63a89b49419289899c04457cd3%29%3B%0A%20%20%20%20%20%20%20%20%0A%0A%20%20%20%20%20%20%20%20marker_0baf8919aae0492bb683e3d3917e4d17.bindPopup%28popup_16da25fb2ad84cb98761418c8434b873%29%0A%20%20%20%20%20%20%20%20%3B%0A%0A%20%20%20%20%20%20%20%20%0A%20%20%20%20%0A%20%20%20%20%0A%20%20%20%20%20%20%20%20%20%20%20%20var%20marker_569eec8ce83548de9d6b0fe0b7af21e2%20%3D%20L.marker%28%0A%20%20%20%20%20%20%20%20%20%20%20%20%20%20%20%20%5B40.82256991600008%2C%20-73.91130716899994%5D%2C%0A%20%20%20%20%20%20%20%20%20%20%20%20%20%20%20%20%7B%7D%0A%20%20%20%20%20%20%20%20%20%20%20%20%29.addTo%28map_c1ea5e6eff4e497aac2296227df9ba5b%29%3B%0A%20%20%20%20%20%20%20%20%0A%20%20%20%20%0A%20%20%20%20%20%20%20%20var%20popup_33a6752eb5024a169cbb3f2881559b66%20%3D%20L.popup%28%7B%22maxWidth%22%3A%20%22100%25%22%7D%29%3B%0A%0A%20%20%20%20%20%20%20%20%0A%20%20%20%20%20%20%20%20%20%20%20%20var%20html_19adf6adaa82417095ce13d5c2436d69%20%3D%20%24%28%60%3Cdiv%20id%3D%22html_19adf6adaa82417095ce13d5c2436d69%22%20style%3D%22width%3A%20100.0%25%3B%20height%3A%20100.0%25%3B%22%3EPATROL%20BORO%20BRONX%3C/div%3E%60%29%5B0%5D%3B%0A%20%20%20%20%20%20%20%20%20%20%20%20popup_33a6752eb5024a169cbb3f2881559b66.setContent%28html_19adf6adaa82417095ce13d5c2436d69%29%3B%0A%20%20%20%20%20%20%20%20%0A%0A%20%20%20%20%20%20%20%20marker_569eec8ce83548de9d6b0fe0b7af21e2.bindPopup%28popup_33a6752eb5024a169cbb3f2881559b66%29%0A%20%20%20%20%20%20%20%20%3B%0A%0A%20%20%20%20%20%20%20%20%0A%20%20%20%20%0A%20%20%20%20%0A%20%20%20%20%20%20%20%20%20%20%20%20var%20marker_fae0698e98aa4616a1db1342f3ad314a%20%3D%20L.marker%28%0A%20%20%20%20%20%20%20%20%20%20%20%20%20%20%20%20%5B40.85576636400003%2C%20-73.88543443299993%5D%2C%0A%20%20%20%20%20%20%20%20%20%20%20%20%20%20%20%20%7B%7D%0A%20%20%20%20%20%20%20%20%20%20%20%20%29.addTo%28map_c1ea5e6eff4e497aac2296227df9ba5b%29%3B%0A%20%20%20%20%20%20%20%20%0A%20%20%20%20%0A%20%20%20%20%20%20%20%20var%20popup_15c8a04962aa4534a579e1155d2f1178%20%3D%20L.popup%28%7B%22maxWidth%22%3A%20%22100%25%22%7D%29%3B%0A%0A%20%20%20%20%20%20%20%20%0A%20%20%20%20%20%20%20%20%20%20%20%20var%20html_0cd909bca9b843dba02a924f6b23aac8%20%3D%20%24%28%60%3Cdiv%20id%3D%22html_0cd909bca9b843dba02a924f6b23aac8%22%20style%3D%22width%3A%20100.0%25%3B%20height%3A%20100.0%25%3B%22%3EPATROL%20BORO%20BRONX%3C/div%3E%60%29%5B0%5D%3B%0A%20%20%20%20%20%20%20%20%20%20%20%20popup_15c8a04962aa4534a579e1155d2f1178.setContent%28html_0cd909bca9b843dba02a924f6b23aac8%29%3B%0A%20%20%20%20%20%20%20%20%0A%0A%20%20%20%20%20%20%20%20marker_fae0698e98aa4616a1db1342f3ad314a.bindPopup%28popup_15c8a04962aa4534a579e1155d2f1178%29%0A%20%20%20%20%20%20%20%20%3B%0A%0A%20%20%20%20%20%20%20%20%0A%20%20%20%20%0A%20%20%20%20%0A%20%20%20%20%20%20%20%20%20%20%20%20var%20marker_a9b4419b301d4d6380cb81b30d338a30%20%3D%20L.marker%28%0A%20%20%20%20%20%20%20%20%20%20%20%20%20%20%20%20%5B40.74269929900004%2C%20-73.99865537999993%5D%2C%0A%20%20%20%20%20%20%20%20%20%20%20%20%20%20%20%20%7B%7D%0A%20%20%20%20%20%20%20%20%20%20%20%20%29.addTo%28map_c1ea5e6eff4e497aac2296227df9ba5b%29%3B%0A%20%20%20%20%20%20%20%20%0A%20%20%20%20%0A%20%20%20%20%20%20%20%20var%20popup_e32013342cef415b82cc7e7a6e15c2c5%20%3D%20L.popup%28%7B%22maxWidth%22%3A%20%22100%25%22%7D%29%3B%0A%0A%20%20%20%20%20%20%20%20%0A%20%20%20%20%20%20%20%20%20%20%20%20var%20html_18c4615d2bef499ca0eae8f112a43628%20%3D%20%24%28%60%3Cdiv%20id%3D%22html_18c4615d2bef499ca0eae8f112a43628%22%20style%3D%22width%3A%20100.0%25%3B%20height%3A%20100.0%25%3B%22%3EPATROL%20BORO%20MAN%20SOUTH%3C/div%3E%60%29%5B0%5D%3B%0A%20%20%20%20%20%20%20%20%20%20%20%20popup_e32013342cef415b82cc7e7a6e15c2c5.setContent%28html_18c4615d2bef499ca0eae8f112a43628%29%3B%0A%20%20%20%20%20%20%20%20%0A%0A%20%20%20%20%20%20%20%20marker_a9b4419b301d4d6380cb81b30d338a30.bindPopup%28popup_e32013342cef415b82cc7e7a6e15c2c5%29%0A%20%20%20%20%20%20%20%20%3B%0A%0A%20%20%20%20%20%20%20%20%0A%20%20%20%20%0A%20%20%20%20%0A%20%20%20%20%20%20%20%20%20%20%20%20var%20marker_23b69ddd166842baa198b926f6461664%20%3D%20L.marker%28%0A%20%20%20%20%20%20%20%20%20%20%20%20%20%20%20%20%5B40.74829799100007%2C%20-73.98817814399997%5D%2C%0A%20%20%20%20%20%20%20%20%20%20%20%20%20%20%20%20%7B%7D%0A%20%20%20%20%20%20%20%20%20%20%20%20%29.addTo%28map_c1ea5e6eff4e497aac2296227df9ba5b%29%3B%0A%20%20%20%20%20%20%20%20%0A%20%20%20%20%0A%20%20%20%20%20%20%20%20var%20popup_b55f7fc2a5814c86969fffd37776ed71%20%3D%20L.popup%28%7B%22maxWidth%22%3A%20%22100%25%22%7D%29%3B%0A%0A%20%20%20%20%20%20%20%20%0A%20%20%20%20%20%20%20%20%20%20%20%20var%20html_ef527cda4bc548e395970e3c36e22f1b%20%3D%20%24%28%60%3Cdiv%20id%3D%22html_ef527cda4bc548e395970e3c36e22f1b%22%20style%3D%22width%3A%20100.0%25%3B%20height%3A%20100.0%25%3B%22%3EPATROL%20BORO%20MAN%20SOUTH%3C/div%3E%60%29%5B0%5D%3B%0A%20%20%20%20%20%20%20%20%20%20%20%20popup_b55f7fc2a5814c86969fffd37776ed71.setContent%28html_ef527cda4bc548e395970e3c36e22f1b%29%3B%0A%20%20%20%20%20%20%20%20%0A%0A%20%20%20%20%20%20%20%20marker_23b69ddd166842baa198b926f6461664.bindPopup%28popup_b55f7fc2a5814c86969fffd37776ed71%29%0A%20%20%20%20%20%20%20%20%3B%0A%0A%20%20%20%20%20%20%20%20%0A%20%20%20%20%0A%20%20%20%20%0A%20%20%20%20%20%20%20%20%20%20%20%20var%20marker_0ca30a27cd8a47bd89a805d5208f3d95%20%3D%20L.marker%28%0A%20%20%20%20%20%20%20%20%20%20%20%20%20%20%20%20%5B40.61721002100006%2C%20-74.16731710099998%5D%2C%0A%20%20%20%20%20%20%20%20%20%20%20%20%20%20%20%20%7B%7D%0A%20%20%20%20%20%20%20%20%20%20%20%20%29.addTo%28map_c1ea5e6eff4e497aac2296227df9ba5b%29%3B%0A%20%20%20%20%20%20%20%20%0A%20%20%20%20%0A%20%20%20%20%20%20%20%20var%20popup_0256c0b1151e4e7ba7783e57c8aaa65e%20%3D%20L.popup%28%7B%22maxWidth%22%3A%20%22100%25%22%7D%29%3B%0A%0A%20%20%20%20%20%20%20%20%0A%20%20%20%20%20%20%20%20%20%20%20%20var%20html_ea76f4116f194f68af2e6183ea461ddf%20%3D%20%24%28%60%3Cdiv%20id%3D%22html_ea76f4116f194f68af2e6183ea461ddf%22%20style%3D%22width%3A%20100.0%25%3B%20height%3A%20100.0%25%3B%22%3EPATROL%20BORO%20STATEN%20ISLAND%3C/div%3E%60%29%5B0%5D%3B%0A%20%20%20%20%20%20%20%20%20%20%20%20popup_0256c0b1151e4e7ba7783e57c8aaa65e.setContent%28html_ea76f4116f194f68af2e6183ea461ddf%29%3B%0A%20%20%20%20%20%20%20%20%0A%0A%20%20%20%20%20%20%20%20marker_0ca30a27cd8a47bd89a805d5208f3d95.bindPopup%28popup_0256c0b1151e4e7ba7783e57c8aaa65e%29%0A%20%20%20%20%20%20%20%20%3B%0A%0A%20%20%20%20%20%20%20%20%0A%20%20%20%20%0A%20%20%20%20%0A%20%20%20%20%20%20%20%20%20%20%20%20var%20marker_a1cc81dae2c54d8196f963f8f4827911%20%3D%20L.marker%28%0A%20%20%20%20%20%20%20%20%20%20%20%20%20%20%20%20%5B40.78787459900008%2C%20-73.92818164599998%5D%2C%0A%20%20%20%20%20%20%20%20%20%20%20%20%20%20%20%20%7B%7D%0A%20%20%20%20%20%20%20%20%20%20%20%20%29.addTo%28map_c1ea5e6eff4e497aac2296227df9ba5b%29%3B%0A%20%20%20%20%20%20%20%20%0A%20%20%20%20%0A%20%20%20%20%20%20%20%20var%20popup_c1bc4b72251f44349f9ff73761347cfb%20%3D%20L.popup%28%7B%22maxWidth%22%3A%20%22100%25%22%7D%29%3B%0A%0A%20%20%20%20%20%20%20%20%0A%20%20%20%20%20%20%20%20%20%20%20%20var%20html_864c4bb1c7ac4f36b5ff7cc51aec6e5b%20%3D%20%24%28%60%3Cdiv%20id%3D%22html_864c4bb1c7ac4f36b5ff7cc51aec6e5b%22%20style%3D%22width%3A%20100.0%25%3B%20height%3A%20100.0%25%3B%22%3EPATROL%20BORO%20MAN%20NORTH%3C/div%3E%60%29%5B0%5D%3B%0A%20%20%20%20%20%20%20%20%20%20%20%20popup_c1bc4b72251f44349f9ff73761347cfb.setContent%28html_864c4bb1c7ac4f36b5ff7cc51aec6e5b%29%3B%0A%20%20%20%20%20%20%20%20%0A%0A%20%20%20%20%20%20%20%20marker_a1cc81dae2c54d8196f963f8f4827911.bindPopup%28popup_c1bc4b72251f44349f9ff73761347cfb%29%0A%20%20%20%20%20%20%20%20%3B%0A%0A%20%20%20%20%20%20%20%20%0A%20%20%20%20%0A%20%20%20%20%0A%20%20%20%20%20%20%20%20%20%20%20%20var%20marker_9f308e2f4c0742cc9633735cb95c2178%20%3D%20L.marker%28%0A%20%20%20%20%20%20%20%20%20%20%20%20%20%20%20%20%5B40.834516921000045%2C%20-73.91770925599997%5D%2C%0A%20%20%20%20%20%20%20%20%20%20%20%20%20%20%20%20%7B%7D%0A%20%20%20%20%20%20%20%20%20%20%20%20%29.addTo%28map_c1ea5e6eff4e497aac2296227df9ba5b%29%3B%0A%20%20%20%20%20%20%20%20%0A%20%20%20%20%0A%20%20%20%20%20%20%20%20var%20popup_2b7de26eec6c467aad3c55967f9e3f38%20%3D%20L.popup%28%7B%22maxWidth%22%3A%20%22100%25%22%7D%29%3B%0A%0A%20%20%20%20%20%20%20%20%0A%20%20%20%20%20%20%20%20%20%20%20%20var%20html_13dba5dd369243d0818f73592477a920%20%3D%20%24%28%60%3Cdiv%20id%3D%22html_13dba5dd369243d0818f73592477a920%22%20style%3D%22width%3A%20100.0%25%3B%20height%3A%20100.0%25%3B%22%3EPATROL%20BORO%20BRONX%3C/div%3E%60%29%5B0%5D%3B%0A%20%20%20%20%20%20%20%20%20%20%20%20popup_2b7de26eec6c467aad3c55967f9e3f38.setContent%28html_13dba5dd369243d0818f73592477a920%29%3B%0A%20%20%20%20%20%20%20%20%0A%0A%20%20%20%20%20%20%20%20marker_9f308e2f4c0742cc9633735cb95c2178.bindPopup%28popup_2b7de26eec6c467aad3c55967f9e3f38%29%0A%20%20%20%20%20%20%20%20%3B%0A%0A%20%20%20%20%20%20%20%20%0A%20%20%20%20%0A%3C/script%3E onload=\"this.contentDocument.open();this.contentDocument.write(    decodeURIComponent(this.getAttribute('data-html')));this.contentDocument.close();\" allowfullscreen webkitallowfullscreen mozallowfullscreen></iframe></div></div>"
      ],
      "text/plain": [
       "<folium.folium.Map at 0x7fb0af1da5b0>"
      ]
     },
     "execution_count": 40,
     "metadata": {},
     "output_type": "execute_result"
    }
   ],
   "source": [
    "#plotting a map with area location which has highest crime rate.\n",
    "locations"
   ]
  },
  {
   "cell_type": "markdown",
   "id": "df41a8e1",
   "metadata": {},
   "source": [
    "### Pie chart defining the age category of suspected people with percentage."
   ]
  },
  {
   "cell_type": "code",
   "execution_count": 41,
   "id": "3a19be4d",
   "metadata": {},
   "outputs": [
    {
     "data": {
      "text/plain": [
       "<AxesSubplot:ylabel='SUSP_AGE_GROUP'>"
      ]
     },
     "execution_count": 41,
     "metadata": {},
     "output_type": "execute_result"
    },
    {
     "data": {
      "image/png": "[encoded data removed]",
      "text/plain": [
       "<Figure size 792x792 with 1 Axes>"
      ]
     },
     "metadata": {},
     "output_type": "display_data"
    }
   ],
   "source": [
    "\n",
    "draw['SUSP_AGE_GROUP'].value_counts().head(30).plot(kind = 'pie',autopct='%.2f',figsize=(11,11))"
   ]
  },
  {
   "cell_type": "markdown",
   "id": "7546cd76",
   "metadata": {},
   "source": [
    "### plotting the Range of Suspect gender "
   ]
  },
  {
   "cell_type": "code",
   "execution_count": 42,
   "id": "ab66293a",
   "metadata": {},
   "outputs": [
    {
     "data": {
      "image/png": "[encoded data removed]",
      "text/plain": [
       "<Figure size 1440x648 with 1 Axes>"
      ]
     },
     "metadata": {
      "needs_background": "light"
     },
     "output_type": "display_data"
    }
   ],
   "source": [
    "draw['SUSP_SEX'].value_counts().plot.bar()\n",
    "plt.title('Suspect Gender Category')\n",
    "plt.ylabel(' ')\n",
    "plt.show()"
   ]
  },
  {
   "cell_type": "markdown",
   "id": "8f76bfab",
   "metadata": {},
   "source": [
    "### converting into the date time format\n"
   ]
  },
  {
   "cell_type": "code",
   "execution_count": 43,
   "id": "8806287e",
   "metadata": {},
   "outputs": [],
   "source": [
    "draw['Complaint_date']=pd.to_datetime(draw['CMPLNT_FR_DT'],errors='coerce')\n"
   ]
  },
  {
   "cell_type": "code",
   "execution_count": 44,
   "id": "483f1969",
   "metadata": {},
   "outputs": [],
   "source": [
    "draw['Start year']=draw['Complaint_date'].dt.year"
   ]
  },
  {
   "cell_type": "markdown",
   "id": "1c82330c",
   "metadata": {},
   "source": [
    "### Checking the total count of years"
   ]
  },
  {
   "cell_type": "code",
   "execution_count": 45,
   "id": "b2ae0ef9",
   "metadata": {},
   "outputs": [
    {
     "data": {
      "text/plain": [
       "2019    9882\n",
       "2018      32\n",
       "2020      14\n",
       "2017      11\n",
       "2006      10\n",
       "2014       9\n",
       "2016       8\n",
       "2013       6\n",
       "2007       5\n",
       "2008       3\n",
       "2015       3\n",
       "2011       3\n",
       "2009       3\n",
       "2012       2\n",
       "2004       1\n",
       "1988       1\n",
       "1997       1\n",
       "1974       1\n",
       "1990       1\n",
       "1995       1\n",
       "2010       1\n",
       "1983       1\n",
       "1991       1\n",
       "Name: Start year, dtype: int64"
      ]
     },
     "execution_count": 45,
     "metadata": {},
     "output_type": "execute_result"
    }
   ],
   "source": [
    "draw['Start year'].value_counts()"
   ]
  },
  {
   "cell_type": "markdown",
   "id": "1499953e",
   "metadata": {},
   "source": [
    "### Here plotting the years with crime rate"
   ]
  },
  {
   "cell_type": "code",
   "execution_count": 46,
   "id": "afe08396",
   "metadata": {},
   "outputs": [
    {
     "data": {
      "text/plain": [
       "<AxesSubplot:>"
      ]
     },
     "execution_count": 46,
     "metadata": {},
     "output_type": "execute_result"
    },
    {
     "data": {
      "image/png": "[encoded data removed]",
      "text/plain": [
       "<Figure size 1440x648 with 1 Axes>"
      ]
     },
     "metadata": {
      "needs_background": "light"
     },
     "output_type": "display_data"
    }
   ],
   "source": [
    "draw['Start year'].value_counts().tail(21).plot(kind='bar')"
   ]
  },
  {
   "cell_type": "markdown",
   "id": "46c81c19",
   "metadata": {},
   "source": [
    "### Plotting the Race category of Suspect"
   ]
  },
  {
   "cell_type": "code",
   "execution_count": 47,
   "id": "fc5844a2",
   "metadata": {},
   "outputs": [
    {
     "data": {
      "image/png": "[encoded data removed]",
      "text/plain": [
       "<Figure size 1440x648 with 1 Axes>"
      ]
     },
     "metadata": {
      "needs_background": "light"
     },
     "output_type": "display_data"
    }
   ],
   "source": [
    "draw['SUSP_RACE'].value_counts().plot.bar()\n",
    "plt.title('Suspect Race Category')\n",
    "plt.ylabel(' ')\n",
    "plt.show()"
   ]
  },
  {
   "cell_type": "markdown",
   "id": "54fb2d62",
   "metadata": {},
   "source": [
    "### Here we are dropping the Unwanted columns "
   ]
  },
  {
   "cell_type": "code",
   "execution_count": 48,
   "id": "944bf665",
   "metadata": {},
   "outputs": [],
   "source": [
    "chunk1.drop(['CMPLNT_NUM','CMPLNT_FR_DT','CMPLNT_FR_TM','CMPLNT_TO_DT','CMPLNT_TO_TM','RPT_DT','PARKS_NM', 'HADEVELOPT', 'HOUSING_PSA', 'TRANSIT_DISTRICT', 'STATION_NAME', 'KY_CD', 'PD_CD', 'CRM_ATPT_CPTD_CD'],axis = 1,inplace=True)"
   ]
  },
  {
   "cell_type": "code",
   "execution_count": 49,
   "id": "a574a6c8",
   "metadata": {},
   "outputs": [
    {
     "data": {
      "text/html": [
       "<div>\n",
       "<style scoped>\n",
       "    .dataframe tbody tr th:only-of-type {\n",
       "        vertical-align: middle;\n",
       "    }\n",
       "\n",
       "    .dataframe tbody tr th {\n",
       "        vertical-align: top;\n",
       "    }\n",
       "\n",
       "    .dataframe thead th {\n",
       "        text-align: right;\n",
       "    }\n",
       "</style>\n",
       "<table border=\"1\" class=\"dataframe\">\n",
       "  <thead>\n",
       "    <tr style=\"text-align: right;\">\n",
       "      <th></th>\n",
       "      <th>Unnamed: 0</th>\n",
       "      <th>ADDR_PCT_CD</th>\n",
       "      <th>OFNS_DESC</th>\n",
       "      <th>PD_DESC</th>\n",
       "      <th>LAW_CAT_CD</th>\n",
       "      <th>BORO_NM</th>\n",
       "      <th>LOC_OF_OCCUR_DESC</th>\n",
       "      <th>PREM_TYP_DESC</th>\n",
       "      <th>JURIS_DESC</th>\n",
       "      <th>JURISDICTION_CODE</th>\n",
       "      <th>...</th>\n",
       "      <th>Month</th>\n",
       "      <th>Year</th>\n",
       "      <th>Complaint_Day</th>\n",
       "      <th>Complaint_Month</th>\n",
       "      <th>Complaint_Year</th>\n",
       "      <th>Report_Day</th>\n",
       "      <th>Report_Month</th>\n",
       "      <th>Report_Year</th>\n",
       "      <th>Complaint_date</th>\n",
       "      <th>Start year</th>\n",
       "    </tr>\n",
       "  </thead>\n",
       "  <tbody>\n",
       "    <tr>\n",
       "      <th>0</th>\n",
       "      <td>0</td>\n",
       "      <td>32.0</td>\n",
       "      <td>DANGEROUS WEAPONS</td>\n",
       "      <td>WEAPONS POSSESSION 3</td>\n",
       "      <td>FELONY</td>\n",
       "      <td>MANHATTAN</td>\n",
       "      <td>NaN</td>\n",
       "      <td>STREET</td>\n",
       "      <td>N.Y. POLICE DEPT</td>\n",
       "      <td>0.0</td>\n",
       "      <td>...</td>\n",
       "      <td>12</td>\n",
       "      <td>2019</td>\n",
       "      <td>NaN</td>\n",
       "      <td>NaN</td>\n",
       "      <td>NaN</td>\n",
       "      <td>1</td>\n",
       "      <td>12</td>\n",
       "      <td>2019</td>\n",
       "      <td>2019-12-31</td>\n",
       "      <td>2019</td>\n",
       "    </tr>\n",
       "    <tr>\n",
       "      <th>1</th>\n",
       "      <td>1</td>\n",
       "      <td>47.0</td>\n",
       "      <td>FORGERY</td>\n",
       "      <td>FORGERY,ETC.,UNCLASSIFIED-FELO</td>\n",
       "      <td>FELONY</td>\n",
       "      <td>BRONX</td>\n",
       "      <td>NaN</td>\n",
       "      <td>STREET</td>\n",
       "      <td>N.Y. POLICE DEPT</td>\n",
       "      <td>0.0</td>\n",
       "      <td>...</td>\n",
       "      <td>12</td>\n",
       "      <td>2019</td>\n",
       "      <td>6.0</td>\n",
       "      <td>12.0</td>\n",
       "      <td>2019.0</td>\n",
       "      <td>6</td>\n",
       "      <td>12</td>\n",
       "      <td>2019</td>\n",
       "      <td>2019-12-29</td>\n",
       "      <td>2019</td>\n",
       "    </tr>\n",
       "    <tr>\n",
       "      <th>2</th>\n",
       "      <td>2</td>\n",
       "      <td>109.0</td>\n",
       "      <td>HARRASSMENT 2</td>\n",
       "      <td>HARASSMENT,SUBD 3,4,5</td>\n",
       "      <td>VIOLATION</td>\n",
       "      <td>QUEENS</td>\n",
       "      <td>FRONT OF</td>\n",
       "      <td>STREET</td>\n",
       "      <td>N.Y. POLICE DEPT</td>\n",
       "      <td>0.0</td>\n",
       "      <td>...</td>\n",
       "      <td>12</td>\n",
       "      <td>2019</td>\n",
       "      <td>NaN</td>\n",
       "      <td>NaN</td>\n",
       "      <td>NaN</td>\n",
       "      <td>6</td>\n",
       "      <td>12</td>\n",
       "      <td>2019</td>\n",
       "      <td>2019-12-15</td>\n",
       "      <td>2019</td>\n",
       "    </tr>\n",
       "    <tr>\n",
       "      <th>3</th>\n",
       "      <td>3</td>\n",
       "      <td>47.0</td>\n",
       "      <td>MISCELLANEOUS PENAL LAW</td>\n",
       "      <td>RECKLESS ENDANGERMENT 1</td>\n",
       "      <td>FELONY</td>\n",
       "      <td>BRONX</td>\n",
       "      <td>REAR OF</td>\n",
       "      <td>STREET</td>\n",
       "      <td>N.Y. POLICE DEPT</td>\n",
       "      <td>0.0</td>\n",
       "      <td>...</td>\n",
       "      <td>12</td>\n",
       "      <td>2019</td>\n",
       "      <td>NaN</td>\n",
       "      <td>NaN</td>\n",
       "      <td>NaN</td>\n",
       "      <td>5</td>\n",
       "      <td>12</td>\n",
       "      <td>2019</td>\n",
       "      <td>2019-12-28</td>\n",
       "      <td>2019</td>\n",
       "    </tr>\n",
       "    <tr>\n",
       "      <th>4</th>\n",
       "      <td>4</td>\n",
       "      <td>NaN</td>\n",
       "      <td>MURDER &amp; NON-NEGL. MANSLAUGHTER</td>\n",
       "      <td>NaN</td>\n",
       "      <td>FELONY</td>\n",
       "      <td>NaN</td>\n",
       "      <td>OUTSIDE</td>\n",
       "      <td>NaN</td>\n",
       "      <td>N.Y. POLICE DEPT</td>\n",
       "      <td>NaN</td>\n",
       "      <td>...</td>\n",
       "      <td>9</td>\n",
       "      <td>2008</td>\n",
       "      <td>NaN</td>\n",
       "      <td>NaN</td>\n",
       "      <td>NaN</td>\n",
       "      <td>4</td>\n",
       "      <td>9</td>\n",
       "      <td>2008</td>\n",
       "      <td>2008-09-05</td>\n",
       "      <td>2008</td>\n",
       "    </tr>\n",
       "    <tr>\n",
       "      <th>...</th>\n",
       "      <td>...</td>\n",
       "      <td>...</td>\n",
       "      <td>...</td>\n",
       "      <td>...</td>\n",
       "      <td>...</td>\n",
       "      <td>...</td>\n",
       "      <td>...</td>\n",
       "      <td>...</td>\n",
       "      <td>...</td>\n",
       "      <td>...</td>\n",
       "      <td>...</td>\n",
       "      <td>...</td>\n",
       "      <td>...</td>\n",
       "      <td>...</td>\n",
       "      <td>...</td>\n",
       "      <td>...</td>\n",
       "      <td>...</td>\n",
       "      <td>...</td>\n",
       "      <td>...</td>\n",
       "      <td>...</td>\n",
       "      <td>...</td>\n",
       "    </tr>\n",
       "    <tr>\n",
       "      <th>9995</th>\n",
       "      <td>9995</td>\n",
       "      <td>113.0</td>\n",
       "      <td>ASSAULT 3 &amp; RELATED OFFENSES</td>\n",
       "      <td>ASSAULT 3</td>\n",
       "      <td>MISDEMEANOR</td>\n",
       "      <td>QUEENS</td>\n",
       "      <td>INSIDE</td>\n",
       "      <td>RESIDENCE-HOUSE</td>\n",
       "      <td>N.Y. POLICE DEPT</td>\n",
       "      <td>0.0</td>\n",
       "      <td>...</td>\n",
       "      <td>12</td>\n",
       "      <td>2019</td>\n",
       "      <td>0.0</td>\n",
       "      <td>12.0</td>\n",
       "      <td>2019.0</td>\n",
       "      <td>0</td>\n",
       "      <td>12</td>\n",
       "      <td>2019</td>\n",
       "      <td>2019-12-30</td>\n",
       "      <td>2019</td>\n",
       "    </tr>\n",
       "    <tr>\n",
       "      <th>9996</th>\n",
       "      <td>9996</td>\n",
       "      <td>73.0</td>\n",
       "      <td>OFFENSES AGAINST PUBLIC ADMINI</td>\n",
       "      <td>BAIL JUMPING 3</td>\n",
       "      <td>MISDEMEANOR</td>\n",
       "      <td>BROOKLYN</td>\n",
       "      <td>NaN</td>\n",
       "      <td>STREET</td>\n",
       "      <td>N.Y. POLICE DEPT</td>\n",
       "      <td>0.0</td>\n",
       "      <td>...</td>\n",
       "      <td>12</td>\n",
       "      <td>2019</td>\n",
       "      <td>3.0</td>\n",
       "      <td>12.0</td>\n",
       "      <td>2019.0</td>\n",
       "      <td>3</td>\n",
       "      <td>12</td>\n",
       "      <td>2019</td>\n",
       "      <td>2019-12-26</td>\n",
       "      <td>2019</td>\n",
       "    </tr>\n",
       "    <tr>\n",
       "      <th>9997</th>\n",
       "      <td>9997</td>\n",
       "      <td>107.0</td>\n",
       "      <td>PETIT LARCENY</td>\n",
       "      <td>PETIT LARCENY OF ANIMAL</td>\n",
       "      <td>MISDEMEANOR</td>\n",
       "      <td>QUEENS</td>\n",
       "      <td>INSIDE</td>\n",
       "      <td>RESIDENCE-HOUSE</td>\n",
       "      <td>N.Y. POLICE DEPT</td>\n",
       "      <td>0.0</td>\n",
       "      <td>...</td>\n",
       "      <td>12</td>\n",
       "      <td>2019</td>\n",
       "      <td>NaN</td>\n",
       "      <td>NaN</td>\n",
       "      <td>NaN</td>\n",
       "      <td>6</td>\n",
       "      <td>12</td>\n",
       "      <td>2019</td>\n",
       "      <td>2019-12-22</td>\n",
       "      <td>2019</td>\n",
       "    </tr>\n",
       "    <tr>\n",
       "      <th>9998</th>\n",
       "      <td>9998</td>\n",
       "      <td>94.0</td>\n",
       "      <td>ROBBERY</td>\n",
       "      <td>ROBBERY,PERSONAL ELECTRONIC DEVICE</td>\n",
       "      <td>FELONY</td>\n",
       "      <td>BROOKLYN</td>\n",
       "      <td>INSIDE</td>\n",
       "      <td>RESIDENCE - APT. HOUSE</td>\n",
       "      <td>N.Y. POLICE DEPT</td>\n",
       "      <td>0.0</td>\n",
       "      <td>...</td>\n",
       "      <td>12</td>\n",
       "      <td>2019</td>\n",
       "      <td>2.0</td>\n",
       "      <td>12.0</td>\n",
       "      <td>2019.0</td>\n",
       "      <td>3</td>\n",
       "      <td>12</td>\n",
       "      <td>2019</td>\n",
       "      <td>2019-12-25</td>\n",
       "      <td>2019</td>\n",
       "    </tr>\n",
       "    <tr>\n",
       "      <th>9999</th>\n",
       "      <td>9999</td>\n",
       "      <td>114.0</td>\n",
       "      <td>OFF. AGNST PUB ORD SENSBLTY &amp;</td>\n",
       "      <td>AGGRAVATED HARASSMENT 2</td>\n",
       "      <td>MISDEMEANOR</td>\n",
       "      <td>QUEENS</td>\n",
       "      <td>INSIDE</td>\n",
       "      <td>RESIDENCE - APT. HOUSE</td>\n",
       "      <td>N.Y. POLICE DEPT</td>\n",
       "      <td>0.0</td>\n",
       "      <td>...</td>\n",
       "      <td>12</td>\n",
       "      <td>2019</td>\n",
       "      <td>4.0</td>\n",
       "      <td>12.0</td>\n",
       "      <td>2019.0</td>\n",
       "      <td>5</td>\n",
       "      <td>12</td>\n",
       "      <td>2019</td>\n",
       "      <td>2019-12-27</td>\n",
       "      <td>2019</td>\n",
       "    </tr>\n",
       "  </tbody>\n",
       "</table>\n",
       "<p>10000 rows × 38 columns</p>\n",
       "</div>"
      ],
      "text/plain": [
       "      Unnamed: 0  ADDR_PCT_CD                        OFNS_DESC  \\\n",
       "0              0         32.0                DANGEROUS WEAPONS   \n",
       "1              1         47.0                          FORGERY   \n",
       "2              2        109.0                    HARRASSMENT 2   \n",
       "3              3         47.0          MISCELLANEOUS PENAL LAW   \n",
       "4              4          NaN  MURDER & NON-NEGL. MANSLAUGHTER   \n",
       "...          ...          ...                              ...   \n",
       "9995        9995        113.0     ASSAULT 3 & RELATED OFFENSES   \n",
       "9996        9996         73.0   OFFENSES AGAINST PUBLIC ADMINI   \n",
       "9997        9997        107.0                    PETIT LARCENY   \n",
       "9998        9998         94.0                          ROBBERY   \n",
       "9999        9999        114.0    OFF. AGNST PUB ORD SENSBLTY &   \n",
       "\n",
       "                                 PD_DESC   LAW_CAT_CD    BORO_NM  \\\n",
       "0                   WEAPONS POSSESSION 3       FELONY  MANHATTAN   \n",
       "1         FORGERY,ETC.,UNCLASSIFIED-FELO       FELONY      BRONX   \n",
       "2                  HARASSMENT,SUBD 3,4,5    VIOLATION     QUEENS   \n",
       "3                RECKLESS ENDANGERMENT 1       FELONY      BRONX   \n",
       "4                                    NaN       FELONY        NaN   \n",
       "...                                  ...          ...        ...   \n",
       "9995                           ASSAULT 3  MISDEMEANOR     QUEENS   \n",
       "9996                      BAIL JUMPING 3  MISDEMEANOR   BROOKLYN   \n",
       "9997             PETIT LARCENY OF ANIMAL  MISDEMEANOR     QUEENS   \n",
       "9998  ROBBERY,PERSONAL ELECTRONIC DEVICE       FELONY   BROOKLYN   \n",
       "9999             AGGRAVATED HARASSMENT 2  MISDEMEANOR     QUEENS   \n",
       "\n",
       "     LOC_OF_OCCUR_DESC           PREM_TYP_DESC        JURIS_DESC  \\\n",
       "0                  NaN                  STREET  N.Y. POLICE DEPT   \n",
       "1                  NaN                  STREET  N.Y. POLICE DEPT   \n",
       "2             FRONT OF                  STREET  N.Y. POLICE DEPT   \n",
       "3              REAR OF                  STREET  N.Y. POLICE DEPT   \n",
       "4              OUTSIDE                     NaN  N.Y. POLICE DEPT   \n",
       "...                ...                     ...               ...   \n",
       "9995            INSIDE         RESIDENCE-HOUSE  N.Y. POLICE DEPT   \n",
       "9996               NaN                  STREET  N.Y. POLICE DEPT   \n",
       "9997            INSIDE         RESIDENCE-HOUSE  N.Y. POLICE DEPT   \n",
       "9998            INSIDE  RESIDENCE - APT. HOUSE  N.Y. POLICE DEPT   \n",
       "9999            INSIDE  RESIDENCE - APT. HOUSE  N.Y. POLICE DEPT   \n",
       "\n",
       "      JURISDICTION_CODE  ...  Month  Year Complaint_Day Complaint_Month  \\\n",
       "0                   0.0  ...     12  2019           NaN             NaN   \n",
       "1                   0.0  ...     12  2019           6.0            12.0   \n",
       "2                   0.0  ...     12  2019           NaN             NaN   \n",
       "3                   0.0  ...     12  2019           NaN             NaN   \n",
       "4                   NaN  ...      9  2008           NaN             NaN   \n",
       "...                 ...  ...    ...   ...           ...             ...   \n",
       "9995                0.0  ...     12  2019           0.0            12.0   \n",
       "9996                0.0  ...     12  2019           3.0            12.0   \n",
       "9997                0.0  ...     12  2019           NaN             NaN   \n",
       "9998                0.0  ...     12  2019           2.0            12.0   \n",
       "9999                0.0  ...     12  2019           4.0            12.0   \n",
       "\n",
       "     Complaint_Year  Report_Day  Report_Month Report_Year Complaint_date  \\\n",
       "0               NaN           1            12        2019     2019-12-31   \n",
       "1            2019.0           6            12        2019     2019-12-29   \n",
       "2               NaN           6            12        2019     2019-12-15   \n",
       "3               NaN           5            12        2019     2019-12-28   \n",
       "4               NaN           4             9        2008     2008-09-05   \n",
       "...             ...         ...           ...         ...            ...   \n",
       "9995         2019.0           0            12        2019     2019-12-30   \n",
       "9996         2019.0           3            12        2019     2019-12-26   \n",
       "9997            NaN           6            12        2019     2019-12-22   \n",
       "9998         2019.0           3            12        2019     2019-12-25   \n",
       "9999         2019.0           5            12        2019     2019-12-27   \n",
       "\n",
       "     Start year  \n",
       "0          2019  \n",
       "1          2019  \n",
       "2          2019  \n",
       "3          2019  \n",
       "4          2008  \n",
       "...         ...  \n",
       "9995       2019  \n",
       "9996       2019  \n",
       "9997       2019  \n",
       "9998       2019  \n",
       "9999       2019  \n",
       "\n",
       "[10000 rows x 38 columns]"
      ]
     },
     "execution_count": 49,
     "metadata": {},
     "output_type": "execute_result"
    }
   ],
   "source": [
    "#checking data after drop of unwanted columns \n",
    "chunk1"
   ]
  },
  {
   "cell_type": "markdown",
   "id": "e8ebc394",
   "metadata": {},
   "source": [
    "### Checking the values count of the BORO_NM"
   ]
  },
  {
   "cell_type": "code",
   "execution_count": 50,
   "id": "5c4d57a2",
   "metadata": {},
   "outputs": [
    {
     "data": {
      "text/plain": [
       "BROOKLYN         2702\n",
       "BRONX            2449\n",
       "MANHATTAN        2353\n",
       "QUEENS           2025\n",
       "STATEN ISLAND     383\n",
       "Name: BORO_NM, dtype: int64"
      ]
     },
     "execution_count": 50,
     "metadata": {},
     "output_type": "execute_result"
    }
   ],
   "source": [
    "chunk1['BORO_NM'].value_counts()"
   ]
  },
  {
   "cell_type": "markdown",
   "id": "c49c4c8a",
   "metadata": {},
   "source": [
    "### Checking the rest of the columns after dropping the unwanted columns."
   ]
  },
  {
   "cell_type": "code",
   "execution_count": 51,
   "id": "6c50013f",
   "metadata": {},
   "outputs": [
    {
     "data": {
      "text/plain": [
       "Index(['Unnamed: 0', 'ADDR_PCT_CD', 'OFNS_DESC', 'PD_DESC', 'LAW_CAT_CD',\n",
       "       'BORO_NM', 'LOC_OF_OCCUR_DESC', 'PREM_TYP_DESC', 'JURIS_DESC',\n",
       "       'JURISDICTION_CODE', 'X_COORD_CD', 'Y_COORD_CD', 'SUSP_AGE_GROUP',\n",
       "       'SUSP_RACE', 'SUSP_SEX', 'Latitude', 'Longitude', 'Lat_Lon',\n",
       "       'PATROL_BORO', 'VIC_AGE_GROUP', 'VIC_RACE', 'VIC_SEX', 'Date',\n",
       "       'Complaint_Date', 'Report_Date', 'Time', 'Complaint_Time', 'Day',\n",
       "       'Month', 'Year', 'Complaint_Day', 'Complaint_Month', 'Complaint_Year',\n",
       "       'Report_Day', 'Report_Month', 'Report_Year', 'Complaint_date',\n",
       "       'Start year'],\n",
       "      dtype='object')"
      ]
     },
     "execution_count": 51,
     "metadata": {},
     "output_type": "execute_result"
    }
   ],
   "source": [
    "chunk1.columns"
   ]
  },
  {
   "cell_type": "markdown",
   "id": "db16f962",
   "metadata": {},
   "source": [
    "###  Defining the Missing Values Percentage\n"
   ]
  },
  {
   "cell_type": "code",
   "execution_count": 52,
   "id": "75afe029",
   "metadata": {},
   "outputs": [
    {
     "data": {
      "text/plain": [
       "Unnamed: 0           0.000000\n",
       "ADDR_PCT_CD          0.000108\n",
       "OFNS_DESC            0.000000\n",
       "PD_DESC              0.001180\n",
       "LAW_CAT_CD           0.000000\n",
       "BORO_NM              0.001193\n",
       "LOC_OF_OCCUR_DESC    0.023373\n",
       "PREM_TYP_DESC        0.001505\n",
       "JURIS_DESC           0.000000\n",
       "JURISDICTION_CODE    0.001180\n",
       "X_COORD_CD           0.000244\n",
       "Y_COORD_CD           0.000244\n",
       "SUSP_AGE_GROUP       0.037107\n",
       "SUSP_RACE            0.037053\n",
       "SUSP_SEX             0.037066\n",
       "Latitude             0.000244\n",
       "Longitude            0.000244\n",
       "Lat_Lon              0.000244\n",
       "PATROL_BORO          0.001180\n",
       "VIC_AGE_GROUP        0.000108\n",
       "VIC_RACE             0.000000\n",
       "VIC_SEX              0.000000\n",
       "Date                 0.000000\n",
       "Complaint_Date       0.021841\n",
       "Report_Date          0.000000\n",
       "Time                 0.135575\n",
       "Complaint_Time       0.135575\n",
       "Day                  0.000000\n",
       "Month                0.000000\n",
       "Year                 0.000000\n",
       "Complaint_Day        0.021841\n",
       "Complaint_Month      0.021841\n",
       "Complaint_Year       0.021841\n",
       "Report_Day           0.000000\n",
       "Report_Month         0.000000\n",
       "Report_Year          0.000000\n",
       "Complaint_date       0.000000\n",
       "Start year           0.000000\n",
       "dtype: float64"
      ]
     },
     "execution_count": 52,
     "metadata": {},
     "output_type": "execute_result"
    }
   ],
   "source": [
    "#checkning the null values \n",
    "chunk1.isnull().sum()/(len(df))*100"
   ]
  },
  {
   "cell_type": "code",
   "execution_count": 53,
   "id": "b366dd04",
   "metadata": {},
   "outputs": [
    {
     "name": "stdout",
     "output_type": "stream",
     "text": [
      "<class 'pandas.core.frame.DataFrame'>\n",
      "RangeIndex: 10000 entries, 0 to 9999\n",
      "Data columns (total 38 columns):\n",
      " #   Column             Non-Null Count  Dtype         \n",
      "---  ------             --------------  -----         \n",
      " 0   Unnamed: 0         10000 non-null  int64         \n",
      " 1   ADDR_PCT_CD        9992 non-null   float64       \n",
      " 2   OFNS_DESC          10000 non-null  object        \n",
      " 3   PD_DESC            9913 non-null   object        \n",
      " 4   LAW_CAT_CD         10000 non-null  object        \n",
      " 5   BORO_NM            9912 non-null   object        \n",
      " 6   LOC_OF_OCCUR_DESC  8276 non-null   object        \n",
      " 7   PREM_TYP_DESC      9889 non-null   object        \n",
      " 8   JURIS_DESC         10000 non-null  object        \n",
      " 9   JURISDICTION_CODE  9913 non-null   float64       \n",
      " 10  X_COORD_CD         9982 non-null   float64       \n",
      " 11  Y_COORD_CD         9982 non-null   float64       \n",
      " 12  SUSP_AGE_GROUP     7263 non-null   object        \n",
      " 13  SUSP_RACE          7267 non-null   object        \n",
      " 14  SUSP_SEX           7266 non-null   object        \n",
      " 15  Latitude           9982 non-null   float64       \n",
      " 16  Longitude          9982 non-null   float64       \n",
      " 17  Lat_Lon            9982 non-null   object        \n",
      " 18  PATROL_BORO        9913 non-null   object        \n",
      " 19  VIC_AGE_GROUP      9992 non-null   object        \n",
      " 20  VIC_RACE           10000 non-null  object        \n",
      " 21  VIC_SEX            10000 non-null  object        \n",
      " 22  Date               10000 non-null  datetime64[ns]\n",
      " 23  Complaint_Date     8389 non-null   datetime64[ns]\n",
      " 24  Report_Date        10000 non-null  datetime64[ns]\n",
      " 25  Time               0 non-null      datetime64[ns]\n",
      " 26  Complaint_Time     0 non-null      datetime64[ns]\n",
      " 27  Day                10000 non-null  int64         \n",
      " 28  Month              10000 non-null  int64         \n",
      " 29  Year               10000 non-null  int64         \n",
      " 30  Complaint_Day      8389 non-null   float64       \n",
      " 31  Complaint_Month    8389 non-null   float64       \n",
      " 32  Complaint_Year     8389 non-null   float64       \n",
      " 33  Report_Day         10000 non-null  int64         \n",
      " 34  Report_Month       10000 non-null  int64         \n",
      " 35  Report_Year        10000 non-null  int64         \n",
      " 36  Complaint_date     10000 non-null  datetime64[ns]\n",
      " 37  Start year         10000 non-null  int64         \n",
      "dtypes: datetime64[ns](6), float64(9), int64(8), object(15)\n",
      "memory usage: 2.9+ MB\n"
     ]
    }
   ],
   "source": [
    "#defining the datatypes\n",
    "chunk1.info()"
   ]
  },
  {
   "cell_type": "code",
   "execution_count": 54,
   "id": "17d47930",
   "metadata": {},
   "outputs": [
    {
     "data": {
      "text/html": [
       "<div>\n",
       "<style scoped>\n",
       "    .dataframe tbody tr th:only-of-type {\n",
       "        vertical-align: middle;\n",
       "    }\n",
       "\n",
       "    .dataframe tbody tr th {\n",
       "        vertical-align: top;\n",
       "    }\n",
       "\n",
       "    .dataframe thead th {\n",
       "        text-align: right;\n",
       "    }\n",
       "</style>\n",
       "<table border=\"1\" class=\"dataframe\">\n",
       "  <thead>\n",
       "    <tr style=\"text-align: right;\">\n",
       "      <th></th>\n",
       "      <th>Unnamed: 0</th>\n",
       "      <th>ADDR_PCT_CD</th>\n",
       "      <th>JURISDICTION_CODE</th>\n",
       "      <th>X_COORD_CD</th>\n",
       "      <th>Y_COORD_CD</th>\n",
       "      <th>Latitude</th>\n",
       "      <th>Longitude</th>\n",
       "      <th>Day</th>\n",
       "      <th>Month</th>\n",
       "      <th>Year</th>\n",
       "      <th>Complaint_Day</th>\n",
       "      <th>Complaint_Month</th>\n",
       "      <th>Complaint_Year</th>\n",
       "      <th>Report_Day</th>\n",
       "      <th>Report_Month</th>\n",
       "      <th>Report_Year</th>\n",
       "      <th>Start year</th>\n",
       "    </tr>\n",
       "  </thead>\n",
       "  <tbody>\n",
       "    <tr>\n",
       "      <th>count</th>\n",
       "      <td>10000.00000</td>\n",
       "      <td>9992.000000</td>\n",
       "      <td>9913.000000</td>\n",
       "      <td>9.982000e+03</td>\n",
       "      <td>9982.000000</td>\n",
       "      <td>9982.000000</td>\n",
       "      <td>9982.000000</td>\n",
       "      <td>10000.000000</td>\n",
       "      <td>10000.000000</td>\n",
       "      <td>10000.000000</td>\n",
       "      <td>8389.000000</td>\n",
       "      <td>8389.000000</td>\n",
       "      <td>8389.000000</td>\n",
       "      <td>10000.000000</td>\n",
       "      <td>10000.000000</td>\n",
       "      <td>10000.000000</td>\n",
       "      <td>10000.000000</td>\n",
       "    </tr>\n",
       "    <tr>\n",
       "      <th>mean</th>\n",
       "      <td>4999.50000</td>\n",
       "      <td>62.394115</td>\n",
       "      <td>0.914758</td>\n",
       "      <td>1.006222e+06</td>\n",
       "      <td>209241.607894</td>\n",
       "      <td>40.740952</td>\n",
       "      <td>-73.920686</td>\n",
       "      <td>3.073000</td>\n",
       "      <td>11.284300</td>\n",
       "      <td>2018.931300</td>\n",
       "      <td>3.081535</td>\n",
       "      <td>11.684825</td>\n",
       "      <td>2018.975206</td>\n",
       "      <td>2.966500</td>\n",
       "      <td>11.400700</td>\n",
       "      <td>2018.971900</td>\n",
       "      <td>2018.931300</td>\n",
       "    </tr>\n",
       "    <tr>\n",
       "      <th>std</th>\n",
       "      <td>2886.89568</td>\n",
       "      <td>34.250781</td>\n",
       "      <td>8.159830</td>\n",
       "      <td>2.115309e+04</td>\n",
       "      <td>30454.197539</td>\n",
       "      <td>0.083593</td>\n",
       "      <td>0.076293</td>\n",
       "      <td>2.136756</td>\n",
       "      <td>2.153448</td>\n",
       "      <td>1.060232</td>\n",
       "      <td>2.168845</td>\n",
       "      <td>1.437237</td>\n",
       "      <td>0.703967</td>\n",
       "      <td>2.201741</td>\n",
       "      <td>2.014583</td>\n",
       "      <td>0.557083</td>\n",
       "      <td>1.060232</td>\n",
       "    </tr>\n",
       "    <tr>\n",
       "      <th>min</th>\n",
       "      <td>0.00000</td>\n",
       "      <td>1.000000</td>\n",
       "      <td>0.000000</td>\n",
       "      <td>9.148030e+05</td>\n",
       "      <td>121152.000000</td>\n",
       "      <td>40.498957</td>\n",
       "      <td>-74.249755</td>\n",
       "      <td>0.000000</td>\n",
       "      <td>1.000000</td>\n",
       "      <td>1974.000000</td>\n",
       "      <td>0.000000</td>\n",
       "      <td>1.000000</td>\n",
       "      <td>1974.000000</td>\n",
       "      <td>0.000000</td>\n",
       "      <td>1.000000</td>\n",
       "      <td>2006.000000</td>\n",
       "      <td>1974.000000</td>\n",
       "    </tr>\n",
       "    <tr>\n",
       "      <th>25%</th>\n",
       "      <td>2499.75000</td>\n",
       "      <td>40.000000</td>\n",
       "      <td>0.000000</td>\n",
       "      <td>9.935700e+05</td>\n",
       "      <td>185681.500000</td>\n",
       "      <td>40.676310</td>\n",
       "      <td>-73.966358</td>\n",
       "      <td>1.000000</td>\n",
       "      <td>12.000000</td>\n",
       "      <td>2019.000000</td>\n",
       "      <td>1.000000</td>\n",
       "      <td>12.000000</td>\n",
       "      <td>2019.000000</td>\n",
       "      <td>1.000000</td>\n",
       "      <td>12.000000</td>\n",
       "      <td>2019.000000</td>\n",
       "      <td>2019.000000</td>\n",
       "    </tr>\n",
       "    <tr>\n",
       "      <th>50%</th>\n",
       "      <td>4999.50000</td>\n",
       "      <td>61.000000</td>\n",
       "      <td>0.000000</td>\n",
       "      <td>1.005728e+06</td>\n",
       "      <td>208453.500000</td>\n",
       "      <td>40.738768</td>\n",
       "      <td>-73.922376</td>\n",
       "      <td>3.000000</td>\n",
       "      <td>12.000000</td>\n",
       "      <td>2019.000000</td>\n",
       "      <td>3.000000</td>\n",
       "      <td>12.000000</td>\n",
       "      <td>2019.000000</td>\n",
       "      <td>3.000000</td>\n",
       "      <td>12.000000</td>\n",
       "      <td>2019.000000</td>\n",
       "      <td>2019.000000</td>\n",
       "    </tr>\n",
       "    <tr>\n",
       "      <th>75%</th>\n",
       "      <td>7499.25000</td>\n",
       "      <td>90.000000</td>\n",
       "      <td>0.000000</td>\n",
       "      <td>1.017982e+06</td>\n",
       "      <td>237353.000000</td>\n",
       "      <td>40.818148</td>\n",
       "      <td>-73.878128</td>\n",
       "      <td>5.000000</td>\n",
       "      <td>12.000000</td>\n",
       "      <td>2019.000000</td>\n",
       "      <td>5.000000</td>\n",
       "      <td>12.000000</td>\n",
       "      <td>2019.000000</td>\n",
       "      <td>5.000000</td>\n",
       "      <td>12.000000</td>\n",
       "      <td>2019.000000</td>\n",
       "      <td>2019.000000</td>\n",
       "    </tr>\n",
       "    <tr>\n",
       "      <th>max</th>\n",
       "      <td>9999.00000</td>\n",
       "      <td>123.000000</td>\n",
       "      <td>97.000000</td>\n",
       "      <td>1.066794e+06</td>\n",
       "      <td>271567.000000</td>\n",
       "      <td>40.912027</td>\n",
       "      <td>-73.702128</td>\n",
       "      <td>6.000000</td>\n",
       "      <td>12.000000</td>\n",
       "      <td>2020.000000</td>\n",
       "      <td>6.000000</td>\n",
       "      <td>12.000000</td>\n",
       "      <td>2019.000000</td>\n",
       "      <td>6.000000</td>\n",
       "      <td>12.000000</td>\n",
       "      <td>2020.000000</td>\n",
       "      <td>2020.000000</td>\n",
       "    </tr>\n",
       "  </tbody>\n",
       "</table>\n",
       "</div>"
      ],
      "text/plain": [
       "        Unnamed: 0  ADDR_PCT_CD  JURISDICTION_CODE    X_COORD_CD  \\\n",
       "count  10000.00000  9992.000000        9913.000000  9.982000e+03   \n",
       "mean    4999.50000    62.394115           0.914758  1.006222e+06   \n",
       "std     2886.89568    34.250781           8.159830  2.115309e+04   \n",
       "min        0.00000     1.000000           0.000000  9.148030e+05   \n",
       "25%     2499.75000    40.000000           0.000000  9.935700e+05   \n",
       "50%     4999.50000    61.000000           0.000000  1.005728e+06   \n",
       "75%     7499.25000    90.000000           0.000000  1.017982e+06   \n",
       "max     9999.00000   123.000000          97.000000  1.066794e+06   \n",
       "\n",
       "          Y_COORD_CD     Latitude    Longitude           Day         Month  \\\n",
       "count    9982.000000  9982.000000  9982.000000  10000.000000  10000.000000   \n",
       "mean   209241.607894    40.740952   -73.920686      3.073000     11.284300   \n",
       "std     30454.197539     0.083593     0.076293      2.136756      2.153448   \n",
       "min    121152.000000    40.498957   -74.249755      0.000000      1.000000   \n",
       "25%    185681.500000    40.676310   -73.966358      1.000000     12.000000   \n",
       "50%    208453.500000    40.738768   -73.922376      3.000000     12.000000   \n",
       "75%    237353.000000    40.818148   -73.878128      5.000000     12.000000   \n",
       "max    271567.000000    40.912027   -73.702128      6.000000     12.000000   \n",
       "\n",
       "               Year  Complaint_Day  Complaint_Month  Complaint_Year  \\\n",
       "count  10000.000000    8389.000000      8389.000000     8389.000000   \n",
       "mean    2018.931300       3.081535        11.684825     2018.975206   \n",
       "std        1.060232       2.168845         1.437237        0.703967   \n",
       "min     1974.000000       0.000000         1.000000     1974.000000   \n",
       "25%     2019.000000       1.000000        12.000000     2019.000000   \n",
       "50%     2019.000000       3.000000        12.000000     2019.000000   \n",
       "75%     2019.000000       5.000000        12.000000     2019.000000   \n",
       "max     2020.000000       6.000000        12.000000     2019.000000   \n",
       "\n",
       "         Report_Day  Report_Month   Report_Year    Start year  \n",
       "count  10000.000000  10000.000000  10000.000000  10000.000000  \n",
       "mean       2.966500     11.400700   2018.971900   2018.931300  \n",
       "std        2.201741      2.014583      0.557083      1.060232  \n",
       "min        0.000000      1.000000   2006.000000   1974.000000  \n",
       "25%        1.000000     12.000000   2019.000000   2019.000000  \n",
       "50%        3.000000     12.000000   2019.000000   2019.000000  \n",
       "75%        5.000000     12.000000   2019.000000   2019.000000  \n",
       "max        6.000000     12.000000   2020.000000   2020.000000  "
      ]
     },
     "execution_count": 54,
     "metadata": {},
     "output_type": "execute_result"
    }
   ],
   "source": [
    "# checking the statistical data \n",
    "chunk1.describe()"
   ]
  },
  {
   "cell_type": "code",
   "execution_count": 55,
   "id": "b5a8ac7d",
   "metadata": {
    "scrolled": true
   },
   "outputs": [
    {
     "data": {
      "text/html": [
       "<div>\n",
       "<style scoped>\n",
       "    .dataframe tbody tr th:only-of-type {\n",
       "        vertical-align: middle;\n",
       "    }\n",
       "\n",
       "    .dataframe tbody tr th {\n",
       "        vertical-align: top;\n",
       "    }\n",
       "\n",
       "    .dataframe thead th {\n",
       "        text-align: right;\n",
       "    }\n",
       "</style>\n",
       "<table border=\"1\" class=\"dataframe\">\n",
       "  <thead>\n",
       "    <tr style=\"text-align: right;\">\n",
       "      <th></th>\n",
       "      <th>Unnamed: 0</th>\n",
       "      <th>ADDR_PCT_CD</th>\n",
       "      <th>JURISDICTION_CODE</th>\n",
       "      <th>X_COORD_CD</th>\n",
       "      <th>Y_COORD_CD</th>\n",
       "      <th>Latitude</th>\n",
       "      <th>Longitude</th>\n",
       "      <th>Day</th>\n",
       "      <th>Month</th>\n",
       "      <th>Year</th>\n",
       "      <th>Complaint_Day</th>\n",
       "      <th>Complaint_Month</th>\n",
       "      <th>Complaint_Year</th>\n",
       "      <th>Report_Day</th>\n",
       "      <th>Report_Month</th>\n",
       "      <th>Report_Year</th>\n",
       "      <th>Start year</th>\n",
       "    </tr>\n",
       "  </thead>\n",
       "  <tbody>\n",
       "    <tr>\n",
       "      <th>Unnamed: 0</th>\n",
       "      <td>1.000000</td>\n",
       "      <td>0.025330</td>\n",
       "      <td>-0.041606</td>\n",
       "      <td>-0.023934</td>\n",
       "      <td>-0.062433</td>\n",
       "      <td>-0.062425</td>\n",
       "      <td>-0.024046</td>\n",
       "      <td>0.002267</td>\n",
       "      <td>0.403209</td>\n",
       "      <td>0.073127</td>\n",
       "      <td>-0.005090</td>\n",
       "      <td>0.299737</td>\n",
       "      <td>0.031656</td>\n",
       "      <td>0.001290</td>\n",
       "      <td>0.437667</td>\n",
       "      <td>0.075784</td>\n",
       "      <td>0.073127</td>\n",
       "    </tr>\n",
       "    <tr>\n",
       "      <th>ADDR_PCT_CD</th>\n",
       "      <td>0.025330</td>\n",
       "      <td>1.000000</td>\n",
       "      <td>-0.032074</td>\n",
       "      <td>0.271899</td>\n",
       "      <td>-0.478726</td>\n",
       "      <td>-0.479132</td>\n",
       "      <td>0.271592</td>\n",
       "      <td>-0.010367</td>\n",
       "      <td>0.028712</td>\n",
       "      <td>-0.004604</td>\n",
       "      <td>-0.016712</td>\n",
       "      <td>0.012696</td>\n",
       "      <td>0.012393</td>\n",
       "      <td>-0.017608</td>\n",
       "      <td>0.039908</td>\n",
       "      <td>0.003202</td>\n",
       "      <td>-0.004604</td>\n",
       "    </tr>\n",
       "    <tr>\n",
       "      <th>JURISDICTION_CODE</th>\n",
       "      <td>-0.041606</td>\n",
       "      <td>-0.032074</td>\n",
       "      <td>1.000000</td>\n",
       "      <td>-0.009697</td>\n",
       "      <td>0.019921</td>\n",
       "      <td>0.019943</td>\n",
       "      <td>-0.009671</td>\n",
       "      <td>0.008094</td>\n",
       "      <td>-0.058712</td>\n",
       "      <td>0.000607</td>\n",
       "      <td>0.006292</td>\n",
       "      <td>-0.072490</td>\n",
       "      <td>-0.003963</td>\n",
       "      <td>-0.001251</td>\n",
       "      <td>-0.065545</td>\n",
       "      <td>-0.006536</td>\n",
       "      <td>0.000607</td>\n",
       "    </tr>\n",
       "    <tr>\n",
       "      <th>X_COORD_CD</th>\n",
       "      <td>-0.023934</td>\n",
       "      <td>0.271899</td>\n",
       "      <td>-0.009697</td>\n",
       "      <td>1.000000</td>\n",
       "      <td>0.282713</td>\n",
       "      <td>0.282157</td>\n",
       "      <td>0.999998</td>\n",
       "      <td>0.000583</td>\n",
       "      <td>-0.046928</td>\n",
       "      <td>-0.000855</td>\n",
       "      <td>-0.010257</td>\n",
       "      <td>-0.023992</td>\n",
       "      <td>-0.002997</td>\n",
       "      <td>-0.003113</td>\n",
       "      <td>-0.040620</td>\n",
       "      <td>-0.001891</td>\n",
       "      <td>-0.000855</td>\n",
       "    </tr>\n",
       "    <tr>\n",
       "      <th>Y_COORD_CD</th>\n",
       "      <td>-0.062433</td>\n",
       "      <td>-0.478726</td>\n",
       "      <td>0.019921</td>\n",
       "      <td>0.282713</td>\n",
       "      <td>1.000000</td>\n",
       "      <td>1.000000</td>\n",
       "      <td>0.283982</td>\n",
       "      <td>0.010020</td>\n",
       "      <td>-0.077930</td>\n",
       "      <td>0.004039</td>\n",
       "      <td>0.008305</td>\n",
       "      <td>-0.041170</td>\n",
       "      <td>-0.014498</td>\n",
       "      <td>0.012738</td>\n",
       "      <td>-0.090649</td>\n",
       "      <td>-0.005073</td>\n",
       "      <td>0.004039</td>\n",
       "    </tr>\n",
       "    <tr>\n",
       "      <th>Latitude</th>\n",
       "      <td>-0.062425</td>\n",
       "      <td>-0.479132</td>\n",
       "      <td>0.019943</td>\n",
       "      <td>0.282157</td>\n",
       "      <td>1.000000</td>\n",
       "      <td>1.000000</td>\n",
       "      <td>0.283425</td>\n",
       "      <td>0.010023</td>\n",
       "      <td>-0.077913</td>\n",
       "      <td>0.004036</td>\n",
       "      <td>0.008309</td>\n",
       "      <td>-0.041157</td>\n",
       "      <td>-0.014497</td>\n",
       "      <td>0.012736</td>\n",
       "      <td>-0.090635</td>\n",
       "      <td>-0.005080</td>\n",
       "      <td>0.004036</td>\n",
       "    </tr>\n",
       "    <tr>\n",
       "      <th>Longitude</th>\n",
       "      <td>-0.024046</td>\n",
       "      <td>0.271592</td>\n",
       "      <td>-0.009671</td>\n",
       "      <td>0.999998</td>\n",
       "      <td>0.283982</td>\n",
       "      <td>0.283425</td>\n",
       "      <td>1.000000</td>\n",
       "      <td>0.000593</td>\n",
       "      <td>-0.047076</td>\n",
       "      <td>-0.000831</td>\n",
       "      <td>-0.010250</td>\n",
       "      <td>-0.024086</td>\n",
       "      <td>-0.003004</td>\n",
       "      <td>-0.003100</td>\n",
       "      <td>-0.040796</td>\n",
       "      <td>-0.001899</td>\n",
       "      <td>-0.000831</td>\n",
       "    </tr>\n",
       "    <tr>\n",
       "      <th>Day</th>\n",
       "      <td>0.002267</td>\n",
       "      <td>-0.010367</td>\n",
       "      <td>0.008094</td>\n",
       "      <td>0.000583</td>\n",
       "      <td>0.010020</td>\n",
       "      <td>0.010023</td>\n",
       "      <td>0.000593</td>\n",
       "      <td>1.000000</td>\n",
       "      <td>0.019093</td>\n",
       "      <td>0.009454</td>\n",
       "      <td>0.862650</td>\n",
       "      <td>0.005052</td>\n",
       "      <td>0.017687</td>\n",
       "      <td>0.705052</td>\n",
       "      <td>0.006842</td>\n",
       "      <td>-0.002645</td>\n",
       "      <td>0.009454</td>\n",
       "    </tr>\n",
       "    <tr>\n",
       "      <th>Month</th>\n",
       "      <td>0.403209</td>\n",
       "      <td>0.028712</td>\n",
       "      <td>-0.058712</td>\n",
       "      <td>-0.046928</td>\n",
       "      <td>-0.077930</td>\n",
       "      <td>-0.077913</td>\n",
       "      <td>-0.047076</td>\n",
       "      <td>0.019093</td>\n",
       "      <td>1.000000</td>\n",
       "      <td>0.182280</td>\n",
       "      <td>0.007623</td>\n",
       "      <td>0.895850</td>\n",
       "      <td>0.174628</td>\n",
       "      <td>0.013484</td>\n",
       "      <td>0.907285</td>\n",
       "      <td>0.137711</td>\n",
       "      <td>0.182280</td>\n",
       "    </tr>\n",
       "    <tr>\n",
       "      <th>Year</th>\n",
       "      <td>0.073127</td>\n",
       "      <td>-0.004604</td>\n",
       "      <td>0.000607</td>\n",
       "      <td>-0.000855</td>\n",
       "      <td>0.004039</td>\n",
       "      <td>0.004036</td>\n",
       "      <td>-0.000831</td>\n",
       "      <td>0.009454</td>\n",
       "      <td>0.182280</td>\n",
       "      <td>1.000000</td>\n",
       "      <td>0.002969</td>\n",
       "      <td>0.142872</td>\n",
       "      <td>0.976025</td>\n",
       "      <td>0.018764</td>\n",
       "      <td>0.123625</td>\n",
       "      <td>0.523334</td>\n",
       "      <td>1.000000</td>\n",
       "    </tr>\n",
       "    <tr>\n",
       "      <th>Complaint_Day</th>\n",
       "      <td>-0.005090</td>\n",
       "      <td>-0.016712</td>\n",
       "      <td>0.006292</td>\n",
       "      <td>-0.010257</td>\n",
       "      <td>0.008305</td>\n",
       "      <td>0.008309</td>\n",
       "      <td>-0.010250</td>\n",
       "      <td>0.862650</td>\n",
       "      <td>0.007623</td>\n",
       "      <td>0.002969</td>\n",
       "      <td>1.000000</td>\n",
       "      <td>-0.002196</td>\n",
       "      <td>0.000387</td>\n",
       "      <td>0.792571</td>\n",
       "      <td>-0.005108</td>\n",
       "      <td>-0.005771</td>\n",
       "      <td>0.002969</td>\n",
       "    </tr>\n",
       "    <tr>\n",
       "      <th>Complaint_Month</th>\n",
       "      <td>0.299737</td>\n",
       "      <td>0.012696</td>\n",
       "      <td>-0.072490</td>\n",
       "      <td>-0.023992</td>\n",
       "      <td>-0.041170</td>\n",
       "      <td>-0.041157</td>\n",
       "      <td>-0.024086</td>\n",
       "      <td>0.005052</td>\n",
       "      <td>0.895850</td>\n",
       "      <td>0.142872</td>\n",
       "      <td>-0.002196</td>\n",
       "      <td>1.000000</td>\n",
       "      <td>0.132612</td>\n",
       "      <td>0.003204</td>\n",
       "      <td>0.924567</td>\n",
       "      <td>0.088101</td>\n",
       "      <td>0.142872</td>\n",
       "    </tr>\n",
       "    <tr>\n",
       "      <th>Complaint_Year</th>\n",
       "      <td>0.031656</td>\n",
       "      <td>0.012393</td>\n",
       "      <td>-0.003963</td>\n",
       "      <td>-0.002997</td>\n",
       "      <td>-0.014498</td>\n",
       "      <td>-0.014497</td>\n",
       "      <td>-0.003004</td>\n",
       "      <td>0.017687</td>\n",
       "      <td>0.174628</td>\n",
       "      <td>0.976025</td>\n",
       "      <td>0.000387</td>\n",
       "      <td>0.132612</td>\n",
       "      <td>1.000000</td>\n",
       "      <td>0.014442</td>\n",
       "      <td>0.063252</td>\n",
       "      <td>0.289995</td>\n",
       "      <td>0.976025</td>\n",
       "    </tr>\n",
       "    <tr>\n",
       "      <th>Report_Day</th>\n",
       "      <td>0.001290</td>\n",
       "      <td>-0.017608</td>\n",
       "      <td>-0.001251</td>\n",
       "      <td>-0.003113</td>\n",
       "      <td>0.012738</td>\n",
       "      <td>0.012736</td>\n",
       "      <td>-0.003100</td>\n",
       "      <td>0.705052</td>\n",
       "      <td>0.013484</td>\n",
       "      <td>0.018764</td>\n",
       "      <td>0.792571</td>\n",
       "      <td>0.003204</td>\n",
       "      <td>0.014442</td>\n",
       "      <td>1.000000</td>\n",
       "      <td>-0.000130</td>\n",
       "      <td>0.012931</td>\n",
       "      <td>0.018764</td>\n",
       "    </tr>\n",
       "    <tr>\n",
       "      <th>Report_Month</th>\n",
       "      <td>0.437667</td>\n",
       "      <td>0.039908</td>\n",
       "      <td>-0.065545</td>\n",
       "      <td>-0.040620</td>\n",
       "      <td>-0.090649</td>\n",
       "      <td>-0.090635</td>\n",
       "      <td>-0.040796</td>\n",
       "      <td>0.006842</td>\n",
       "      <td>0.907285</td>\n",
       "      <td>0.123625</td>\n",
       "      <td>-0.005108</td>\n",
       "      <td>0.924567</td>\n",
       "      <td>0.063252</td>\n",
       "      <td>-0.000130</td>\n",
       "      <td>1.000000</td>\n",
       "      <td>0.149406</td>\n",
       "      <td>0.123625</td>\n",
       "    </tr>\n",
       "    <tr>\n",
       "      <th>Report_Year</th>\n",
       "      <td>0.075784</td>\n",
       "      <td>0.003202</td>\n",
       "      <td>-0.006536</td>\n",
       "      <td>-0.001891</td>\n",
       "      <td>-0.005073</td>\n",
       "      <td>-0.005080</td>\n",
       "      <td>-0.001899</td>\n",
       "      <td>-0.002645</td>\n",
       "      <td>0.137711</td>\n",
       "      <td>0.523334</td>\n",
       "      <td>-0.005771</td>\n",
       "      <td>0.088101</td>\n",
       "      <td>0.289995</td>\n",
       "      <td>0.012931</td>\n",
       "      <td>0.149406</td>\n",
       "      <td>1.000000</td>\n",
       "      <td>0.523334</td>\n",
       "    </tr>\n",
       "    <tr>\n",
       "      <th>Start year</th>\n",
       "      <td>0.073127</td>\n",
       "      <td>-0.004604</td>\n",
       "      <td>0.000607</td>\n",
       "      <td>-0.000855</td>\n",
       "      <td>0.004039</td>\n",
       "      <td>0.004036</td>\n",
       "      <td>-0.000831</td>\n",
       "      <td>0.009454</td>\n",
       "      <td>0.182280</td>\n",
       "      <td>1.000000</td>\n",
       "      <td>0.002969</td>\n",
       "      <td>0.142872</td>\n",
       "      <td>0.976025</td>\n",
       "      <td>0.018764</td>\n",
       "      <td>0.123625</td>\n",
       "      <td>0.523334</td>\n",
       "      <td>1.000000</td>\n",
       "    </tr>\n",
       "  </tbody>\n",
       "</table>\n",
       "</div>"
      ],
      "text/plain": [
       "                   Unnamed: 0  ADDR_PCT_CD  JURISDICTION_CODE  X_COORD_CD  \\\n",
       "Unnamed: 0           1.000000     0.025330          -0.041606   -0.023934   \n",
       "ADDR_PCT_CD          0.025330     1.000000          -0.032074    0.271899   \n",
       "JURISDICTION_CODE   -0.041606    -0.032074           1.000000   -0.009697   \n",
       "X_COORD_CD          -0.023934     0.271899          -0.009697    1.000000   \n",
       "Y_COORD_CD          -0.062433    -0.478726           0.019921    0.282713   \n",
       "Latitude            -0.062425    -0.479132           0.019943    0.282157   \n",
       "Longitude           -0.024046     0.271592          -0.009671    0.999998   \n",
       "Day                  0.002267    -0.010367           0.008094    0.000583   \n",
       "Month                0.403209     0.028712          -0.058712   -0.046928   \n",
       "Year                 0.073127    -0.004604           0.000607   -0.000855   \n",
       "Complaint_Day       -0.005090    -0.016712           0.006292   -0.010257   \n",
       "Complaint_Month      0.299737     0.012696          -0.072490   -0.023992   \n",
       "Complaint_Year       0.031656     0.012393          -0.003963   -0.002997   \n",
       "Report_Day           0.001290    -0.017608          -0.001251   -0.003113   \n",
       "Report_Month         0.437667     0.039908          -0.065545   -0.040620   \n",
       "Report_Year          0.075784     0.003202          -0.006536   -0.001891   \n",
       "Start year           0.073127    -0.004604           0.000607   -0.000855   \n",
       "\n",
       "                   Y_COORD_CD  Latitude  Longitude       Day     Month  \\\n",
       "Unnamed: 0          -0.062433 -0.062425  -0.024046  0.002267  0.403209   \n",
       "ADDR_PCT_CD         -0.478726 -0.479132   0.271592 -0.010367  0.028712   \n",
       "JURISDICTION_CODE    0.019921  0.019943  -0.009671  0.008094 -0.058712   \n",
       "X_COORD_CD           0.282713  0.282157   0.999998  0.000583 -0.046928   \n",
       "Y_COORD_CD           1.000000  1.000000   0.283982  0.010020 -0.077930   \n",
       "Latitude             1.000000  1.000000   0.283425  0.010023 -0.077913   \n",
       "Longitude            0.283982  0.283425   1.000000  0.000593 -0.047076   \n",
       "Day                  0.010020  0.010023   0.000593  1.000000  0.019093   \n",
       "Month               -0.077930 -0.077913  -0.047076  0.019093  1.000000   \n",
       "Year                 0.004039  0.004036  -0.000831  0.009454  0.182280   \n",
       "Complaint_Day        0.008305  0.008309  -0.010250  0.862650  0.007623   \n",
       "Complaint_Month     -0.041170 -0.041157  -0.024086  0.005052  0.895850   \n",
       "Complaint_Year      -0.014498 -0.014497  -0.003004  0.017687  0.174628   \n",
       "Report_Day           0.012738  0.012736  -0.003100  0.705052  0.013484   \n",
       "Report_Month        -0.090649 -0.090635  -0.040796  0.006842  0.907285   \n",
       "Report_Year         -0.005073 -0.005080  -0.001899 -0.002645  0.137711   \n",
       "Start year           0.004039  0.004036  -0.000831  0.009454  0.182280   \n",
       "\n",
       "                       Year  Complaint_Day  Complaint_Month  Complaint_Year  \\\n",
       "Unnamed: 0         0.073127      -0.005090         0.299737        0.031656   \n",
       "ADDR_PCT_CD       -0.004604      -0.016712         0.012696        0.012393   \n",
       "JURISDICTION_CODE  0.000607       0.006292        -0.072490       -0.003963   \n",
       "X_COORD_CD        -0.000855      -0.010257        -0.023992       -0.002997   \n",
       "Y_COORD_CD         0.004039       0.008305        -0.041170       -0.014498   \n",
       "Latitude           0.004036       0.008309        -0.041157       -0.014497   \n",
       "Longitude         -0.000831      -0.010250        -0.024086       -0.003004   \n",
       "Day                0.009454       0.862650         0.005052        0.017687   \n",
       "Month              0.182280       0.007623         0.895850        0.174628   \n",
       "Year               1.000000       0.002969         0.142872        0.976025   \n",
       "Complaint_Day      0.002969       1.000000        -0.002196        0.000387   \n",
       "Complaint_Month    0.142872      -0.002196         1.000000        0.132612   \n",
       "Complaint_Year     0.976025       0.000387         0.132612        1.000000   \n",
       "Report_Day         0.018764       0.792571         0.003204        0.014442   \n",
       "Report_Month       0.123625      -0.005108         0.924567        0.063252   \n",
       "Report_Year        0.523334      -0.005771         0.088101        0.289995   \n",
       "Start year         1.000000       0.002969         0.142872        0.976025   \n",
       "\n",
       "                   Report_Day  Report_Month  Report_Year  Start year  \n",
       "Unnamed: 0           0.001290      0.437667     0.075784    0.073127  \n",
       "ADDR_PCT_CD         -0.017608      0.039908     0.003202   -0.004604  \n",
       "JURISDICTION_CODE   -0.001251     -0.065545    -0.006536    0.000607  \n",
       "X_COORD_CD          -0.003113     -0.040620    -0.001891   -0.000855  \n",
       "Y_COORD_CD           0.012738     -0.090649    -0.005073    0.004039  \n",
       "Latitude             0.012736     -0.090635    -0.005080    0.004036  \n",
       "Longitude           -0.003100     -0.040796    -0.001899   -0.000831  \n",
       "Day                  0.705052      0.006842    -0.002645    0.009454  \n",
       "Month                0.013484      0.907285     0.137711    0.182280  \n",
       "Year                 0.018764      0.123625     0.523334    1.000000  \n",
       "Complaint_Day        0.792571     -0.005108    -0.005771    0.002969  \n",
       "Complaint_Month      0.003204      0.924567     0.088101    0.142872  \n",
       "Complaint_Year       0.014442      0.063252     0.289995    0.976025  \n",
       "Report_Day           1.000000     -0.000130     0.012931    0.018764  \n",
       "Report_Month        -0.000130      1.000000     0.149406    0.123625  \n",
       "Report_Year          0.012931      0.149406     1.000000    0.523334  \n",
       "Start year           0.018764      0.123625     0.523334    1.000000  "
      ]
     },
     "execution_count": 55,
     "metadata": {},
     "output_type": "execute_result"
    }
   ],
   "source": [
    "#correlation of the dataset \n",
    "chunk1.corr()"
   ]
  },
  {
   "cell_type": "markdown",
   "id": "7da66d8c",
   "metadata": {},
   "source": [
    "### We have total of 41 classes in the OFNS_DESC(Target) column"
   ]
  },
  {
   "cell_type": "code",
   "execution_count": 56,
   "id": "ff0aee6a",
   "metadata": {},
   "outputs": [
    {
     "data": {
      "text/plain": [
       "41"
      ]
     },
     "execution_count": 56,
     "metadata": {},
     "output_type": "execute_result"
    }
   ],
   "source": [
    "chunk1['OFNS_DESC'].nunique()"
   ]
  },
  {
   "cell_type": "markdown",
   "id": "ebee391a",
   "metadata": {},
   "source": [
    "### The below are the types of the unique classes in the 'OFNS_DESC' column"
   ]
  },
  {
   "cell_type": "code",
   "execution_count": 57,
   "id": "6aaee898",
   "metadata": {},
   "outputs": [
    {
     "data": {
      "text/plain": [
       "array(['DANGEROUS WEAPONS', 'FORGERY', 'HARRASSMENT 2',\n",
       "       'MISCELLANEOUS PENAL LAW', 'MURDER & NON-NEGL. MANSLAUGHTER',\n",
       "       'BURGLARY', 'DANGEROUS DRUGS', 'PETIT LARCENY',\n",
       "       'OFF. AGNST PUB ORD SENSBLTY &', 'GRAND LARCENY', 'FELONY ASSAULT',\n",
       "       'ASSAULT 3 & RELATED OFFENSES', 'ARSON', 'RAPE', 'SEX CRIMES',\n",
       "       'GRAND LARCENY OF MOTOR VEHICLE', 'ROBBERY',\n",
       "       'CRIMINAL MISCHIEF & RELATED OF', 'THEFT-FRAUD',\n",
       "       'VEHICLE AND TRAFFIC LAWS', 'CRIMINAL TRESPASS',\n",
       "       'OFFENSES INVOLVING FRAUD', 'FRAUDS',\n",
       "       'OFFENSES AGAINST PUBLIC ADMINI', 'OFFENSES AGAINST THE PERSON',\n",
       "       'ADMINISTRATIVE CODE', 'INTOXICATED & IMPAIRED DRIVING',\n",
       "       'ESCAPE 3', 'NYS LAWS-UNCLASSIFIED FELONY',\n",
       "       'POSSESSION OF STOLEN PROPERTY', 'THEFT OF SERVICES',\n",
       "       'KIDNAPPING & RELATED OFFENSES', 'OTHER OFFENSES RELATED TO THEF',\n",
       "       'UNAUTHORIZED USE OF A VEHICLE', \"BURGLAR'S TOOLS\",\n",
       "       'ENDAN WELFARE INCOMP', 'FRAUDULENT ACCOSTING',\n",
       "       'AGRICULTURE & MRKTS LAW-UNCLASSIFIED',\n",
       "       'OTHER STATE LAWS (NON PENAL LA', 'OFFENSES AGAINST PUBLIC SAFETY',\n",
       "       'GAMBLING'], dtype=object)"
      ]
     },
     "execution_count": 57,
     "metadata": {},
     "output_type": "execute_result"
    }
   ],
   "source": [
    "chunk1['OFNS_DESC'].unique()"
   ]
  },
  {
   "cell_type": "markdown",
   "id": "a7fb02bb",
   "metadata": {},
   "source": [
    "### Most of the Crime names in the below column are almost same with differnt name. For example 'ROBBERY' as 'BURGLARY', these both crime name will comes under same class, so here i just replaced the names of the classes \n"
   ]
  },
  {
   "cell_type": "code",
   "execution_count": 58,
   "id": "3e1b1168",
   "metadata": {},
   "outputs": [
    {
     "data": {
      "text/plain": [
       "array(['dangerous weapons', 'forgery', 'harrassment 2',\n",
       "       'administrative code', 'murder & non-negl. manslaughter',\n",
       "       'robbery', 'dangerous drugs', 'petit larceny',\n",
       "       'off. agnst pub ord sensblty &', 'felony assault',\n",
       "       'assault 3 & related offenses', 'arson', 'rape', 'frauds',\n",
       "       'vehicle and traffic laws', 'criminal trespass',\n",
       "       'intoxicated & impaired driving', 'escape 3', 'theft of services',\n",
       "       'kidnapping & related offenses', 'unauthorized use of a vehicle',\n",
       "       \"burglar's tools\", 'endan welfare incomp',\n",
       "       'other state laws (non penal la', 'gambling'], dtype=object)"
      ]
     },
     "execution_count": 58,
     "metadata": {},
     "output_type": "execute_result"
    }
   ],
   "source": [
    "chunk1['OFNS_DESC']=chunk1['OFNS_DESC'].str.lower()     #Convert into lowercase\n",
    "chunk1['OFNS_DESC']= chunk1['OFNS_DESC'].str.replace('criminal mischief & related of','frauds') \n",
    "chunk1['OFNS_DESC']= chunk1['OFNS_DESC'].str.replace('burglary','robbery')   \n",
    "chunk1['OFNS_DESC']= chunk1['OFNS_DESC'].str.replace('THEFT-FRAUD','robbery')   \n",
    "chunk1['OFNS_DESC']= chunk1['OFNS_DESC'].str.replace('possession of stolen property','robbery')    \n",
    "\n",
    "chunk1['OFNS_DESC']= chunk1['OFNS_DESC'].str.replace('sex crimes','rape')    \n",
    "chunk1['OFNS_DESC']= chunk1['OFNS_DESC'].str.replace('offenses involving fraud','frauds')    \n",
    "chunk1['OFNS_DESC']= chunk1['OFNS_DESC'].str.replace('theft-fraud','frauds')    \n",
    "chunk1['OFNS_DESC']= chunk1['OFNS_DESC'].str.replace('offenses against public admini','frauds')    \n",
    "chunk1['OFNS_DESC']= chunk1['OFNS_DESC'].str.replace('offenses against public safety','frauds') \n",
    "chunk1['OFNS_DESC']= chunk1['OFNS_DESC'].str.replace('offenses against public safety','frauds')    \n",
    "\n",
    "chunk1['OFNS_DESC']= chunk1['OFNS_DESC'].str.replace('offenses against the person','frauds')    \n",
    "chunk1['OFNS_DESC']= chunk1['OFNS_DESC'].str.replace('nys laws-unclassified felony','felony assault')    \n",
    "chunk1['OFNS_DESC']= chunk1['OFNS_DESC'].str.replace('miscellaneous penal law','administrative code')    \n",
    "chunk1['OFNS_DESC']= chunk1['OFNS_DESC'].str.replace('grand larceny','administrative code')    \n",
    "chunk1['OFNS_DESC']= chunk1['OFNS_DESC'].str.replace('other offenses related to thef','administrative code')    \n",
    "chunk1['OFNS_DESC']= chunk1['OFNS_DESC'].str.replace('fraudulent accosting','administrative code')    \n",
    "chunk1['OFNS_DESC']= chunk1['OFNS_DESC'].str.replace('agriculture & mrkts law-unclassified','administrative code')    \n",
    "chunk1['OFNS_DESC']= chunk1['OFNS_DESC'].str.replace('administrative code of motor vehicle','administrative code')    \n",
    "                                                                  \n",
    "#chunk1['OFNS_DESC']=chunk1['OFNS_DESC'].str.strip()     \n",
    "chunk1['OFNS_DESC'].unique()\n",
    "\n",
    "#chunk1['OFNS_DESC']= chunk1['OFNS_DESC'].str.replace({'CRIMINAL MISCHIEF & RELATED OF':'FRAUDS', 1: 100}) "
   ]
  },
  {
   "cell_type": "markdown",
   "id": "f22bbb66",
   "metadata": {},
   "source": [
    "## The classes are clasified into two categories like 'Major' and 'Minor'"
   ]
  },
  {
   "cell_type": "markdown",
   "id": "2207e346",
   "metadata": {},
   "source": [
    "### Minoir crimes "
   ]
  },
  {
   "cell_type": "code",
   "execution_count": 59,
   "id": "2622ae9f",
   "metadata": {},
   "outputs": [
    {
     "name": "stdout",
     "output_type": "stream",
     "text": [
      "['forgery', 'administrative code', 'petit larceny', 'off. agnst pub ord sensblty &', 'vehicle and traffic laws', 'criminal trespass', 'intoxicated & impaired driving', 'gambling', 'other state laws (non penal la', 'unauthorized use of a vehicle', 'endan welfare incomp']\n"
     ]
    }
   ],
   "source": [
    "minor_crimes = ['forgery', 'administrative code', 'petit larceny', 'off. agnst pub ord sensblty &', 'vehicle and traffic laws', 'criminal trespass', 'intoxicated & impaired driving', 'gambling','other state laws (non penal la','unauthorized use of a vehicle', 'endan welfare incomp'  ]\n",
    "print(minor_crimes)"
   ]
  },
  {
   "cell_type": "markdown",
   "id": "a565c2fc",
   "metadata": {},
   "source": [
    "### Major crimes"
   ]
  },
  {
   "cell_type": "code",
   "execution_count": 60,
   "id": "a8a70356",
   "metadata": {},
   "outputs": [
    {
     "name": "stdout",
     "output_type": "stream",
     "text": [
      "['dangerous weapons', 'harrassment 2', 'murder & non-negl. manslaughter', 'robbery', 'dangerous drugs', 'felony assault', 'assault 3 & related offenses', 'arson', 'rape', 'frauds', 'escape 3', 'theft of services', 'kidnapping & related offenses', \"burglar's tools\"]\n"
     ]
    }
   ],
   "source": [
    "major_crimes = []\n",
    "for i in chunk1['OFNS_DESC'].unique():\n",
    "    if i not in minor_crimes:\n",
    "        major_crimes.append(i)\n",
    "print(major_crimes)"
   ]
  },
  {
   "cell_type": "markdown",
   "id": "4d20f520",
   "metadata": {},
   "source": [
    "### Now the modified class categories are replacing in  OFNS_DESC column as Major or Minor."
   ]
  },
  {
   "cell_type": "code",
   "execution_count": 61,
   "id": "76796680",
   "metadata": {},
   "outputs": [],
   "source": [
    "for i in minor_crimes:\n",
    "    chunk1['OFNS_DESC'].replace(i,'Minor', inplace = True)\n",
    "for i in major_crimes:\n",
    "    chunk1['OFNS_DESC'].replace(i,'Major', inplace = True)"
   ]
  },
  {
   "cell_type": "code",
   "execution_count": 62,
   "id": "92a70b08",
   "metadata": {},
   "outputs": [
    {
     "data": {
      "text/html": [
       "<div>\n",
       "<style scoped>\n",
       "    .dataframe tbody tr th:only-of-type {\n",
       "        vertical-align: middle;\n",
       "    }\n",
       "\n",
       "    .dataframe tbody tr th {\n",
       "        vertical-align: top;\n",
       "    }\n",
       "\n",
       "    .dataframe thead th {\n",
       "        text-align: right;\n",
       "    }\n",
       "</style>\n",
       "<table border=\"1\" class=\"dataframe\">\n",
       "  <thead>\n",
       "    <tr style=\"text-align: right;\">\n",
       "      <th></th>\n",
       "      <th>Unnamed: 0</th>\n",
       "      <th>ADDR_PCT_CD</th>\n",
       "      <th>OFNS_DESC</th>\n",
       "      <th>PD_DESC</th>\n",
       "      <th>LAW_CAT_CD</th>\n",
       "      <th>BORO_NM</th>\n",
       "      <th>LOC_OF_OCCUR_DESC</th>\n",
       "      <th>PREM_TYP_DESC</th>\n",
       "      <th>JURIS_DESC</th>\n",
       "      <th>JURISDICTION_CODE</th>\n",
       "      <th>...</th>\n",
       "      <th>Month</th>\n",
       "      <th>Year</th>\n",
       "      <th>Complaint_Day</th>\n",
       "      <th>Complaint_Month</th>\n",
       "      <th>Complaint_Year</th>\n",
       "      <th>Report_Day</th>\n",
       "      <th>Report_Month</th>\n",
       "      <th>Report_Year</th>\n",
       "      <th>Complaint_date</th>\n",
       "      <th>Start year</th>\n",
       "    </tr>\n",
       "  </thead>\n",
       "  <tbody>\n",
       "    <tr>\n",
       "      <th>0</th>\n",
       "      <td>0</td>\n",
       "      <td>32.0</td>\n",
       "      <td>Major</td>\n",
       "      <td>WEAPONS POSSESSION 3</td>\n",
       "      <td>FELONY</td>\n",
       "      <td>MANHATTAN</td>\n",
       "      <td>NaN</td>\n",
       "      <td>STREET</td>\n",
       "      <td>N.Y. POLICE DEPT</td>\n",
       "      <td>0.0</td>\n",
       "      <td>...</td>\n",
       "      <td>12</td>\n",
       "      <td>2019</td>\n",
       "      <td>NaN</td>\n",
       "      <td>NaN</td>\n",
       "      <td>NaN</td>\n",
       "      <td>1</td>\n",
       "      <td>12</td>\n",
       "      <td>2019</td>\n",
       "      <td>2019-12-31</td>\n",
       "      <td>2019</td>\n",
       "    </tr>\n",
       "    <tr>\n",
       "      <th>1</th>\n",
       "      <td>1</td>\n",
       "      <td>47.0</td>\n",
       "      <td>Minor</td>\n",
       "      <td>FORGERY,ETC.,UNCLASSIFIED-FELO</td>\n",
       "      <td>FELONY</td>\n",
       "      <td>BRONX</td>\n",
       "      <td>NaN</td>\n",
       "      <td>STREET</td>\n",
       "      <td>N.Y. POLICE DEPT</td>\n",
       "      <td>0.0</td>\n",
       "      <td>...</td>\n",
       "      <td>12</td>\n",
       "      <td>2019</td>\n",
       "      <td>6.0</td>\n",
       "      <td>12.0</td>\n",
       "      <td>2019.0</td>\n",
       "      <td>6</td>\n",
       "      <td>12</td>\n",
       "      <td>2019</td>\n",
       "      <td>2019-12-29</td>\n",
       "      <td>2019</td>\n",
       "    </tr>\n",
       "    <tr>\n",
       "      <th>2</th>\n",
       "      <td>2</td>\n",
       "      <td>109.0</td>\n",
       "      <td>Major</td>\n",
       "      <td>HARASSMENT,SUBD 3,4,5</td>\n",
       "      <td>VIOLATION</td>\n",
       "      <td>QUEENS</td>\n",
       "      <td>FRONT OF</td>\n",
       "      <td>STREET</td>\n",
       "      <td>N.Y. POLICE DEPT</td>\n",
       "      <td>0.0</td>\n",
       "      <td>...</td>\n",
       "      <td>12</td>\n",
       "      <td>2019</td>\n",
       "      <td>NaN</td>\n",
       "      <td>NaN</td>\n",
       "      <td>NaN</td>\n",
       "      <td>6</td>\n",
       "      <td>12</td>\n",
       "      <td>2019</td>\n",
       "      <td>2019-12-15</td>\n",
       "      <td>2019</td>\n",
       "    </tr>\n",
       "    <tr>\n",
       "      <th>3</th>\n",
       "      <td>3</td>\n",
       "      <td>47.0</td>\n",
       "      <td>Minor</td>\n",
       "      <td>RECKLESS ENDANGERMENT 1</td>\n",
       "      <td>FELONY</td>\n",
       "      <td>BRONX</td>\n",
       "      <td>REAR OF</td>\n",
       "      <td>STREET</td>\n",
       "      <td>N.Y. POLICE DEPT</td>\n",
       "      <td>0.0</td>\n",
       "      <td>...</td>\n",
       "      <td>12</td>\n",
       "      <td>2019</td>\n",
       "      <td>NaN</td>\n",
       "      <td>NaN</td>\n",
       "      <td>NaN</td>\n",
       "      <td>5</td>\n",
       "      <td>12</td>\n",
       "      <td>2019</td>\n",
       "      <td>2019-12-28</td>\n",
       "      <td>2019</td>\n",
       "    </tr>\n",
       "    <tr>\n",
       "      <th>4</th>\n",
       "      <td>4</td>\n",
       "      <td>NaN</td>\n",
       "      <td>Major</td>\n",
       "      <td>NaN</td>\n",
       "      <td>FELONY</td>\n",
       "      <td>NaN</td>\n",
       "      <td>OUTSIDE</td>\n",
       "      <td>NaN</td>\n",
       "      <td>N.Y. POLICE DEPT</td>\n",
       "      <td>NaN</td>\n",
       "      <td>...</td>\n",
       "      <td>9</td>\n",
       "      <td>2008</td>\n",
       "      <td>NaN</td>\n",
       "      <td>NaN</td>\n",
       "      <td>NaN</td>\n",
       "      <td>4</td>\n",
       "      <td>9</td>\n",
       "      <td>2008</td>\n",
       "      <td>2008-09-05</td>\n",
       "      <td>2008</td>\n",
       "    </tr>\n",
       "    <tr>\n",
       "      <th>...</th>\n",
       "      <td>...</td>\n",
       "      <td>...</td>\n",
       "      <td>...</td>\n",
       "      <td>...</td>\n",
       "      <td>...</td>\n",
       "      <td>...</td>\n",
       "      <td>...</td>\n",
       "      <td>...</td>\n",
       "      <td>...</td>\n",
       "      <td>...</td>\n",
       "      <td>...</td>\n",
       "      <td>...</td>\n",
       "      <td>...</td>\n",
       "      <td>...</td>\n",
       "      <td>...</td>\n",
       "      <td>...</td>\n",
       "      <td>...</td>\n",
       "      <td>...</td>\n",
       "      <td>...</td>\n",
       "      <td>...</td>\n",
       "      <td>...</td>\n",
       "    </tr>\n",
       "    <tr>\n",
       "      <th>9995</th>\n",
       "      <td>9995</td>\n",
       "      <td>113.0</td>\n",
       "      <td>Major</td>\n",
       "      <td>ASSAULT 3</td>\n",
       "      <td>MISDEMEANOR</td>\n",
       "      <td>QUEENS</td>\n",
       "      <td>INSIDE</td>\n",
       "      <td>RESIDENCE-HOUSE</td>\n",
       "      <td>N.Y. POLICE DEPT</td>\n",
       "      <td>0.0</td>\n",
       "      <td>...</td>\n",
       "      <td>12</td>\n",
       "      <td>2019</td>\n",
       "      <td>0.0</td>\n",
       "      <td>12.0</td>\n",
       "      <td>2019.0</td>\n",
       "      <td>0</td>\n",
       "      <td>12</td>\n",
       "      <td>2019</td>\n",
       "      <td>2019-12-30</td>\n",
       "      <td>2019</td>\n",
       "    </tr>\n",
       "    <tr>\n",
       "      <th>9996</th>\n",
       "      <td>9996</td>\n",
       "      <td>73.0</td>\n",
       "      <td>Major</td>\n",
       "      <td>BAIL JUMPING 3</td>\n",
       "      <td>MISDEMEANOR</td>\n",
       "      <td>BROOKLYN</td>\n",
       "      <td>NaN</td>\n",
       "      <td>STREET</td>\n",
       "      <td>N.Y. POLICE DEPT</td>\n",
       "      <td>0.0</td>\n",
       "      <td>...</td>\n",
       "      <td>12</td>\n",
       "      <td>2019</td>\n",
       "      <td>3.0</td>\n",
       "      <td>12.0</td>\n",
       "      <td>2019.0</td>\n",
       "      <td>3</td>\n",
       "      <td>12</td>\n",
       "      <td>2019</td>\n",
       "      <td>2019-12-26</td>\n",
       "      <td>2019</td>\n",
       "    </tr>\n",
       "    <tr>\n",
       "      <th>9997</th>\n",
       "      <td>9997</td>\n",
       "      <td>107.0</td>\n",
       "      <td>Minor</td>\n",
       "      <td>PETIT LARCENY OF ANIMAL</td>\n",
       "      <td>MISDEMEANOR</td>\n",
       "      <td>QUEENS</td>\n",
       "      <td>INSIDE</td>\n",
       "      <td>RESIDENCE-HOUSE</td>\n",
       "      <td>N.Y. POLICE DEPT</td>\n",
       "      <td>0.0</td>\n",
       "      <td>...</td>\n",
       "      <td>12</td>\n",
       "      <td>2019</td>\n",
       "      <td>NaN</td>\n",
       "      <td>NaN</td>\n",
       "      <td>NaN</td>\n",
       "      <td>6</td>\n",
       "      <td>12</td>\n",
       "      <td>2019</td>\n",
       "      <td>2019-12-22</td>\n",
       "      <td>2019</td>\n",
       "    </tr>\n",
       "    <tr>\n",
       "      <th>9998</th>\n",
       "      <td>9998</td>\n",
       "      <td>94.0</td>\n",
       "      <td>Major</td>\n",
       "      <td>ROBBERY,PERSONAL ELECTRONIC DEVICE</td>\n",
       "      <td>FELONY</td>\n",
       "      <td>BROOKLYN</td>\n",
       "      <td>INSIDE</td>\n",
       "      <td>RESIDENCE - APT. HOUSE</td>\n",
       "      <td>N.Y. POLICE DEPT</td>\n",
       "      <td>0.0</td>\n",
       "      <td>...</td>\n",
       "      <td>12</td>\n",
       "      <td>2019</td>\n",
       "      <td>2.0</td>\n",
       "      <td>12.0</td>\n",
       "      <td>2019.0</td>\n",
       "      <td>3</td>\n",
       "      <td>12</td>\n",
       "      <td>2019</td>\n",
       "      <td>2019-12-25</td>\n",
       "      <td>2019</td>\n",
       "    </tr>\n",
       "    <tr>\n",
       "      <th>9999</th>\n",
       "      <td>9999</td>\n",
       "      <td>114.0</td>\n",
       "      <td>Minor</td>\n",
       "      <td>AGGRAVATED HARASSMENT 2</td>\n",
       "      <td>MISDEMEANOR</td>\n",
       "      <td>QUEENS</td>\n",
       "      <td>INSIDE</td>\n",
       "      <td>RESIDENCE - APT. HOUSE</td>\n",
       "      <td>N.Y. POLICE DEPT</td>\n",
       "      <td>0.0</td>\n",
       "      <td>...</td>\n",
       "      <td>12</td>\n",
       "      <td>2019</td>\n",
       "      <td>4.0</td>\n",
       "      <td>12.0</td>\n",
       "      <td>2019.0</td>\n",
       "      <td>5</td>\n",
       "      <td>12</td>\n",
       "      <td>2019</td>\n",
       "      <td>2019-12-27</td>\n",
       "      <td>2019</td>\n",
       "    </tr>\n",
       "  </tbody>\n",
       "</table>\n",
       "<p>10000 rows × 38 columns</p>\n",
       "</div>"
      ],
      "text/plain": [
       "      Unnamed: 0  ADDR_PCT_CD OFNS_DESC                             PD_DESC  \\\n",
       "0              0         32.0     Major                WEAPONS POSSESSION 3   \n",
       "1              1         47.0     Minor      FORGERY,ETC.,UNCLASSIFIED-FELO   \n",
       "2              2        109.0     Major               HARASSMENT,SUBD 3,4,5   \n",
       "3              3         47.0     Minor             RECKLESS ENDANGERMENT 1   \n",
       "4              4          NaN     Major                                 NaN   \n",
       "...          ...          ...       ...                                 ...   \n",
       "9995        9995        113.0     Major                           ASSAULT 3   \n",
       "9996        9996         73.0     Major                      BAIL JUMPING 3   \n",
       "9997        9997        107.0     Minor             PETIT LARCENY OF ANIMAL   \n",
       "9998        9998         94.0     Major  ROBBERY,PERSONAL ELECTRONIC DEVICE   \n",
       "9999        9999        114.0     Minor             AGGRAVATED HARASSMENT 2   \n",
       "\n",
       "       LAW_CAT_CD    BORO_NM LOC_OF_OCCUR_DESC           PREM_TYP_DESC  \\\n",
       "0          FELONY  MANHATTAN               NaN                  STREET   \n",
       "1          FELONY      BRONX               NaN                  STREET   \n",
       "2       VIOLATION     QUEENS          FRONT OF                  STREET   \n",
       "3          FELONY      BRONX           REAR OF                  STREET   \n",
       "4          FELONY        NaN           OUTSIDE                     NaN   \n",
       "...           ...        ...               ...                     ...   \n",
       "9995  MISDEMEANOR     QUEENS            INSIDE         RESIDENCE-HOUSE   \n",
       "9996  MISDEMEANOR   BROOKLYN               NaN                  STREET   \n",
       "9997  MISDEMEANOR     QUEENS            INSIDE         RESIDENCE-HOUSE   \n",
       "9998       FELONY   BROOKLYN            INSIDE  RESIDENCE - APT. HOUSE   \n",
       "9999  MISDEMEANOR     QUEENS            INSIDE  RESIDENCE - APT. HOUSE   \n",
       "\n",
       "            JURIS_DESC  JURISDICTION_CODE  ...  Month  Year Complaint_Day  \\\n",
       "0     N.Y. POLICE DEPT                0.0  ...     12  2019           NaN   \n",
       "1     N.Y. POLICE DEPT                0.0  ...     12  2019           6.0   \n",
       "2     N.Y. POLICE DEPT                0.0  ...     12  2019           NaN   \n",
       "3     N.Y. POLICE DEPT                0.0  ...     12  2019           NaN   \n",
       "4     N.Y. POLICE DEPT                NaN  ...      9  2008           NaN   \n",
       "...                ...                ...  ...    ...   ...           ...   \n",
       "9995  N.Y. POLICE DEPT                0.0  ...     12  2019           0.0   \n",
       "9996  N.Y. POLICE DEPT                0.0  ...     12  2019           3.0   \n",
       "9997  N.Y. POLICE DEPT                0.0  ...     12  2019           NaN   \n",
       "9998  N.Y. POLICE DEPT                0.0  ...     12  2019           2.0   \n",
       "9999  N.Y. POLICE DEPT                0.0  ...     12  2019           4.0   \n",
       "\n",
       "     Complaint_Month Complaint_Year  Report_Day  Report_Month Report_Year  \\\n",
       "0                NaN            NaN           1            12        2019   \n",
       "1               12.0         2019.0           6            12        2019   \n",
       "2                NaN            NaN           6            12        2019   \n",
       "3                NaN            NaN           5            12        2019   \n",
       "4                NaN            NaN           4             9        2008   \n",
       "...              ...            ...         ...           ...         ...   \n",
       "9995            12.0         2019.0           0            12        2019   \n",
       "9996            12.0         2019.0           3            12        2019   \n",
       "9997             NaN            NaN           6            12        2019   \n",
       "9998            12.0         2019.0           3            12        2019   \n",
       "9999            12.0         2019.0           5            12        2019   \n",
       "\n",
       "     Complaint_date Start year  \n",
       "0        2019-12-31       2019  \n",
       "1        2019-12-29       2019  \n",
       "2        2019-12-15       2019  \n",
       "3        2019-12-28       2019  \n",
       "4        2008-09-05       2008  \n",
       "...             ...        ...  \n",
       "9995     2019-12-30       2019  \n",
       "9996     2019-12-26       2019  \n",
       "9997     2019-12-22       2019  \n",
       "9998     2019-12-25       2019  \n",
       "9999     2019-12-27       2019  \n",
       "\n",
       "[10000 rows x 38 columns]"
      ]
     },
     "execution_count": 62,
     "metadata": {},
     "output_type": "execute_result"
    }
   ],
   "source": [
    "#Now checking the classes in the OFNS_DESC\n",
    "chunk1"
   ]
  },
  {
   "cell_type": "markdown",
   "id": "68f05502",
   "metadata": {},
   "source": [
    "### Now printing the number of values in the OFNS_DESC"
   ]
  },
  {
   "cell_type": "code",
   "execution_count": 63,
   "id": "58971da3",
   "metadata": {},
   "outputs": [
    {
     "data": {
      "text/plain": [
       "Major    5765\n",
       "Minor    4235\n",
       "Name: OFNS_DESC, dtype: int64"
      ]
     },
     "execution_count": 63,
     "metadata": {},
     "output_type": "execute_result"
    }
   ],
   "source": [
    "chunk1['OFNS_DESC'].value_counts()"
   ]
  },
  {
   "cell_type": "markdown",
   "id": "f05d575c",
   "metadata": {},
   "source": [
    "###  Determine the distribution of the  OFNS_DESC.\n"
   ]
  },
  {
   "cell_type": "markdown",
   "id": "53c9cffd",
   "metadata": {},
   "source": [
    "### Here We can notice slight imbalance here in between Minor & Major. The imbalance is very less and will not affect the model."
   ]
  },
  {
   "cell_type": "code",
   "execution_count": 64,
   "id": "4f28e199",
   "metadata": {},
   "outputs": [
    {
     "data": {
      "image/png": "[encoded data removed]",
      "text/plain": [
       "<Figure size 1440x648 with 1 Axes>"
      ]
     },
     "metadata": {
      "needs_background": "light"
     },
     "output_type": "display_data"
    }
   ],
   "source": [
    "chunk1['OFNS_DESC'].value_counts().plot.bar()\n",
    "plt.title(' minor & major')\n",
    "plt.ylabel('count')\n",
    "plt.show()"
   ]
  },
  {
   "cell_type": "markdown",
   "id": "6001f0fa",
   "metadata": {},
   "source": [
    "###  Histogram plot show the every column distribution\n",
    "\n",
    "#### https://github.com/appliedecon/data602-lectures/blob/main/model-evaluation/model-evaluation.ipynb"
   ]
  },
  {
   "cell_type": "code",
   "execution_count": 65,
   "id": "fb26ffe8",
   "metadata": {},
   "outputs": [
    {
     "data": {
      "image/png": "[encoded data removed]",
      "text/plain": [
       "<Figure size 1440x1080 with 25 Axes>"
      ]
     },
     "metadata": {
      "needs_background": "light"
     },
     "output_type": "display_data"
    }
   ],
   "source": [
    "import matplotlib.pyplot as plt\n",
    "%matplotlib inline\n",
    "\n",
    "\n",
    "chunk1.hist(figsize=(20,15))\n",
    "plt.show()"
   ]
  },
  {
   "cell_type": "markdown",
   "id": "1d1e358f",
   "metadata": {},
   "source": [
    "### Plotting to show the distribution of the probabilities in between the classes"
   ]
  },
  {
   "cell_type": "code",
   "execution_count": 66,
   "id": "125039fe",
   "metadata": {},
   "outputs": [
    {
     "data": {
      "image/png": "[encoded data removed]",
      "text/plain": [
       "<Figure size 432x288 with 2 Axes>"
      ]
     },
     "metadata": {
      "needs_background": "light"
     },
     "output_type": "display_data"
    }
   ],
   "source": [
    "chunk1['OFNS_DESC'].hist(by=chunk1['OFNS_DESC'])\n",
    "plt.show()"
   ]
  },
  {
   "cell_type": "markdown",
   "id": "4d8dbc74",
   "metadata": {},
   "source": [
    "#                                               ***  Modeling ***"
   ]
  },
  {
   "cell_type": "markdown",
   "id": "70c8ffea",
   "metadata": {},
   "source": [
    "###  Below showing the modeling process and the creation of pipelines."
   ]
  },
  {
   "cell_type": "code",
   "execution_count": 67,
   "id": "20261a4c",
   "metadata": {},
   "outputs": [],
   "source": [
    "#importing all the necessary libraries\n",
    "from sklearn.pipeline import Pipeline\n",
    "from sklearn.compose import ColumnTransformer\n",
    "from sklearn.preprocessing import StandardScaler\n",
    "from sklearn.preprocessing import PolynomialFeatures\n",
    "from sklearn.preprocessing import OneHotEncoder\n",
    "from sklearn.linear_model import LogisticRegression\n",
    "from sklearn.impute import SimpleImputer\n",
    "%matplotlib inline"
   ]
  },
  {
   "cell_type": "markdown",
   "id": "cc50b894",
   "metadata": {},
   "source": [
    "### Defining the number of Test and Train samples and the Target Column is \"OFNS_DESC\""
   ]
  },
  {
   "cell_type": "code",
   "execution_count": 68,
   "id": "365478ea",
   "metadata": {},
   "outputs": [
    {
     "name": "stdout",
     "output_type": "stream",
     "text": [
      "Training examples: 8000\n",
      "Test examples: 2000\n",
      "\n",
      "Feature names:\n",
      "Unnamed: 0\tADDR_PCT_CD\tPD_DESC\tLAW_CAT_CD\tBORO_NM\tLOC_OF_OCCUR_DESC\tPREM_TYP_DESC\tJURIS_DESC\tJURISDICTION_CODE\tX_COORD_CD\tY_COORD_CD\tSUSP_AGE_GROUP\tSUSP_RACE\tSUSP_SEX\tLatitude\tLongitude\tLat_Lon\tPATROL_BORO\tVIC_AGE_GROUP\tVIC_RACE\tVIC_SEX\tDate\tComplaint_Date\tReport_Date\tTime\tComplaint_Time\tDay\tMonth\tYear\tComplaint_Day\tComplaint_Month\tComplaint_Year\tReport_Day\tReport_Month\tReport_Year\tComplaint_date\tStart year\n"
     ]
    }
   ],
   "source": [
    "from sklearn.model_selection import train_test_split\n",
    "X = chunk1[[x for x in chunk1.columns if x != 'OFNS_DESC']]\n",
    "y = chunk1['OFNS_DESC']\n",
    "\n",
    "X_train, X_test, y_train, y_test = train_test_split(X, y, test_size=0.2, random_state=2303)\n",
    "\n",
    "print(f'Training examples: {X_train.shape[0]}')\n",
    "print(f'Test examples: {X_test.shape[0]}')\n",
    "print('\\nFeature names:')\n",
    "print(*X.columns, sep='\\t')"
   ]
  },
  {
   "cell_type": "code",
   "execution_count": 69,
   "id": "c48aa4ae",
   "metadata": {
    "scrolled": true
   },
   "outputs": [
    {
     "data": {
      "text/plain": [
       "0       Major\n",
       "1       Minor\n",
       "2       Major\n",
       "3       Minor\n",
       "4       Major\n",
       "        ...  \n",
       "9995    Major\n",
       "9996    Major\n",
       "9997    Minor\n",
       "9998    Major\n",
       "9999    Minor\n",
       "Name: OFNS_DESC, Length: 10000, dtype: object"
      ]
     },
     "execution_count": 69,
     "metadata": {},
     "output_type": "execute_result"
    }
   ],
   "source": [
    "#Checking the number of values of the target column\n",
    "y"
   ]
  },
  {
   "cell_type": "markdown",
   "id": "3d0f404b",
   "metadata": {},
   "source": [
    "### Defining the Unique classes of the Target column"
   ]
  },
  {
   "cell_type": "code",
   "execution_count": 70,
   "id": "85426fe2",
   "metadata": {},
   "outputs": [
    {
     "data": {
      "text/plain": [
       "array(['Major', 'Minor'], dtype=object)"
      ]
     },
     "execution_count": 70,
     "metadata": {},
     "output_type": "execute_result"
    }
   ],
   "source": [
    "chunk1['OFNS_DESC'].unique()"
   ]
  },
  {
   "cell_type": "markdown",
   "id": "dc63a662",
   "metadata": {},
   "source": [
    "### Creating the Categoricallist"
   ]
  },
  {
   "cell_type": "code",
   "execution_count": 71,
   "id": "377ecf69",
   "metadata": {},
   "outputs": [
    {
     "data": {
      "text/plain": [
       "['PD_DESC',\n",
       " 'LAW_CAT_CD',\n",
       " 'BORO_NM',\n",
       " 'LOC_OF_OCCUR_DESC',\n",
       " 'PREM_TYP_DESC',\n",
       " 'JURIS_DESC',\n",
       " 'SUSP_AGE_GROUP',\n",
       " 'SUSP_RACE',\n",
       " 'SUSP_SEX',\n",
       " 'Lat_Lon',\n",
       " 'PATROL_BORO',\n",
       " 'VIC_AGE_GROUP',\n",
       " 'VIC_RACE',\n",
       " 'VIC_SEX']"
      ]
     },
     "execution_count": 71,
     "metadata": {},
     "output_type": "execute_result"
    }
   ],
   "source": [
    "#Defining the all categorical values\n",
    "features = [x for x in chunk1.columns if x != 'OFNS_DESC']\n",
    "categoricallist = list(chunk1[features].select_dtypes(include=['object']).columns)\n",
    "categoricallist"
   ]
  },
  {
   "cell_type": "markdown",
   "id": "35da0400",
   "metadata": {},
   "source": [
    "### Creating the Numericallist"
   ]
  },
  {
   "cell_type": "code",
   "execution_count": 72,
   "id": "1c0c508f",
   "metadata": {},
   "outputs": [
    {
     "data": {
      "text/plain": [
       "['Unnamed: 0',\n",
       " 'ADDR_PCT_CD',\n",
       " 'JURISDICTION_CODE',\n",
       " 'X_COORD_CD',\n",
       " 'Y_COORD_CD',\n",
       " 'Latitude',\n",
       " 'Longitude',\n",
       " 'Date',\n",
       " 'Complaint_Date',\n",
       " 'Report_Date',\n",
       " 'Time',\n",
       " 'Complaint_Time',\n",
       " 'Day',\n",
       " 'Month',\n",
       " 'Year',\n",
       " 'Complaint_Day',\n",
       " 'Complaint_Month',\n",
       " 'Complaint_Year',\n",
       " 'Report_Day',\n",
       " 'Report_Month',\n",
       " 'Report_Year',\n",
       " 'Complaint_date',\n",
       " 'Start year']"
      ]
     },
     "execution_count": 72,
     "metadata": {},
     "output_type": "execute_result"
    }
   ],
   "source": [
    "#Defining the all numerical values\n",
    "numericallist = list(chunk1.select_dtypes(exclude=['object']).columns)\n",
    "numericallist"
   ]
  },
  {
   "cell_type": "markdown",
   "id": "42089b9f",
   "metadata": {},
   "source": [
    "### Removing the Unwanted columns from the Numerical list which are not necessary to use."
   ]
  },
  {
   "cell_type": "code",
   "execution_count": 73,
   "id": "2c08b7f0",
   "metadata": {},
   "outputs": [],
   "source": [
    "#removing the columns from the list\n",
    "delete_list=['Unnamed: 0','Time', 'Date','Report_Date', 'Complaint_date','Complaint_Time','Complaint_Day','Complaint_Month','Complaint_Year', 'Report_Day', 'Report_Month','Report_Year']\n",
    "for e in delete_list:\n",
    "    numericallist.remove(e)"
   ]
  },
  {
   "cell_type": "code",
   "execution_count": 74,
   "id": "6bcf7d38",
   "metadata": {},
   "outputs": [
    {
     "data": {
      "text/plain": [
       "['ADDR_PCT_CD',\n",
       " 'JURISDICTION_CODE',\n",
       " 'X_COORD_CD',\n",
       " 'Y_COORD_CD',\n",
       " 'Latitude',\n",
       " 'Longitude',\n",
       " 'Complaint_Date',\n",
       " 'Day',\n",
       " 'Month',\n",
       " 'Year',\n",
       " 'Start year']"
      ]
     },
     "execution_count": 74,
     "metadata": {},
     "output_type": "execute_result"
    }
   ],
   "source": [
    "numericallist"
   ]
  },
  {
   "cell_type": "code",
   "execution_count": 75,
   "id": "64b19ddd",
   "metadata": {},
   "outputs": [],
   "source": [
    "#here also removing the rest of unnecessary columns from the numerical list.\n",
    "delete_list1=['Complaint_Date', 'Latitude','Longitude','X_COORD_CD','Y_COORD_CD']\n",
    "for k in delete_list1:\n",
    "    numericallist.remove(k)"
   ]
  },
  {
   "cell_type": "markdown",
   "id": "32862a4e",
   "metadata": {},
   "source": [
    "numericallist.remove('Latitude')\n",
    "numericallist.remove('Longitude')\n"
   ]
  },
  {
   "cell_type": "code",
   "execution_count": 76,
   "id": "1612f366",
   "metadata": {},
   "outputs": [
    {
     "data": {
      "text/plain": [
       "['ADDR_PCT_CD', 'JURISDICTION_CODE', 'Day', 'Month', 'Year', 'Start year']"
      ]
     },
     "execution_count": 76,
     "metadata": {},
     "output_type": "execute_result"
    }
   ],
   "source": [
    "numericallist"
   ]
  },
  {
   "cell_type": "markdown",
   "id": "f240520d",
   "metadata": {},
   "source": [
    "### Performing the OneHotEncoding on the categorical list to create a pipeline\n",
    "#### https://github.com/appliedecon/data602-lectures/blob/main/regression/linear-regression-and-regularization.ipynb"
   ]
  },
  {
   "cell_type": "code",
   "execution_count": 77,
   "id": "b065b5cf",
   "metadata": {},
   "outputs": [
    {
     "data": {
      "text/plain": [
       "(8000, 6566)"
      ]
     },
     "execution_count": 77,
     "metadata": {},
     "output_type": "execute_result"
    }
   ],
   "source": [
    "from sklearn.preprocessing import OneHotEncoder\n",
    "cat_pipeline = Pipeline([('impute_missing', SimpleImputer(strategy='most_frequent')),('create_dummies_cats', OneHotEncoder(handle_unknown='ignore'))])\n",
    "y = cat_pipeline.fit_transform(np.array(X_train[categoricallist]))  #using imputer to remove the null values \n",
    "y.shape"
   ]
  },
  {
   "cell_type": "markdown",
   "id": "25011a9f",
   "metadata": {},
   "source": [
    "### Performing the StandardScalar method on the numerical lsit to create a pipeline"
   ]
  },
  {
   "cell_type": "code",
   "execution_count": 78,
   "id": "291d996f",
   "metadata": {},
   "outputs": [
    {
     "data": {
      "text/plain": [
       "(8000, 6)"
      ]
     },
     "execution_count": 78,
     "metadata": {},
     "output_type": "execute_result"
    }
   ],
   "source": [
    "num_pipeline = Pipeline([('impute_missing', SimpleImputer(strategy='median')),\n",
    "                           ('standardize_num', StandardScaler())   #using imputer to remove the null values\n",
    "                        ])\n",
    "x = num_pipeline.fit_transform(np.array(X_train[numericallist]))\n",
    "x.shape"
   ]
  },
  {
   "cell_type": "markdown",
   "id": "a4cf7809",
   "metadata": {},
   "source": [
    "### Creating a processing Pipeline "
   ]
  },
  {
   "cell_type": "code",
   "execution_count": 79,
   "id": "fbb9da4b",
   "metadata": {},
   "outputs": [
    {
     "data": {
      "text/plain": [
       "<8000x6572 sparse matrix of type '<class 'numpy.float64'>'\n",
       "\twith 160000 stored elements in Compressed Sparse Row format>"
      ]
     },
     "execution_count": 79,
     "metadata": {},
     "output_type": "execute_result"
    }
   ],
   "source": [
    "#all the numerical and categorical list values will pass through processing pipeline\n",
    "processing_pipeline = ColumnTransformer(transformers=[('proc_numericlist', num_pipeline, numericallist),\n",
    "                                                      ('create_dummies', cat_pipeline, categoricallist)])\n",
    "z = processing_pipeline.fit_transform(X_train)\n",
    "z\n"
   ]
  },
  {
   "cell_type": "code",
   "execution_count": 80,
   "id": "64edb423",
   "metadata": {},
   "outputs": [
    {
     "data": {
      "text/plain": [
       "ColumnTransformer(transformers=[('proc_numericlist',\n",
       "                                 Pipeline(steps=[('impute_missing',\n",
       "                                                  SimpleImputer(strategy='median')),\n",
       "                                                 ('standardize_num',\n",
       "                                                  StandardScaler())]),\n",
       "                                 ['ADDR_PCT_CD', 'JURISDICTION_CODE', 'Day',\n",
       "                                  'Month', 'Year', 'Start year']),\n",
       "                                ('create_dummies',\n",
       "                                 Pipeline(steps=[('impute_missing',\n",
       "                                                  SimpleImputer(strategy='most_frequent')),\n",
       "                                                 ('create_dummies_cats',\n",
       "                                                  OneHotEncoder(handle_unknown='ignore'))]),\n",
       "                                 ['PD_DESC', 'LAW_CAT_CD', 'BORO_NM',\n",
       "                                  'LOC_OF_OCCUR_DESC', 'PREM_TYP_DESC',\n",
       "                                  'JURIS_DESC', 'SUSP_AGE_GROUP', 'SUSP_RACE',\n",
       "                                  'SUSP_SEX', 'Lat_Lon', 'PATROL_BORO',\n",
       "                                  'VIC_AGE_GROUP', 'VIC_RACE', 'VIC_SEX'])])"
      ]
     },
     "execution_count": 80,
     "metadata": {},
     "output_type": "execute_result"
    }
   ],
   "source": [
    "processing_pipeline"
   ]
  },
  {
   "cell_type": "markdown",
   "id": "21ad9f36",
   "metadata": {},
   "source": [
    "### Elbow plot\n",
    "### this as a type of grid search for clustering.\n",
    "#### https://github.com/appliedecon/data602-lectures/blob/main/unsupervised/clustering.ipynb\n"
   ]
  },
  {
   "cell_type": "code",
   "execution_count": 81,
   "id": "f198c7e8",
   "metadata": {},
   "outputs": [],
   "source": [
    "from sklearn.preprocessing import StandardScaler\n",
    "from sklearn.decomposition import TruncatedSVD\n",
    "from sklearn.pipeline import Pipeline\n",
    "\n",
    "Clu_p = Pipeline([('process', processing_pipeline),\n",
    "                   ('truncatedSVD', TruncatedSVD (n_components=2))\n",
    "                  ])\n",
    "\n",
    "Clu_2d = Clu_p.fit_transform(X_train)"
   ]
  },
  {
   "cell_type": "code",
   "execution_count": 82,
   "id": "1dd846aa",
   "metadata": {},
   "outputs": [
    {
     "data": {
      "image/png": "[encoded data removed]",
      "text/plain": [
       "<Figure size 432x288 with 1 Axes>"
      ]
     },
     "metadata": {
      "needs_background": "light"
     },
     "output_type": "display_data"
    }
   ],
   "source": [
    "from sklearn.cluster import KMeans\n",
    "\n",
    "distortions = list()\n",
    "\n",
    "for i in range(1, 10):\n",
    "    km = KMeans(n_clusters=i, random_state=0)\n",
    "    km = km.fit(Clu_2d)\n",
    "    distortions.append(km.inertia_)\n",
    "    \n",
    "plt.plot(range(1, 10), distortions, marker='o')\n",
    "plt.xlabel('Number of Clusters')\n",
    "plt.ylabel('Inertia')\n",
    "plt.show()"
   ]
  },
  {
   "cell_type": "code",
   "execution_count": 83,
   "id": "57de857d",
   "metadata": {},
   "outputs": [
    {
     "data": {
      "image/png": "[encoded data removed]",
      "text/plain": [
       "<Figure size 432x288 with 1 Axes>"
      ]
     },
     "metadata": {
      "needs_background": "light"
     },
     "output_type": "display_data"
    }
   ],
   "source": [
    "from sklearn.cluster import KMeans\n",
    "\n",
    "n = 3\n",
    "\n",
    "km = KMeans(n_clusters=n, random_state=0)\n",
    "km = km.fit(Clu_2d)\n",
    "pclusters = km.predict(Clu_2d)\n",
    "\n",
    "for i in range(n):\n",
    "    plt.scatter(Clu_2d[pclusters==i, 0], Clu_2d[pclusters==i, 1], alpha=0.25)\n",
    "plt.show()"
   ]
  },
  {
   "cell_type": "markdown",
   "id": "9a1c2541",
   "metadata": {},
   "source": [
    "### In above clustring part, I have considered as 3 clusters as from the elbow chart. i hav enoticed the elbow was pointing out from the 3nd point, that is the reason i have consider as 3 clusters."
   ]
  },
  {
   "cell_type": "markdown",
   "id": "262e4187",
   "metadata": {},
   "source": [
    "## Decision Tree Classifier"
   ]
  },
  {
   "cell_type": "code",
   "execution_count": 84,
   "id": "ef15b33f",
   "metadata": {},
   "outputs": [
    {
     "data": {
      "text/plain": [
       "{'dt__max_depth': 7, 'dt__min_samples_leaf': 3, 'dt__min_samples_split': 2}"
      ]
     },
     "execution_count": 84,
     "metadata": {},
     "output_type": "execute_result"
    }
   ],
   "source": [
    "#Refrence: https://github.com/appliedecon/data602-lectures/blob/main/trees/trees.ipynb\n",
    "from sklearn.tree import DecisionTreeClassifier\n",
    "from sklearn.pipeline import Pipeline\n",
    "from sklearn.model_selection import GridSearchCV\n",
    "\n",
    "tr_pipe = modeling_pipeline = Pipeline([\n",
    "         ('processing_pipeline', processing_pipeline),\n",
    "        ('dt', DecisionTreeClassifier())\n",
    "        ]\n",
    "    )\n",
    "\n",
    "param_grid = [\n",
    "  {'dt__max_depth': [3,4,5,6,7],\n",
    "   'dt__min_samples_split': [2,4,6],\n",
    "   'dt__min_samples_leaf': [3,6]\n",
    "  }\n",
    " ]\n",
    "\n",
    "dstree = GridSearchCV(estimator=tr_pipe, param_grid=param_grid, scoring='accuracy', refit=True)\n",
    "dstree = dstree.fit(X_train, y_train)\n",
    "\n",
    "dstree.best_params_"
   ]
  },
  {
   "cell_type": "code",
   "execution_count": 85,
   "id": "0691af8f",
   "metadata": {},
   "outputs": [
    {
     "data": {
      "text/plain": [
       "0.7687499999999999"
      ]
     },
     "execution_count": 85,
     "metadata": {},
     "output_type": "execute_result"
    }
   ],
   "source": [
    "dstree.best_score_"
   ]
  },
  {
   "cell_type": "code",
   "execution_count": 86,
   "id": "0332bfc6",
   "metadata": {},
   "outputs": [
    {
     "data": {
      "text/plain": [
       "0.7615"
      ]
     },
     "execution_count": 86,
     "metadata": {},
     "output_type": "execute_result"
    }
   ],
   "source": [
    "dstree.score(X_test,y_test)"
   ]
  },
  {
   "cell_type": "markdown",
   "id": "32a13edd",
   "metadata": {},
   "source": [
    "### Model seems to be best for classification when hyperparameter max depth is 7, with the accuracy score of 0.76. hyperparameters used 3,4,5,6,7 for the max depth for grid search\n",
    "\n",
    "\n"
   ]
  },
  {
   "cell_type": "code",
   "execution_count": 87,
   "id": "0bcd7405",
   "metadata": {},
   "outputs": [
    {
     "name": "stdout",
     "output_type": "stream",
     "text": [
      "Accuracy score for train data: 0.7687499999999999\n",
      "Accuracy score for test data: 0.7615\n"
     ]
    }
   ],
   "source": [
    "Train_Value = dstree.best_score_\n",
    "print(\"Accuracy score for train data:\",Train_Value)\n",
    "Test_Value = dstree.score(X_test, y_test)\n",
    "print(\"Accuracy score for test data:\",Test_Value)"
   ]
  },
  {
   "cell_type": "code",
   "execution_count": 88,
   "id": "cd9bee61",
   "metadata": {},
   "outputs": [
    {
     "name": "stdout",
     "output_type": "stream",
     "text": [
      "              precision    recall  f1-score   support\n",
      "\n",
      "       Major       0.78      0.83      0.80      1175\n",
      "       Minor       0.73      0.67      0.70       825\n",
      "\n",
      "    accuracy                           0.76      2000\n",
      "   macro avg       0.76      0.75      0.75      2000\n",
      "weighted avg       0.76      0.76      0.76      2000\n",
      "\n"
     ]
    }
   ],
   "source": [
    "y_testp = dstree.predict(X_test)\n",
    "y_testpr_lr = dstree.predict_proba(X_test)\n",
    "\n",
    "from sklearn.metrics import classification_report\n",
    "print(classification_report(y_test, y_testp))"
   ]
  },
  {
   "cell_type": "markdown",
   "id": "0c3416e9",
   "metadata": {},
   "source": [
    "### ROC-AUC Curve for Decision Tree Classifier\n"
   ]
  },
  {
   "cell_type": "code",
   "execution_count": 89,
   "id": "8516fc46",
   "metadata": {},
   "outputs": [
    {
     "data": {
      "image/png": "[encoded data removed]",
      "text/plain": [
       "<Figure size 432x288 with 1 Axes>"
      ]
     },
     "metadata": {
      "needs_background": "light"
     },
     "output_type": "display_data"
    }
   ],
   "source": [
    "from sklearn.metrics import roc_curve\n",
    "\n",
    "def generate_prob(X_train, model=dstree):\n",
    "    return model.predict_proba(X_train)[:, 1]\n",
    "\n",
    "def generate_roc(y, prob):\n",
    "    fpr, tpr, _ = roc_curve(y, prob, pos_label='Minor')\n",
    "    return fpr, tpr\n",
    "    \n",
    "fpr_test, tpr_test = generate_roc(y_test, generate_prob(X_test))\n",
    "fpr_train, tpr_train = generate_roc(y_train, generate_prob(X_train))\n",
    "\n",
    "plt.plot(fpr_test, tpr_test,'-r')\n",
    "plt.plot(fpr_train, tpr_train,'-b')\n",
    "plt.xlabel('False Positive Rate')\n",
    "plt.ylabel('True Positive Rate')\n",
    "plt.legend(['Test','Training'])\n",
    "plt.plot([0, 1], [0, 1], color='navy', linestyle='--')\n",
    "plt.show()"
   ]
  },
  {
   "cell_type": "code",
   "execution_count": 90,
   "id": "772c783b",
   "metadata": {},
   "outputs": [
    {
     "data": {
      "text/plain": [
       "0.8575520309477755"
      ]
     },
     "execution_count": 90,
     "metadata": {},
     "output_type": "execute_result"
    }
   ],
   "source": [
    "from sklearn.metrics import roc_auc_score\n",
    "\n",
    "roc_auc_score(y_test, generate_prob(X_test))"
   ]
  },
  {
   "cell_type": "markdown",
   "id": "ebfe968b",
   "metadata": {},
   "source": [
    "### This model has accuracy of 0.76 and the ROC  curve accuracy is 0.8575520309477755\n"
   ]
  },
  {
   "cell_type": "markdown",
   "id": "36689955",
   "metadata": {},
   "source": []
  },
  {
   "cell_type": "markdown",
   "id": "6215f826",
   "metadata": {},
   "source": [
    "## Logistic Regression\n",
    "#### # https://github.com/appliedecon/data602-lectures/blob/main/dimension-reduction/dimension-reduction.ipynb\n"
   ]
  },
  {
   "cell_type": "code",
   "execution_count": 91,
   "id": "4dd06dc8",
   "metadata": {},
   "outputs": [
    {
     "data": {
      "text/plain": [
       "Pipeline(steps=[('process',\n",
       "                 ColumnTransformer(transformers=[('proc_numericlist',\n",
       "                                                  Pipeline(steps=[('impute_missing',\n",
       "                                                                   SimpleImputer(strategy='median')),\n",
       "                                                                  ('standardize_num',\n",
       "                                                                   StandardScaler())]),\n",
       "                                                  ['ADDR_PCT_CD',\n",
       "                                                   'JURISDICTION_CODE', 'Day',\n",
       "                                                   'Month', 'Year',\n",
       "                                                   'Start year']),\n",
       "                                                 ('create_dummies',\n",
       "                                                  Pipeline(steps=[('impute_missing',\n",
       "                                                                   SimpleImputer(strategy='most_frequent')),\n",
       "                                                                  ('create_dummies_cats',\n",
       "                                                                   OneHotEncoder(handle_unknown='ignore'))]),\n",
       "                                                  ['PD_DESC', 'LAW_CAT_CD',\n",
       "                                                   'BORO_NM',\n",
       "                                                   'LOC_OF_OCCUR_DESC',\n",
       "                                                   'PREM_TYP_DESC',\n",
       "                                                   'JURIS_DESC',\n",
       "                                                   'SUSP_AGE_GROUP',\n",
       "                                                   'SUSP_RACE', 'SUSP_SEX',\n",
       "                                                   'Lat_Lon', 'PATROL_BORO',\n",
       "                                                   'VIC_AGE_GROUP', 'VIC_RACE',\n",
       "                                                   'VIC_SEX'])])),\n",
       "                ('model', LogisticRegression(C=10, max_iter=1000))])"
      ]
     },
     "execution_count": 91,
     "metadata": {},
     "output_type": "execute_result"
    }
   ],
   "source": [
    "\n",
    "import warnings\n",
    "warnings.filterwarnings('ignore')\n",
    "from sklearn.linear_model import LogisticRegression\n",
    "from sklearn.model_selection import GridSearchCV\n",
    "\n",
    "\n",
    "p = Pipeline([('process', processing_pipeline), \n",
    "              ('model', LogisticRegression(max_iter=1000))\n",
    "             ])\n",
    "\n",
    "params = [{'model__C': [1, 2.5, 6, 10],'model__penalty':['l2']}]\n",
    "\n",
    "logistic = GridSearchCV(p, param_grid=params, scoring='accuracy', cv=10, refit=True)\n",
    "logistic = logistic.fit(X_train, y_train)\n",
    "\n",
    "logistic.best_estimator_"
   ]
  },
  {
   "cell_type": "markdown",
   "id": "e439f6f1",
   "metadata": {},
   "source": [
    "y_hat = logistic.best_estimator_.predict(X_test)"
   ]
  },
  {
   "cell_type": "code",
   "execution_count": 92,
   "id": "40f30a36",
   "metadata": {},
   "outputs": [
    {
     "name": "stdout",
     "output_type": "stream",
     "text": [
      "Validation score: 99.71%\n",
      "Test score: 99.75%\n"
     ]
    },
    {
     "data": {
      "text/plain": [
       "0.9975"
      ]
     },
     "execution_count": 92,
     "metadata": {},
     "output_type": "execute_result"
    }
   ],
   "source": [
    "print(f'Validation score: {logistic.best_score_:.2%}')\n",
    "print(f'Test score: {logistic.score(X_test, y_test):.2%}')\n",
    "logistic.score(X_test,y_test)"
   ]
  },
  {
   "cell_type": "markdown",
   "id": "be0f189f",
   "metadata": {},
   "source": [
    "### 1, 2.5, 6, 10 are the Hyperparameters Used for grid search as penalty strengths. The test accuracy is 0.9975, as of now it is the highest accuracy score when comapare to all models.\n"
   ]
  },
  {
   "cell_type": "code",
   "execution_count": 93,
   "id": "45593177",
   "metadata": {},
   "outputs": [
    {
     "name": "stdout",
     "output_type": "stream",
     "text": [
      "              precision    recall  f1-score   support\n",
      "\n",
      "       Major       1.00      1.00      1.00      1175\n",
      "       Minor       1.00      1.00      1.00       825\n",
      "\n",
      "    accuracy                           1.00      2000\n",
      "   macro avg       1.00      1.00      1.00      2000\n",
      "weighted avg       1.00      1.00      1.00      2000\n",
      "\n"
     ]
    }
   ],
   "source": [
    "y_testp = logistic.predict(X_test)\n",
    "y_testpr_lr = logistic.predict_proba(X_test)\n",
    "\n",
    "from sklearn.metrics import classification_report\n",
    "print(classification_report(y_test, y_testp))"
   ]
  },
  {
   "cell_type": "code",
   "execution_count": 94,
   "id": "193b0f18",
   "metadata": {},
   "outputs": [
    {
     "data": {
      "image/png": "[encoded data removed]",
      "text/plain": [
       "<Figure size 432x288 with 1 Axes>"
      ]
     },
     "metadata": {
      "needs_background": "light"
     },
     "output_type": "display_data"
    }
   ],
   "source": [
    "from sklearn.metrics import roc_curve\n",
    "\n",
    "def generate_probs(X_train, model=logistic):\n",
    "    return model.predict_proba(X_train)[:, 1]\n",
    "\n",
    "def generate_roc(y, probs):\n",
    "    fpr, tpr, _ = roc_curve(y, probs, pos_label='Minor')\n",
    "    return fpr, tpr\n",
    "    \n",
    "fpr_test, tpr_test = generate_roc(y_test, generate_probs(X_test))\n",
    "fpr_train, tpr_train = generate_roc(y_train, generate_probs(X_train))\n",
    "\n",
    "plt.plot(fpr_test, tpr_test,'-r')\n",
    "plt.plot(fpr_train, tpr_train,'-b')\n",
    "plt.xlabel('False Positive Rate')\n",
    "plt.ylabel('True Positive Rate')\n",
    "plt.legend(['Test','Training'])\n",
    "plt.plot([0, 1], [0, 1], color='navy', linestyle='--')\n",
    "plt.show()"
   ]
  },
  {
   "cell_type": "code",
   "execution_count": 95,
   "id": "8a1cb5ca",
   "metadata": {},
   "outputs": [
    {
     "data": {
      "text/plain": [
       "0.999953578336557"
      ]
     },
     "execution_count": 95,
     "metadata": {},
     "output_type": "execute_result"
    }
   ],
   "source": [
    "from sklearn.metrics import roc_auc_score\n",
    "\n",
    "roc_auc_score(y_test, generate_probs(X_test))"
   ]
  },
  {
   "cell_type": "markdown",
   "id": "0ace81c0",
   "metadata": {},
   "source": [
    "### Here the test score is 0.9975 and the value of ROC curve is 0.999953, so based on the values this model performs good, until now when compare with other models.\n"
   ]
  },
  {
   "cell_type": "markdown",
   "id": "f54412ea",
   "metadata": {},
   "source": []
  },
  {
   "cell_type": "markdown",
   "id": "83471047",
   "metadata": {},
   "source": [
    "## Logistic Regression with KMeans\n",
    "#### https://github.com/appliedecon/data602-lectures/blob/main/unsupervised/clustering.ipynb"
   ]
  },
  {
   "cell_type": "code",
   "execution_count": 96,
   "id": "2807da61",
   "metadata": {},
   "outputs": [
    {
     "data": {
      "text/plain": [
       "Pipeline(steps=[('process',\n",
       "                 ColumnTransformer(transformers=[('proc_numericlist',\n",
       "                                                  Pipeline(steps=[('impute_missing',\n",
       "                                                                   SimpleImputer(strategy='median')),\n",
       "                                                                  ('standardize_num',\n",
       "                                                                   StandardScaler())]),\n",
       "                                                  ['ADDR_PCT_CD',\n",
       "                                                   'JURISDICTION_CODE', 'Day',\n",
       "                                                   'Month', 'Year',\n",
       "                                                   'Start year']),\n",
       "                                                 ('create_dummies',\n",
       "                                                  Pipeline(steps=[('impute_missing',\n",
       "                                                                   SimpleImputer(strategy='most_frequent')),\n",
       "                                                                  ('create_dummies_cats',\n",
       "                                                                   OneHotEncoder(handle_unknown='ignore'))]),\n",
       "                                                  ['PD_DESC', 'LAW_CAT_CD',\n",
       "                                                   'BORO_NM',\n",
       "                                                   'LOC_OF_OCCUR_DESC',\n",
       "                                                   'PREM_TYP_DESC',\n",
       "                                                   'JURIS_DESC',\n",
       "                                                   'SUSP_AGE_GROUP',\n",
       "                                                   'SUSP_RACE', 'SUSP_SEX',\n",
       "                                                   'Lat_Lon', 'PATROL_BORO',\n",
       "                                                   'VIC_AGE_GROUP', 'VIC_RACE',\n",
       "                                                   'VIC_SEX'])])),\n",
       "                ('kmeans', KMeans()),\n",
       "                ('model', LogisticRegression(max_iter=1000, penalty='none'))])"
      ]
     },
     "execution_count": 96,
     "metadata": {},
     "output_type": "execute_result"
    }
   ],
   "source": [
    "from sklearn.cluster import KMeans\n",
    "\n",
    "p1 = Pipeline([('process', processing_pipeline), \n",
    "              ('kmeans', KMeans(n_clusters=100)),\n",
    "              ('model', LogisticRegression(max_iter=1000))\n",
    "             ])\n",
    "\n",
    "params = [{'kmeans__n_clusters':[2,5,8,4],'model__C': [1, 5, 7, 10],'model__penalty':['l2'], },{'kmeans__n_clusters':[2,5,8,4],'model__penalty':['none']}]\n",
    "\n",
    "Component = GridSearchCV(p1, param_grid=params, scoring='accuracy', cv=10, refit=True)\n",
    "Component = Component.fit(X_train, y_train)\n",
    "\n",
    "Component.best_estimator_"
   ]
  },
  {
   "cell_type": "code",
   "execution_count": 97,
   "id": "e01dcc01",
   "metadata": {},
   "outputs": [
    {
     "name": "stdout",
     "output_type": "stream",
     "text": [
      "Using k-means preprocesser: 59.55%\n"
     ]
    }
   ],
   "source": [
    "\n",
    "Component_score = Component.score(X_test, y_test)\n",
    "print(f'Using k-means preprocesser: {Component_score:.2%}')\n"
   ]
  },
  {
   "cell_type": "code",
   "execution_count": 98,
   "id": "1c585f4a",
   "metadata": {},
   "outputs": [
    {
     "data": {
      "text/plain": [
       "0.5955"
      ]
     },
     "execution_count": 98,
     "metadata": {},
     "output_type": "execute_result"
    }
   ],
   "source": [
    "Component.score(X_test,y_test)"
   ]
  },
  {
   "cell_type": "markdown",
   "id": "dcac3659",
   "metadata": {},
   "source": [
    "### Here the test value is 0.592 when using the hyperperameters 2,5,8,4 as a clusters"
   ]
  },
  {
   "cell_type": "code",
   "execution_count": 99,
   "id": "d523e086",
   "metadata": {},
   "outputs": [
    {
     "name": "stdout",
     "output_type": "stream",
     "text": [
      "              precision    recall  f1-score   support\n",
      "\n",
      "       Major       0.63      0.77      0.69      1175\n",
      "       Minor       0.51      0.34      0.41       825\n",
      "\n",
      "    accuracy                           0.60      2000\n",
      "   macro avg       0.57      0.56      0.55      2000\n",
      "weighted avg       0.58      0.60      0.58      2000\n",
      "\n"
     ]
    }
   ],
   "source": [
    "y_testp = Component.predict(X_test)\n",
    "y_testpr_lr = Component.predict_proba(X_test)\n",
    "\n",
    "from sklearn.metrics import classification_report\n",
    "print(classification_report(y_test, y_testp))"
   ]
  },
  {
   "cell_type": "code",
   "execution_count": 100,
   "id": "efa333b2",
   "metadata": {},
   "outputs": [
    {
     "data": {
      "image/png": "[encoded data removed]",
      "text/plain": [
       "<Figure size 432x288 with 1 Axes>"
      ]
     },
     "metadata": {
      "needs_background": "light"
     },
     "output_type": "display_data"
    }
   ],
   "source": [
    "from sklearn.metrics import roc_curve\n",
    "\n",
    "def generate_prob1(X_train, model=Component):\n",
    "    return model.predict_proba(X_train)[:, 1]\n",
    "\n",
    "def generate_roc(y, prob1):\n",
    "    fpr, tpr, _ = roc_curve(y, prob1, pos_label='Minor')\n",
    "    return fpr, tpr\n",
    "    \n",
    "fpr_test, tpr_test = generate_roc(y_test, generate_prob1(X_test))\n",
    "fpr_train, tpr_train = generate_roc(y_train, generate_prob1(X_train))\n",
    "\n",
    "plt.plot(fpr_test, tpr_test,'-r')\n",
    "plt.plot(fpr_train, tpr_train,'-b')\n",
    "plt.xlabel('False Positive Rate')\n",
    "plt.ylabel('True Positive Rate')\n",
    "plt.legend(['Test','Training'])\n",
    "plt.plot([0, 1], [0, 1], color='navy', linestyle='--')\n",
    "plt.show()"
   ]
  },
  {
   "cell_type": "code",
   "execution_count": 101,
   "id": "1f09da2f",
   "metadata": {},
   "outputs": [
    {
     "data": {
      "text/plain": [
       "0.6051981947130883"
      ]
     },
     "execution_count": 101,
     "metadata": {},
     "output_type": "execute_result"
    }
   ],
   "source": [
    "from sklearn.metrics import roc_auc_score\n",
    "\n",
    "roc_auc_score(y_test, generate_prob1(X_test))"
   ]
  },
  {
   "cell_type": "markdown",
   "id": "76f604be",
   "metadata": {},
   "source": [
    "### Here the test value is 0.592 and the ROC curve value is 0.605, what i observed here is we got the least value when compared with the previous models, So this model is the not better among them."
   ]
  },
  {
   "cell_type": "markdown",
   "id": "34afd57e",
   "metadata": {},
   "source": []
  },
  {
   "cell_type": "markdown",
   "id": "1e6f9d86",
   "metadata": {},
   "source": [
    "## Random Forest Classifier\n",
    "#### https://github.com/appliedecon/data602-lectures/blob/main/trees/trees.ipynb"
   ]
  },
  {
   "cell_type": "code",
   "execution_count": 102,
   "id": "7184852d",
   "metadata": {
    "scrolled": true
   },
   "outputs": [
    {
     "data": {
      "text/plain": [
       "Pipeline(steps=[('data_processing',\n",
       "                 ColumnTransformer(transformers=[('proc_numericlist',\n",
       "                                                  Pipeline(steps=[('impute_missing',\n",
       "                                                                   SimpleImputer(strategy='median')),\n",
       "                                                                  ('standardize_num',\n",
       "                                                                   StandardScaler())]),\n",
       "                                                  ['ADDR_PCT_CD',\n",
       "                                                   'JURISDICTION_CODE', 'Day',\n",
       "                                                   'Month', 'Year',\n",
       "                                                   'Start year']),\n",
       "                                                 ('create_dummies',\n",
       "                                                  Pipeline(steps=[('impute_missing',\n",
       "                                                                   SimpleImputer(strategy='most_frequ...,\n",
       "                                                                  ('create_dummies_cats',\n",
       "                                                                   OneHotEncoder(handle_unknown='ignore'))]),\n",
       "                                                  ['PD_DESC', 'LAW_CAT_CD',\n",
       "                                                   'BORO_NM',\n",
       "                                                   'LOC_OF_OCCUR_DESC',\n",
       "                                                   'PREM_TYP_DESC',\n",
       "                                                   'JURIS_DESC',\n",
       "                                                   'SUSP_AGE_GROUP',\n",
       "                                                   'SUSP_RACE', 'SUSP_SEX',\n",
       "                                                   'Lat_Lon', 'PATROL_BORO',\n",
       "                                                   'VIC_AGE_GROUP', 'VIC_RACE',\n",
       "                                                   'VIC_SEX'])])),\n",
       "                ('rf',\n",
       "                 RandomForestClassifier(class_weight='balanced_subsample',\n",
       "                                        max_depth=12, max_samples=900))])"
      ]
     },
     "execution_count": 102,
     "metadata": {},
     "output_type": "execute_result"
    }
   ],
   "source": [
    "\n",
    "from sklearn.pipeline import Pipeline\n",
    "from sklearn.model_selection import GridSearchCV\n",
    "from sklearn.ensemble import RandomForestClassifier\n",
    "\n",
    "\n",
    "\n",
    "rf_pipeline = Pipeline([\n",
    "    ('data_processing', processing_pipeline),\n",
    "    ('rf', RandomForestClassifier())]\n",
    ")\n",
    "\n",
    "param_grid = [{'rf__max_depth': [5, 8, 10, 12],\n",
    "               'rf__n_estimators': [10, 50, 100],\n",
    "               'rf__class_weight': [None, 'balanced', 'balanced_subsample'],\n",
    "               'rf__max_samples': [878, 900, 950]\n",
    "              }]\n",
    "\n",
    "random = GridSearchCV(estimator=rf_pipeline, param_grid=param_grid, scoring='accuracy', refit=True)\n",
    "random = random.fit(X_train, y_train)\n",
    "\n",
    "\n",
    "random.best_estimator_"
   ]
  },
  {
   "cell_type": "code",
   "execution_count": 103,
   "id": "c0b890ef",
   "metadata": {},
   "outputs": [
    {
     "name": "stdout",
     "output_type": "stream",
     "text": [
      "Using rf preprocesser: 86.95%\n"
     ]
    },
    {
     "data": {
      "text/plain": [
       "0.8695"
      ]
     },
     "execution_count": 103,
     "metadata": {},
     "output_type": "execute_result"
    }
   ],
   "source": [
    "rf = random.score(X_test, y_test)\n",
    "print(f'Using rf preprocesser: {rf:.2%}')\n",
    "random.score(X_test,y_test)"
   ]
  },
  {
   "cell_type": "markdown",
   "id": "bf8816ba",
   "metadata": {},
   "source": [
    "### The accuracy is 0.8545, the max depth used 12 ."
   ]
  },
  {
   "cell_type": "code",
   "execution_count": 104,
   "id": "6c422e31",
   "metadata": {},
   "outputs": [
    {
     "name": "stdout",
     "output_type": "stream",
     "text": [
      "              precision    recall  f1-score   support\n",
      "\n",
      "       Major       0.92      0.85      0.88      1175\n",
      "       Minor       0.81      0.89      0.85       825\n",
      "\n",
      "    accuracy                           0.87      2000\n",
      "   macro avg       0.86      0.87      0.87      2000\n",
      "weighted avg       0.87      0.87      0.87      2000\n",
      "\n"
     ]
    }
   ],
   "source": [
    "y_testp = random.predict(X_test)\n",
    "y_testpr_lr = random.predict_proba(X_test)\n",
    "\n",
    "from sklearn.metrics import classification_report\n",
    "print(classification_report(y_test, y_testp))"
   ]
  },
  {
   "cell_type": "code",
   "execution_count": 105,
   "id": "262e2247",
   "metadata": {},
   "outputs": [
    {
     "data": {
      "image/png": "[encoded data removed]",
      "text/plain": [
       "<Figure size 432x288 with 1 Axes>"
      ]
     },
     "metadata": {
      "needs_background": "light"
     },
     "output_type": "display_data"
    }
   ],
   "source": [
    "from sklearn.metrics import roc_curve\n",
    "\n",
    "def generate_prob3(X_train, model=random):\n",
    "    return model.predict_proba(X_train)[:, 1]\n",
    "\n",
    "def generate_roc(y, prob3):\n",
    "    fpr, tpr, _ = roc_curve(y, prob3, pos_label='Minor')\n",
    "    return fpr, tpr\n",
    "    \n",
    "fpr_test, tpr_test = generate_roc(y_test, generate_prob3(X_test))\n",
    "fpr_train, tpr_train = generate_roc(y_train, generate_prob3(X_train))\n",
    "\n",
    "plt.plot(fpr_test, tpr_test,'-r')\n",
    "plt.plot(fpr_train, tpr_train,'-b')\n",
    "plt.xlabel('False Positive Rate')\n",
    "plt.ylabel('True Positive Rate')\n",
    "plt.legend(['Test','Training'])\n",
    "plt.plot([0, 1], [0, 1], color='navy', linestyle='--')\n",
    "plt.show()"
   ]
  },
  {
   "cell_type": "code",
   "execution_count": 106,
   "id": "bd024e17",
   "metadata": {},
   "outputs": [
    {
     "data": {
      "text/plain": [
       "0.9463561573178594"
      ]
     },
     "execution_count": 106,
     "metadata": {},
     "output_type": "execute_result"
    }
   ],
   "source": [
    "from sklearn.metrics import roc_auc_score\n",
    "\n",
    "roc_auc_score(y_test, generate_prob3(X_test))"
   ]
  },
  {
   "cell_type": "markdown",
   "id": "ab6958b0",
   "metadata": {},
   "source": [
    "### The test accuracy is 0.8695  and accuracy of the ROC curve is 0.946, it also performed well when compare with decission tree and the logistic regression with k-mean model"
   ]
  },
  {
   "cell_type": "markdown",
   "id": "aeccd72a",
   "metadata": {},
   "source": []
  },
  {
   "cell_type": "markdown",
   "id": "9e48ce33",
   "metadata": {},
   "source": [
    "## k-Nearest Neighbors (Knn)\n",
    "\n",
    "#### https://github.com/appliedecon/data602-lectures/blob/main/supervised-algorithms/knn-nb-svm.ipynb"
   ]
  },
  {
   "cell_type": "code",
   "execution_count": 107,
   "id": "cf43188f",
   "metadata": {},
   "outputs": [
    {
     "data": {
      "text/plain": [
       "Pipeline(steps=[('data_processing',\n",
       "                 ColumnTransformer(transformers=[('proc_numericlist',\n",
       "                                                  Pipeline(steps=[('impute_missing',\n",
       "                                                                   SimpleImputer(strategy='median')),\n",
       "                                                                  ('standardize_num',\n",
       "                                                                   StandardScaler())]),\n",
       "                                                  ['ADDR_PCT_CD',\n",
       "                                                   'JURISDICTION_CODE', 'Day',\n",
       "                                                   'Month', 'Year',\n",
       "                                                   'Start year']),\n",
       "                                                 ('create_dummies',\n",
       "                                                  Pipeline(steps=[('impute_missing',\n",
       "                                                                   SimpleImputer(strategy='most_frequent')),\n",
       "                                                                  ('create_dummies_cats',\n",
       "                                                                   OneHotEncoder(handle_unknown='ignore'))]),\n",
       "                                                  ['PD_DESC', 'LAW_CAT_CD',\n",
       "                                                   'BORO_NM',\n",
       "                                                   'LOC_OF_OCCUR_DESC',\n",
       "                                                   'PREM_TYP_DESC',\n",
       "                                                   'JURIS_DESC',\n",
       "                                                   'SUSP_AGE_GROUP',\n",
       "                                                   'SUSP_RACE', 'SUSP_SEX',\n",
       "                                                   'Lat_Lon', 'PATROL_BORO',\n",
       "                                                   'VIC_AGE_GROUP', 'VIC_RACE',\n",
       "                                                   'VIC_SEX'])])),\n",
       "                ('model', KNeighborsClassifier(n_neighbors=8))])"
      ]
     },
     "execution_count": 107,
     "metadata": {},
     "output_type": "execute_result"
    }
   ],
   "source": [
    "#https://github.com/appliedecon/data602-lectures/blob/main/supervised-algorithms/knn-nb-svm.ipynb\n",
    "from sklearn.pipeline import Pipeline\n",
    "from sklearn.preprocessing import StandardScaler\n",
    "from sklearn.neighbors import KNeighborsClassifier\n",
    "from sklearn.model_selection import GridSearchCV\n",
    "from sklearn.metrics import ConfusionMatrixDisplay\n",
    "\n",
    "knn_m = modeling_pipeline = Pipeline([('data_processing', processing_pipeline),\n",
    "                                       ('model', KNeighborsClassifier())])\n",
    "\n",
    "\n",
    "param_grid = [\n",
    "  {'model__n_neighbors': [ 4, 8, 10], 'model__weights': ['uniform']}\n",
    " ]\n",
    "\n",
    "knn_results = GridSearchCV(estimator=knn_m, param_grid=param_grid, scoring='accuracy', refit=True, cv=5)\n",
    "knn_results = knn_results.fit(X_train, y_train)\n",
    "\n",
    "knn_results.best_estimator_"
   ]
  },
  {
   "cell_type": "code",
   "execution_count": 108,
   "id": "243d2be1",
   "metadata": {},
   "outputs": [
    {
     "name": "stdout",
     "output_type": "stream",
     "text": [
      "Using knn preprocesser: 81.85%\n"
     ]
    },
    {
     "data": {
      "text/plain": [
       "0.8185"
      ]
     },
     "execution_count": 108,
     "metadata": {},
     "output_type": "execute_result"
    }
   ],
   "source": [
    "knn = knn_results.score(X_test, y_test)\n",
    "print(f'Using knn preprocesser: {knn:.2%}')\n",
    "knn_results.score(X_test,y_test)"
   ]
  },
  {
   "cell_type": "markdown",
   "id": "d53f564b",
   "metadata": {},
   "source": [
    "### The test accuracy is 0.8185\n"
   ]
  },
  {
   "cell_type": "code",
   "execution_count": 109,
   "id": "b91a6cd8",
   "metadata": {},
   "outputs": [
    {
     "name": "stdout",
     "output_type": "stream",
     "text": [
      "              precision    recall  f1-score   support\n",
      "\n",
      "       Major       0.82      0.88      0.85      1175\n",
      "       Minor       0.81      0.73      0.77       825\n",
      "\n",
      "    accuracy                           0.82      2000\n",
      "   macro avg       0.82      0.81      0.81      2000\n",
      "weighted avg       0.82      0.82      0.82      2000\n",
      "\n"
     ]
    }
   ],
   "source": [
    "y_testp = knn_results.predict(X_test)\n",
    "y_testpr_lr = knn_results.predict_proba(X_test)\n",
    "\n",
    "from sklearn.metrics import classification_report\n",
    "print(classification_report(y_test, y_testp))"
   ]
  },
  {
   "cell_type": "code",
   "execution_count": 110,
   "id": "6444a2ce",
   "metadata": {},
   "outputs": [
    {
     "data": {
      "image/png": "[encoded data removed]",
      "text/plain": [
       "<Figure size 432x288 with 1 Axes>"
      ]
     },
     "metadata": {
      "needs_background": "light"
     },
     "output_type": "display_data"
    }
   ],
   "source": [
    "from sklearn.metrics import roc_curve\n",
    "\n",
    "def generate_prob4(X_train, model=knn_results):\n",
    "    return model.predict_proba(X_train)[:, 1]\n",
    "\n",
    "def generate_roc(y, prob4):\n",
    "    fpr, tpr, _ = roc_curve(y, prob4, pos_label='Minor')\n",
    "    return fpr, tpr\n",
    "    \n",
    "fpr_test, tpr_test = generate_roc(y_test, generate_prob4(X_test))\n",
    "fpr_train, tpr_train = generate_roc(y_train, generate_prob4(X_train))\n",
    "\n",
    "plt.plot(fpr_test, tpr_test,'-r')\n",
    "plt.plot(fpr_train, tpr_train,'-b')\n",
    "plt.xlabel('False Positive Rate')\n",
    "plt.ylabel('True Positive Rate')\n",
    "plt.legend(['Test','Training'])\n",
    "plt.plot([0, 1], [0, 1], color='navy', linestyle='--')\n",
    "plt.show()"
   ]
  },
  {
   "cell_type": "code",
   "execution_count": 111,
   "id": "2e701b36",
   "metadata": {},
   "outputs": [
    {
     "data": {
      "text/plain": [
       "0.895797807865893"
      ]
     },
     "execution_count": 111,
     "metadata": {},
     "output_type": "execute_result"
    }
   ],
   "source": [
    "from sklearn.metrics import roc_auc_score\n",
    "\n",
    "roc_auc_score(y_test, generate_prob4(X_test))"
   ]
  },
  {
   "cell_type": "markdown",
   "id": "f9880d06",
   "metadata": {},
   "source": [
    "### The test accuracy is 0.8185 and the ROC curve accuracy is 0.895, it performs good in modeling when compared to logistic regression with K-mean"
   ]
  },
  {
   "cell_type": "markdown",
   "id": "5452850d",
   "metadata": {},
   "source": [
    "## All models ROC Curve accuracy scores"
   ]
  },
  {
   "cell_type": "code",
   "execution_count": 112,
   "id": "0b08eaf8",
   "metadata": {},
   "outputs": [
    {
     "data": {
      "text/plain": [
       "0.8575520309477755"
      ]
     },
     "execution_count": 112,
     "metadata": {},
     "output_type": "execute_result"
    }
   ],
   "source": [
    "#Decission tree\n",
    "from sklearn.metrics import roc_auc_score\n",
    "\n",
    "roc_auc_score(y_test, generate_prob(X_test))"
   ]
  },
  {
   "cell_type": "code",
   "execution_count": 113,
   "id": "a62569ef",
   "metadata": {},
   "outputs": [
    {
     "data": {
      "text/plain": [
       "0.999953578336557"
      ]
     },
     "execution_count": 113,
     "metadata": {},
     "output_type": "execute_result"
    }
   ],
   "source": [
    "#logistic Regression\n",
    "roc_auc_score(y_test, generate_probs(X_test))"
   ]
  },
  {
   "cell_type": "code",
   "execution_count": 114,
   "id": "a5bdf38a",
   "metadata": {},
   "outputs": [
    {
     "data": {
      "text/plain": [
       "0.6051981947130883"
      ]
     },
     "execution_count": 114,
     "metadata": {},
     "output_type": "execute_result"
    }
   ],
   "source": [
    "#logistic regression with K-mean\n",
    "roc_auc_score(y_test, generate_prob1(X_test))"
   ]
  },
  {
   "cell_type": "code",
   "execution_count": 115,
   "id": "f58843d6",
   "metadata": {},
   "outputs": [
    {
     "data": {
      "text/plain": [
       "0.9463561573178594"
      ]
     },
     "execution_count": 115,
     "metadata": {},
     "output_type": "execute_result"
    }
   ],
   "source": [
    "#Random Forest\n",
    "roc_auc_score(y_test, generate_prob3(X_test))"
   ]
  },
  {
   "cell_type": "code",
   "execution_count": 116,
   "id": "8ea278f4",
   "metadata": {},
   "outputs": [
    {
     "data": {
      "text/plain": [
       "0.895797807865893"
      ]
     },
     "execution_count": 116,
     "metadata": {},
     "output_type": "execute_result"
    }
   ],
   "source": [
    "#Knn\n",
    "roc_auc_score(y_test, generate_prob4(X_test))"
   ]
  },
  {
   "cell_type": "markdown",
   "id": "922761d6",
   "metadata": {},
   "source": [
    "### When compared with the all models accuracy score, Logistic Regression performs the better when compare with the remaining models the test accuracy is 0.9975 and the ROC curve accuracy is 0.999953 to define. Neither it performed with high accuracy or else an ideal, that depends on the data. After the Logistic regression model, the highest  accuracy got in random forest classifier with the accuracy of 0.934. So based on the all results of all models logistic regression predicts the better accurate values.\n",
    " "
   ]
  },
  {
   "cell_type": "markdown",
   "id": "efe1ba4c",
   "metadata": {},
   "source": [
    "## Overall Refrences:\n",
    "#### https://github.com/appliedecon/data602-lectures\n",
    "#### https://stackoverflow.com/questions/45332410/roc-for-multiclass-classification "
   ]
  },
  {
   "cell_type": "code",
   "execution_count": null,
   "id": "f77c08c0",
   "metadata": {},
   "outputs": [],
   "source": []
  }
 ],
 "metadata": {
  "kernelspec": {
   "display_name": "Python 3",
   "language": "python",
   "name": "python3"
  },
  "language_info": {
   "codemirror_mode": {
    "name": "ipython",
    "version": 3
   },
   "file_extension": ".py",
   "mimetype": "text/x-python",
   "name": "python",
   "nbconvert_exporter": "python",
   "pygments_lexer": "ipython3",
   "version": "3.8.8"
  }
 },
 "nbformat": 4,
 "nbformat_minor": 5
}
